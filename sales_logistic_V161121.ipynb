{
 "cells": [
  {
   "cell_type": "code",
   "execution_count": 1,
   "metadata": {},
   "outputs": [],
   "source": [
    "#importing libraries \n",
    "import pandas as pd\n",
    "import numpy as np\n",
    "from geopy import distance\n",
    "import warnings\n",
    "#warnings.filterwarnings(\"ignore\", category=DeprecationWarning) \n",
    "import datetime\n"
   ]
  },
  {
   "cell_type": "code",
   "execution_count": 2,
   "metadata": {},
   "outputs": [],
   "source": [
    "import warnings\n",
    "warnings.filterwarnings(\"ignore\")"
   ]
  },
  {
   "cell_type": "code",
   "execution_count": 3,
   "metadata": {},
   "outputs": [],
   "source": [
    "# load the dataset \n",
    "df = pd.read_excel('HR38X.xltm')"
   ]
  },
  {
   "cell_type": "code",
   "execution_count": 4,
   "metadata": {},
   "outputs": [
    {
     "name": "stdout",
     "output_type": "stream",
     "text": [
      "(1666, 3)\n"
     ]
    }
   ],
   "source": [
    "# Display the data set\n",
    "df.head()\n",
    "print(df.shape)"
   ]
  },
  {
   "cell_type": "code",
   "execution_count": 5,
   "metadata": {},
   "outputs": [
    {
     "data": {
      "text/plain": [
       "(1666, 3)"
      ]
     },
     "execution_count": 5,
     "metadata": {},
     "output_type": "execute_result"
    }
   ],
   "source": [
    "df.shape"
   ]
  },
  {
   "cell_type": "code",
   "execution_count": 7,
   "metadata": {},
   "outputs": [
    {
     "name": "stdout",
     "output_type": "stream",
     "text": [
      "<class 'pandas.core.frame.DataFrame'>\n",
      "RangeIndex: 1666 entries, 0 to 1665\n",
      "Data columns (total 3 columns):\n",
      " #   Column       Non-Null Count  Dtype  \n",
      "---  ------       --------------  -----  \n",
      " 0   Latitude     1665 non-null   float64\n",
      " 1   Longitude    1665 non-null   float64\n",
      " 2   Packet Time  1665 non-null   object \n",
      "dtypes: float64(2), object(1)\n",
      "memory usage: 39.2+ KB\n"
     ]
    }
   ],
   "source": [
    "df.info()"
   ]
  },
  {
   "cell_type": "code",
   "execution_count": 8,
   "metadata": {},
   "outputs": [],
   "source": [
    "df = df[df['Packet Time'].notna()]"
   ]
  },
  {
   "cell_type": "code",
   "execution_count": 9,
   "metadata": {},
   "outputs": [
    {
     "name": "stdout",
     "output_type": "stream",
     "text": [
      "<class 'pandas.core.frame.DataFrame'>\n",
      "Int64Index: 1665 entries, 0 to 1664\n",
      "Data columns (total 3 columns):\n",
      " #   Column       Non-Null Count  Dtype  \n",
      "---  ------       --------------  -----  \n",
      " 0   Latitude     1665 non-null   float64\n",
      " 1   Longitude    1665 non-null   float64\n",
      " 2   Packet Time  1665 non-null   object \n",
      "dtypes: float64(2), object(1)\n",
      "memory usage: 52.0+ KB\n"
     ]
    }
   ],
   "source": [
    "df.info()"
   ]
  },
  {
   "cell_type": "code",
   "execution_count": 22,
   "metadata": {},
   "outputs": [],
   "source": [
    "df['Packet Time'] = pd.to_datetime(df['Packet Time'])"
   ]
  },
  {
   "cell_type": "code",
   "execution_count": 23,
   "metadata": {},
   "outputs": [],
   "source": [
    "df['Time_diff'] = [x.iloc[-1] - x.iloc[0] for x in df['Packet Time'].rolling(2) if len(x)>0]"
   ]
  },
  {
   "cell_type": "code",
   "execution_count": 25,
   "metadata": {},
   "outputs": [
    {
     "data": {
      "text/plain": [
       "0 days 00:05:00    1445\n",
       "0 days 00:06:00     214\n",
       "0 days 00:07:00       3\n",
       "0 days 00:39:00       1\n",
       "0 days 00:04:00       1\n",
       "0 days 00:00:00       1\n",
       "Name: Time_diff, dtype: int64"
      ]
     },
     "execution_count": 25,
     "metadata": {},
     "output_type": "execute_result"
    }
   ],
   "source": [
    "df['Time_diff'].value_counts()"
   ]
  },
  {
   "cell_type": "code",
   "execution_count": 26,
   "metadata": {},
   "outputs": [
    {
     "data": {
      "text/plain": [
       "Timedelta('5 days 22:53:00')"
      ]
     },
     "execution_count": 26,
     "metadata": {},
     "output_type": "execute_result"
    }
   ],
   "source": [
    "df['Time_diff'].sum()"
   ]
  },
  {
   "cell_type": "code",
   "execution_count": 27,
   "metadata": {},
   "outputs": [],
   "source": [
    "def haversine_distance(lat1, lon1, lat2, lon2):\n",
    "   r = 6371\n",
    "   phi1 = np.radians(lat1)\n",
    "   phi2 = np.radians(lat2)\n",
    "   delta_phi = np.radians(lat2 - lat1)\n",
    "   delta_lambda = np.radians(lon2 - lon1)\n",
    "   a = np.sin(delta_phi / 2)**2 + np.cos(phi1) * np.cos(phi2) *   np.sin(delta_lambda / 2)**2\n",
    "   res = r * (2 * np.arctan2(np.sqrt(a), np.sqrt(1 - a)))\n",
    "   return np.round(res, 2)"
   ]
  },
  {
   "cell_type": "code",
   "execution_count": 28,
   "metadata": {},
   "outputs": [],
   "source": [
    "# Setting dealer's location \n",
    "df['dealer_lat'] = 30.3255646\n"
   ]
  },
  {
   "cell_type": "code",
   "execution_count": 29,
   "metadata": {},
   "outputs": [],
   "source": [
    "df['dealer_long'] = 78.0436813"
   ]
  },
  {
   "cell_type": "code",
   "execution_count": 30,
   "metadata": {},
   "outputs": [],
   "source": [
    "dealer_lat = 30.3255646\n",
    "dealer_long = 78.0436813\n",
    "\n",
    "\n",
    "distances_km = []\n",
    "for row in df.itertuples(index=False):\n",
    "   distances_km.append(\n",
    "       haversine_distance(dealer_lat, dealer_long, row.Latitude, row.Longitude)\n",
    "   )"
   ]
  },
  {
   "cell_type": "code",
   "execution_count": 31,
   "metadata": {},
   "outputs": [],
   "source": [
    "df['Distance'] = distances_km"
   ]
  },
  {
   "cell_type": "code",
   "execution_count": 32,
   "metadata": {},
   "outputs": [
    {
     "data": {
      "text/plain": [
       "648.3"
      ]
     },
     "execution_count": 32,
     "metadata": {},
     "output_type": "execute_result"
    }
   ],
   "source": [
    "df['Distance'].min()"
   ]
  },
  {
   "cell_type": "code",
   "execution_count": 33,
   "metadata": {},
   "outputs": [
    {
     "data": {
      "text/html": [
       "<div>\n",
       "<style scoped>\n",
       "    .dataframe tbody tr th:only-of-type {\n",
       "        vertical-align: middle;\n",
       "    }\n",
       "\n",
       "    .dataframe tbody tr th {\n",
       "        vertical-align: top;\n",
       "    }\n",
       "\n",
       "    .dataframe thead th {\n",
       "        text-align: right;\n",
       "    }\n",
       "</style>\n",
       "<table border=\"1\" class=\"dataframe\">\n",
       "  <thead>\n",
       "    <tr style=\"text-align: right;\">\n",
       "      <th></th>\n",
       "      <th>Latitude</th>\n",
       "      <th>Longitude</th>\n",
       "      <th>Packet Time</th>\n",
       "      <th>dealer_lat</th>\n",
       "      <th>dealer_long</th>\n",
       "      <th>Distance</th>\n",
       "      <th>Time_diff</th>\n",
       "    </tr>\n",
       "  </thead>\n",
       "  <tbody>\n",
       "    <tr>\n",
       "      <th>1478</th>\n",
       "      <td>25.342077</td>\n",
       "      <td>74.619530</td>\n",
       "      <td>2021-10-04 08:09:00</td>\n",
       "      <td>30.325565</td>\n",
       "      <td>78.043681</td>\n",
       "      <td>648.3</td>\n",
       "      <td>0 days 00:05:00</td>\n",
       "    </tr>\n",
       "    <tr>\n",
       "      <th>1479</th>\n",
       "      <td>25.342077</td>\n",
       "      <td>74.619568</td>\n",
       "      <td>2021-10-04 08:14:00</td>\n",
       "      <td>30.325565</td>\n",
       "      <td>78.043681</td>\n",
       "      <td>648.3</td>\n",
       "      <td>0 days 00:05:00</td>\n",
       "    </tr>\n",
       "    <tr>\n",
       "      <th>1480</th>\n",
       "      <td>25.342077</td>\n",
       "      <td>74.619568</td>\n",
       "      <td>2021-10-04 08:20:00</td>\n",
       "      <td>30.325565</td>\n",
       "      <td>78.043681</td>\n",
       "      <td>648.3</td>\n",
       "      <td>0 days 00:06:00</td>\n",
       "    </tr>\n",
       "    <tr>\n",
       "      <th>1481</th>\n",
       "      <td>25.342077</td>\n",
       "      <td>74.619568</td>\n",
       "      <td>2021-10-04 08:25:00</td>\n",
       "      <td>30.325565</td>\n",
       "      <td>78.043681</td>\n",
       "      <td>648.3</td>\n",
       "      <td>0 days 00:05:00</td>\n",
       "    </tr>\n",
       "    <tr>\n",
       "      <th>1482</th>\n",
       "      <td>25.342064</td>\n",
       "      <td>74.619560</td>\n",
       "      <td>2021-10-04 08:30:00</td>\n",
       "      <td>30.325565</td>\n",
       "      <td>78.043681</td>\n",
       "      <td>648.3</td>\n",
       "      <td>0 days 00:05:00</td>\n",
       "    </tr>\n",
       "    <tr>\n",
       "      <th>1483</th>\n",
       "      <td>25.342064</td>\n",
       "      <td>74.619560</td>\n",
       "      <td>2021-10-04 08:35:00</td>\n",
       "      <td>30.325565</td>\n",
       "      <td>78.043681</td>\n",
       "      <td>648.3</td>\n",
       "      <td>0 days 00:05:00</td>\n",
       "    </tr>\n",
       "    <tr>\n",
       "      <th>1484</th>\n",
       "      <td>25.342064</td>\n",
       "      <td>74.619560</td>\n",
       "      <td>2021-10-04 08:40:00</td>\n",
       "      <td>30.325565</td>\n",
       "      <td>78.043681</td>\n",
       "      <td>648.3</td>\n",
       "      <td>0 days 00:05:00</td>\n",
       "    </tr>\n",
       "    <tr>\n",
       "      <th>1485</th>\n",
       "      <td>25.342064</td>\n",
       "      <td>74.619560</td>\n",
       "      <td>2021-10-04 08:45:00</td>\n",
       "      <td>30.325565</td>\n",
       "      <td>78.043681</td>\n",
       "      <td>648.3</td>\n",
       "      <td>0 days 00:05:00</td>\n",
       "    </tr>\n",
       "    <tr>\n",
       "      <th>1486</th>\n",
       "      <td>25.342064</td>\n",
       "      <td>74.619560</td>\n",
       "      <td>2021-10-04 08:50:00</td>\n",
       "      <td>30.325565</td>\n",
       "      <td>78.043681</td>\n",
       "      <td>648.3</td>\n",
       "      <td>0 days 00:05:00</td>\n",
       "    </tr>\n",
       "    <tr>\n",
       "      <th>1487</th>\n",
       "      <td>25.342064</td>\n",
       "      <td>74.619560</td>\n",
       "      <td>2021-10-04 08:56:00</td>\n",
       "      <td>30.325565</td>\n",
       "      <td>78.043681</td>\n",
       "      <td>648.3</td>\n",
       "      <td>0 days 00:06:00</td>\n",
       "    </tr>\n",
       "    <tr>\n",
       "      <th>1488</th>\n",
       "      <td>25.342064</td>\n",
       "      <td>74.619560</td>\n",
       "      <td>2021-10-04 09:01:00</td>\n",
       "      <td>30.325565</td>\n",
       "      <td>78.043681</td>\n",
       "      <td>648.3</td>\n",
       "      <td>0 days 00:05:00</td>\n",
       "    </tr>\n",
       "    <tr>\n",
       "      <th>1489</th>\n",
       "      <td>25.342064</td>\n",
       "      <td>74.619560</td>\n",
       "      <td>2021-10-04 09:06:00</td>\n",
       "      <td>30.325565</td>\n",
       "      <td>78.043681</td>\n",
       "      <td>648.3</td>\n",
       "      <td>0 days 00:05:00</td>\n",
       "    </tr>\n",
       "    <tr>\n",
       "      <th>1490</th>\n",
       "      <td>25.342064</td>\n",
       "      <td>74.619560</td>\n",
       "      <td>2021-10-04 09:11:00</td>\n",
       "      <td>30.325565</td>\n",
       "      <td>78.043681</td>\n",
       "      <td>648.3</td>\n",
       "      <td>0 days 00:05:00</td>\n",
       "    </tr>\n",
       "    <tr>\n",
       "      <th>1491</th>\n",
       "      <td>25.342064</td>\n",
       "      <td>74.619560</td>\n",
       "      <td>2021-10-04 09:16:00</td>\n",
       "      <td>30.325565</td>\n",
       "      <td>78.043681</td>\n",
       "      <td>648.3</td>\n",
       "      <td>0 days 00:05:00</td>\n",
       "    </tr>\n",
       "    <tr>\n",
       "      <th>1492</th>\n",
       "      <td>25.342064</td>\n",
       "      <td>74.619560</td>\n",
       "      <td>2021-10-04 09:21:00</td>\n",
       "      <td>30.325565</td>\n",
       "      <td>78.043681</td>\n",
       "      <td>648.3</td>\n",
       "      <td>0 days 00:05:00</td>\n",
       "    </tr>\n",
       "    <tr>\n",
       "      <th>1493</th>\n",
       "      <td>25.342064</td>\n",
       "      <td>74.619560</td>\n",
       "      <td>2021-10-04 09:26:00</td>\n",
       "      <td>30.325565</td>\n",
       "      <td>78.043681</td>\n",
       "      <td>648.3</td>\n",
       "      <td>0 days 00:05:00</td>\n",
       "    </tr>\n",
       "    <tr>\n",
       "      <th>1494</th>\n",
       "      <td>25.342064</td>\n",
       "      <td>74.619560</td>\n",
       "      <td>2021-10-04 09:31:00</td>\n",
       "      <td>30.325565</td>\n",
       "      <td>78.043681</td>\n",
       "      <td>648.3</td>\n",
       "      <td>0 days 00:05:00</td>\n",
       "    </tr>\n",
       "    <tr>\n",
       "      <th>1495</th>\n",
       "      <td>25.342064</td>\n",
       "      <td>74.619560</td>\n",
       "      <td>2021-10-04 09:36:00</td>\n",
       "      <td>30.325565</td>\n",
       "      <td>78.043681</td>\n",
       "      <td>648.3</td>\n",
       "      <td>0 days 00:05:00</td>\n",
       "    </tr>\n",
       "    <tr>\n",
       "      <th>1496</th>\n",
       "      <td>25.342064</td>\n",
       "      <td>74.619560</td>\n",
       "      <td>2021-10-04 09:41:00</td>\n",
       "      <td>30.325565</td>\n",
       "      <td>78.043681</td>\n",
       "      <td>648.3</td>\n",
       "      <td>0 days 00:05:00</td>\n",
       "    </tr>\n",
       "    <tr>\n",
       "      <th>1497</th>\n",
       "      <td>25.342045</td>\n",
       "      <td>74.619568</td>\n",
       "      <td>2021-10-04 09:47:00</td>\n",
       "      <td>30.325565</td>\n",
       "      <td>78.043681</td>\n",
       "      <td>648.3</td>\n",
       "      <td>0 days 00:06:00</td>\n",
       "    </tr>\n",
       "    <tr>\n",
       "      <th>1498</th>\n",
       "      <td>25.342045</td>\n",
       "      <td>74.619568</td>\n",
       "      <td>2021-10-04 09:52:00</td>\n",
       "      <td>30.325565</td>\n",
       "      <td>78.043681</td>\n",
       "      <td>648.3</td>\n",
       "      <td>0 days 00:05:00</td>\n",
       "    </tr>\n",
       "    <tr>\n",
       "      <th>1499</th>\n",
       "      <td>25.342045</td>\n",
       "      <td>74.619568</td>\n",
       "      <td>2021-10-04 09:57:00</td>\n",
       "      <td>30.325565</td>\n",
       "      <td>78.043681</td>\n",
       "      <td>648.3</td>\n",
       "      <td>0 days 00:05:00</td>\n",
       "    </tr>\n",
       "    <tr>\n",
       "      <th>1500</th>\n",
       "      <td>25.342045</td>\n",
       "      <td>74.619568</td>\n",
       "      <td>2021-10-04 10:02:00</td>\n",
       "      <td>30.325565</td>\n",
       "      <td>78.043681</td>\n",
       "      <td>648.3</td>\n",
       "      <td>0 days 00:05:00</td>\n",
       "    </tr>\n",
       "    <tr>\n",
       "      <th>1501</th>\n",
       "      <td>25.342045</td>\n",
       "      <td>74.619568</td>\n",
       "      <td>2021-10-04 10:07:00</td>\n",
       "      <td>30.325565</td>\n",
       "      <td>78.043681</td>\n",
       "      <td>648.3</td>\n",
       "      <td>0 days 00:05:00</td>\n",
       "    </tr>\n",
       "    <tr>\n",
       "      <th>1502</th>\n",
       "      <td>25.342045</td>\n",
       "      <td>74.619568</td>\n",
       "      <td>2021-10-04 10:12:00</td>\n",
       "      <td>30.325565</td>\n",
       "      <td>78.043681</td>\n",
       "      <td>648.3</td>\n",
       "      <td>0 days 00:05:00</td>\n",
       "    </tr>\n",
       "    <tr>\n",
       "      <th>1503</th>\n",
       "      <td>25.342045</td>\n",
       "      <td>74.619568</td>\n",
       "      <td>2021-10-04 10:17:00</td>\n",
       "      <td>30.325565</td>\n",
       "      <td>78.043681</td>\n",
       "      <td>648.3</td>\n",
       "      <td>0 days 00:05:00</td>\n",
       "    </tr>\n",
       "    <tr>\n",
       "      <th>1504</th>\n",
       "      <td>25.342045</td>\n",
       "      <td>74.619568</td>\n",
       "      <td>2021-10-04 10:22:00</td>\n",
       "      <td>30.325565</td>\n",
       "      <td>78.043681</td>\n",
       "      <td>648.3</td>\n",
       "      <td>0 days 00:05:00</td>\n",
       "    </tr>\n",
       "    <tr>\n",
       "      <th>1505</th>\n",
       "      <td>25.342045</td>\n",
       "      <td>74.619568</td>\n",
       "      <td>2021-10-04 10:27:00</td>\n",
       "      <td>30.325565</td>\n",
       "      <td>78.043681</td>\n",
       "      <td>648.3</td>\n",
       "      <td>0 days 00:05:00</td>\n",
       "    </tr>\n",
       "    <tr>\n",
       "      <th>1506</th>\n",
       "      <td>25.342045</td>\n",
       "      <td>74.619568</td>\n",
       "      <td>2021-10-04 10:33:00</td>\n",
       "      <td>30.325565</td>\n",
       "      <td>78.043681</td>\n",
       "      <td>648.3</td>\n",
       "      <td>0 days 00:06:00</td>\n",
       "    </tr>\n",
       "    <tr>\n",
       "      <th>1507</th>\n",
       "      <td>25.342045</td>\n",
       "      <td>74.619568</td>\n",
       "      <td>2021-10-04 10:38:00</td>\n",
       "      <td>30.325565</td>\n",
       "      <td>78.043681</td>\n",
       "      <td>648.3</td>\n",
       "      <td>0 days 00:05:00</td>\n",
       "    </tr>\n",
       "  </tbody>\n",
       "</table>\n",
       "</div>"
      ],
      "text/plain": [
       "       Latitude  Longitude         Packet Time  dealer_lat  dealer_long  \\\n",
       "1478  25.342077  74.619530 2021-10-04 08:09:00   30.325565    78.043681   \n",
       "1479  25.342077  74.619568 2021-10-04 08:14:00   30.325565    78.043681   \n",
       "1480  25.342077  74.619568 2021-10-04 08:20:00   30.325565    78.043681   \n",
       "1481  25.342077  74.619568 2021-10-04 08:25:00   30.325565    78.043681   \n",
       "1482  25.342064  74.619560 2021-10-04 08:30:00   30.325565    78.043681   \n",
       "1483  25.342064  74.619560 2021-10-04 08:35:00   30.325565    78.043681   \n",
       "1484  25.342064  74.619560 2021-10-04 08:40:00   30.325565    78.043681   \n",
       "1485  25.342064  74.619560 2021-10-04 08:45:00   30.325565    78.043681   \n",
       "1486  25.342064  74.619560 2021-10-04 08:50:00   30.325565    78.043681   \n",
       "1487  25.342064  74.619560 2021-10-04 08:56:00   30.325565    78.043681   \n",
       "1488  25.342064  74.619560 2021-10-04 09:01:00   30.325565    78.043681   \n",
       "1489  25.342064  74.619560 2021-10-04 09:06:00   30.325565    78.043681   \n",
       "1490  25.342064  74.619560 2021-10-04 09:11:00   30.325565    78.043681   \n",
       "1491  25.342064  74.619560 2021-10-04 09:16:00   30.325565    78.043681   \n",
       "1492  25.342064  74.619560 2021-10-04 09:21:00   30.325565    78.043681   \n",
       "1493  25.342064  74.619560 2021-10-04 09:26:00   30.325565    78.043681   \n",
       "1494  25.342064  74.619560 2021-10-04 09:31:00   30.325565    78.043681   \n",
       "1495  25.342064  74.619560 2021-10-04 09:36:00   30.325565    78.043681   \n",
       "1496  25.342064  74.619560 2021-10-04 09:41:00   30.325565    78.043681   \n",
       "1497  25.342045  74.619568 2021-10-04 09:47:00   30.325565    78.043681   \n",
       "1498  25.342045  74.619568 2021-10-04 09:52:00   30.325565    78.043681   \n",
       "1499  25.342045  74.619568 2021-10-04 09:57:00   30.325565    78.043681   \n",
       "1500  25.342045  74.619568 2021-10-04 10:02:00   30.325565    78.043681   \n",
       "1501  25.342045  74.619568 2021-10-04 10:07:00   30.325565    78.043681   \n",
       "1502  25.342045  74.619568 2021-10-04 10:12:00   30.325565    78.043681   \n",
       "1503  25.342045  74.619568 2021-10-04 10:17:00   30.325565    78.043681   \n",
       "1504  25.342045  74.619568 2021-10-04 10:22:00   30.325565    78.043681   \n",
       "1505  25.342045  74.619568 2021-10-04 10:27:00   30.325565    78.043681   \n",
       "1506  25.342045  74.619568 2021-10-04 10:33:00   30.325565    78.043681   \n",
       "1507  25.342045  74.619568 2021-10-04 10:38:00   30.325565    78.043681   \n",
       "\n",
       "      Distance       Time_diff  \n",
       "1478     648.3 0 days 00:05:00  \n",
       "1479     648.3 0 days 00:05:00  \n",
       "1480     648.3 0 days 00:06:00  \n",
       "1481     648.3 0 days 00:05:00  \n",
       "1482     648.3 0 days 00:05:00  \n",
       "1483     648.3 0 days 00:05:00  \n",
       "1484     648.3 0 days 00:05:00  \n",
       "1485     648.3 0 days 00:05:00  \n",
       "1486     648.3 0 days 00:05:00  \n",
       "1487     648.3 0 days 00:06:00  \n",
       "1488     648.3 0 days 00:05:00  \n",
       "1489     648.3 0 days 00:05:00  \n",
       "1490     648.3 0 days 00:05:00  \n",
       "1491     648.3 0 days 00:05:00  \n",
       "1492     648.3 0 days 00:05:00  \n",
       "1493     648.3 0 days 00:05:00  \n",
       "1494     648.3 0 days 00:05:00  \n",
       "1495     648.3 0 days 00:05:00  \n",
       "1496     648.3 0 days 00:05:00  \n",
       "1497     648.3 0 days 00:06:00  \n",
       "1498     648.3 0 days 00:05:00  \n",
       "1499     648.3 0 days 00:05:00  \n",
       "1500     648.3 0 days 00:05:00  \n",
       "1501     648.3 0 days 00:05:00  \n",
       "1502     648.3 0 days 00:05:00  \n",
       "1503     648.3 0 days 00:05:00  \n",
       "1504     648.3 0 days 00:05:00  \n",
       "1505     648.3 0 days 00:05:00  \n",
       "1506     648.3 0 days 00:06:00  \n",
       "1507     648.3 0 days 00:05:00  "
      ]
     },
     "execution_count": 33,
     "metadata": {},
     "output_type": "execute_result"
    }
   ],
   "source": [
    "df.iloc[np.where(df.Distance==df.Distance.min())]"
   ]
  },
  {
   "cell_type": "code",
   "execution_count": 34,
   "metadata": {},
   "outputs": [
    {
     "data": {
      "text/plain": [
       "648.3"
      ]
     },
     "execution_count": 34,
     "metadata": {},
     "output_type": "execute_result"
    }
   ],
   "source": [
    "df.Distance.min()"
   ]
  },
  {
   "cell_type": "code",
   "execution_count": 35,
   "metadata": {},
   "outputs": [],
   "source": [
    "from haversine import haversine\n"
   ]
  },
  {
   "cell_type": "code",
   "execution_count": 36,
   "metadata": {},
   "outputs": [
    {
     "name": "stdout",
     "output_type": "stream",
     "text": [
      "648.3035174328513\n"
     ]
    }
   ],
   "source": [
    "print(haversine((25.342077,74.619530),(30.325565,78.043681), unit='km'))"
   ]
  },
  {
   "cell_type": "code",
   "execution_count": 224,
   "metadata": {},
   "outputs": [],
   "source": [
    "df['Status'] = np.where(df['Distance']!= df['Distance'].min(), 'In-transit', 'Unloading-Point')"
   ]
  },
  {
   "cell_type": "code",
   "execution_count": 226,
   "metadata": {},
   "outputs": [
    {
     "data": {
      "text/plain": [
       "(1665, 8)"
      ]
     },
     "execution_count": 226,
     "metadata": {},
     "output_type": "execute_result"
    }
   ],
   "source": [
    "df.shape"
   ]
  },
  {
   "cell_type": "code",
   "execution_count": 225,
   "metadata": {},
   "outputs": [
    {
     "data": {
      "text/html": [
       "<div>\n",
       "<style scoped>\n",
       "    .dataframe tbody tr th:only-of-type {\n",
       "        vertical-align: middle;\n",
       "    }\n",
       "\n",
       "    .dataframe tbody tr th {\n",
       "        vertical-align: top;\n",
       "    }\n",
       "\n",
       "    .dataframe thead th {\n",
       "        text-align: right;\n",
       "    }\n",
       "</style>\n",
       "<table border=\"1\" class=\"dataframe\">\n",
       "  <thead>\n",
       "    <tr style=\"text-align: right;\">\n",
       "      <th></th>\n",
       "      <th>Latitude</th>\n",
       "      <th>Longitude</th>\n",
       "      <th>Packet Time</th>\n",
       "      <th>dealer_lat</th>\n",
       "      <th>dealer_long</th>\n",
       "      <th>Distance</th>\n",
       "      <th>Time_diff</th>\n",
       "      <th>Status</th>\n",
       "    </tr>\n",
       "  </thead>\n",
       "  <tbody>\n",
       "    <tr>\n",
       "      <th>1478</th>\n",
       "      <td>25.342077</td>\n",
       "      <td>74.619530</td>\n",
       "      <td>2021-10-04 08:09:00</td>\n",
       "      <td>30.325565</td>\n",
       "      <td>78.043681</td>\n",
       "      <td>648.3</td>\n",
       "      <td>0 days 00:05:00</td>\n",
       "      <td>Unloading-Point</td>\n",
       "    </tr>\n",
       "    <tr>\n",
       "      <th>1479</th>\n",
       "      <td>25.342077</td>\n",
       "      <td>74.619568</td>\n",
       "      <td>2021-10-04 08:14:00</td>\n",
       "      <td>30.325565</td>\n",
       "      <td>78.043681</td>\n",
       "      <td>648.3</td>\n",
       "      <td>0 days 00:05:00</td>\n",
       "      <td>Unloading-Point</td>\n",
       "    </tr>\n",
       "    <tr>\n",
       "      <th>1480</th>\n",
       "      <td>25.342077</td>\n",
       "      <td>74.619568</td>\n",
       "      <td>2021-10-04 08:20:00</td>\n",
       "      <td>30.325565</td>\n",
       "      <td>78.043681</td>\n",
       "      <td>648.3</td>\n",
       "      <td>0 days 00:06:00</td>\n",
       "      <td>Unloading-Point</td>\n",
       "    </tr>\n",
       "    <tr>\n",
       "      <th>1481</th>\n",
       "      <td>25.342077</td>\n",
       "      <td>74.619568</td>\n",
       "      <td>2021-10-04 08:25:00</td>\n",
       "      <td>30.325565</td>\n",
       "      <td>78.043681</td>\n",
       "      <td>648.3</td>\n",
       "      <td>0 days 00:05:00</td>\n",
       "      <td>Unloading-Point</td>\n",
       "    </tr>\n",
       "    <tr>\n",
       "      <th>1482</th>\n",
       "      <td>25.342064</td>\n",
       "      <td>74.619560</td>\n",
       "      <td>2021-10-04 08:30:00</td>\n",
       "      <td>30.325565</td>\n",
       "      <td>78.043681</td>\n",
       "      <td>648.3</td>\n",
       "      <td>0 days 00:05:00</td>\n",
       "      <td>Unloading-Point</td>\n",
       "    </tr>\n",
       "    <tr>\n",
       "      <th>1483</th>\n",
       "      <td>25.342064</td>\n",
       "      <td>74.619560</td>\n",
       "      <td>2021-10-04 08:35:00</td>\n",
       "      <td>30.325565</td>\n",
       "      <td>78.043681</td>\n",
       "      <td>648.3</td>\n",
       "      <td>0 days 00:05:00</td>\n",
       "      <td>Unloading-Point</td>\n",
       "    </tr>\n",
       "    <tr>\n",
       "      <th>1484</th>\n",
       "      <td>25.342064</td>\n",
       "      <td>74.619560</td>\n",
       "      <td>2021-10-04 08:40:00</td>\n",
       "      <td>30.325565</td>\n",
       "      <td>78.043681</td>\n",
       "      <td>648.3</td>\n",
       "      <td>0 days 00:05:00</td>\n",
       "      <td>Unloading-Point</td>\n",
       "    </tr>\n",
       "    <tr>\n",
       "      <th>1485</th>\n",
       "      <td>25.342064</td>\n",
       "      <td>74.619560</td>\n",
       "      <td>2021-10-04 08:45:00</td>\n",
       "      <td>30.325565</td>\n",
       "      <td>78.043681</td>\n",
       "      <td>648.3</td>\n",
       "      <td>0 days 00:05:00</td>\n",
       "      <td>Unloading-Point</td>\n",
       "    </tr>\n",
       "    <tr>\n",
       "      <th>1486</th>\n",
       "      <td>25.342064</td>\n",
       "      <td>74.619560</td>\n",
       "      <td>2021-10-04 08:50:00</td>\n",
       "      <td>30.325565</td>\n",
       "      <td>78.043681</td>\n",
       "      <td>648.3</td>\n",
       "      <td>0 days 00:05:00</td>\n",
       "      <td>Unloading-Point</td>\n",
       "    </tr>\n",
       "    <tr>\n",
       "      <th>1487</th>\n",
       "      <td>25.342064</td>\n",
       "      <td>74.619560</td>\n",
       "      <td>2021-10-04 08:56:00</td>\n",
       "      <td>30.325565</td>\n",
       "      <td>78.043681</td>\n",
       "      <td>648.3</td>\n",
       "      <td>0 days 00:06:00</td>\n",
       "      <td>Unloading-Point</td>\n",
       "    </tr>\n",
       "    <tr>\n",
       "      <th>1488</th>\n",
       "      <td>25.342064</td>\n",
       "      <td>74.619560</td>\n",
       "      <td>2021-10-04 09:01:00</td>\n",
       "      <td>30.325565</td>\n",
       "      <td>78.043681</td>\n",
       "      <td>648.3</td>\n",
       "      <td>0 days 00:05:00</td>\n",
       "      <td>Unloading-Point</td>\n",
       "    </tr>\n",
       "    <tr>\n",
       "      <th>1489</th>\n",
       "      <td>25.342064</td>\n",
       "      <td>74.619560</td>\n",
       "      <td>2021-10-04 09:06:00</td>\n",
       "      <td>30.325565</td>\n",
       "      <td>78.043681</td>\n",
       "      <td>648.3</td>\n",
       "      <td>0 days 00:05:00</td>\n",
       "      <td>Unloading-Point</td>\n",
       "    </tr>\n",
       "    <tr>\n",
       "      <th>1490</th>\n",
       "      <td>25.342064</td>\n",
       "      <td>74.619560</td>\n",
       "      <td>2021-10-04 09:11:00</td>\n",
       "      <td>30.325565</td>\n",
       "      <td>78.043681</td>\n",
       "      <td>648.3</td>\n",
       "      <td>0 days 00:05:00</td>\n",
       "      <td>Unloading-Point</td>\n",
       "    </tr>\n",
       "    <tr>\n",
       "      <th>1491</th>\n",
       "      <td>25.342064</td>\n",
       "      <td>74.619560</td>\n",
       "      <td>2021-10-04 09:16:00</td>\n",
       "      <td>30.325565</td>\n",
       "      <td>78.043681</td>\n",
       "      <td>648.3</td>\n",
       "      <td>0 days 00:05:00</td>\n",
       "      <td>Unloading-Point</td>\n",
       "    </tr>\n",
       "    <tr>\n",
       "      <th>1492</th>\n",
       "      <td>25.342064</td>\n",
       "      <td>74.619560</td>\n",
       "      <td>2021-10-04 09:21:00</td>\n",
       "      <td>30.325565</td>\n",
       "      <td>78.043681</td>\n",
       "      <td>648.3</td>\n",
       "      <td>0 days 00:05:00</td>\n",
       "      <td>Unloading-Point</td>\n",
       "    </tr>\n",
       "    <tr>\n",
       "      <th>1493</th>\n",
       "      <td>25.342064</td>\n",
       "      <td>74.619560</td>\n",
       "      <td>2021-10-04 09:26:00</td>\n",
       "      <td>30.325565</td>\n",
       "      <td>78.043681</td>\n",
       "      <td>648.3</td>\n",
       "      <td>0 days 00:05:00</td>\n",
       "      <td>Unloading-Point</td>\n",
       "    </tr>\n",
       "    <tr>\n",
       "      <th>1494</th>\n",
       "      <td>25.342064</td>\n",
       "      <td>74.619560</td>\n",
       "      <td>2021-10-04 09:31:00</td>\n",
       "      <td>30.325565</td>\n",
       "      <td>78.043681</td>\n",
       "      <td>648.3</td>\n",
       "      <td>0 days 00:05:00</td>\n",
       "      <td>Unloading-Point</td>\n",
       "    </tr>\n",
       "    <tr>\n",
       "      <th>1495</th>\n",
       "      <td>25.342064</td>\n",
       "      <td>74.619560</td>\n",
       "      <td>2021-10-04 09:36:00</td>\n",
       "      <td>30.325565</td>\n",
       "      <td>78.043681</td>\n",
       "      <td>648.3</td>\n",
       "      <td>0 days 00:05:00</td>\n",
       "      <td>Unloading-Point</td>\n",
       "    </tr>\n",
       "    <tr>\n",
       "      <th>1496</th>\n",
       "      <td>25.342064</td>\n",
       "      <td>74.619560</td>\n",
       "      <td>2021-10-04 09:41:00</td>\n",
       "      <td>30.325565</td>\n",
       "      <td>78.043681</td>\n",
       "      <td>648.3</td>\n",
       "      <td>0 days 00:05:00</td>\n",
       "      <td>Unloading-Point</td>\n",
       "    </tr>\n",
       "    <tr>\n",
       "      <th>1497</th>\n",
       "      <td>25.342045</td>\n",
       "      <td>74.619568</td>\n",
       "      <td>2021-10-04 09:47:00</td>\n",
       "      <td>30.325565</td>\n",
       "      <td>78.043681</td>\n",
       "      <td>648.3</td>\n",
       "      <td>0 days 00:06:00</td>\n",
       "      <td>Unloading-Point</td>\n",
       "    </tr>\n",
       "    <tr>\n",
       "      <th>1498</th>\n",
       "      <td>25.342045</td>\n",
       "      <td>74.619568</td>\n",
       "      <td>2021-10-04 09:52:00</td>\n",
       "      <td>30.325565</td>\n",
       "      <td>78.043681</td>\n",
       "      <td>648.3</td>\n",
       "      <td>0 days 00:05:00</td>\n",
       "      <td>Unloading-Point</td>\n",
       "    </tr>\n",
       "    <tr>\n",
       "      <th>1499</th>\n",
       "      <td>25.342045</td>\n",
       "      <td>74.619568</td>\n",
       "      <td>2021-10-04 09:57:00</td>\n",
       "      <td>30.325565</td>\n",
       "      <td>78.043681</td>\n",
       "      <td>648.3</td>\n",
       "      <td>0 days 00:05:00</td>\n",
       "      <td>Unloading-Point</td>\n",
       "    </tr>\n",
       "    <tr>\n",
       "      <th>1500</th>\n",
       "      <td>25.342045</td>\n",
       "      <td>74.619568</td>\n",
       "      <td>2021-10-04 10:02:00</td>\n",
       "      <td>30.325565</td>\n",
       "      <td>78.043681</td>\n",
       "      <td>648.3</td>\n",
       "      <td>0 days 00:05:00</td>\n",
       "      <td>Unloading-Point</td>\n",
       "    </tr>\n",
       "    <tr>\n",
       "      <th>1501</th>\n",
       "      <td>25.342045</td>\n",
       "      <td>74.619568</td>\n",
       "      <td>2021-10-04 10:07:00</td>\n",
       "      <td>30.325565</td>\n",
       "      <td>78.043681</td>\n",
       "      <td>648.3</td>\n",
       "      <td>0 days 00:05:00</td>\n",
       "      <td>Unloading-Point</td>\n",
       "    </tr>\n",
       "    <tr>\n",
       "      <th>1502</th>\n",
       "      <td>25.342045</td>\n",
       "      <td>74.619568</td>\n",
       "      <td>2021-10-04 10:12:00</td>\n",
       "      <td>30.325565</td>\n",
       "      <td>78.043681</td>\n",
       "      <td>648.3</td>\n",
       "      <td>0 days 00:05:00</td>\n",
       "      <td>Unloading-Point</td>\n",
       "    </tr>\n",
       "    <tr>\n",
       "      <th>1503</th>\n",
       "      <td>25.342045</td>\n",
       "      <td>74.619568</td>\n",
       "      <td>2021-10-04 10:17:00</td>\n",
       "      <td>30.325565</td>\n",
       "      <td>78.043681</td>\n",
       "      <td>648.3</td>\n",
       "      <td>0 days 00:05:00</td>\n",
       "      <td>Unloading-Point</td>\n",
       "    </tr>\n",
       "    <tr>\n",
       "      <th>1504</th>\n",
       "      <td>25.342045</td>\n",
       "      <td>74.619568</td>\n",
       "      <td>2021-10-04 10:22:00</td>\n",
       "      <td>30.325565</td>\n",
       "      <td>78.043681</td>\n",
       "      <td>648.3</td>\n",
       "      <td>0 days 00:05:00</td>\n",
       "      <td>Unloading-Point</td>\n",
       "    </tr>\n",
       "    <tr>\n",
       "      <th>1505</th>\n",
       "      <td>25.342045</td>\n",
       "      <td>74.619568</td>\n",
       "      <td>2021-10-04 10:27:00</td>\n",
       "      <td>30.325565</td>\n",
       "      <td>78.043681</td>\n",
       "      <td>648.3</td>\n",
       "      <td>0 days 00:05:00</td>\n",
       "      <td>Unloading-Point</td>\n",
       "    </tr>\n",
       "    <tr>\n",
       "      <th>1506</th>\n",
       "      <td>25.342045</td>\n",
       "      <td>74.619568</td>\n",
       "      <td>2021-10-04 10:33:00</td>\n",
       "      <td>30.325565</td>\n",
       "      <td>78.043681</td>\n",
       "      <td>648.3</td>\n",
       "      <td>0 days 00:06:00</td>\n",
       "      <td>Unloading-Point</td>\n",
       "    </tr>\n",
       "    <tr>\n",
       "      <th>1507</th>\n",
       "      <td>25.342045</td>\n",
       "      <td>74.619568</td>\n",
       "      <td>2021-10-04 10:38:00</td>\n",
       "      <td>30.325565</td>\n",
       "      <td>78.043681</td>\n",
       "      <td>648.3</td>\n",
       "      <td>0 days 00:05:00</td>\n",
       "      <td>Unloading-Point</td>\n",
       "    </tr>\n",
       "  </tbody>\n",
       "</table>\n",
       "</div>"
      ],
      "text/plain": [
       "       Latitude  Longitude         Packet Time  dealer_lat  dealer_long  \\\n",
       "1478  25.342077  74.619530 2021-10-04 08:09:00   30.325565    78.043681   \n",
       "1479  25.342077  74.619568 2021-10-04 08:14:00   30.325565    78.043681   \n",
       "1480  25.342077  74.619568 2021-10-04 08:20:00   30.325565    78.043681   \n",
       "1481  25.342077  74.619568 2021-10-04 08:25:00   30.325565    78.043681   \n",
       "1482  25.342064  74.619560 2021-10-04 08:30:00   30.325565    78.043681   \n",
       "1483  25.342064  74.619560 2021-10-04 08:35:00   30.325565    78.043681   \n",
       "1484  25.342064  74.619560 2021-10-04 08:40:00   30.325565    78.043681   \n",
       "1485  25.342064  74.619560 2021-10-04 08:45:00   30.325565    78.043681   \n",
       "1486  25.342064  74.619560 2021-10-04 08:50:00   30.325565    78.043681   \n",
       "1487  25.342064  74.619560 2021-10-04 08:56:00   30.325565    78.043681   \n",
       "1488  25.342064  74.619560 2021-10-04 09:01:00   30.325565    78.043681   \n",
       "1489  25.342064  74.619560 2021-10-04 09:06:00   30.325565    78.043681   \n",
       "1490  25.342064  74.619560 2021-10-04 09:11:00   30.325565    78.043681   \n",
       "1491  25.342064  74.619560 2021-10-04 09:16:00   30.325565    78.043681   \n",
       "1492  25.342064  74.619560 2021-10-04 09:21:00   30.325565    78.043681   \n",
       "1493  25.342064  74.619560 2021-10-04 09:26:00   30.325565    78.043681   \n",
       "1494  25.342064  74.619560 2021-10-04 09:31:00   30.325565    78.043681   \n",
       "1495  25.342064  74.619560 2021-10-04 09:36:00   30.325565    78.043681   \n",
       "1496  25.342064  74.619560 2021-10-04 09:41:00   30.325565    78.043681   \n",
       "1497  25.342045  74.619568 2021-10-04 09:47:00   30.325565    78.043681   \n",
       "1498  25.342045  74.619568 2021-10-04 09:52:00   30.325565    78.043681   \n",
       "1499  25.342045  74.619568 2021-10-04 09:57:00   30.325565    78.043681   \n",
       "1500  25.342045  74.619568 2021-10-04 10:02:00   30.325565    78.043681   \n",
       "1501  25.342045  74.619568 2021-10-04 10:07:00   30.325565    78.043681   \n",
       "1502  25.342045  74.619568 2021-10-04 10:12:00   30.325565    78.043681   \n",
       "1503  25.342045  74.619568 2021-10-04 10:17:00   30.325565    78.043681   \n",
       "1504  25.342045  74.619568 2021-10-04 10:22:00   30.325565    78.043681   \n",
       "1505  25.342045  74.619568 2021-10-04 10:27:00   30.325565    78.043681   \n",
       "1506  25.342045  74.619568 2021-10-04 10:33:00   30.325565    78.043681   \n",
       "1507  25.342045  74.619568 2021-10-04 10:38:00   30.325565    78.043681   \n",
       "\n",
       "      Distance       Time_diff           Status  \n",
       "1478     648.3 0 days 00:05:00  Unloading-Point  \n",
       "1479     648.3 0 days 00:05:00  Unloading-Point  \n",
       "1480     648.3 0 days 00:06:00  Unloading-Point  \n",
       "1481     648.3 0 days 00:05:00  Unloading-Point  \n",
       "1482     648.3 0 days 00:05:00  Unloading-Point  \n",
       "1483     648.3 0 days 00:05:00  Unloading-Point  \n",
       "1484     648.3 0 days 00:05:00  Unloading-Point  \n",
       "1485     648.3 0 days 00:05:00  Unloading-Point  \n",
       "1486     648.3 0 days 00:05:00  Unloading-Point  \n",
       "1487     648.3 0 days 00:06:00  Unloading-Point  \n",
       "1488     648.3 0 days 00:05:00  Unloading-Point  \n",
       "1489     648.3 0 days 00:05:00  Unloading-Point  \n",
       "1490     648.3 0 days 00:05:00  Unloading-Point  \n",
       "1491     648.3 0 days 00:05:00  Unloading-Point  \n",
       "1492     648.3 0 days 00:05:00  Unloading-Point  \n",
       "1493     648.3 0 days 00:05:00  Unloading-Point  \n",
       "1494     648.3 0 days 00:05:00  Unloading-Point  \n",
       "1495     648.3 0 days 00:05:00  Unloading-Point  \n",
       "1496     648.3 0 days 00:05:00  Unloading-Point  \n",
       "1497     648.3 0 days 00:06:00  Unloading-Point  \n",
       "1498     648.3 0 days 00:05:00  Unloading-Point  \n",
       "1499     648.3 0 days 00:05:00  Unloading-Point  \n",
       "1500     648.3 0 days 00:05:00  Unloading-Point  \n",
       "1501     648.3 0 days 00:05:00  Unloading-Point  \n",
       "1502     648.3 0 days 00:05:00  Unloading-Point  \n",
       "1503     648.3 0 days 00:05:00  Unloading-Point  \n",
       "1504     648.3 0 days 00:05:00  Unloading-Point  \n",
       "1505     648.3 0 days 00:05:00  Unloading-Point  \n",
       "1506     648.3 0 days 00:06:00  Unloading-Point  \n",
       "1507     648.3 0 days 00:05:00  Unloading-Point  "
      ]
     },
     "execution_count": 225,
     "metadata": {},
     "output_type": "execute_result"
    }
   ],
   "source": [
    "df.iloc[np.where(df.Distance==df.Distance.min())]"
   ]
  },
  {
   "cell_type": "code",
   "execution_count": 385,
   "metadata": {},
   "outputs": [],
   "source": [
    "# dataset with stop at unloading point"
   ]
  },
  {
   "cell_type": "code",
   "execution_count": 390,
   "metadata": {},
   "outputs": [
    {
     "data": {
      "text/plain": [
       "(1665, 8)"
      ]
     },
     "execution_count": 390,
     "metadata": {},
     "output_type": "execute_result"
    }
   ],
   "source": [
    "df.shape"
   ]
  },
  {
   "cell_type": "code",
   "execution_count": 391,
   "metadata": {},
   "outputs": [
    {
     "data": {
      "text/plain": [
       "186"
      ]
     },
     "execution_count": 391,
     "metadata": {},
     "output_type": "execute_result"
    }
   ],
   "source": [
    "1665 - 1479"
   ]
  },
  {
   "cell_type": "code",
   "execution_count": 230,
   "metadata": {},
   "outputs": [],
   "source": [
    "df_new = df[0:1479]"
   ]
  },
  {
   "cell_type": "code",
   "execution_count": 394,
   "metadata": {},
   "outputs": [
    {
     "data": {
      "text/plain": [
       "(1479, 9)"
      ]
     },
     "execution_count": 394,
     "metadata": {},
     "output_type": "execute_result"
    }
   ],
   "source": [
    "df_new.shape"
   ]
  },
  {
   "cell_type": "code",
   "execution_count": 231,
   "metadata": {},
   "outputs": [
    {
     "data": {
      "text/html": [
       "<div>\n",
       "<style scoped>\n",
       "    .dataframe tbody tr th:only-of-type {\n",
       "        vertical-align: middle;\n",
       "    }\n",
       "\n",
       "    .dataframe tbody tr th {\n",
       "        vertical-align: top;\n",
       "    }\n",
       "\n",
       "    .dataframe thead th {\n",
       "        text-align: right;\n",
       "    }\n",
       "</style>\n",
       "<table border=\"1\" class=\"dataframe\">\n",
       "  <thead>\n",
       "    <tr style=\"text-align: right;\">\n",
       "      <th></th>\n",
       "      <th>Latitude</th>\n",
       "      <th>Longitude</th>\n",
       "      <th>Packet Time</th>\n",
       "      <th>dealer_lat</th>\n",
       "      <th>dealer_long</th>\n",
       "      <th>Distance</th>\n",
       "      <th>Time_diff</th>\n",
       "      <th>Status</th>\n",
       "    </tr>\n",
       "  </thead>\n",
       "  <tbody>\n",
       "    <tr>\n",
       "      <th>0</th>\n",
       "      <td>13.007143</td>\n",
       "      <td>80.006966</td>\n",
       "      <td>2021-09-29 01:06:00</td>\n",
       "      <td>30.325565</td>\n",
       "      <td>78.043681</td>\n",
       "      <td>1936.26</td>\n",
       "      <td>0 days</td>\n",
       "      <td>In-transit</td>\n",
       "    </tr>\n",
       "  </tbody>\n",
       "</table>\n",
       "</div>"
      ],
      "text/plain": [
       "    Latitude  Longitude         Packet Time  dealer_lat  dealer_long  \\\n",
       "0  13.007143  80.006966 2021-09-29 01:06:00   30.325565    78.043681   \n",
       "\n",
       "   Distance Time_diff      Status  \n",
       "0   1936.26    0 days  In-transit  "
      ]
     },
     "execution_count": 231,
     "metadata": {},
     "output_type": "execute_result"
    }
   ],
   "source": [
    "df_new.head(1)"
   ]
  },
  {
   "cell_type": "code",
   "execution_count": 232,
   "metadata": {},
   "outputs": [
    {
     "data": {
      "text/html": [
       "<div>\n",
       "<style scoped>\n",
       "    .dataframe tbody tr th:only-of-type {\n",
       "        vertical-align: middle;\n",
       "    }\n",
       "\n",
       "    .dataframe tbody tr th {\n",
       "        vertical-align: top;\n",
       "    }\n",
       "\n",
       "    .dataframe thead th {\n",
       "        text-align: right;\n",
       "    }\n",
       "</style>\n",
       "<table border=\"1\" class=\"dataframe\">\n",
       "  <thead>\n",
       "    <tr style=\"text-align: right;\">\n",
       "      <th></th>\n",
       "      <th>Latitude</th>\n",
       "      <th>Longitude</th>\n",
       "      <th>Packet Time</th>\n",
       "      <th>dealer_lat</th>\n",
       "      <th>dealer_long</th>\n",
       "      <th>Distance</th>\n",
       "      <th>Time_diff</th>\n",
       "      <th>Status</th>\n",
       "    </tr>\n",
       "  </thead>\n",
       "  <tbody>\n",
       "    <tr>\n",
       "      <th>1478</th>\n",
       "      <td>25.342077</td>\n",
       "      <td>74.61953</td>\n",
       "      <td>2021-10-04 08:09:00</td>\n",
       "      <td>30.325565</td>\n",
       "      <td>78.043681</td>\n",
       "      <td>648.3</td>\n",
       "      <td>0 days 00:05:00</td>\n",
       "      <td>Unloading-Point</td>\n",
       "    </tr>\n",
       "  </tbody>\n",
       "</table>\n",
       "</div>"
      ],
      "text/plain": [
       "       Latitude  Longitude         Packet Time  dealer_lat  dealer_long  \\\n",
       "1478  25.342077   74.61953 2021-10-04 08:09:00   30.325565    78.043681   \n",
       "\n",
       "      Distance       Time_diff           Status  \n",
       "1478     648.3 0 days 00:05:00  Unloading-Point  "
      ]
     },
     "execution_count": 232,
     "metadata": {},
     "output_type": "execute_result"
    }
   ],
   "source": [
    "df_new.tail(1)"
   ]
  },
  {
   "cell_type": "code",
   "execution_count": 417,
   "metadata": {},
   "outputs": [
    {
     "data": {
      "text/plain": [
       "{'Server': 'Adv-5800',\n",
       " 'version': '202110.19.5222',\n",
       " 'results': {'distances': [[0, 1835585.8, 2197800]],\n",
       "  'code': 'Ok',\n",
       "  'durations': [[0, 150102.6, 146893.1]]},\n",
       " 'responseCode': 200}"
      ]
     },
     "execution_count": 417,
     "metadata": {},
     "output_type": "execute_result"
    }
   ],
   "source": [
    "url_three = f\"\"\"https://apis.mapmyindia.com/advancedmaps/v1/95846a48eeef5b6c17863d2367c75349/distance_matrix/trucking/80.006966,13.007143;74.61953,25.342077;17ZUL7?rtype=1&region=ind\"\"\"\n",
    "r3 = requests.get(url_three)\n",
    "result3= json.loads(r3.content)\n",
    "result3\n"
   ]
  },
  {
   "cell_type": "code",
   "execution_count": 418,
   "metadata": {},
   "outputs": [
    {
     "data": {
      "text/plain": [
       "1835.5858"
      ]
     },
     "execution_count": 418,
     "metadata": {},
     "output_type": "execute_result"
    }
   ],
   "source": [
    "1835585.8/1000"
   ]
  },
  {
   "cell_type": "code",
   "execution_count": null,
   "metadata": {},
   "outputs": [],
   "source": []
  },
  {
   "cell_type": "code",
   "execution_count": null,
   "metadata": {},
   "outputs": [],
   "source": []
  },
  {
   "cell_type": "code",
   "execution_count": null,
   "metadata": {},
   "outputs": [],
   "source": []
  },
  {
   "cell_type": "code",
   "execution_count": null,
   "metadata": {},
   "outputs": [],
   "source": []
  },
  {
   "cell_type": "code",
   "execution_count": 233,
   "metadata": {},
   "outputs": [
    {
     "data": {
      "text/plain": [
       "In-transit         1478\n",
       "Unloading-Point       1\n",
       "Name: Status, dtype: int64"
      ]
     },
     "execution_count": 233,
     "metadata": {},
     "output_type": "execute_result"
    }
   ],
   "source": [
    "df_new['Status'].value_counts()"
   ]
  },
  {
   "cell_type": "code",
   "execution_count": 235,
   "metadata": {},
   "outputs": [],
   "source": [
    "df_new['Time_diff'] = [x.iloc[-1] - x.iloc[0] for x in df_new['Packet Time'].rolling(2) if len(x)>0]"
   ]
  },
  {
   "cell_type": "code",
   "execution_count": 236,
   "metadata": {},
   "outputs": [
    {
     "data": {
      "text/plain": [
       "0 days 00:05:00    1281\n",
       "0 days 00:06:00     193\n",
       "0 days 00:07:00       3\n",
       "0 days 00:39:00       1\n",
       "0 days 00:00:00       1\n",
       "Name: Time_diff, dtype: int64"
      ]
     },
     "execution_count": 236,
     "metadata": {},
     "output_type": "execute_result"
    }
   ],
   "source": [
    "df_new['Time_diff'].value_counts()"
   ]
  },
  {
   "cell_type": "code",
   "execution_count": 237,
   "metadata": {},
   "outputs": [
    {
     "data": {
      "text/plain": [
       "Timedelta('5 days 07:03:00')"
      ]
     },
     "execution_count": 237,
     "metadata": {},
     "output_type": "execute_result"
    }
   ],
   "source": [
    "df_new['Time_diff'].sum()"
   ]
  },
  {
   "cell_type": "code",
   "execution_count": 238,
   "metadata": {},
   "outputs": [
    {
     "data": {
      "text/plain": [
       "Timedelta('5 days 07:03:00')"
      ]
     },
     "execution_count": 238,
     "metadata": {},
     "output_type": "execute_result"
    }
   ],
   "source": [
    "dt1 = '2021-09-29 01:06:00'\n",
    "d1 = pd.to_datetime(dt1)\n",
    "dt2 = '2021-10-04 08:09:00'\n",
    "d2 = pd.to_datetime(dt2)\n",
    "\n",
    "a = d2-d1\n",
    "a"
   ]
  },
  {
   "cell_type": "code",
   "execution_count": 363,
   "metadata": {},
   "outputs": [],
   "source": [
    "# Concatinate latitude and Longitude -> convert it to string \n",
    "df_new['Lat,Lngt'] = df_new[\"Latitude\"].astype(str) + df_new[\"Longitude\"].astype(str)"
   ]
  },
  {
   "cell_type": "code",
   "execution_count": 361,
   "metadata": {},
   "outputs": [],
   "source": [
    "## stoppage time new "
   ]
  },
  {
   "cell_type": "code",
   "execution_count": 365,
   "metadata": {},
   "outputs": [],
   "source": [
    "hr8xgby = df_new.groupby('Lat,Lngt').agg({'Time_diff': np.sum})"
   ]
  },
  {
   "cell_type": "code",
   "execution_count": 414,
   "metadata": {},
   "outputs": [
    {
     "data": {
      "text/plain": [
       "Time_diff      \n",
       "0 days 00:05:00    568\n",
       "0 days 00:06:00     97\n",
       "0 days 00:16:00      6\n",
       "0 days 00:10:00      5\n",
       "0 days 00:11:00      4\n",
       "0 days 00:15:00      4\n",
       "0 days 00:21:00      3\n",
       "0 days 00:36:00      3\n",
       "0 days 00:07:00      2\n",
       "0 days 00:26:00      2\n",
       "0 days 07:13:00      1\n",
       "0 days 00:12:00      1\n",
       "0 days 00:20:00      1\n",
       "0 days 00:41:00      1\n",
       "0 days 00:42:00      1\n",
       "0 days 00:54:00      1\n",
       "0 days 08:20:00      1\n",
       "0 days 01:07:00      1\n",
       "0 days 01:12:00      1\n",
       "0 days 01:17:00      1\n",
       "0 days 01:37:00      1\n",
       "0 days 02:03:00      1\n",
       "0 days 02:07:00      1\n",
       "0 days 02:29:00      1\n",
       "0 days 02:38:00      1\n",
       "0 days 03:29:00      1\n",
       "0 days 03:30:00      1\n",
       "0 days 03:55:00      1\n",
       "0 days 04:56:00      1\n",
       "0 days 05:53:00      1\n",
       "0 days 06:13:00      1\n",
       "0 days 01:06:00      1\n",
       "dtype: int64"
      ]
     },
     "execution_count": 414,
     "metadata": {},
     "output_type": "execute_result"
    }
   ],
   "source": [
    "hr8xgby.value_counts()"
   ]
  },
  {
   "cell_type": "code",
   "execution_count": 367,
   "metadata": {},
   "outputs": [
    {
     "data": {
      "text/plain": [
       "Timedelta('5 days 07:03:00')"
      ]
     },
     "execution_count": 367,
     "metadata": {},
     "output_type": "execute_result"
    }
   ],
   "source": [
    "hr8xgby['Time_diff'].sum()"
   ]
  },
  {
   "cell_type": "code",
   "execution_count": 368,
   "metadata": {},
   "outputs": [],
   "source": [
    "hr8xgby_res = hr8xgby[hr8xgby['Time_diff'] >= '01:00:00']"
   ]
  },
  {
   "cell_type": "code",
   "execution_count": 416,
   "metadata": {},
   "outputs": [
    {
     "data": {
      "text/html": [
       "<div>\n",
       "<style scoped>\n",
       "    .dataframe tbody tr th:only-of-type {\n",
       "        vertical-align: middle;\n",
       "    }\n",
       "\n",
       "    .dataframe tbody tr th {\n",
       "        vertical-align: top;\n",
       "    }\n",
       "\n",
       "    .dataframe thead th {\n",
       "        text-align: right;\n",
       "    }\n",
       "</style>\n",
       "<table border=\"1\" class=\"dataframe\">\n",
       "  <thead>\n",
       "    <tr style=\"text-align: right;\">\n",
       "      <th></th>\n",
       "      <th>Time_diff</th>\n",
       "    </tr>\n",
       "    <tr>\n",
       "      <th>Lat,Lngt</th>\n",
       "      <th></th>\n",
       "    </tr>\n",
       "  </thead>\n",
       "  <tbody>\n",
       "    <tr>\n",
       "      <th>12.54626778.199791</th>\n",
       "      <td>0 days 01:17:00</td>\n",
       "    </tr>\n",
       "    <tr>\n",
       "      <th>12.85359878.819534</th>\n",
       "      <td>0 days 03:29:00</td>\n",
       "    </tr>\n",
       "    <tr>\n",
       "      <th>12.99524880.012947</th>\n",
       "      <td>0 days 03:30:00</td>\n",
       "    </tr>\n",
       "    <tr>\n",
       "      <th>13.0070780.006927</th>\n",
       "      <td>0 days 06:13:00</td>\n",
       "    </tr>\n",
       "    <tr>\n",
       "      <th>13.00714380.006966</th>\n",
       "      <td>0 days 08:20:00</td>\n",
       "    </tr>\n",
       "    <tr>\n",
       "      <th>13.0841977.414391</th>\n",
       "      <td>0 days 02:07:00</td>\n",
       "    </tr>\n",
       "    <tr>\n",
       "      <th>13.77332276.841843</th>\n",
       "      <td>0 days 03:55:00</td>\n",
       "    </tr>\n",
       "    <tr>\n",
       "      <th>13.78801476.812935</th>\n",
       "      <td>0 days 07:13:00</td>\n",
       "    </tr>\n",
       "    <tr>\n",
       "      <th>13.7880576.812973</th>\n",
       "      <td>0 days 02:29:00</td>\n",
       "    </tr>\n",
       "    <tr>\n",
       "      <th>13.91919976.65313</th>\n",
       "      <td>0 days 01:07:00</td>\n",
       "    </tr>\n",
       "    <tr>\n",
       "      <th>13.9192276.653038</th>\n",
       "      <td>0 days 01:06:00</td>\n",
       "    </tr>\n",
       "    <tr>\n",
       "      <th>13.91945976.65329</th>\n",
       "      <td>0 days 02:38:00</td>\n",
       "    </tr>\n",
       "    <tr>\n",
       "      <th>13.91955476.653244</th>\n",
       "      <td>0 days 05:53:00</td>\n",
       "    </tr>\n",
       "    <tr>\n",
       "      <th>15.87767676.166298</th>\n",
       "      <td>0 days 01:12:00</td>\n",
       "    </tr>\n",
       "    <tr>\n",
       "      <th>15.8777676.166298</th>\n",
       "      <td>0 days 02:03:00</td>\n",
       "    </tr>\n",
       "    <tr>\n",
       "      <th>19.97592774.490303</th>\n",
       "      <td>0 days 04:56:00</td>\n",
       "    </tr>\n",
       "    <tr>\n",
       "      <th>20.5962774.601501</th>\n",
       "      <td>0 days 01:37:00</td>\n",
       "    </tr>\n",
       "  </tbody>\n",
       "</table>\n",
       "</div>"
      ],
      "text/plain": [
       "                         Time_diff\n",
       "Lat,Lngt                          \n",
       "12.54626778.199791 0 days 01:17:00\n",
       "12.85359878.819534 0 days 03:29:00\n",
       "12.99524880.012947 0 days 03:30:00\n",
       "13.0070780.006927  0 days 06:13:00\n",
       "13.00714380.006966 0 days 08:20:00\n",
       "13.0841977.414391  0 days 02:07:00\n",
       "13.77332276.841843 0 days 03:55:00\n",
       "13.78801476.812935 0 days 07:13:00\n",
       "13.7880576.812973  0 days 02:29:00\n",
       "13.91919976.65313  0 days 01:07:00\n",
       "13.9192276.653038  0 days 01:06:00\n",
       "13.91945976.65329  0 days 02:38:00\n",
       "13.91955476.653244 0 days 05:53:00\n",
       "15.87767676.166298 0 days 01:12:00\n",
       "15.8777676.166298  0 days 02:03:00\n",
       "19.97592774.490303 0 days 04:56:00\n",
       "20.5962774.601501  0 days 01:37:00"
      ]
     },
     "execution_count": 416,
     "metadata": {},
     "output_type": "execute_result"
    }
   ],
   "source": [
    "hr8xgby_res"
   ]
  },
  {
   "cell_type": "code",
   "execution_count": null,
   "metadata": {},
   "outputs": [],
   "source": []
  },
  {
   "cell_type": "code",
   "execution_count": null,
   "metadata": {},
   "outputs": [],
   "source": []
  },
  {
   "cell_type": "code",
   "execution_count": 39,
   "metadata": {},
   "outputs": [],
   "source": [
    "## stoppage time "
   ]
  },
  {
   "cell_type": "code",
   "execution_count": 239,
   "metadata": {},
   "outputs": [
    {
     "data": {
      "text/plain": [
       "Latitude   Longitude  Longitude\n",
       "12.511117  78.228058  78.228058    1\n",
       "12.521858  78.211182  78.211182    1\n",
       "12.533783  78.287346  78.287346    1\n",
       "12.535763  78.253349  78.253349    1\n",
       "12.536282  78.384140  78.384140    1\n",
       "                                  ..\n",
       "25.310026  74.567764  74.567764    1\n",
       "25.315237  74.567245  74.567245    1\n",
       "25.328020  74.586906  74.586906    1\n",
       "25.336262  74.604301  74.604301    1\n",
       "25.342077  74.619530  74.619530    1\n",
       "Name: Longitude, Length: 716, dtype: int64"
      ]
     },
     "execution_count": 239,
     "metadata": {},
     "output_type": "execute_result"
    }
   ],
   "source": [
    "df_new.groupby(['Latitude', 'Longitude'])['Longitude'].value_counts()"
   ]
  },
  {
   "cell_type": "code",
   "execution_count": 242,
   "metadata": {},
   "outputs": [],
   "source": [
    "hr38x=df_new.groupby(['Latitude', 'Longitude']).agg({'Time_diff':['sum']})"
   ]
  },
  {
   "cell_type": "code",
   "execution_count": 243,
   "metadata": {},
   "outputs": [
    {
     "data": {
      "text/html": [
       "<div>\n",
       "<style scoped>\n",
       "    .dataframe tbody tr th:only-of-type {\n",
       "        vertical-align: middle;\n",
       "    }\n",
       "\n",
       "    .dataframe tbody tr th {\n",
       "        vertical-align: top;\n",
       "    }\n",
       "\n",
       "    .dataframe thead tr th {\n",
       "        text-align: left;\n",
       "    }\n",
       "\n",
       "    .dataframe thead tr:last-of-type th {\n",
       "        text-align: right;\n",
       "    }\n",
       "</style>\n",
       "<table border=\"1\" class=\"dataframe\">\n",
       "  <thead>\n",
       "    <tr>\n",
       "      <th></th>\n",
       "      <th></th>\n",
       "      <th>Time_diff</th>\n",
       "    </tr>\n",
       "    <tr>\n",
       "      <th></th>\n",
       "      <th></th>\n",
       "      <th>sum</th>\n",
       "    </tr>\n",
       "    <tr>\n",
       "      <th>Latitude</th>\n",
       "      <th>Longitude</th>\n",
       "      <th></th>\n",
       "    </tr>\n",
       "  </thead>\n",
       "  <tbody>\n",
       "    <tr>\n",
       "      <th>12.511117</th>\n",
       "      <th>78.228058</th>\n",
       "      <td>0 days 00:05:00</td>\n",
       "    </tr>\n",
       "    <tr>\n",
       "      <th>12.521858</th>\n",
       "      <th>78.211182</th>\n",
       "      <td>0 days 00:05:00</td>\n",
       "    </tr>\n",
       "    <tr>\n",
       "      <th>12.533783</th>\n",
       "      <th>78.287346</th>\n",
       "      <td>0 days 00:05:00</td>\n",
       "    </tr>\n",
       "    <tr>\n",
       "      <th>12.535763</th>\n",
       "      <th>78.253349</th>\n",
       "      <td>0 days 00:05:00</td>\n",
       "    </tr>\n",
       "    <tr>\n",
       "      <th>12.536282</th>\n",
       "      <th>78.384140</th>\n",
       "      <td>0 days 00:05:00</td>\n",
       "    </tr>\n",
       "    <tr>\n",
       "      <th>...</th>\n",
       "      <th>...</th>\n",
       "      <td>...</td>\n",
       "    </tr>\n",
       "    <tr>\n",
       "      <th>25.310026</th>\n",
       "      <th>74.567764</th>\n",
       "      <td>0 days 00:05:00</td>\n",
       "    </tr>\n",
       "    <tr>\n",
       "      <th>25.315237</th>\n",
       "      <th>74.567245</th>\n",
       "      <td>0 days 00:05:00</td>\n",
       "    </tr>\n",
       "    <tr>\n",
       "      <th>25.328020</th>\n",
       "      <th>74.586906</th>\n",
       "      <td>0 days 00:05:00</td>\n",
       "    </tr>\n",
       "    <tr>\n",
       "      <th>25.336262</th>\n",
       "      <th>74.604301</th>\n",
       "      <td>0 days 00:05:00</td>\n",
       "    </tr>\n",
       "    <tr>\n",
       "      <th>25.342077</th>\n",
       "      <th>74.619530</th>\n",
       "      <td>0 days 00:05:00</td>\n",
       "    </tr>\n",
       "  </tbody>\n",
       "</table>\n",
       "<p>716 rows × 1 columns</p>\n",
       "</div>"
      ],
      "text/plain": [
       "                          Time_diff\n",
       "                                sum\n",
       "Latitude  Longitude                \n",
       "12.511117 78.228058 0 days 00:05:00\n",
       "12.521858 78.211182 0 days 00:05:00\n",
       "12.533783 78.287346 0 days 00:05:00\n",
       "12.535763 78.253349 0 days 00:05:00\n",
       "12.536282 78.384140 0 days 00:05:00\n",
       "...                             ...\n",
       "25.310026 74.567764 0 days 00:05:00\n",
       "25.315237 74.567245 0 days 00:05:00\n",
       "25.328020 74.586906 0 days 00:05:00\n",
       "25.336262 74.604301 0 days 00:05:00\n",
       "25.342077 74.619530 0 days 00:05:00\n",
       "\n",
       "[716 rows x 1 columns]"
      ]
     },
     "execution_count": 243,
     "metadata": {},
     "output_type": "execute_result"
    }
   ],
   "source": [
    "hr38x"
   ]
  },
  {
   "cell_type": "code",
   "execution_count": 44,
   "metadata": {},
   "outputs": [],
   "source": [
    "df1 = pd.read_excel(\"C:\\\\Users\\\\274827\\\\Downloads\\\\hr38x7641.xltm\")"
   ]
  },
  {
   "cell_type": "code",
   "execution_count": 45,
   "metadata": {},
   "outputs": [
    {
     "data": {
      "text/html": [
       "<div>\n",
       "<style scoped>\n",
       "    .dataframe tbody tr th:only-of-type {\n",
       "        vertical-align: middle;\n",
       "    }\n",
       "\n",
       "    .dataframe tbody tr th {\n",
       "        vertical-align: top;\n",
       "    }\n",
       "\n",
       "    .dataframe thead th {\n",
       "        text-align: right;\n",
       "    }\n",
       "</style>\n",
       "<table border=\"1\" class=\"dataframe\">\n",
       "  <thead>\n",
       "    <tr style=\"text-align: right;\">\n",
       "      <th></th>\n",
       "      <th>Latitude</th>\n",
       "      <th>Longitude</th>\n",
       "      <th>min</th>\n",
       "      <th>max</th>\n",
       "    </tr>\n",
       "  </thead>\n",
       "  <tbody>\n",
       "    <tr>\n",
       "      <th>0</th>\n",
       "      <td>12.511117</td>\n",
       "      <td>78.228058</td>\n",
       "      <td>30-Sep-2021 06:17</td>\n",
       "      <td>30-Sep-2021 06:17</td>\n",
       "    </tr>\n",
       "    <tr>\n",
       "      <th>1</th>\n",
       "      <td>12.521858</td>\n",
       "      <td>78.211182</td>\n",
       "      <td>30-Sep-2021 06:22</td>\n",
       "      <td>30-Sep-2021 06:22</td>\n",
       "    </tr>\n",
       "    <tr>\n",
       "      <th>2</th>\n",
       "      <td>12.533783</td>\n",
       "      <td>78.287346</td>\n",
       "      <td>30-Sep-2021 06:07</td>\n",
       "      <td>30-Sep-2021 06:07</td>\n",
       "    </tr>\n",
       "    <tr>\n",
       "      <th>3</th>\n",
       "      <td>12.535763</td>\n",
       "      <td>78.253349</td>\n",
       "      <td>30-Sep-2021 06:12</td>\n",
       "      <td>30-Sep-2021 06:12</td>\n",
       "    </tr>\n",
       "    <tr>\n",
       "      <th>4</th>\n",
       "      <td>12.536282</td>\n",
       "      <td>78.384140</td>\n",
       "      <td>30-Sep-2021 05:51</td>\n",
       "      <td>30-Sep-2021 05:51</td>\n",
       "    </tr>\n",
       "    <tr>\n",
       "      <th>...</th>\n",
       "      <td>...</td>\n",
       "      <td>...</td>\n",
       "      <td>...</td>\n",
       "      <td>...</td>\n",
       "    </tr>\n",
       "    <tr>\n",
       "      <th>772</th>\n",
       "      <td>25.340065</td>\n",
       "      <td>74.613731</td>\n",
       "      <td>04-Oct-2021 10:43</td>\n",
       "      <td>04-Oct-2021 10:43</td>\n",
       "    </tr>\n",
       "    <tr>\n",
       "      <th>773</th>\n",
       "      <td>25.342045</td>\n",
       "      <td>74.619568</td>\n",
       "      <td>04-Oct-2021 09:47</td>\n",
       "      <td>04-Oct-2021 10:38</td>\n",
       "    </tr>\n",
       "    <tr>\n",
       "      <th>774</th>\n",
       "      <td>25.342064</td>\n",
       "      <td>74.619560</td>\n",
       "      <td>04-Oct-2021 08:30</td>\n",
       "      <td>04-Oct-2021 09:41</td>\n",
       "    </tr>\n",
       "    <tr>\n",
       "      <th>775</th>\n",
       "      <td>25.342077</td>\n",
       "      <td>74.619530</td>\n",
       "      <td>04-Oct-2021 08:09</td>\n",
       "      <td>04-Oct-2021 08:09</td>\n",
       "    </tr>\n",
       "    <tr>\n",
       "      <th>776</th>\n",
       "      <td>NaN</td>\n",
       "      <td>74.619568</td>\n",
       "      <td>04-Oct-2021 08:14</td>\n",
       "      <td>04-Oct-2021 08:25</td>\n",
       "    </tr>\n",
       "  </tbody>\n",
       "</table>\n",
       "<p>777 rows × 4 columns</p>\n",
       "</div>"
      ],
      "text/plain": [
       "      Latitude  Longitude                min                max\n",
       "0    12.511117  78.228058  30-Sep-2021 06:17  30-Sep-2021 06:17\n",
       "1    12.521858  78.211182  30-Sep-2021 06:22  30-Sep-2021 06:22\n",
       "2    12.533783  78.287346  30-Sep-2021 06:07  30-Sep-2021 06:07\n",
       "3    12.535763  78.253349  30-Sep-2021 06:12  30-Sep-2021 06:12\n",
       "4    12.536282  78.384140  30-Sep-2021 05:51  30-Sep-2021 05:51\n",
       "..         ...        ...                ...                ...\n",
       "772  25.340065  74.613731  04-Oct-2021 10:43  04-Oct-2021 10:43\n",
       "773  25.342045  74.619568  04-Oct-2021 09:47  04-Oct-2021 10:38\n",
       "774  25.342064  74.619560  04-Oct-2021 08:30  04-Oct-2021 09:41\n",
       "775  25.342077  74.619530  04-Oct-2021 08:09  04-Oct-2021 08:09\n",
       "776        NaN  74.619568  04-Oct-2021 08:14  04-Oct-2021 08:25\n",
       "\n",
       "[777 rows x 4 columns]"
      ]
     },
     "execution_count": 45,
     "metadata": {},
     "output_type": "execute_result"
    }
   ],
   "source": [
    "df1"
   ]
  },
  {
   "cell_type": "code",
   "execution_count": 46,
   "metadata": {},
   "outputs": [],
   "source": [
    "df1['max']=pd.to_datetime(df1['max'])"
   ]
  },
  {
   "cell_type": "code",
   "execution_count": 47,
   "metadata": {},
   "outputs": [],
   "source": [
    "df1['min']=pd.to_datetime(df1['min'])"
   ]
  },
  {
   "cell_type": "code",
   "execution_count": 48,
   "metadata": {},
   "outputs": [],
   "source": [
    "df1['diff']=df1['max']-df1['min']"
   ]
  },
  {
   "cell_type": "code",
   "execution_count": 197,
   "metadata": {},
   "outputs": [
    {
     "data": {
      "text/plain": [
       "777"
      ]
     },
     "execution_count": 197,
     "metadata": {},
     "output_type": "execute_result"
    }
   ],
   "source": [
    "df1['diff'].count()"
   ]
  },
  {
   "cell_type": "code",
   "execution_count": 201,
   "metadata": {},
   "outputs": [],
   "source": [
    "stoppage = df1[df1['diff'] >= '1:00:00']"
   ]
  },
  {
   "cell_type": "code",
   "execution_count": 202,
   "metadata": {},
   "outputs": [
    {
     "data": {
      "text/plain": [
       "20"
      ]
     },
     "execution_count": 202,
     "metadata": {},
     "output_type": "execute_result"
    }
   ],
   "source": [
    "stoppage['diff'].count()"
   ]
  },
  {
   "cell_type": "code",
   "execution_count": 51,
   "metadata": {},
   "outputs": [
    {
     "name": "stdout",
     "output_type": "stream",
     "text": [
      "0 days 01:01:00\n",
      "0 days 08:20:00\n",
      "0 days 02:59:21\n",
      "0 days 02:12:30\n"
     ]
    }
   ],
   "source": [
    "print(stoppage['diff'].min())\n",
    "print(stoppage['diff'].max())\n",
    "print(stoppage['diff'].mean())\n",
    "print(stoppage['diff'].median())"
   ]
  },
  {
   "cell_type": "code",
   "execution_count": 67,
   "metadata": {},
   "outputs": [],
   "source": [
    "# Dataset 2 \n",
    "\n",
    "df_gj = pd.read_excel(\"D:\\\\Sales Logistic Project\\\\GJ12BV6093.xltm\")"
   ]
  },
  {
   "cell_type": "code",
   "execution_count": 68,
   "metadata": {},
   "outputs": [
    {
     "data": {
      "text/plain": [
       "(2019, 2)"
      ]
     },
     "execution_count": 68,
     "metadata": {},
     "output_type": "execute_result"
    }
   ],
   "source": [
    "df_gj.shape\n"
   ]
  },
  {
   "cell_type": "code",
   "execution_count": 69,
   "metadata": {},
   "outputs": [],
   "source": [
    "df_gj = df_gj[df_gj['Lat,Lngt'].notna()]"
   ]
  },
  {
   "cell_type": "code",
   "execution_count": 70,
   "metadata": {},
   "outputs": [
    {
     "name": "stdout",
     "output_type": "stream",
     "text": [
      "<class 'pandas.core.frame.DataFrame'>\n",
      "Int64Index: 2018 entries, 0 to 2017\n",
      "Data columns (total 2 columns):\n",
      " #   Column    Non-Null Count  Dtype \n",
      "---  ------    --------------  ----- \n",
      " 0   Lat,Lngt  2018 non-null   object\n",
      " 1   Period    2018 non-null   object\n",
      "dtypes: object(2)\n",
      "memory usage: 47.3+ KB\n"
     ]
    }
   ],
   "source": [
    "df_gj.info()"
   ]
  },
  {
   "cell_type": "code",
   "execution_count": 71,
   "metadata": {},
   "outputs": [
    {
     "data": {
      "text/html": [
       "<div>\n",
       "<style scoped>\n",
       "    .dataframe tbody tr th:only-of-type {\n",
       "        vertical-align: middle;\n",
       "    }\n",
       "\n",
       "    .dataframe tbody tr th {\n",
       "        vertical-align: top;\n",
       "    }\n",
       "\n",
       "    .dataframe thead th {\n",
       "        text-align: right;\n",
       "    }\n",
       "</style>\n",
       "<table border=\"1\" class=\"dataframe\">\n",
       "  <thead>\n",
       "    <tr style=\"text-align: right;\">\n",
       "      <th></th>\n",
       "      <th>Lat,Lngt</th>\n",
       "      <th>Period</th>\n",
       "    </tr>\n",
       "  </thead>\n",
       "  <tbody>\n",
       "    <tr>\n",
       "      <th>0</th>\n",
       "      <td>13.004329,79.990362</td>\n",
       "      <td>01/10 10:10 : 01/10 10:15</td>\n",
       "    </tr>\n",
       "    <tr>\n",
       "      <th>1</th>\n",
       "      <td>13.004329,79.990362</td>\n",
       "      <td>01/10 10:15 : 01/10 10:20</td>\n",
       "    </tr>\n",
       "  </tbody>\n",
       "</table>\n",
       "</div>"
      ],
      "text/plain": [
       "              Lat,Lngt                     Period\n",
       "0  13.004329,79.990362  01/10 10:10 : 01/10 10:15\n",
       "1  13.004329,79.990362  01/10 10:15 : 01/10 10:20"
      ]
     },
     "execution_count": 71,
     "metadata": {},
     "output_type": "execute_result"
    }
   ],
   "source": [
    "df_gj.head(2)"
   ]
  },
  {
   "cell_type": "code",
   "execution_count": null,
   "metadata": {},
   "outputs": [],
   "source": []
  },
  {
   "cell_type": "code",
   "execution_count": 72,
   "metadata": {},
   "outputs": [],
   "source": [
    "#splitting date col \n",
    "df_gj[['Latitude', 'Longitude']] = df_gj['Lat,Lngt'].str.split(',', 1, expand=True)"
   ]
  },
  {
   "cell_type": "code",
   "execution_count": 73,
   "metadata": {},
   "outputs": [],
   "source": [
    "df_gj['Latitude'] = df_gj['Latitude'].astype(float)"
   ]
  },
  {
   "cell_type": "code",
   "execution_count": 74,
   "metadata": {},
   "outputs": [],
   "source": [
    "df_gj['Longitude'] = df_gj['Longitude'].astype(float)"
   ]
  },
  {
   "cell_type": "code",
   "execution_count": 75,
   "metadata": {},
   "outputs": [
    {
     "data": {
      "text/html": [
       "<div>\n",
       "<style scoped>\n",
       "    .dataframe tbody tr th:only-of-type {\n",
       "        vertical-align: middle;\n",
       "    }\n",
       "\n",
       "    .dataframe tbody tr th {\n",
       "        vertical-align: top;\n",
       "    }\n",
       "\n",
       "    .dataframe thead th {\n",
       "        text-align: right;\n",
       "    }\n",
       "</style>\n",
       "<table border=\"1\" class=\"dataframe\">\n",
       "  <thead>\n",
       "    <tr style=\"text-align: right;\">\n",
       "      <th></th>\n",
       "      <th>Lat,Lngt</th>\n",
       "      <th>Period</th>\n",
       "      <th>Latitude</th>\n",
       "      <th>Longitude</th>\n",
       "    </tr>\n",
       "  </thead>\n",
       "  <tbody>\n",
       "    <tr>\n",
       "      <th>0</th>\n",
       "      <td>13.004329,79.990362</td>\n",
       "      <td>01/10 10:10 : 01/10 10:15</td>\n",
       "      <td>13.004329</td>\n",
       "      <td>79.990362</td>\n",
       "    </tr>\n",
       "    <tr>\n",
       "      <th>1</th>\n",
       "      <td>13.004329,79.990362</td>\n",
       "      <td>01/10 10:15 : 01/10 10:20</td>\n",
       "      <td>13.004329</td>\n",
       "      <td>79.990362</td>\n",
       "    </tr>\n",
       "    <tr>\n",
       "      <th>2</th>\n",
       "      <td>13.004329,79.990362</td>\n",
       "      <td>01/10 10:20 : 01/10 10:25</td>\n",
       "      <td>13.004329</td>\n",
       "      <td>79.990362</td>\n",
       "    </tr>\n",
       "    <tr>\n",
       "      <th>3</th>\n",
       "      <td>13.004329,79.990362</td>\n",
       "      <td>01/10 10:25 : 01/10 10:30</td>\n",
       "      <td>13.004329</td>\n",
       "      <td>79.990362</td>\n",
       "    </tr>\n",
       "    <tr>\n",
       "      <th>4</th>\n",
       "      <td>13.004329,79.990362</td>\n",
       "      <td>01/10 10:30 : 01/10 10:35</td>\n",
       "      <td>13.004329</td>\n",
       "      <td>79.990362</td>\n",
       "    </tr>\n",
       "    <tr>\n",
       "      <th>...</th>\n",
       "      <td>...</td>\n",
       "      <td>...</td>\n",
       "      <td>...</td>\n",
       "      <td>...</td>\n",
       "    </tr>\n",
       "    <tr>\n",
       "      <th>2013</th>\n",
       "      <td>30.381981,76.790381</td>\n",
       "      <td>08/10 10:35 : 08/10 10:40</td>\n",
       "      <td>30.381981</td>\n",
       "      <td>76.790381</td>\n",
       "    </tr>\n",
       "    <tr>\n",
       "      <th>2014</th>\n",
       "      <td>30.381981,76.790381</td>\n",
       "      <td>08/10 10:40 : 08/10 10:45</td>\n",
       "      <td>30.381981</td>\n",
       "      <td>76.790381</td>\n",
       "    </tr>\n",
       "    <tr>\n",
       "      <th>2015</th>\n",
       "      <td>30.381981,76.790381</td>\n",
       "      <td>08/10 10:45 : 08/10 10:50</td>\n",
       "      <td>30.381981</td>\n",
       "      <td>76.790381</td>\n",
       "    </tr>\n",
       "    <tr>\n",
       "      <th>2016</th>\n",
       "      <td>30.381981,76.790381</td>\n",
       "      <td>08/10 10:50 : 08/10 10:55</td>\n",
       "      <td>30.381981</td>\n",
       "      <td>76.790381</td>\n",
       "    </tr>\n",
       "    <tr>\n",
       "      <th>2017</th>\n",
       "      <td>30.381981,76.790381</td>\n",
       "      <td>08/10 10:55 : 08/10 10:56</td>\n",
       "      <td>30.381981</td>\n",
       "      <td>76.790381</td>\n",
       "    </tr>\n",
       "  </tbody>\n",
       "</table>\n",
       "<p>2018 rows × 4 columns</p>\n",
       "</div>"
      ],
      "text/plain": [
       "                 Lat,Lngt                     Period   Latitude  Longitude\n",
       "0     13.004329,79.990362  01/10 10:10 : 01/10 10:15  13.004329  79.990362\n",
       "1     13.004329,79.990362  01/10 10:15 : 01/10 10:20  13.004329  79.990362\n",
       "2     13.004329,79.990362  01/10 10:20 : 01/10 10:25  13.004329  79.990362\n",
       "3     13.004329,79.990362  01/10 10:25 : 01/10 10:30  13.004329  79.990362\n",
       "4     13.004329,79.990362  01/10 10:30 : 01/10 10:35  13.004329  79.990362\n",
       "...                   ...                        ...        ...        ...\n",
       "2013  30.381981,76.790381  08/10 10:35 : 08/10 10:40  30.381981  76.790381\n",
       "2014  30.381981,76.790381  08/10 10:40 : 08/10 10:45  30.381981  76.790381\n",
       "2015  30.381981,76.790381  08/10 10:45 : 08/10 10:50  30.381981  76.790381\n",
       "2016  30.381981,76.790381  08/10 10:50 : 08/10 10:55  30.381981  76.790381\n",
       "2017  30.381981,76.790381  08/10 10:55 : 08/10 10:56  30.381981  76.790381\n",
       "\n",
       "[2018 rows x 4 columns]"
      ]
     },
     "execution_count": 75,
     "metadata": {},
     "output_type": "execute_result"
    }
   ],
   "source": [
    "df_gj"
   ]
  },
  {
   "cell_type": "code",
   "execution_count": 76,
   "metadata": {},
   "outputs": [
    {
     "data": {
      "text/plain": [
       "0    2021-10-01 10:10\n",
       "1    2021-10-01 10:15\n",
       "Name: start_dt, dtype: object"
      ]
     },
     "execution_count": 76,
     "metadata": {},
     "output_type": "execute_result"
    }
   ],
   "source": [
    "#df_gj['start_dt'] = df_gj['Period'].map(lambda x:\"2021\"+\"-\"+str(x)[0:2]+\"-\"+str(x)[3:5]+\" \"+str(x)[6:11])\n",
    "df_gj['start_dt'] = df_gj['Period'].map(lambda x:\"2021\"+\"-\"+str(x)[3:5]+\"-\"+str(x)[0:2]+\" \"+str(x)[6:11])\n",
    "df_gj['start_dt'].head(2)"
   ]
  },
  {
   "cell_type": "code",
   "execution_count": 77,
   "metadata": {},
   "outputs": [
    {
     "data": {
      "text/plain": [
       "0    2021-10 - 01 10:15\n",
       "1    2021-10 - 01 10:20\n",
       "Name: end_dt, dtype: object"
      ]
     },
     "execution_count": 77,
     "metadata": {},
     "output_type": "execute_result"
    }
   ],
   "source": [
    "#df_gj['end_dt'] = df_gj['Period'].map(lambda x:\"2021\"+\"-\"+str(x)[13:16]+\"-\"+str(x)[17:20]+\" \"+str(x)[20:25])\n",
    "df_gj['end_dt'] = df_gj['Period'].map(lambda x:\"2021\"+\"-\"+str(x)[17:20]+\"-\"+str(x)[13:16]+\" \"+str(x)[20:25])\n",
    "df_gj['end_dt'].head(2)"
   ]
  },
  {
   "cell_type": "code",
   "execution_count": 78,
   "metadata": {},
   "outputs": [],
   "source": [
    "df_gj['start_dt'] = pd.to_datetime(df_gj['start_dt'])"
   ]
  },
  {
   "cell_type": "code",
   "execution_count": 79,
   "metadata": {},
   "outputs": [],
   "source": [
    "df_gj['end_dt'] = pd.to_datetime(df_gj['end_dt'])"
   ]
  },
  {
   "cell_type": "code",
   "execution_count": 80,
   "metadata": {},
   "outputs": [],
   "source": [
    "df_gj['time_diff_test'] = df_gj['end_dt'] - df_gj['start_dt']"
   ]
  },
  {
   "cell_type": "code",
   "execution_count": 81,
   "metadata": {},
   "outputs": [
    {
     "data": {
      "text/plain": [
       "0 days 00:05:00    2017\n",
       "0 days 00:01:00       1\n",
       "Name: time_diff_test, dtype: int64"
      ]
     },
     "execution_count": 81,
     "metadata": {},
     "output_type": "execute_result"
    }
   ],
   "source": [
    "df_gj['time_diff_test'].value_counts()"
   ]
  },
  {
   "cell_type": "code",
   "execution_count": 82,
   "metadata": {},
   "outputs": [],
   "source": [
    "df_gj['Time_diff'] = [x.iloc[-1] - x.iloc[0] for x in df_gj['end_dt'].rolling(2) if len(x)>0]"
   ]
  },
  {
   "cell_type": "code",
   "execution_count": 83,
   "metadata": {},
   "outputs": [
    {
     "data": {
      "text/plain": [
       "0 days 00:05:00    2008\n",
       "0 days 00:10:00       8\n",
       "0 days 00:01:00       1\n",
       "0 days 00:00:00       1\n",
       "Name: Time_diff, dtype: int64"
      ]
     },
     "execution_count": 83,
     "metadata": {},
     "output_type": "execute_result"
    }
   ],
   "source": [
    "df_gj['Time_diff'].value_counts()"
   ]
  },
  {
   "cell_type": "code",
   "execution_count": 98,
   "metadata": {},
   "outputs": [
    {
     "data": {
      "text/plain": [
       "Timedelta('7 days 00:41:00')"
      ]
     },
     "execution_count": 98,
     "metadata": {},
     "output_type": "execute_result"
    }
   ],
   "source": [
    "df_gj['Time_diff'].sum()"
   ]
  },
  {
   "cell_type": "code",
   "execution_count": 84,
   "metadata": {},
   "outputs": [],
   "source": [
    "df_gj['dealer_lat'] = 30.384662"
   ]
  },
  {
   "cell_type": "code",
   "execution_count": 85,
   "metadata": {},
   "outputs": [],
   "source": [
    "df_gj['dealer_long'] = 76.786064"
   ]
  },
  {
   "cell_type": "code",
   "execution_count": 86,
   "metadata": {},
   "outputs": [
    {
     "data": {
      "text/html": [
       "<div>\n",
       "<style scoped>\n",
       "    .dataframe tbody tr th:only-of-type {\n",
       "        vertical-align: middle;\n",
       "    }\n",
       "\n",
       "    .dataframe tbody tr th {\n",
       "        vertical-align: top;\n",
       "    }\n",
       "\n",
       "    .dataframe thead th {\n",
       "        text-align: right;\n",
       "    }\n",
       "</style>\n",
       "<table border=\"1\" class=\"dataframe\">\n",
       "  <thead>\n",
       "    <tr style=\"text-align: right;\">\n",
       "      <th></th>\n",
       "      <th>Lat,Lngt</th>\n",
       "      <th>Period</th>\n",
       "      <th>Latitude</th>\n",
       "      <th>Longitude</th>\n",
       "      <th>start_dt</th>\n",
       "      <th>end_dt</th>\n",
       "      <th>time_diff_test</th>\n",
       "      <th>Time_diff</th>\n",
       "      <th>dealer_lat</th>\n",
       "      <th>dealer_long</th>\n",
       "    </tr>\n",
       "  </thead>\n",
       "  <tbody>\n",
       "    <tr>\n",
       "      <th>0</th>\n",
       "      <td>13.004329,79.990362</td>\n",
       "      <td>01/10 10:10 : 01/10 10:15</td>\n",
       "      <td>13.004329</td>\n",
       "      <td>79.990362</td>\n",
       "      <td>2021-10-01 10:10:00</td>\n",
       "      <td>2021-10-01 10:15:00</td>\n",
       "      <td>0 days 00:05:00</td>\n",
       "      <td>0 days 00:00:00</td>\n",
       "      <td>30.384662</td>\n",
       "      <td>76.786064</td>\n",
       "    </tr>\n",
       "    <tr>\n",
       "      <th>1</th>\n",
       "      <td>13.004329,79.990362</td>\n",
       "      <td>01/10 10:15 : 01/10 10:20</td>\n",
       "      <td>13.004329</td>\n",
       "      <td>79.990362</td>\n",
       "      <td>2021-10-01 10:15:00</td>\n",
       "      <td>2021-10-01 10:20:00</td>\n",
       "      <td>0 days 00:05:00</td>\n",
       "      <td>0 days 00:05:00</td>\n",
       "      <td>30.384662</td>\n",
       "      <td>76.786064</td>\n",
       "    </tr>\n",
       "    <tr>\n",
       "      <th>2</th>\n",
       "      <td>13.004329,79.990362</td>\n",
       "      <td>01/10 10:20 : 01/10 10:25</td>\n",
       "      <td>13.004329</td>\n",
       "      <td>79.990362</td>\n",
       "      <td>2021-10-01 10:20:00</td>\n",
       "      <td>2021-10-01 10:25:00</td>\n",
       "      <td>0 days 00:05:00</td>\n",
       "      <td>0 days 00:05:00</td>\n",
       "      <td>30.384662</td>\n",
       "      <td>76.786064</td>\n",
       "    </tr>\n",
       "    <tr>\n",
       "      <th>3</th>\n",
       "      <td>13.004329,79.990362</td>\n",
       "      <td>01/10 10:25 : 01/10 10:30</td>\n",
       "      <td>13.004329</td>\n",
       "      <td>79.990362</td>\n",
       "      <td>2021-10-01 10:25:00</td>\n",
       "      <td>2021-10-01 10:30:00</td>\n",
       "      <td>0 days 00:05:00</td>\n",
       "      <td>0 days 00:05:00</td>\n",
       "      <td>30.384662</td>\n",
       "      <td>76.786064</td>\n",
       "    </tr>\n",
       "    <tr>\n",
       "      <th>4</th>\n",
       "      <td>13.004329,79.990362</td>\n",
       "      <td>01/10 10:30 : 01/10 10:35</td>\n",
       "      <td>13.004329</td>\n",
       "      <td>79.990362</td>\n",
       "      <td>2021-10-01 10:30:00</td>\n",
       "      <td>2021-10-01 10:35:00</td>\n",
       "      <td>0 days 00:05:00</td>\n",
       "      <td>0 days 00:05:00</td>\n",
       "      <td>30.384662</td>\n",
       "      <td>76.786064</td>\n",
       "    </tr>\n",
       "    <tr>\n",
       "      <th>...</th>\n",
       "      <td>...</td>\n",
       "      <td>...</td>\n",
       "      <td>...</td>\n",
       "      <td>...</td>\n",
       "      <td>...</td>\n",
       "      <td>...</td>\n",
       "      <td>...</td>\n",
       "      <td>...</td>\n",
       "      <td>...</td>\n",
       "      <td>...</td>\n",
       "    </tr>\n",
       "    <tr>\n",
       "      <th>2013</th>\n",
       "      <td>30.381981,76.790381</td>\n",
       "      <td>08/10 10:35 : 08/10 10:40</td>\n",
       "      <td>30.381981</td>\n",
       "      <td>76.790381</td>\n",
       "      <td>2021-10-08 10:35:00</td>\n",
       "      <td>2021-10-08 10:40:00</td>\n",
       "      <td>0 days 00:05:00</td>\n",
       "      <td>0 days 00:05:00</td>\n",
       "      <td>30.384662</td>\n",
       "      <td>76.786064</td>\n",
       "    </tr>\n",
       "    <tr>\n",
       "      <th>2014</th>\n",
       "      <td>30.381981,76.790381</td>\n",
       "      <td>08/10 10:40 : 08/10 10:45</td>\n",
       "      <td>30.381981</td>\n",
       "      <td>76.790381</td>\n",
       "      <td>2021-10-08 10:40:00</td>\n",
       "      <td>2021-10-08 10:45:00</td>\n",
       "      <td>0 days 00:05:00</td>\n",
       "      <td>0 days 00:05:00</td>\n",
       "      <td>30.384662</td>\n",
       "      <td>76.786064</td>\n",
       "    </tr>\n",
       "    <tr>\n",
       "      <th>2015</th>\n",
       "      <td>30.381981,76.790381</td>\n",
       "      <td>08/10 10:45 : 08/10 10:50</td>\n",
       "      <td>30.381981</td>\n",
       "      <td>76.790381</td>\n",
       "      <td>2021-10-08 10:45:00</td>\n",
       "      <td>2021-10-08 10:50:00</td>\n",
       "      <td>0 days 00:05:00</td>\n",
       "      <td>0 days 00:05:00</td>\n",
       "      <td>30.384662</td>\n",
       "      <td>76.786064</td>\n",
       "    </tr>\n",
       "    <tr>\n",
       "      <th>2016</th>\n",
       "      <td>30.381981,76.790381</td>\n",
       "      <td>08/10 10:50 : 08/10 10:55</td>\n",
       "      <td>30.381981</td>\n",
       "      <td>76.790381</td>\n",
       "      <td>2021-10-08 10:50:00</td>\n",
       "      <td>2021-10-08 10:55:00</td>\n",
       "      <td>0 days 00:05:00</td>\n",
       "      <td>0 days 00:05:00</td>\n",
       "      <td>30.384662</td>\n",
       "      <td>76.786064</td>\n",
       "    </tr>\n",
       "    <tr>\n",
       "      <th>2017</th>\n",
       "      <td>30.381981,76.790381</td>\n",
       "      <td>08/10 10:55 : 08/10 10:56</td>\n",
       "      <td>30.381981</td>\n",
       "      <td>76.790381</td>\n",
       "      <td>2021-10-08 10:55:00</td>\n",
       "      <td>2021-10-08 10:56:00</td>\n",
       "      <td>0 days 00:01:00</td>\n",
       "      <td>0 days 00:01:00</td>\n",
       "      <td>30.384662</td>\n",
       "      <td>76.786064</td>\n",
       "    </tr>\n",
       "  </tbody>\n",
       "</table>\n",
       "<p>2018 rows × 10 columns</p>\n",
       "</div>"
      ],
      "text/plain": [
       "                 Lat,Lngt                     Period   Latitude  Longitude  \\\n",
       "0     13.004329,79.990362  01/10 10:10 : 01/10 10:15  13.004329  79.990362   \n",
       "1     13.004329,79.990362  01/10 10:15 : 01/10 10:20  13.004329  79.990362   \n",
       "2     13.004329,79.990362  01/10 10:20 : 01/10 10:25  13.004329  79.990362   \n",
       "3     13.004329,79.990362  01/10 10:25 : 01/10 10:30  13.004329  79.990362   \n",
       "4     13.004329,79.990362  01/10 10:30 : 01/10 10:35  13.004329  79.990362   \n",
       "...                   ...                        ...        ...        ...   \n",
       "2013  30.381981,76.790381  08/10 10:35 : 08/10 10:40  30.381981  76.790381   \n",
       "2014  30.381981,76.790381  08/10 10:40 : 08/10 10:45  30.381981  76.790381   \n",
       "2015  30.381981,76.790381  08/10 10:45 : 08/10 10:50  30.381981  76.790381   \n",
       "2016  30.381981,76.790381  08/10 10:50 : 08/10 10:55  30.381981  76.790381   \n",
       "2017  30.381981,76.790381  08/10 10:55 : 08/10 10:56  30.381981  76.790381   \n",
       "\n",
       "                start_dt              end_dt  time_diff_test       Time_diff  \\\n",
       "0    2021-10-01 10:10:00 2021-10-01 10:15:00 0 days 00:05:00 0 days 00:00:00   \n",
       "1    2021-10-01 10:15:00 2021-10-01 10:20:00 0 days 00:05:00 0 days 00:05:00   \n",
       "2    2021-10-01 10:20:00 2021-10-01 10:25:00 0 days 00:05:00 0 days 00:05:00   \n",
       "3    2021-10-01 10:25:00 2021-10-01 10:30:00 0 days 00:05:00 0 days 00:05:00   \n",
       "4    2021-10-01 10:30:00 2021-10-01 10:35:00 0 days 00:05:00 0 days 00:05:00   \n",
       "...                  ...                 ...             ...             ...   \n",
       "2013 2021-10-08 10:35:00 2021-10-08 10:40:00 0 days 00:05:00 0 days 00:05:00   \n",
       "2014 2021-10-08 10:40:00 2021-10-08 10:45:00 0 days 00:05:00 0 days 00:05:00   \n",
       "2015 2021-10-08 10:45:00 2021-10-08 10:50:00 0 days 00:05:00 0 days 00:05:00   \n",
       "2016 2021-10-08 10:50:00 2021-10-08 10:55:00 0 days 00:05:00 0 days 00:05:00   \n",
       "2017 2021-10-08 10:55:00 2021-10-08 10:56:00 0 days 00:01:00 0 days 00:01:00   \n",
       "\n",
       "      dealer_lat  dealer_long  \n",
       "0      30.384662    76.786064  \n",
       "1      30.384662    76.786064  \n",
       "2      30.384662    76.786064  \n",
       "3      30.384662    76.786064  \n",
       "4      30.384662    76.786064  \n",
       "...          ...          ...  \n",
       "2013   30.384662    76.786064  \n",
       "2014   30.384662    76.786064  \n",
       "2015   30.384662    76.786064  \n",
       "2016   30.384662    76.786064  \n",
       "2017   30.384662    76.786064  \n",
       "\n",
       "[2018 rows x 10 columns]"
      ]
     },
     "execution_count": 86,
     "metadata": {},
     "output_type": "execute_result"
    }
   ],
   "source": [
    "df_gj"
   ]
  },
  {
   "cell_type": "code",
   "execution_count": 87,
   "metadata": {},
   "outputs": [],
   "source": [
    "## \n",
    "dealer_lat = 30.384662\n",
    "dealer_long = 76.786064\n",
    "\n",
    "#straight line dist\n",
    "\n",
    "distances_km = []\n",
    "for row in df_gj.itertuples(index=False):\n",
    "   distances_km.append(\n",
    "       haversine_distance(dealer_lat, dealer_long, row.Latitude, row.Longitude)\n",
    "   )"
   ]
  },
  {
   "cell_type": "code",
   "execution_count": 88,
   "metadata": {},
   "outputs": [],
   "source": [
    "df_gj['Distance'] = distances_km"
   ]
  },
  {
   "cell_type": "code",
   "execution_count": 89,
   "metadata": {},
   "outputs": [
    {
     "data": {
      "text/html": [
       "<div>\n",
       "<style scoped>\n",
       "    .dataframe tbody tr th:only-of-type {\n",
       "        vertical-align: middle;\n",
       "    }\n",
       "\n",
       "    .dataframe tbody tr th {\n",
       "        vertical-align: top;\n",
       "    }\n",
       "\n",
       "    .dataframe thead th {\n",
       "        text-align: right;\n",
       "    }\n",
       "</style>\n",
       "<table border=\"1\" class=\"dataframe\">\n",
       "  <thead>\n",
       "    <tr style=\"text-align: right;\">\n",
       "      <th></th>\n",
       "      <th>Lat,Lngt</th>\n",
       "      <th>Period</th>\n",
       "      <th>Latitude</th>\n",
       "      <th>Longitude</th>\n",
       "      <th>start_dt</th>\n",
       "      <th>end_dt</th>\n",
       "      <th>time_diff_test</th>\n",
       "      <th>Time_diff</th>\n",
       "      <th>dealer_lat</th>\n",
       "      <th>dealer_long</th>\n",
       "      <th>Distance</th>\n",
       "    </tr>\n",
       "  </thead>\n",
       "  <tbody>\n",
       "    <tr>\n",
       "      <th>0</th>\n",
       "      <td>13.004329,79.990362</td>\n",
       "      <td>01/10 10:10 : 01/10 10:15</td>\n",
       "      <td>13.004329</td>\n",
       "      <td>79.990362</td>\n",
       "      <td>2021-10-01 10:10:00</td>\n",
       "      <td>2021-10-01 10:15:00</td>\n",
       "      <td>0 days 00:05:00</td>\n",
       "      <td>0 days</td>\n",
       "      <td>30.384662</td>\n",
       "      <td>76.786064</td>\n",
       "      <td>1960.44</td>\n",
       "    </tr>\n",
       "  </tbody>\n",
       "</table>\n",
       "</div>"
      ],
      "text/plain": [
       "              Lat,Lngt                     Period   Latitude  Longitude  \\\n",
       "0  13.004329,79.990362  01/10 10:10 : 01/10 10:15  13.004329  79.990362   \n",
       "\n",
       "             start_dt              end_dt  time_diff_test Time_diff  \\\n",
       "0 2021-10-01 10:10:00 2021-10-01 10:15:00 0 days 00:05:00    0 days   \n",
       "\n",
       "   dealer_lat  dealer_long  Distance  \n",
       "0   30.384662    76.786064   1960.44  "
      ]
     },
     "execution_count": 89,
     "metadata": {},
     "output_type": "execute_result"
    }
   ],
   "source": [
    "df_gj[0:1]"
   ]
  },
  {
   "cell_type": "code",
   "execution_count": 90,
   "metadata": {},
   "outputs": [
    {
     "data": {
      "text/plain": [
       "0.42"
      ]
     },
     "execution_count": 90,
     "metadata": {},
     "output_type": "execute_result"
    }
   ],
   "source": [
    "df_gj.Distance.min()"
   ]
  },
  {
   "cell_type": "code",
   "execution_count": 91,
   "metadata": {},
   "outputs": [
    {
     "data": {
      "text/html": [
       "<div>\n",
       "<style scoped>\n",
       "    .dataframe tbody tr th:only-of-type {\n",
       "        vertical-align: middle;\n",
       "    }\n",
       "\n",
       "    .dataframe tbody tr th {\n",
       "        vertical-align: top;\n",
       "    }\n",
       "\n",
       "    .dataframe thead th {\n",
       "        text-align: right;\n",
       "    }\n",
       "</style>\n",
       "<table border=\"1\" class=\"dataframe\">\n",
       "  <thead>\n",
       "    <tr style=\"text-align: right;\">\n",
       "      <th></th>\n",
       "      <th>Lat,Lngt</th>\n",
       "      <th>Period</th>\n",
       "      <th>Latitude</th>\n",
       "      <th>Longitude</th>\n",
       "      <th>start_dt</th>\n",
       "      <th>end_dt</th>\n",
       "      <th>time_diff_test</th>\n",
       "      <th>Time_diff</th>\n",
       "      <th>dealer_lat</th>\n",
       "      <th>dealer_long</th>\n",
       "      <th>Distance</th>\n",
       "    </tr>\n",
       "  </thead>\n",
       "  <tbody>\n",
       "    <tr>\n",
       "      <th>1965</th>\n",
       "      <td>30.38216,76.789293</td>\n",
       "      <td>08/10 06:35 : 08/10 06:40</td>\n",
       "      <td>30.38216</td>\n",
       "      <td>76.789293</td>\n",
       "      <td>2021-10-08 06:35:00</td>\n",
       "      <td>2021-10-08 06:40:00</td>\n",
       "      <td>0 days 00:05:00</td>\n",
       "      <td>0 days 00:05:00</td>\n",
       "      <td>30.384662</td>\n",
       "      <td>76.786064</td>\n",
       "      <td>0.42</td>\n",
       "    </tr>\n",
       "  </tbody>\n",
       "</table>\n",
       "</div>"
      ],
      "text/plain": [
       "                Lat,Lngt                     Period  Latitude  Longitude  \\\n",
       "1965  30.38216,76.789293  08/10 06:35 : 08/10 06:40  30.38216  76.789293   \n",
       "\n",
       "                start_dt              end_dt  time_diff_test       Time_diff  \\\n",
       "1965 2021-10-08 06:35:00 2021-10-08 06:40:00 0 days 00:05:00 0 days 00:05:00   \n",
       "\n",
       "      dealer_lat  dealer_long  Distance  \n",
       "1965   30.384662    76.786064      0.42  "
      ]
     },
     "execution_count": 91,
     "metadata": {},
     "output_type": "execute_result"
    }
   ],
   "source": [
    "df_gj.iloc[np.where(df_gj.Distance==df_gj.Distance.min())]"
   ]
  },
  {
   "cell_type": "code",
   "execution_count": 92,
   "metadata": {},
   "outputs": [
    {
     "data": {
      "text/html": [
       "<div>\n",
       "<style scoped>\n",
       "    .dataframe tbody tr th:only-of-type {\n",
       "        vertical-align: middle;\n",
       "    }\n",
       "\n",
       "    .dataframe tbody tr th {\n",
       "        vertical-align: top;\n",
       "    }\n",
       "\n",
       "    .dataframe thead th {\n",
       "        text-align: right;\n",
       "    }\n",
       "</style>\n",
       "<table border=\"1\" class=\"dataframe\">\n",
       "  <thead>\n",
       "    <tr style=\"text-align: right;\">\n",
       "      <th></th>\n",
       "      <th>Latitude</th>\n",
       "      <th>Longitude</th>\n",
       "      <th>time_diff_test</th>\n",
       "      <th>Time_diff</th>\n",
       "      <th>dealer_lat</th>\n",
       "      <th>dealer_long</th>\n",
       "      <th>Distance</th>\n",
       "    </tr>\n",
       "  </thead>\n",
       "  <tbody>\n",
       "    <tr>\n",
       "      <th>count</th>\n",
       "      <td>2018.000000</td>\n",
       "      <td>2018.000000</td>\n",
       "      <td>2018</td>\n",
       "      <td>2018</td>\n",
       "      <td>2.018000e+03</td>\n",
       "      <td>2.018000e+03</td>\n",
       "      <td>2018.000000</td>\n",
       "    </tr>\n",
       "    <tr>\n",
       "      <th>mean</th>\n",
       "      <td>20.549977</td>\n",
       "      <td>76.969307</td>\n",
       "      <td>0 days 00:04:59.881070366</td>\n",
       "      <td>0 days 00:05:00.921704658</td>\n",
       "      <td>3.038466e+01</td>\n",
       "      <td>7.678606e+01</td>\n",
       "      <td>1103.348523</td>\n",
       "    </tr>\n",
       "    <tr>\n",
       "      <th>std</th>\n",
       "      <td>6.128710</td>\n",
       "      <td>1.635098</td>\n",
       "      <td>0 days 00:00:05.342575408</td>\n",
       "      <td>0 days 00:00:20.719406777</td>\n",
       "      <td>1.332598e-12</td>\n",
       "      <td>2.146371e-12</td>\n",
       "      <td>686.281094</td>\n",
       "    </tr>\n",
       "    <tr>\n",
       "      <th>min</th>\n",
       "      <td>12.507226</td>\n",
       "      <td>74.434330</td>\n",
       "      <td>0 days 00:01:00</td>\n",
       "      <td>0 days 00:00:00</td>\n",
       "      <td>3.038466e+01</td>\n",
       "      <td>7.678606e+01</td>\n",
       "      <td>0.420000</td>\n",
       "    </tr>\n",
       "    <tr>\n",
       "      <th>25%</th>\n",
       "      <td>14.572178</td>\n",
       "      <td>75.855616</td>\n",
       "      <td>0 days 00:05:00</td>\n",
       "      <td>0 days 00:05:00</td>\n",
       "      <td>3.038466e+01</td>\n",
       "      <td>7.678606e+01</td>\n",
       "      <td>485.825000</td>\n",
       "    </tr>\n",
       "    <tr>\n",
       "      <th>50%</th>\n",
       "      <td>20.476463</td>\n",
       "      <td>76.790381</td>\n",
       "      <td>0 days 00:05:00</td>\n",
       "      <td>0 days 00:05:00</td>\n",
       "      <td>3.038466e+01</td>\n",
       "      <td>7.678606e+01</td>\n",
       "      <td>1125.145000</td>\n",
       "    </tr>\n",
       "    <tr>\n",
       "      <th>75%</th>\n",
       "      <td>26.212173</td>\n",
       "      <td>77.606368</td>\n",
       "      <td>0 days 00:05:00</td>\n",
       "      <td>0 days 00:05:00</td>\n",
       "      <td>3.038466e+01</td>\n",
       "      <td>7.678606e+01</td>\n",
       "      <td>1758.620000</td>\n",
       "    </tr>\n",
       "    <tr>\n",
       "      <th>max</th>\n",
       "      <td>30.382160</td>\n",
       "      <td>80.029286</td>\n",
       "      <td>0 days 00:05:00</td>\n",
       "      <td>0 days 00:10:00</td>\n",
       "      <td>3.038466e+01</td>\n",
       "      <td>7.678606e+01</td>\n",
       "      <td>1993.360000</td>\n",
       "    </tr>\n",
       "  </tbody>\n",
       "</table>\n",
       "</div>"
      ],
      "text/plain": [
       "          Latitude    Longitude             time_diff_test  \\\n",
       "count  2018.000000  2018.000000                       2018   \n",
       "mean     20.549977    76.969307  0 days 00:04:59.881070366   \n",
       "std       6.128710     1.635098  0 days 00:00:05.342575408   \n",
       "min      12.507226    74.434330            0 days 00:01:00   \n",
       "25%      14.572178    75.855616            0 days 00:05:00   \n",
       "50%      20.476463    76.790381            0 days 00:05:00   \n",
       "75%      26.212173    77.606368            0 days 00:05:00   \n",
       "max      30.382160    80.029286            0 days 00:05:00   \n",
       "\n",
       "                       Time_diff    dealer_lat   dealer_long     Distance  \n",
       "count                       2018  2.018000e+03  2.018000e+03  2018.000000  \n",
       "mean   0 days 00:05:00.921704658  3.038466e+01  7.678606e+01  1103.348523  \n",
       "std    0 days 00:00:20.719406777  1.332598e-12  2.146371e-12   686.281094  \n",
       "min              0 days 00:00:00  3.038466e+01  7.678606e+01     0.420000  \n",
       "25%              0 days 00:05:00  3.038466e+01  7.678606e+01   485.825000  \n",
       "50%              0 days 00:05:00  3.038466e+01  7.678606e+01  1125.145000  \n",
       "75%              0 days 00:05:00  3.038466e+01  7.678606e+01  1758.620000  \n",
       "max              0 days 00:10:00  3.038466e+01  7.678606e+01  1993.360000  "
      ]
     },
     "execution_count": 92,
     "metadata": {},
     "output_type": "execute_result"
    }
   ],
   "source": [
    "df_gj.describe()"
   ]
  },
  {
   "cell_type": "code",
   "execution_count": 594,
   "metadata": {},
   "outputs": [
    {
     "data": {
      "text/html": [
       "<div>\n",
       "<style scoped>\n",
       "    .dataframe tbody tr th:only-of-type {\n",
       "        vertical-align: middle;\n",
       "    }\n",
       "\n",
       "    .dataframe tbody tr th {\n",
       "        vertical-align: top;\n",
       "    }\n",
       "\n",
       "    .dataframe thead th {\n",
       "        text-align: right;\n",
       "    }\n",
       "</style>\n",
       "<table border=\"1\" class=\"dataframe\">\n",
       "  <thead>\n",
       "    <tr style=\"text-align: right;\">\n",
       "      <th></th>\n",
       "      <th>Lat,Lngt</th>\n",
       "      <th>Period</th>\n",
       "      <th>Latitude</th>\n",
       "      <th>Longitude</th>\n",
       "      <th>start_dt</th>\n",
       "      <th>end_dt</th>\n",
       "      <th>Time_diff</th>\n",
       "      <th>dealer_lat</th>\n",
       "      <th>dealer_long</th>\n",
       "      <th>Distance</th>\n",
       "    </tr>\n",
       "  </thead>\n",
       "  <tbody>\n",
       "    <tr>\n",
       "      <th>1965</th>\n",
       "      <td>30.38216,76.789293</td>\n",
       "      <td>08/10 06:35 : 08/10 06:40</td>\n",
       "      <td>30.38216</td>\n",
       "      <td>76.789293</td>\n",
       "      <td>2021-08-10 06:35:00</td>\n",
       "      <td>2021-08-10 06:40:00</td>\n",
       "      <td>0 days 00:05:00</td>\n",
       "      <td>30.384662</td>\n",
       "      <td>76.786064</td>\n",
       "      <td>0.42</td>\n",
       "    </tr>\n",
       "  </tbody>\n",
       "</table>\n",
       "</div>"
      ],
      "text/plain": [
       "                Lat,Lngt                     Period  Latitude  Longitude  \\\n",
       "1965  30.38216,76.789293  08/10 06:35 : 08/10 06:40  30.38216  76.789293   \n",
       "\n",
       "                start_dt              end_dt       Time_diff  dealer_lat  \\\n",
       "1965 2021-08-10 06:35:00 2021-08-10 06:40:00 0 days 00:05:00   30.384662   \n",
       "\n",
       "      dealer_long  Distance  \n",
       "1965    76.786064      0.42  "
      ]
     },
     "execution_count": 594,
     "metadata": {},
     "output_type": "execute_result"
    }
   ],
   "source": [
    "df_gj.iloc[np.where(df_gj.Distance==df_gj.Distance.min())]"
   ]
  },
  {
   "cell_type": "code",
   "execution_count": 93,
   "metadata": {},
   "outputs": [],
   "source": [
    "df_gj['Status'] = np.where(df_gj['Distance']!= df_gj['Distance'].min(), 'In-transit', 'Unloading-Point')"
   ]
  },
  {
   "cell_type": "code",
   "execution_count": 94,
   "metadata": {},
   "outputs": [
    {
     "data": {
      "text/plain": [
       "(2018, 12)"
      ]
     },
     "execution_count": 94,
     "metadata": {},
     "output_type": "execute_result"
    }
   ],
   "source": [
    "df_gj.shape"
   ]
  },
  {
   "cell_type": "code",
   "execution_count": 95,
   "metadata": {},
   "outputs": [],
   "source": [
    "df_filtered = df_gj[0::20]"
   ]
  },
  {
   "cell_type": "code",
   "execution_count": 96,
   "metadata": {},
   "outputs": [
    {
     "data": {
      "text/plain": [
       "(101, 12)"
      ]
     },
     "execution_count": 96,
     "metadata": {},
     "output_type": "execute_result"
    }
   ],
   "source": [
    "df_filtered.shape"
   ]
  },
  {
   "cell_type": "code",
   "execution_count": 599,
   "metadata": {},
   "outputs": [],
   "source": [
    "df_filtered.to_excel(\"filtered_93.xlsx\")"
   ]
  },
  {
   "cell_type": "code",
   "execution_count": 97,
   "metadata": {},
   "outputs": [
    {
     "data": {
      "text/plain": [
       "Distance          0.42\n",
       "Status      In-transit\n",
       "dtype: object"
      ]
     },
     "execution_count": 97,
     "metadata": {},
     "output_type": "execute_result"
    }
   ],
   "source": [
    "df_gj[['Distance','Status']].min()"
   ]
  },
  {
   "cell_type": "code",
   "execution_count": 601,
   "metadata": {},
   "outputs": [
    {
     "data": {
      "text/html": [
       "<div>\n",
       "<style scoped>\n",
       "    .dataframe tbody tr th:only-of-type {\n",
       "        vertical-align: middle;\n",
       "    }\n",
       "\n",
       "    .dataframe tbody tr th {\n",
       "        vertical-align: top;\n",
       "    }\n",
       "\n",
       "    .dataframe thead th {\n",
       "        text-align: right;\n",
       "    }\n",
       "</style>\n",
       "<table border=\"1\" class=\"dataframe\">\n",
       "  <thead>\n",
       "    <tr style=\"text-align: right;\">\n",
       "      <th></th>\n",
       "      <th>Lat,Lngt</th>\n",
       "      <th>Period</th>\n",
       "      <th>Latitude</th>\n",
       "      <th>Longitude</th>\n",
       "      <th>start_dt</th>\n",
       "      <th>end_dt</th>\n",
       "      <th>Time_diff</th>\n",
       "      <th>dealer_lat</th>\n",
       "      <th>dealer_long</th>\n",
       "      <th>Distance</th>\n",
       "      <th>Status</th>\n",
       "    </tr>\n",
       "  </thead>\n",
       "  <tbody>\n",
       "    <tr>\n",
       "      <th>0</th>\n",
       "      <td>13.004329,79.990362</td>\n",
       "      <td>01/10 10:10 : 01/10 10:15</td>\n",
       "      <td>13.004329</td>\n",
       "      <td>79.990362</td>\n",
       "      <td>2021-01-10 10:10:00</td>\n",
       "      <td>2021-01-10 10:15:00</td>\n",
       "      <td>0 days 00:05:00</td>\n",
       "      <td>30.384662</td>\n",
       "      <td>76.786064</td>\n",
       "      <td>1960.44</td>\n",
       "      <td>In-transit</td>\n",
       "    </tr>\n",
       "  </tbody>\n",
       "</table>\n",
       "</div>"
      ],
      "text/plain": [
       "              Lat,Lngt                     Period   Latitude  Longitude  \\\n",
       "0  13.004329,79.990362  01/10 10:10 : 01/10 10:15  13.004329  79.990362   \n",
       "\n",
       "             start_dt              end_dt       Time_diff  dealer_lat  \\\n",
       "0 2021-01-10 10:10:00 2021-01-10 10:15:00 0 days 00:05:00   30.384662   \n",
       "\n",
       "   dealer_long  Distance      Status  \n",
       "0    76.786064   1960.44  In-transit  "
      ]
     },
     "execution_count": 601,
     "metadata": {},
     "output_type": "execute_result"
    }
   ],
   "source": [
    "df_gj[0:1]"
   ]
  },
  {
   "cell_type": "code",
   "execution_count": 602,
   "metadata": {},
   "outputs": [
    {
     "data": {
      "text/html": [
       "<div>\n",
       "<style scoped>\n",
       "    .dataframe tbody tr th:only-of-type {\n",
       "        vertical-align: middle;\n",
       "    }\n",
       "\n",
       "    .dataframe tbody tr th {\n",
       "        vertical-align: top;\n",
       "    }\n",
       "\n",
       "    .dataframe thead th {\n",
       "        text-align: right;\n",
       "    }\n",
       "</style>\n",
       "<table border=\"1\" class=\"dataframe\">\n",
       "  <thead>\n",
       "    <tr style=\"text-align: right;\">\n",
       "      <th></th>\n",
       "      <th>Lat,Lngt</th>\n",
       "      <th>Period</th>\n",
       "      <th>Latitude</th>\n",
       "      <th>Longitude</th>\n",
       "      <th>start_dt</th>\n",
       "      <th>end_dt</th>\n",
       "      <th>Time_diff</th>\n",
       "      <th>dealer_lat</th>\n",
       "      <th>dealer_long</th>\n",
       "      <th>Distance</th>\n",
       "      <th>Status</th>\n",
       "    </tr>\n",
       "  </thead>\n",
       "  <tbody>\n",
       "    <tr>\n",
       "      <th>1965</th>\n",
       "      <td>30.38216,76.789293</td>\n",
       "      <td>08/10 06:35 : 08/10 06:40</td>\n",
       "      <td>30.38216</td>\n",
       "      <td>76.789293</td>\n",
       "      <td>2021-08-10 06:35:00</td>\n",
       "      <td>2021-08-10 06:40:00</td>\n",
       "      <td>0 days 00:05:00</td>\n",
       "      <td>30.384662</td>\n",
       "      <td>76.786064</td>\n",
       "      <td>0.42</td>\n",
       "      <td>Completed</td>\n",
       "    </tr>\n",
       "  </tbody>\n",
       "</table>\n",
       "</div>"
      ],
      "text/plain": [
       "                Lat,Lngt                     Period  Latitude  Longitude  \\\n",
       "1965  30.38216,76.789293  08/10 06:35 : 08/10 06:40  30.38216  76.789293   \n",
       "\n",
       "                start_dt              end_dt       Time_diff  dealer_lat  \\\n",
       "1965 2021-08-10 06:35:00 2021-08-10 06:40:00 0 days 00:05:00   30.384662   \n",
       "\n",
       "      dealer_long  Distance     Status  \n",
       "1965    76.786064      0.42  Completed  "
      ]
     },
     "execution_count": 602,
     "metadata": {},
     "output_type": "execute_result"
    }
   ],
   "source": [
    "df_gj.iloc[np.where(df_gj.Distance==df_gj.Distance.min())]"
   ]
  },
  {
   "cell_type": "code",
   "execution_count": 388,
   "metadata": {},
   "outputs": [
    {
     "data": {
      "text/plain": [
       "{'Server': 'Adv-5800',\n",
       " 'version': '202110.19.5222',\n",
       " 'results': {'distances': [[0, 2429357.2, 2198610.8]],\n",
       "  'code': 'Ok',\n",
       "  'durations': [[0, 160435.4, 146681.7]]},\n",
       " 'responseCode': 200}"
      ]
     },
     "execution_count": 388,
     "metadata": {},
     "output_type": "execute_result"
    }
   ],
   "source": [
    "url_three = f\"\"\"https://apis.mapmyindia.com/advancedmaps/v1/95846a48eeef5b6c17863d2367c75349/distance_matrix/trucking/79.990362,13.004329;76.786064,30.384662;17ZUL7?rtype=1&region=ind\"\"\"\n",
    "r3 = requests.get(url_three)\n",
    "result3= json.loads(r3.content)\n",
    "result3\n"
   ]
  },
  {
   "cell_type": "code",
   "execution_count": 389,
   "metadata": {},
   "outputs": [
    {
     "data": {
      "text/plain": [
       "2429.3572000000004"
      ]
     },
     "execution_count": 389,
     "metadata": {},
     "output_type": "execute_result"
    }
   ],
   "source": [
    "2429357.2/1000"
   ]
  },
  {
   "cell_type": "code",
   "execution_count": null,
   "metadata": {},
   "outputs": [],
   "source": [
    "gmap - 2423 / map my india 2428"
   ]
  },
  {
   "cell_type": "code",
   "execution_count": 223,
   "metadata": {},
   "outputs": [],
   "source": [
    "df_gj.to_excel(\"df_gj.xlsx\")"
   ]
  },
  {
   "cell_type": "code",
   "execution_count": null,
   "metadata": {},
   "outputs": [],
   "source": []
  },
  {
   "cell_type": "code",
   "execution_count": 244,
   "metadata": {},
   "outputs": [],
   "source": [
    "df_gj_new = df_gj[0:1966]"
   ]
  },
  {
   "cell_type": "code",
   "execution_count": 395,
   "metadata": {},
   "outputs": [
    {
     "data": {
      "text/plain": [
       "(1966, 12)"
      ]
     },
     "execution_count": 395,
     "metadata": {},
     "output_type": "execute_result"
    }
   ],
   "source": [
    "df_gj_new.shape"
   ]
  },
  {
   "cell_type": "code",
   "execution_count": 252,
   "metadata": {},
   "outputs": [
    {
     "data": {
      "text/html": [
       "<div>\n",
       "<style scoped>\n",
       "    .dataframe tbody tr th:only-of-type {\n",
       "        vertical-align: middle;\n",
       "    }\n",
       "\n",
       "    .dataframe tbody tr th {\n",
       "        vertical-align: top;\n",
       "    }\n",
       "\n",
       "    .dataframe thead th {\n",
       "        text-align: right;\n",
       "    }\n",
       "</style>\n",
       "<table border=\"1\" class=\"dataframe\">\n",
       "  <thead>\n",
       "    <tr style=\"text-align: right;\">\n",
       "      <th></th>\n",
       "      <th>Lat,Lngt</th>\n",
       "      <th>Period</th>\n",
       "      <th>Latitude</th>\n",
       "      <th>Longitude</th>\n",
       "      <th>start_dt</th>\n",
       "      <th>end_dt</th>\n",
       "      <th>time_diff_test</th>\n",
       "      <th>Time_diff</th>\n",
       "      <th>dealer_lat</th>\n",
       "      <th>dealer_long</th>\n",
       "      <th>Distance</th>\n",
       "      <th>Status</th>\n",
       "    </tr>\n",
       "  </thead>\n",
       "  <tbody>\n",
       "    <tr>\n",
       "      <th>0</th>\n",
       "      <td>13.004329,79.990362</td>\n",
       "      <td>01/10 10:10 : 01/10 10:15</td>\n",
       "      <td>13.004329</td>\n",
       "      <td>79.990362</td>\n",
       "      <td>2021-10-01 10:10:00</td>\n",
       "      <td>2021-10-01 10:15:00</td>\n",
       "      <td>0 days 00:05:00</td>\n",
       "      <td>0 days</td>\n",
       "      <td>30.384662</td>\n",
       "      <td>76.786064</td>\n",
       "      <td>1960.44</td>\n",
       "      <td>In-transit</td>\n",
       "    </tr>\n",
       "  </tbody>\n",
       "</table>\n",
       "</div>"
      ],
      "text/plain": [
       "              Lat,Lngt                     Period   Latitude  Longitude  \\\n",
       "0  13.004329,79.990362  01/10 10:10 : 01/10 10:15  13.004329  79.990362   \n",
       "\n",
       "             start_dt              end_dt  time_diff_test Time_diff  \\\n",
       "0 2021-10-01 10:10:00 2021-10-01 10:15:00 0 days 00:05:00    0 days   \n",
       "\n",
       "   dealer_lat  dealer_long  Distance      Status  \n",
       "0   30.384662    76.786064   1960.44  In-transit  "
      ]
     },
     "execution_count": 252,
     "metadata": {},
     "output_type": "execute_result"
    }
   ],
   "source": [
    "df_gj_new.head(1)"
   ]
  },
  {
   "cell_type": "code",
   "execution_count": 246,
   "metadata": {},
   "outputs": [
    {
     "data": {
      "text/html": [
       "<div>\n",
       "<style scoped>\n",
       "    .dataframe tbody tr th:only-of-type {\n",
       "        vertical-align: middle;\n",
       "    }\n",
       "\n",
       "    .dataframe tbody tr th {\n",
       "        vertical-align: top;\n",
       "    }\n",
       "\n",
       "    .dataframe thead th {\n",
       "        text-align: right;\n",
       "    }\n",
       "</style>\n",
       "<table border=\"1\" class=\"dataframe\">\n",
       "  <thead>\n",
       "    <tr style=\"text-align: right;\">\n",
       "      <th></th>\n",
       "      <th>Lat,Lngt</th>\n",
       "      <th>Period</th>\n",
       "      <th>Latitude</th>\n",
       "      <th>Longitude</th>\n",
       "      <th>start_dt</th>\n",
       "      <th>end_dt</th>\n",
       "      <th>time_diff_test</th>\n",
       "      <th>Time_diff</th>\n",
       "      <th>dealer_lat</th>\n",
       "      <th>dealer_long</th>\n",
       "      <th>Distance</th>\n",
       "      <th>Status</th>\n",
       "    </tr>\n",
       "  </thead>\n",
       "  <tbody>\n",
       "    <tr>\n",
       "      <th>1965</th>\n",
       "      <td>30.38216,76.789293</td>\n",
       "      <td>08/10 06:35 : 08/10 06:40</td>\n",
       "      <td>30.38216</td>\n",
       "      <td>76.789293</td>\n",
       "      <td>2021-10-08 06:35:00</td>\n",
       "      <td>2021-10-08 06:40:00</td>\n",
       "      <td>0 days 00:05:00</td>\n",
       "      <td>0 days 00:05:00</td>\n",
       "      <td>30.384662</td>\n",
       "      <td>76.786064</td>\n",
       "      <td>0.42</td>\n",
       "      <td>Unloading-Point</td>\n",
       "    </tr>\n",
       "  </tbody>\n",
       "</table>\n",
       "</div>"
      ],
      "text/plain": [
       "                Lat,Lngt                     Period  Latitude  Longitude  \\\n",
       "1965  30.38216,76.789293  08/10 06:35 : 08/10 06:40  30.38216  76.789293   \n",
       "\n",
       "                start_dt              end_dt  time_diff_test       Time_diff  \\\n",
       "1965 2021-10-08 06:35:00 2021-10-08 06:40:00 0 days 00:05:00 0 days 00:05:00   \n",
       "\n",
       "      dealer_lat  dealer_long  Distance           Status  \n",
       "1965   30.384662    76.786064      0.42  Unloading-Point  "
      ]
     },
     "execution_count": 246,
     "metadata": {},
     "output_type": "execute_result"
    }
   ],
   "source": [
    "df_gj_new.tail(1)"
   ]
  },
  {
   "cell_type": "code",
   "execution_count": 247,
   "metadata": {},
   "outputs": [
    {
     "data": {
      "text/plain": [
       "In-transit         1965\n",
       "Unloading-Point       1\n",
       "Name: Status, dtype: int64"
      ]
     },
     "execution_count": 247,
     "metadata": {},
     "output_type": "execute_result"
    }
   ],
   "source": [
    "df_gj_new['Status'].value_counts()"
   ]
  },
  {
   "cell_type": "code",
   "execution_count": 248,
   "metadata": {},
   "outputs": [],
   "source": [
    "df_gj_new['Time_diff'] = [x.iloc[-1] - x.iloc[0] for x in df_gj_new['end_dt'].rolling(2) if len(x)>0]"
   ]
  },
  {
   "cell_type": "code",
   "execution_count": 250,
   "metadata": {},
   "outputs": [
    {
     "data": {
      "text/plain": [
       "0 days 00:05:00    1957\n",
       "0 days 00:10:00       8\n",
       "0 days 00:00:00       1\n",
       "Name: Time_diff, dtype: int64"
      ]
     },
     "execution_count": 250,
     "metadata": {},
     "output_type": "execute_result"
    }
   ],
   "source": [
    "df_gj_new['Time_diff'].value_counts()"
   ]
  },
  {
   "cell_type": "code",
   "execution_count": 251,
   "metadata": {},
   "outputs": [
    {
     "data": {
      "text/plain": [
       "Timedelta('6 days 20:25:00')"
      ]
     },
     "execution_count": 251,
     "metadata": {},
     "output_type": "execute_result"
    }
   ],
   "source": [
    "df_gj_new['Time_diff'].sum()"
   ]
  },
  {
   "cell_type": "code",
   "execution_count": 253,
   "metadata": {},
   "outputs": [
    {
     "data": {
      "text/plain": [
       "Timedelta('6 days 20:25:00')"
      ]
     },
     "execution_count": 253,
     "metadata": {},
     "output_type": "execute_result"
    }
   ],
   "source": [
    "dt1 = '2021-10-01 10:15:00'\n",
    "d1 = pd.to_datetime(dt1)\n",
    "dt2 = '2021-10-08 06:40:00'\n",
    "d2 = pd.to_datetime(dt2)\n",
    "\n",
    "a = d2-d1\n",
    "a"
   ]
  },
  {
   "cell_type": "code",
   "execution_count": null,
   "metadata": {},
   "outputs": [],
   "source": [
    "## stoppage time new "
   ]
  },
  {
   "cell_type": "code",
   "execution_count": 355,
   "metadata": {},
   "outputs": [],
   "source": [
    "GJ93gby = df_gj_new.groupby('Lat,Lngt').agg({'Time_diff': np.sum})"
   ]
  },
  {
   "cell_type": "code",
   "execution_count": 412,
   "metadata": {},
   "outputs": [
    {
     "data": {
      "text/plain": [
       "0 days 00:05:00    924\n",
       "0 days 00:10:00      5\n",
       "0 days 00:40:00      3\n",
       "0 days 00:15:00      3\n",
       "0 days 00:55:00      3\n",
       "0 days 01:30:00      2\n",
       "0 days 07:30:00      1\n",
       "0 days 07:35:00      1\n",
       "0 days 00:20:00      1\n",
       "0 days 07:40:00      1\n",
       "0 days 02:55:00      1\n",
       "0 days 00:30:00      1\n",
       "0 days 07:55:00      1\n",
       "0 days 02:25:00      1\n",
       "0 days 00:45:00      1\n",
       "0 days 04:30:00      1\n",
       "0 days 00:50:00      1\n",
       "0 days 05:50:00      1\n",
       "0 days 01:05:00      1\n",
       "0 days 03:40:00      1\n",
       "0 days 01:25:00      1\n",
       "0 days 01:35:00      1\n",
       "0 days 11:25:00      1\n",
       "0 days 06:55:00      1\n",
       "0 days 03:15:00      1\n",
       "Name: Time_diff, dtype: int64"
      ]
     },
     "execution_count": 412,
     "metadata": {},
     "output_type": "execute_result"
    }
   ],
   "source": [
    "GJ93gby['Time_diff'].value_counts()"
   ]
  },
  {
   "cell_type": "code",
   "execution_count": 400,
   "metadata": {},
   "outputs": [
    {
     "data": {
      "text/plain": [
       "Time_diff    959\n",
       "dtype: int64"
      ]
     },
     "execution_count": 400,
     "metadata": {},
     "output_type": "execute_result"
    }
   ],
   "source": [
    "GJ93gby.count()"
   ]
  },
  {
   "cell_type": "code",
   "execution_count": 397,
   "metadata": {},
   "outputs": [],
   "source": [
    "GJ93gby.to_excel(\"GJ93.xlsx\")"
   ]
  },
  {
   "cell_type": "code",
   "execution_count": 359,
   "metadata": {},
   "outputs": [],
   "source": [
    "GJ93stop_res =GJ93gby[GJ93gby['Time_diff'] >= '1:00:00']"
   ]
  },
  {
   "cell_type": "code",
   "execution_count": 413,
   "metadata": {},
   "outputs": [
    {
     "data": {
      "text/html": [
       "<div>\n",
       "<style scoped>\n",
       "    .dataframe tbody tr th:only-of-type {\n",
       "        vertical-align: middle;\n",
       "    }\n",
       "\n",
       "    .dataframe tbody tr th {\n",
       "        vertical-align: top;\n",
       "    }\n",
       "\n",
       "    .dataframe thead th {\n",
       "        text-align: right;\n",
       "    }\n",
       "</style>\n",
       "<table border=\"1\" class=\"dataframe\">\n",
       "  <thead>\n",
       "    <tr style=\"text-align: right;\">\n",
       "      <th></th>\n",
       "      <th>Time_diff</th>\n",
       "    </tr>\n",
       "    <tr>\n",
       "      <th>Lat,Lngt</th>\n",
       "      <th></th>\n",
       "    </tr>\n",
       "  </thead>\n",
       "  <tbody>\n",
       "    <tr>\n",
       "      <th>12.993878,80.012512</th>\n",
       "      <td>0 days 03:15:00</td>\n",
       "    </tr>\n",
       "    <tr>\n",
       "      <th>13.00429,79.990406</th>\n",
       "      <td>0 days 03:40:00</td>\n",
       "    </tr>\n",
       "    <tr>\n",
       "      <th>13.004315,79.990374</th>\n",
       "      <td>0 days 07:40:00</td>\n",
       "    </tr>\n",
       "    <tr>\n",
       "      <th>13.004329,79.990362</th>\n",
       "      <td>0 days 07:30:00</td>\n",
       "    </tr>\n",
       "    <tr>\n",
       "      <th>14.572178,76.440531</th>\n",
       "      <td>0 days 06:55:00</td>\n",
       "    </tr>\n",
       "    <tr>\n",
       "      <th>15.499821,76.267514</th>\n",
       "      <td>0 days 01:30:00</td>\n",
       "    </tr>\n",
       "    <tr>\n",
       "      <th>16.429733,75.907648</th>\n",
       "      <td>0 days 01:25:00</td>\n",
       "    </tr>\n",
       "    <tr>\n",
       "      <th>17.476622,75.855616</th>\n",
       "      <td>0 days 07:55:00</td>\n",
       "    </tr>\n",
       "    <tr>\n",
       "      <th>18.705057,75.037594</th>\n",
       "      <td>0 days 01:05:00</td>\n",
       "    </tr>\n",
       "    <tr>\n",
       "      <th>20.755903,74.721274</th>\n",
       "      <td>0 days 07:35:00</td>\n",
       "    </tr>\n",
       "    <tr>\n",
       "      <th>21.819916,75.18105</th>\n",
       "      <td>0 days 01:30:00</td>\n",
       "    </tr>\n",
       "    <tr>\n",
       "      <th>23.612387,76.539718</th>\n",
       "      <td>0 days 04:30:00</td>\n",
       "    </tr>\n",
       "    <tr>\n",
       "      <th>25.148689,77.606368</th>\n",
       "      <td>0 days 01:35:00</td>\n",
       "    </tr>\n",
       "    <tr>\n",
       "      <th>25.148849,77.606368</th>\n",
       "      <td>0 days 02:25:00</td>\n",
       "    </tr>\n",
       "    <tr>\n",
       "      <th>27.947184,77.347354</th>\n",
       "      <td>0 days 05:50:00</td>\n",
       "    </tr>\n",
       "    <tr>\n",
       "      <th>28.797516,76.614259</th>\n",
       "      <td>0 days 02:55:00</td>\n",
       "    </tr>\n",
       "    <tr>\n",
       "      <th>30.02458,76.884979</th>\n",
       "      <td>0 days 11:25:00</td>\n",
       "    </tr>\n",
       "  </tbody>\n",
       "</table>\n",
       "</div>"
      ],
      "text/plain": [
       "                          Time_diff\n",
       "Lat,Lngt                           \n",
       "12.993878,80.012512 0 days 03:15:00\n",
       "13.00429,79.990406  0 days 03:40:00\n",
       "13.004315,79.990374 0 days 07:40:00\n",
       "13.004329,79.990362 0 days 07:30:00\n",
       "14.572178,76.440531 0 days 06:55:00\n",
       "15.499821,76.267514 0 days 01:30:00\n",
       "16.429733,75.907648 0 days 01:25:00\n",
       "17.476622,75.855616 0 days 07:55:00\n",
       "18.705057,75.037594 0 days 01:05:00\n",
       "20.755903,74.721274 0 days 07:35:00\n",
       "21.819916,75.18105  0 days 01:30:00\n",
       "23.612387,76.539718 0 days 04:30:00\n",
       "25.148689,77.606368 0 days 01:35:00\n",
       "25.148849,77.606368 0 days 02:25:00\n",
       "27.947184,77.347354 0 days 05:50:00\n",
       "28.797516,76.614259 0 days 02:55:00\n",
       "30.02458,76.884979  0 days 11:25:00"
      ]
     },
     "execution_count": 413,
     "metadata": {},
     "output_type": "execute_result"
    }
   ],
   "source": [
    "GJ93stop_res"
   ]
  },
  {
   "cell_type": "code",
   "execution_count": null,
   "metadata": {},
   "outputs": [],
   "source": []
  },
  {
   "cell_type": "code",
   "execution_count": null,
   "metadata": {},
   "outputs": [],
   "source": []
  },
  {
   "cell_type": "code",
   "execution_count": null,
   "metadata": {},
   "outputs": [],
   "source": []
  },
  {
   "cell_type": "markdown",
   "metadata": {},
   "source": [
    "## stoppage time"
   ]
  },
  {
   "cell_type": "code",
   "execution_count": 106,
   "metadata": {},
   "outputs": [],
   "source": [
    "df_gj93=df_gj.groupby(['Latitude', 'Longitude']).agg({'end_dt':['min','max']})"
   ]
  },
  {
   "cell_type": "code",
   "execution_count": 107,
   "metadata": {},
   "outputs": [
    {
     "data": {
      "text/html": [
       "<div>\n",
       "<style scoped>\n",
       "    .dataframe tbody tr th:only-of-type {\n",
       "        vertical-align: middle;\n",
       "    }\n",
       "\n",
       "    .dataframe tbody tr th {\n",
       "        vertical-align: top;\n",
       "    }\n",
       "\n",
       "    .dataframe thead tr th {\n",
       "        text-align: left;\n",
       "    }\n",
       "\n",
       "    .dataframe thead tr:last-of-type th {\n",
       "        text-align: right;\n",
       "    }\n",
       "</style>\n",
       "<table border=\"1\" class=\"dataframe\">\n",
       "  <thead>\n",
       "    <tr>\n",
       "      <th></th>\n",
       "      <th></th>\n",
       "      <th colspan=\"2\" halign=\"left\">end_dt</th>\n",
       "    </tr>\n",
       "    <tr>\n",
       "      <th></th>\n",
       "      <th></th>\n",
       "      <th>min</th>\n",
       "      <th>max</th>\n",
       "    </tr>\n",
       "    <tr>\n",
       "      <th>Latitude</th>\n",
       "      <th>Longitude</th>\n",
       "      <th></th>\n",
       "      <th></th>\n",
       "    </tr>\n",
       "  </thead>\n",
       "  <tbody>\n",
       "    <tr>\n",
       "      <th>12.507226</th>\n",
       "      <th>78.222195</th>\n",
       "      <td>2021-10-02 16:50:00</td>\n",
       "      <td>2021-10-02 16:50:00</td>\n",
       "    </tr>\n",
       "    <tr>\n",
       "      <th>12.531898</th>\n",
       "      <th>78.205101</th>\n",
       "      <td>2021-10-02 16:55:00</td>\n",
       "      <td>2021-10-02 16:55:00</td>\n",
       "    </tr>\n",
       "    <tr>\n",
       "      <th>12.533019</th>\n",
       "      <th>78.245030</th>\n",
       "      <td>2021-10-02 16:45:00</td>\n",
       "      <td>2021-10-02 16:45:00</td>\n",
       "    </tr>\n",
       "    <tr>\n",
       "      <th>12.535596</th>\n",
       "      <th>78.386611</th>\n",
       "      <td>2021-10-02 16:25:00</td>\n",
       "      <td>2021-10-02 16:25:00</td>\n",
       "    </tr>\n",
       "    <tr>\n",
       "      <th>12.536052</th>\n",
       "      <th>78.280563</th>\n",
       "      <td>2021-10-02 16:40:00</td>\n",
       "      <td>2021-10-02 16:40:00</td>\n",
       "    </tr>\n",
       "    <tr>\n",
       "      <th>...</th>\n",
       "      <th>...</th>\n",
       "      <td>...</td>\n",
       "      <td>...</td>\n",
       "    </tr>\n",
       "    <tr>\n",
       "      <th>30.352991</th>\n",
       "      <th>76.805914</th>\n",
       "      <td>2021-10-08 06:35:00</td>\n",
       "      <td>2021-10-08 06:35:00</td>\n",
       "    </tr>\n",
       "    <tr>\n",
       "      <th>30.381958</th>\n",
       "      <th>76.790381</th>\n",
       "      <td>2021-10-08 06:45:00</td>\n",
       "      <td>2021-10-08 06:45:00</td>\n",
       "    </tr>\n",
       "    <tr>\n",
       "      <th>30.381962</th>\n",
       "      <th>76.790381</th>\n",
       "      <td>2021-10-08 06:50:00</td>\n",
       "      <td>2021-10-08 06:50:00</td>\n",
       "    </tr>\n",
       "    <tr>\n",
       "      <th>30.381981</th>\n",
       "      <th>76.790381</th>\n",
       "      <td>2021-10-08 06:55:00</td>\n",
       "      <td>2021-10-08 10:56:00</td>\n",
       "    </tr>\n",
       "    <tr>\n",
       "      <th>30.382160</th>\n",
       "      <th>76.789293</th>\n",
       "      <td>2021-10-08 06:40:00</td>\n",
       "      <td>2021-10-08 06:40:00</td>\n",
       "    </tr>\n",
       "  </tbody>\n",
       "</table>\n",
       "<p>962 rows × 2 columns</p>\n",
       "</div>"
      ],
      "text/plain": [
       "                                 end_dt                    \n",
       "                                    min                 max\n",
       "Latitude  Longitude                                        \n",
       "12.507226 78.222195 2021-10-02 16:50:00 2021-10-02 16:50:00\n",
       "12.531898 78.205101 2021-10-02 16:55:00 2021-10-02 16:55:00\n",
       "12.533019 78.245030 2021-10-02 16:45:00 2021-10-02 16:45:00\n",
       "12.535596 78.386611 2021-10-02 16:25:00 2021-10-02 16:25:00\n",
       "12.536052 78.280563 2021-10-02 16:40:00 2021-10-02 16:40:00\n",
       "...                                 ...                 ...\n",
       "30.352991 76.805914 2021-10-08 06:35:00 2021-10-08 06:35:00\n",
       "30.381958 76.790381 2021-10-08 06:45:00 2021-10-08 06:45:00\n",
       "30.381962 76.790381 2021-10-08 06:50:00 2021-10-08 06:50:00\n",
       "30.381981 76.790381 2021-10-08 06:55:00 2021-10-08 10:56:00\n",
       "30.382160 76.789293 2021-10-08 06:40:00 2021-10-08 06:40:00\n",
       "\n",
       "[962 rows x 2 columns]"
      ]
     },
     "execution_count": 107,
     "metadata": {},
     "output_type": "execute_result"
    }
   ],
   "source": [
    "df_gj93"
   ]
  },
  {
   "cell_type": "code",
   "execution_count": 109,
   "metadata": {},
   "outputs": [],
   "source": [
    "df_gj93.to_excel(\"gj93.xlsx\")"
   ]
  },
  {
   "cell_type": "code",
   "execution_count": 110,
   "metadata": {},
   "outputs": [],
   "source": [
    "df_gj93 = pd.read_excel(\"D:Sales Logistic Project\\\\gj93.xltm\")"
   ]
  },
  {
   "cell_type": "code",
   "execution_count": 111,
   "metadata": {},
   "outputs": [
    {
     "data": {
      "text/html": [
       "<div>\n",
       "<style scoped>\n",
       "    .dataframe tbody tr th:only-of-type {\n",
       "        vertical-align: middle;\n",
       "    }\n",
       "\n",
       "    .dataframe tbody tr th {\n",
       "        vertical-align: top;\n",
       "    }\n",
       "\n",
       "    .dataframe thead th {\n",
       "        text-align: right;\n",
       "    }\n",
       "</style>\n",
       "<table border=\"1\" class=\"dataframe\">\n",
       "  <thead>\n",
       "    <tr style=\"text-align: right;\">\n",
       "      <th></th>\n",
       "      <th>Latitude</th>\n",
       "      <th>Longitude</th>\n",
       "      <th>min</th>\n",
       "      <th>max</th>\n",
       "    </tr>\n",
       "  </thead>\n",
       "  <tbody>\n",
       "    <tr>\n",
       "      <th>0</th>\n",
       "      <td>12.507226</td>\n",
       "      <td>78.222195</td>\n",
       "      <td>2021-10-02 16:50:00</td>\n",
       "      <td>2021-10-02 16:50:00</td>\n",
       "    </tr>\n",
       "    <tr>\n",
       "      <th>1</th>\n",
       "      <td>12.531898</td>\n",
       "      <td>78.205101</td>\n",
       "      <td>2021-10-02 16:55:00</td>\n",
       "      <td>2021-10-02 16:55:00</td>\n",
       "    </tr>\n",
       "    <tr>\n",
       "      <th>2</th>\n",
       "      <td>12.533019</td>\n",
       "      <td>78.245030</td>\n",
       "      <td>2021-10-02 16:45:00</td>\n",
       "      <td>2021-10-02 16:45:00</td>\n",
       "    </tr>\n",
       "    <tr>\n",
       "      <th>3</th>\n",
       "      <td>12.535596</td>\n",
       "      <td>78.386611</td>\n",
       "      <td>2021-10-02 16:25:00</td>\n",
       "      <td>2021-10-02 16:25:00</td>\n",
       "    </tr>\n",
       "    <tr>\n",
       "      <th>4</th>\n",
       "      <td>12.536052</td>\n",
       "      <td>78.280563</td>\n",
       "      <td>2021-10-02 16:40:00</td>\n",
       "      <td>2021-10-02 16:40:00</td>\n",
       "    </tr>\n",
       "    <tr>\n",
       "      <th>...</th>\n",
       "      <td>...</td>\n",
       "      <td>...</td>\n",
       "      <td>...</td>\n",
       "      <td>...</td>\n",
       "    </tr>\n",
       "    <tr>\n",
       "      <th>957</th>\n",
       "      <td>30.352991</td>\n",
       "      <td>76.805914</td>\n",
       "      <td>2021-10-08 06:35:00</td>\n",
       "      <td>2021-10-08 06:35:00</td>\n",
       "    </tr>\n",
       "    <tr>\n",
       "      <th>958</th>\n",
       "      <td>30.381958</td>\n",
       "      <td>76.790381</td>\n",
       "      <td>2021-10-08 06:45:00</td>\n",
       "      <td>2021-10-08 06:45:00</td>\n",
       "    </tr>\n",
       "    <tr>\n",
       "      <th>959</th>\n",
       "      <td>30.381962</td>\n",
       "      <td>76.790381</td>\n",
       "      <td>2021-10-08 06:50:00</td>\n",
       "      <td>2021-10-08 06:50:00</td>\n",
       "    </tr>\n",
       "    <tr>\n",
       "      <th>960</th>\n",
       "      <td>30.381981</td>\n",
       "      <td>76.790381</td>\n",
       "      <td>2021-10-08 06:55:00</td>\n",
       "      <td>2021-10-08 10:56:00</td>\n",
       "    </tr>\n",
       "    <tr>\n",
       "      <th>961</th>\n",
       "      <td>30.382160</td>\n",
       "      <td>76.789293</td>\n",
       "      <td>2021-10-08 06:40:00</td>\n",
       "      <td>2021-10-08 06:40:00</td>\n",
       "    </tr>\n",
       "  </tbody>\n",
       "</table>\n",
       "<p>962 rows × 4 columns</p>\n",
       "</div>"
      ],
      "text/plain": [
       "      Latitude  Longitude                 min                 max\n",
       "0    12.507226  78.222195 2021-10-02 16:50:00 2021-10-02 16:50:00\n",
       "1    12.531898  78.205101 2021-10-02 16:55:00 2021-10-02 16:55:00\n",
       "2    12.533019  78.245030 2021-10-02 16:45:00 2021-10-02 16:45:00\n",
       "3    12.535596  78.386611 2021-10-02 16:25:00 2021-10-02 16:25:00\n",
       "4    12.536052  78.280563 2021-10-02 16:40:00 2021-10-02 16:40:00\n",
       "..         ...        ...                 ...                 ...\n",
       "957  30.352991  76.805914 2021-10-08 06:35:00 2021-10-08 06:35:00\n",
       "958  30.381958  76.790381 2021-10-08 06:45:00 2021-10-08 06:45:00\n",
       "959  30.381962  76.790381 2021-10-08 06:50:00 2021-10-08 06:50:00\n",
       "960  30.381981  76.790381 2021-10-08 06:55:00 2021-10-08 10:56:00\n",
       "961  30.382160  76.789293 2021-10-08 06:40:00 2021-10-08 06:40:00\n",
       "\n",
       "[962 rows x 4 columns]"
      ]
     },
     "execution_count": 111,
     "metadata": {},
     "output_type": "execute_result"
    }
   ],
   "source": [
    "df_gj93"
   ]
  },
  {
   "cell_type": "code",
   "execution_count": 204,
   "metadata": {},
   "outputs": [
    {
     "data": {
      "text/plain": [
       "962"
      ]
     },
     "execution_count": 204,
     "metadata": {},
     "output_type": "execute_result"
    }
   ],
   "source": [
    "df_gj93['diff'].count()"
   ]
  },
  {
   "cell_type": "code",
   "execution_count": 112,
   "metadata": {},
   "outputs": [],
   "source": [
    "df_gj93['max']=pd.to_datetime(df_gj93['max'])"
   ]
  },
  {
   "cell_type": "code",
   "execution_count": 113,
   "metadata": {},
   "outputs": [],
   "source": [
    "df_gj93['min']=pd.to_datetime(df_gj93['min'])"
   ]
  },
  {
   "cell_type": "code",
   "execution_count": 114,
   "metadata": {},
   "outputs": [],
   "source": [
    "df_gj93['diff']=df_gj93['max']-df_gj93['min']"
   ]
  },
  {
   "cell_type": "code",
   "execution_count": 115,
   "metadata": {},
   "outputs": [
    {
     "data": {
      "text/html": [
       "<div>\n",
       "<style scoped>\n",
       "    .dataframe tbody tr th:only-of-type {\n",
       "        vertical-align: middle;\n",
       "    }\n",
       "\n",
       "    .dataframe tbody tr th {\n",
       "        vertical-align: top;\n",
       "    }\n",
       "\n",
       "    .dataframe thead th {\n",
       "        text-align: right;\n",
       "    }\n",
       "</style>\n",
       "<table border=\"1\" class=\"dataframe\">\n",
       "  <thead>\n",
       "    <tr style=\"text-align: right;\">\n",
       "      <th></th>\n",
       "      <th>Latitude</th>\n",
       "      <th>Longitude</th>\n",
       "      <th>min</th>\n",
       "      <th>max</th>\n",
       "      <th>diff</th>\n",
       "    </tr>\n",
       "  </thead>\n",
       "  <tbody>\n",
       "    <tr>\n",
       "      <th>0</th>\n",
       "      <td>12.507226</td>\n",
       "      <td>78.222195</td>\n",
       "      <td>2021-10-02 16:50:00</td>\n",
       "      <td>2021-10-02 16:50:00</td>\n",
       "      <td>0 days 00:00:00</td>\n",
       "    </tr>\n",
       "    <tr>\n",
       "      <th>1</th>\n",
       "      <td>12.531898</td>\n",
       "      <td>78.205101</td>\n",
       "      <td>2021-10-02 16:55:00</td>\n",
       "      <td>2021-10-02 16:55:00</td>\n",
       "      <td>0 days 00:00:00</td>\n",
       "    </tr>\n",
       "    <tr>\n",
       "      <th>2</th>\n",
       "      <td>12.533019</td>\n",
       "      <td>78.245030</td>\n",
       "      <td>2021-10-02 16:45:00</td>\n",
       "      <td>2021-10-02 16:45:00</td>\n",
       "      <td>0 days 00:00:00</td>\n",
       "    </tr>\n",
       "    <tr>\n",
       "      <th>3</th>\n",
       "      <td>12.535596</td>\n",
       "      <td>78.386611</td>\n",
       "      <td>2021-10-02 16:25:00</td>\n",
       "      <td>2021-10-02 16:25:00</td>\n",
       "      <td>0 days 00:00:00</td>\n",
       "    </tr>\n",
       "    <tr>\n",
       "      <th>4</th>\n",
       "      <td>12.536052</td>\n",
       "      <td>78.280563</td>\n",
       "      <td>2021-10-02 16:40:00</td>\n",
       "      <td>2021-10-02 16:40:00</td>\n",
       "      <td>0 days 00:00:00</td>\n",
       "    </tr>\n",
       "    <tr>\n",
       "      <th>...</th>\n",
       "      <td>...</td>\n",
       "      <td>...</td>\n",
       "      <td>...</td>\n",
       "      <td>...</td>\n",
       "      <td>...</td>\n",
       "    </tr>\n",
       "    <tr>\n",
       "      <th>957</th>\n",
       "      <td>30.352991</td>\n",
       "      <td>76.805914</td>\n",
       "      <td>2021-10-08 06:35:00</td>\n",
       "      <td>2021-10-08 06:35:00</td>\n",
       "      <td>0 days 00:00:00</td>\n",
       "    </tr>\n",
       "    <tr>\n",
       "      <th>958</th>\n",
       "      <td>30.381958</td>\n",
       "      <td>76.790381</td>\n",
       "      <td>2021-10-08 06:45:00</td>\n",
       "      <td>2021-10-08 06:45:00</td>\n",
       "      <td>0 days 00:00:00</td>\n",
       "    </tr>\n",
       "    <tr>\n",
       "      <th>959</th>\n",
       "      <td>30.381962</td>\n",
       "      <td>76.790381</td>\n",
       "      <td>2021-10-08 06:50:00</td>\n",
       "      <td>2021-10-08 06:50:00</td>\n",
       "      <td>0 days 00:00:00</td>\n",
       "    </tr>\n",
       "    <tr>\n",
       "      <th>960</th>\n",
       "      <td>30.381981</td>\n",
       "      <td>76.790381</td>\n",
       "      <td>2021-10-08 06:55:00</td>\n",
       "      <td>2021-10-08 10:56:00</td>\n",
       "      <td>0 days 04:01:00</td>\n",
       "    </tr>\n",
       "    <tr>\n",
       "      <th>961</th>\n",
       "      <td>30.382160</td>\n",
       "      <td>76.789293</td>\n",
       "      <td>2021-10-08 06:40:00</td>\n",
       "      <td>2021-10-08 06:40:00</td>\n",
       "      <td>0 days 00:00:00</td>\n",
       "    </tr>\n",
       "  </tbody>\n",
       "</table>\n",
       "<p>962 rows × 5 columns</p>\n",
       "</div>"
      ],
      "text/plain": [
       "      Latitude  Longitude                 min                 max  \\\n",
       "0    12.507226  78.222195 2021-10-02 16:50:00 2021-10-02 16:50:00   \n",
       "1    12.531898  78.205101 2021-10-02 16:55:00 2021-10-02 16:55:00   \n",
       "2    12.533019  78.245030 2021-10-02 16:45:00 2021-10-02 16:45:00   \n",
       "3    12.535596  78.386611 2021-10-02 16:25:00 2021-10-02 16:25:00   \n",
       "4    12.536052  78.280563 2021-10-02 16:40:00 2021-10-02 16:40:00   \n",
       "..         ...        ...                 ...                 ...   \n",
       "957  30.352991  76.805914 2021-10-08 06:35:00 2021-10-08 06:35:00   \n",
       "958  30.381958  76.790381 2021-10-08 06:45:00 2021-10-08 06:45:00   \n",
       "959  30.381962  76.790381 2021-10-08 06:50:00 2021-10-08 06:50:00   \n",
       "960  30.381981  76.790381 2021-10-08 06:55:00 2021-10-08 10:56:00   \n",
       "961  30.382160  76.789293 2021-10-08 06:40:00 2021-10-08 06:40:00   \n",
       "\n",
       "               diff  \n",
       "0   0 days 00:00:00  \n",
       "1   0 days 00:00:00  \n",
       "2   0 days 00:00:00  \n",
       "3   0 days 00:00:00  \n",
       "4   0 days 00:00:00  \n",
       "..              ...  \n",
       "957 0 days 00:00:00  \n",
       "958 0 days 00:00:00  \n",
       "959 0 days 00:00:00  \n",
       "960 0 days 04:01:00  \n",
       "961 0 days 00:00:00  \n",
       "\n",
       "[962 rows x 5 columns]"
      ]
     },
     "execution_count": 115,
     "metadata": {},
     "output_type": "execute_result"
    }
   ],
   "source": [
    "df_gj93"
   ]
  },
  {
   "cell_type": "code",
   "execution_count": 207,
   "metadata": {},
   "outputs": [],
   "source": [
    "stoppage_93 = df_gj93[df_gj93['diff'] >= '1:00:00']"
   ]
  },
  {
   "cell_type": "code",
   "execution_count": 208,
   "metadata": {},
   "outputs": [
    {
     "data": {
      "text/plain": [
       "18"
      ]
     },
     "execution_count": 208,
     "metadata": {},
     "output_type": "execute_result"
    }
   ],
   "source": [
    "stoppage_93['diff'].count()"
   ]
  },
  {
   "cell_type": "code",
   "execution_count": 120,
   "metadata": {},
   "outputs": [
    {
     "name": "stdout",
     "output_type": "stream",
     "text": [
      "Mean : 0 days 04:31:10\n",
      "Median : 0 days 03:48:00\n",
      "Max : 0 days 11:20:00\n",
      "Min : 0 days 01:00:00\n",
      "Sum : 3 days 09:21:00\n"
     ]
    }
   ],
   "source": [
    "print(\"Mean :\",stoppage_93['diff'].mean())\n",
    "print(\"Median :\",stoppage_93['diff'].median())\n",
    "print(\"Max :\",stoppage_93['diff'].max())\n",
    "print(\"Min :\",stoppage_93['diff'].min())\n",
    "print(\"Sum :\",stoppage_93['diff'].sum())"
   ]
  },
  {
   "cell_type": "code",
   "execution_count": 354,
   "metadata": {},
   "outputs": [],
   "source": [
    "#api "
   ]
  },
  {
   "cell_type": "code",
   "execution_count": null,
   "metadata": {},
   "outputs": [],
   "source": [
    "dealer_lat = 30.384662\n",
    "dealer_long = 76.786064"
   ]
  },
  {
   "cell_type": "code",
   "execution_count": null,
   "metadata": {},
   "outputs": [],
   "source": []
  },
  {
   "cell_type": "code",
   "execution_count": null,
   "metadata": {},
   "outputs": [],
   "source": []
  },
  {
   "cell_type": "code",
   "execution_count": null,
   "metadata": {},
   "outputs": [],
   "source": [
    "80 - 100\n",
    "\n",
    "13.004329,79.990362\n",
    "13.004315,79.990374\n"
   ]
  },
  {
   "cell_type": "code",
   "execution_count": null,
   "metadata": {},
   "outputs": [],
   "source": []
  },
  {
   "cell_type": "code",
   "execution_count": null,
   "metadata": {},
   "outputs": [],
   "source": []
  },
  {
   "cell_type": "code",
   "execution_count": 357,
   "metadata": {},
   "outputs": [],
   "source": [
    "import requests\n",
    "import json"
   ]
  },
  {
   "cell_type": "code",
   "execution_count": 358,
   "metadata": {},
   "outputs": [
    {
     "data": {
      "text/plain": [
       "{'Server': 'ETA-5111',\n",
       " 'version': '202110.19.5222',\n",
       " 'results': {'distances': [[0, 1.7, 2201825.2]],\n",
       "  'code': 'Ok',\n",
       "  'durations': [[0, 1.2, 182091.2]]},\n",
       " 'responseCode': 200}"
      ]
     },
     "execution_count": 358,
     "metadata": {},
     "output_type": "execute_result"
    }
   ],
   "source": [
    "\n",
    "url_three = f\"\"\"https://apis.mapmyindia.com/advancedmaps/v1/95846a48eeef5b6c17863d2367c75349/distance_matrix/trucking/79.990362,13.004329;79.990374,13.004315;17ZUL7?rtype=1&region=ind\"\"\"\n",
    "r3 = requests.get(url_three)\n",
    "result3= json.loads(r3.content)\n",
    "result3"
   ]
  },
  {
   "cell_type": "code",
   "execution_count": null,
   "metadata": {},
   "outputs": [],
   "source": [
    "# web 1.7 mts"
   ]
  },
  {
   "cell_type": "code",
   "execution_count": null,
   "metadata": {},
   "outputs": [],
   "source": [
    "180 -200 \n",
    "13.004315,79.990374\n",
    "12.993878,80.012512\n"
   ]
  },
  {
   "cell_type": "code",
   "execution_count": 359,
   "metadata": {},
   "outputs": [
    {
     "data": {
      "text/plain": [
       "{'Server': 'Adv-5800',\n",
       " 'version': '202110.19.5222',\n",
       " 'results': {'distances': [[0, 4384, 2198609]],\n",
       "  'code': 'Ok',\n",
       "  'durations': [[0, 1010.8, 146680.5]]},\n",
       " 'responseCode': 200}"
      ]
     },
     "execution_count": 359,
     "metadata": {},
     "output_type": "execute_result"
    }
   ],
   "source": [
    "url_three = f\"\"\"https://apis.mapmyindia.com/advancedmaps/v1/95846a48eeef5b6c17863d2367c75349/distance_matrix/trucking/79.990374,13.004315;80.012512,12.993878;17ZUL7?rtype=1&region=ind\"\"\"\n",
    "r3 = requests.get(url_three)\n",
    "result3= json.loads(r3.content)\n",
    "result3"
   ]
  },
  {
   "cell_type": "code",
   "execution_count": null,
   "metadata": {},
   "outputs": [],
   "source": [
    "web - Via Bangalore High Road, NH 48\n",
    "Click to see turn-by-turn guidanceFastest\n",
    "6.30 km\n",
    "16 min\n",
    "Via Bangalore High Road, Hyundai Plant Main Road\n",
    "Click to see turn-by-turn guidance\n",
    "5.00 km\n",
    "20 min"
   ]
  },
  {
   "cell_type": "code",
   "execution_count": null,
   "metadata": {},
   "outputs": [],
   "source": [
    "220 - 240 \n",
    "12.993878,80.012512\n",
    "13.000614,79.991309\n"
   ]
  },
  {
   "cell_type": "code",
   "execution_count": 360,
   "metadata": {},
   "outputs": [
    {
     "data": {
      "text/plain": [
       "{'Server': 'ETA-5111',\n",
       " 'version': '202110.19.5222',\n",
       " 'results': {'distances': [[0, 4192.2, 2204700.2]],\n",
       "  'code': 'Ok',\n",
       "  'durations': [[0, 700.8, 183927.6]]},\n",
       " 'responseCode': 200}"
      ]
     },
     "execution_count": 360,
     "metadata": {},
     "output_type": "execute_result"
    }
   ],
   "source": [
    "url_three = f\"\"\"https://apis.mapmyindia.com/advancedmaps/v1/95846a48eeef5b6c17863d2367c75349/distance_matrix/trucking/80.012512,12.993878;79.991309,13.000614;17ZUL7?rtype=1&region=ind\"\"\"\n",
    "r3 = requests.get(url_three)\n",
    "result3= json.loads(r3.content)\n",
    "result3"
   ]
  },
  {
   "cell_type": "code",
   "execution_count": null,
   "metadata": {},
   "outputs": [],
   "source": [
    "# web 4.20 km "
   ]
  },
  {
   "cell_type": "code",
   "execution_count": null,
   "metadata": {},
   "outputs": [],
   "source": [
    "240 - 260 \n",
    "\n",
    "13.000614,79.991309\n",
    "13.00429,79.990406\n"
   ]
  },
  {
   "cell_type": "code",
   "execution_count": 361,
   "metadata": {},
   "outputs": [
    {
     "data": {
      "text/plain": [
       "{'Server': 'ETA-5111',\n",
       " 'version': '202110.19.5222',\n",
       " 'results': {'distances': [[0, 592.2, 2201819]],\n",
       "  'code': 'Ok',\n",
       "  'durations': [[0, 228.2, 182657.9]]},\n",
       " 'responseCode': 200}"
      ]
     },
     "execution_count": 361,
     "metadata": {},
     "output_type": "execute_result"
    }
   ],
   "source": [
    "url_three = f\"\"\"https://apis.mapmyindia.com/advancedmaps/v1/95846a48eeef5b6c17863d2367c75349/distance_matrix/trucking/79.991309,13.000614;79.990406,13.00429;17ZUL7?rtype=1&region=ind\"\"\"\n",
    "r3 = requests.get(url_three)\n",
    "result3= json.loads(r3.content)\n",
    "result3"
   ]
  },
  {
   "cell_type": "code",
   "execution_count": null,
   "metadata": {},
   "outputs": [],
   "source": [
    "# web 593 mts"
   ]
  },
  {
   "cell_type": "code",
   "execution_count": null,
   "metadata": {},
   "outputs": [],
   "source": [
    "280 - 300 "
   ]
  },
  {
   "cell_type": "code",
   "execution_count": null,
   "metadata": {},
   "outputs": [],
   "source": [
    "13.00429,79.990406\n",
    "12.904449,79.822707\n"
   ]
  },
  {
   "cell_type": "code",
   "execution_count": 362,
   "metadata": {},
   "outputs": [
    {
     "data": {
      "text/plain": [
       "{'Server': 'ETA-5111',\n",
       " 'version': '202110.19.5222',\n",
       " 'results': {'distances': [[0, 23731.9, 2201819.6]],\n",
       "  'code': 'Ok',\n",
       "  'durations': [[0, 2969.6, 182809.5]]},\n",
       " 'responseCode': 200}"
      ]
     },
     "execution_count": 362,
     "metadata": {},
     "output_type": "execute_result"
    }
   ],
   "source": [
    "url_three = f\"\"\"https://apis.mapmyindia.com/advancedmaps/v1/95846a48eeef5b6c17863d2367c75349/distance_matrix/trucking/79.990406,13.00429;79.822707,12.904449;17ZUL7?rtype=1&region=ind\"\"\"\n",
    "r3 = requests.get(url_three)\n",
    "result3= json.loads(r3.content)\n",
    "result3"
   ]
  },
  {
   "cell_type": "code",
   "execution_count": null,
   "metadata": {},
   "outputs": [],
   "source": [
    "# web 23.8"
   ]
  },
  {
   "cell_type": "code",
   "execution_count": null,
   "metadata": {},
   "outputs": [],
   "source": [
    "300 - 320\n",
    "12.904449,79.822707\n",
    "12.871251,79.64023\n"
   ]
  },
  {
   "cell_type": "code",
   "execution_count": 363,
   "metadata": {},
   "outputs": [
    {
     "data": {
      "text/plain": [
       "{'Server': 'Adv-5400',\n",
       " 'version': '202110.19.5222',\n",
       " 'results': {'distances': [[0, 25569.8, 2221862.4]],\n",
       "  'code': 'Ok',\n",
       "  'durations': [[0, 1871.5, 148180.9]]},\n",
       " 'responseCode': 200}"
      ]
     },
     "execution_count": 363,
     "metadata": {},
     "output_type": "execute_result"
    }
   ],
   "source": [
    "url_three = f\"\"\"https://apis.mapmyindia.com/advancedmaps/v1/95846a48eeef5b6c17863d2367c75349/distance_matrix/trucking/79.822707,12.904449;79.64023,12.871251;17ZUL7?rtype=1&region=ind\"\"\"\n",
    "r3 = requests.get(url_three)\n",
    "result3= json.loads(r3.content)\n",
    "result3"
   ]
  },
  {
   "cell_type": "code",
   "execution_count": null,
   "metadata": {},
   "outputs": [],
   "source": [
    "# web 25.6 km "
   ]
  },
  {
   "cell_type": "code",
   "execution_count": null,
   "metadata": {},
   "outputs": [],
   "source": [
    "320 -340\n",
    "\n",
    "12.871251,79.64023\n",
    "12.91311,79.018688"
   ]
  },
  {
   "cell_type": "code",
   "execution_count": null,
   "metadata": {},
   "outputs": [],
   "source": []
  },
  {
   "cell_type": "code",
   "execution_count": 364,
   "metadata": {},
   "outputs": [
    {
     "data": {
      "text/plain": [
       "{'Server': 'Adv-5800',\n",
       " 'version': '202110.19.5222',\n",
       " 'results': {'distances': [[0, 72070.4, 2241795.6]],\n",
       "  'code': 'Ok',\n",
       "  'durations': [[0, 5191.8, 149580.5]]},\n",
       " 'responseCode': 200}"
      ]
     },
     "execution_count": 364,
     "metadata": {},
     "output_type": "execute_result"
    }
   ],
   "source": [
    "\n",
    "\n",
    "url_three = f\"\"\"https://apis.mapmyindia.com/advancedmaps/v1/95846a48eeef5b6c17863d2367c75349/distance_matrix/trucking/79.64023,12.871251;79.018688,12.91311;17ZUL7?rtype=1&region=ind\"\"\"\n",
    "r3 = requests.get(url_three)\n",
    "result3= json.loads(r3.content)\n",
    "result3\n"
   ]
  },
  {
   "cell_type": "code",
   "execution_count": null,
   "metadata": {},
   "outputs": [],
   "source": [
    "# web 72."
   ]
  },
  {
   "cell_type": "code",
   "execution_count": null,
   "metadata": {},
   "outputs": [],
   "source": [
    "340 - 360 \n",
    "\n",
    "12.55527,78.456557\n",
    "12.719202,77.871046\n"
   ]
  },
  {
   "cell_type": "code",
   "execution_count": 365,
   "metadata": {},
   "outputs": [
    {
     "data": {
      "text/plain": [
       "{'Server': 'Adv-5800',\n",
       " 'version': '202110.19.5222',\n",
       " 'results': {'distances': [[0, 76183.9, 2263143.8]],\n",
       "  'code': 'Ok',\n",
       "  'durations': [[0, 5344.6, 147990.9]]},\n",
       " 'responseCode': 200}"
      ]
     },
     "execution_count": 365,
     "metadata": {},
     "output_type": "execute_result"
    }
   ],
   "source": [
    "url_three = f\"\"\"https://apis.mapmyindia.com/advancedmaps/v1/95846a48eeef5b6c17863d2367c75349/distance_matrix/trucking/78.456557,12.55527;77.871046,12.719202;17ZUL7?rtype=1&region=ind\"\"\"\n",
    "r3 = requests.get(url_three)\n",
    "result3= json.loads(r3.content)\n",
    "result3"
   ]
  },
  {
   "cell_type": "code",
   "execution_count": null,
   "metadata": {},
   "outputs": [],
   "source": [
    "# web 76.2"
   ]
  },
  {
   "cell_type": "code",
   "execution_count": null,
   "metadata": {},
   "outputs": [],
   "source": [
    "400 - 420\n",
    "\n",
    "12.995796,77.473485\n",
    "13.133592,77.356038\n",
    "\n"
   ]
  },
  {
   "cell_type": "code",
   "execution_count": 366,
   "metadata": {},
   "outputs": [
    {
     "data": {
      "text/plain": [
       "{'Server': 'Adv-5800',\n",
       " 'version': '202110.19.5222',\n",
       " 'results': {'distances': [[0, 22762.8, 2159229.6]],\n",
       "  'code': 'Ok',\n",
       "  'durations': [[0, 1529.1, 139769.7]]},\n",
       " 'responseCode': 200}"
      ]
     },
     "execution_count": 366,
     "metadata": {},
     "output_type": "execute_result"
    }
   ],
   "source": [
    "url_three = f\"\"\"https://apis.mapmyindia.com/advancedmaps/v1/95846a48eeef5b6c17863d2367c75349/distance_matrix/trucking/77.473485,12.995796;77.356038,13.133592;17ZUL7?rtype=1&region=ind\"\"\"\n",
    "r3 = requests.get(url_three)\n",
    "result3= json.loads(r3.content)\n",
    "result3"
   ]
  },
  {
   "cell_type": "code",
   "execution_count": null,
   "metadata": {},
   "outputs": [],
   "source": [
    "web 22.8"
   ]
  },
  {
   "cell_type": "code",
   "execution_count": null,
   "metadata": {},
   "outputs": [],
   "source": [
    "420 - 440 \n",
    "\n",
    "13.133592,77.356038\n",
    "13.288945,77.180826\n"
   ]
  },
  {
   "cell_type": "code",
   "execution_count": 367,
   "metadata": {},
   "outputs": [
    {
     "data": {
      "text/plain": [
       "{'Server': 'ETA-5111',\n",
       " 'version': '202110.19.5222',\n",
       " 'results': {'distances': [[0, 25966.3, 2165830.2]],\n",
       "  'code': 'Ok',\n",
       "  'durations': [[0, 2329.3, 178721.1]]},\n",
       " 'responseCode': 200}"
      ]
     },
     "execution_count": 367,
     "metadata": {},
     "output_type": "execute_result"
    }
   ],
   "source": [
    "url_three = f\"\"\"https://apis.mapmyindia.com/advancedmaps/v1/95846a48eeef5b6c17863d2367c75349/distance_matrix/trucking/77.356038,13.133592;77.180826,13.288945;17ZUL7?rtype=1&region=ind\"\"\"\n",
    "r3 = requests.get(url_three)\n",
    "result3= json.loads(r3.content)\n",
    "result3"
   ]
  },
  {
   "cell_type": "code",
   "execution_count": null,
   "metadata": {},
   "outputs": [],
   "source": [
    "26 km "
   ]
  },
  {
   "cell_type": "code",
   "execution_count": null,
   "metadata": {},
   "outputs": [],
   "source": [
    "440 - 460\n",
    "13.288945,77.180826\n",
    "13.818427,76.780288\n"
   ]
  },
  {
   "cell_type": "code",
   "execution_count": 368,
   "metadata": {},
   "outputs": [
    {
     "data": {
      "text/plain": [
       "{'Server': 'ETA-5111',\n",
       " 'version': '202110.19.5222',\n",
       " 'results': {'distances': [[0, 76144.5, 2174065]],\n",
       "  'code': 'Ok',\n",
       "  'durations': [[0, 6377.2, 179205.8]]},\n",
       " 'responseCode': 200}"
      ]
     },
     "execution_count": 368,
     "metadata": {},
     "output_type": "execute_result"
    }
   ],
   "source": [
    "url_three = f\"\"\"https://apis.mapmyindia.com/advancedmaps/v1/95846a48eeef5b6c17863d2367c75349/distance_matrix/trucking/77.180826,13.288945;76.780288,13.818427;17ZUL7?rtype=1&region=ind\"\"\"\n",
    "r3 = requests.get(url_three)\n",
    "result3= json.loads(r3.content)\n",
    "result3"
   ]
  },
  {
   "cell_type": "code",
   "execution_count": null,
   "metadata": {},
   "outputs": [],
   "source": [
    "76.4\n"
   ]
  },
  {
   "cell_type": "code",
   "execution_count": null,
   "metadata": {},
   "outputs": [],
   "source": [
    "460 - 480 \n",
    "\n",
    "13.818427,76.780288\n",
    "14.245149,76.431053\n"
   ]
  },
  {
   "cell_type": "code",
   "execution_count": 369,
   "metadata": {},
   "outputs": [
    {
     "data": {
      "text/plain": [
       "{'Server': 'ETA-5111',\n",
       " 'version': '202110.19.5222',\n",
       " 'results': {'distances': [[0, 63506.2, 2118051.6]],\n",
       "  'code': 'Ok',\n",
       "  'durations': [[0, 5042.9, 177555.6]]},\n",
       " 'responseCode': 200}"
      ]
     },
     "execution_count": 369,
     "metadata": {},
     "output_type": "execute_result"
    }
   ],
   "source": [
    "url_three = f\"\"\"https://apis.mapmyindia.com/advancedmaps/v1/95846a48eeef5b6c17863d2367c75349/distance_matrix/trucking/76.780288,13.818427;76.431053,14.245149;17ZUL7?rtype=1&region=ind\"\"\"\n",
    "r3 = requests.get(url_three)\n",
    "result3= json.loads(r3.content)\n",
    "result3"
   ]
  },
  {
   "cell_type": "code",
   "execution_count": null,
   "metadata": {},
   "outputs": [],
   "source": [
    "63.7"
   ]
  },
  {
   "cell_type": "code",
   "execution_count": null,
   "metadata": {},
   "outputs": [],
   "source": [
    "480 - 500 \n",
    "\n",
    "14.245149,76.431053\n",
    "14.572178,76.440531\n"
   ]
  },
  {
   "cell_type": "code",
   "execution_count": 370,
   "metadata": {},
   "outputs": [
    {
     "data": {
      "text/plain": [
       "{'Server': 'Adv-5800',\n",
       " 'version': '202110.19.5222',\n",
       " 'results': {'distances': [[0, 44596.7, 2070535]],\n",
       "  'code': 'Ok',\n",
       "  'durations': [[0, 4482.9, 139447.3]]},\n",
       " 'responseCode': 200}"
      ]
     },
     "execution_count": 370,
     "metadata": {},
     "output_type": "execute_result"
    }
   ],
   "source": [
    "url_three = f\"\"\"https://apis.mapmyindia.com/advancedmaps/v1/95846a48eeef5b6c17863d2367c75349/distance_matrix/trucking/76.431053,14.245149;76.440531,14.572178;17ZUL7?rtype=1&region=ind\"\"\"\n",
    "r3 = requests.get(url_three)\n",
    "result3= json.loads(r3.content)\n",
    "result3"
   ]
  },
  {
   "cell_type": "code",
   "execution_count": null,
   "metadata": {},
   "outputs": [],
   "source": [
    "web - 41.1"
   ]
  },
  {
   "cell_type": "code",
   "execution_count": null,
   "metadata": {},
   "outputs": [],
   "source": [
    "# 560 -580 \n",
    "\n",
    "14.572178,76.440531\n",
    "14.820269,76.430528\n"
   ]
  },
  {
   "cell_type": "code",
   "execution_count": 371,
   "metadata": {},
   "outputs": [
    {
     "data": {
      "text/plain": [
       "{'Server': 'ETA-5111',\n",
       " 'version': '202110.19.5222',\n",
       " 'results': {'distances': [[0, 28843.8, 2048208.2]],\n",
       "  'code': 'Ok',\n",
       "  'durations': [[0, 2610.2, 169823.4]]},\n",
       " 'responseCode': 200}"
      ]
     },
     "execution_count": 371,
     "metadata": {},
     "output_type": "execute_result"
    }
   ],
   "source": [
    "url_three = f\"\"\"https://apis.mapmyindia.com/advancedmaps/v1/95846a48eeef5b6c17863d2367c75349/distance_matrix/trucking/76.440531,14.572178;76.430528,14.820269;17ZUL7?rtype=1&region=ind\"\"\"\n",
    "r3 = requests.get(url_three)\n",
    "result3= json.loads(r3.content)\n",
    "result3"
   ]
  },
  {
   "cell_type": "code",
   "execution_count": 372,
   "metadata": {},
   "outputs": [
    {
     "data": {
      "text/plain": [
       "29"
      ]
     },
     "execution_count": 372,
     "metadata": {},
     "output_type": "execute_result"
    }
   ],
   "source": [
    "29 \n"
   ]
  },
  {
   "cell_type": "code",
   "execution_count": null,
   "metadata": {},
   "outputs": [],
   "source": [
    "580 - 600 \n",
    "\n",
    "14.820269,76.430528\n",
    "15.363658,76.314266\n"
   ]
  },
  {
   "cell_type": "code",
   "execution_count": 373,
   "metadata": {},
   "outputs": [
    {
     "data": {
      "text/plain": [
       "{'Server': 'ETA-5111',\n",
       " 'version': '202110.19.5222',\n",
       " 'results': {'distances': [[0, 69143.6, 2016438.4]],\n",
       "  'code': 'Ok',\n",
       "  'durations': [[0, 6586.3, 167078.8]]},\n",
       " 'responseCode': 200}"
      ]
     },
     "execution_count": 373,
     "metadata": {},
     "output_type": "execute_result"
    }
   ],
   "source": [
    "url_three = f\"\"\"https://apis.mapmyindia.com/advancedmaps/v1/95846a48eeef5b6c17863d2367c75349/distance_matrix/trucking/76.430528,14.820269;76.314266,15.363658;17ZUL7?rtype=1&region=ind\"\"\"\n",
    "r3 = requests.get(url_three)\n",
    "result3= json.loads(r3.content)\n",
    "result3"
   ]
  },
  {
   "cell_type": "code",
   "execution_count": null,
   "metadata": {},
   "outputs": [],
   "source": [
    "69.4"
   ]
  },
  {
   "cell_type": "code",
   "execution_count": null,
   "metadata": {},
   "outputs": [],
   "source": [
    "600 - 620 \n",
    "15.363658,76.314266\n",
    "15.499821,76.267514\n"
   ]
  },
  {
   "cell_type": "code",
   "execution_count": 374,
   "metadata": {},
   "outputs": [
    {
     "data": {
      "text/plain": [
       "{'Server': 'Adv-5800',\n",
       " 'version': '202110.19.5222',\n",
       " 'results': {'distances': [[0, 16229.4, 1950556.8]],\n",
       "  'code': 'Ok',\n",
       "  'durations': [[0, 1160.1, 132062.3]]},\n",
       " 'responseCode': 200}"
      ]
     },
     "execution_count": 374,
     "metadata": {},
     "output_type": "execute_result"
    }
   ],
   "source": [
    "url_three = f\"\"\"https://apis.mapmyindia.com/advancedmaps/v1/95846a48eeef5b6c17863d2367c75349/distance_matrix/trucking/76.314266,15.363658;76.267514,15.499821;17ZUL7?rtype=1&region=ind\"\"\"\n",
    "r3 = requests.get(url_three)\n",
    "result3= json.loads(r3.content)\n",
    "result3"
   ]
  },
  {
   "cell_type": "code",
   "execution_count": null,
   "metadata": {},
   "outputs": [],
   "source": [
    "16.3"
   ]
  },
  {
   "cell_type": "code",
   "execution_count": null,
   "metadata": {},
   "outputs": [],
   "source": [
    "620 - 640 \n",
    "\n",
    "15.499821,76.267514\n",
    "15.976349,76.106822\n"
   ]
  },
  {
   "cell_type": "code",
   "execution_count": 375,
   "metadata": {},
   "outputs": [
    {
     "data": {
      "text/plain": [
       "{'Server': 'ETA-5111',\n",
       " 'version': '202110.19.5222',\n",
       " 'results': {'distances': [[0, 57602.6, 1966104.4]],\n",
       "  'code': 'Ok',\n",
       "  'durations': [[0, 6108.3, 161393.5]]},\n",
       " 'responseCode': 200}"
      ]
     },
     "execution_count": 375,
     "metadata": {},
     "output_type": "execute_result"
    }
   ],
   "source": [
    "url_three = f\"\"\"https://apis.mapmyindia.com/advancedmaps/v1/95846a48eeef5b6c17863d2367c75349/distance_matrix/trucking/76.267514,15.499821;76.106822,15.976349;17ZUL7?rtype=1&region=ind\"\"\"\n",
    "r3 = requests.get(url_three)\n",
    "result3= json.loads(r3.content)\n",
    "result3"
   ]
  },
  {
   "cell_type": "code",
   "execution_count": null,
   "metadata": {},
   "outputs": [],
   "source": [
    "57.9"
   ]
  },
  {
   "cell_type": "code",
   "execution_count": null,
   "metadata": {},
   "outputs": [],
   "source": [
    "640 -660 \n",
    "\n",
    "15.976349,76.106822\n",
    "16.390301,75.92887\n"
   ]
  },
  {
   "cell_type": "code",
   "execution_count": 614,
   "metadata": {},
   "outputs": [
    {
     "data": {
      "text/plain": [
       "{'Server': 'Adv-5800',\n",
       " 'version': '202110.19.5222',\n",
       " 'results': {'distances': [[0, 53225.1, 1762717.2]],\n",
       "  'code': 'Ok',\n",
       "  'durations': [[0, 3845.7, 129620.5]]},\n",
       " 'responseCode': 200}"
      ]
     },
     "execution_count": 614,
     "metadata": {},
     "output_type": "execute_result"
    }
   ],
   "source": [
    "url_three = f\"\"\"https://apis.mapmyindia.com/advancedmaps/v1/95846a48eeef5b6c17863d2367c75349/distance_matrix/trucking/76.106822,15.976349;75.92887,16.390301;17ZUL7?rtype=1&region=ind\"\"\"\n",
    "r3 = requests.get(url_three)\n",
    "result3= json.loads(r3.content)\n",
    "result3"
   ]
  },
  {
   "cell_type": "code",
   "execution_count": null,
   "metadata": {},
   "outputs": [],
   "source": [
    "53.4"
   ]
  },
  {
   "cell_type": "code",
   "execution_count": null,
   "metadata": {},
   "outputs": [],
   "source": [
    "660-680\n",
    "16.390301,75.92887\n",
    "16.429733,75.907648\n",
    "\n",
    "\n"
   ]
  },
  {
   "cell_type": "code",
   "execution_count": 615,
   "metadata": {},
   "outputs": [
    {
     "data": {
      "text/plain": [
       "{'Server': 'Adv-5800',\n",
       " 'version': '202110.19.5222',\n",
       " 'results': {'distances': [[0, 4915.7, 1709492.2]],\n",
       "  'code': 'Ok',\n",
       "  'durations': [[0, 354.8, 125774.8]]},\n",
       " 'responseCode': 200}"
      ]
     },
     "execution_count": 615,
     "metadata": {},
     "output_type": "execute_result"
    }
   ],
   "source": [
    "url_three = f\"\"\"https://apis.mapmyindia.com/advancedmaps/v1/95846a48eeef5b6c17863d2367c75349/distance_matrix/trucking/75.92887,16.390301;75.907648,16.429733;17ZUL7?rtype=1&region=ind\"\"\"\n",
    "r3 = requests.get(url_three)\n",
    "result3= json.loads(r3.content)\n",
    "result3"
   ]
  },
  {
   "cell_type": "code",
   "execution_count": null,
   "metadata": {},
   "outputs": [],
   "source": [
    "4.93"
   ]
  },
  {
   "cell_type": "code",
   "execution_count": null,
   "metadata": {},
   "outputs": [],
   "source": [
    "680-700\n",
    "\n",
    "16.429733,75.907648\n",
    "16.805466,75.736685\n"
   ]
  },
  {
   "cell_type": "code",
   "execution_count": 616,
   "metadata": {},
   "outputs": [
    {
     "data": {
      "text/plain": [
       "{'Server': 'Adv-5800',\n",
       " 'version': '202110.19.5222',\n",
       " 'results': {'distances': [[0, 46255.1, 1704576.4]],\n",
       "  'code': 'Ok',\n",
       "  'durations': [[0, 3339.3, 125420]]},\n",
       " 'responseCode': 200}"
      ]
     },
     "execution_count": 616,
     "metadata": {},
     "output_type": "execute_result"
    }
   ],
   "source": [
    "url_three = f\"\"\"https://apis.mapmyindia.com/advancedmaps/v1/95846a48eeef5b6c17863d2367c75349/distance_matrix/trucking/75.907648,16.429733;75.736685,16.805466;17ZUL7?rtype=1&region=ind\"\"\"\n",
    "r3 = requests.get(url_three)\n",
    "result3= json.loads(r3.content)\n",
    "result3"
   ]
  },
  {
   "cell_type": "code",
   "execution_count": null,
   "metadata": {},
   "outputs": [],
   "source": [
    "46.4"
   ]
  },
  {
   "cell_type": "code",
   "execution_count": null,
   "metadata": {},
   "outputs": [],
   "source": [
    "700 - 720 \n",
    "\n",
    "16.805466,75.736685\n",
    "17.369438,75.844333\n"
   ]
  },
  {
   "cell_type": "code",
   "execution_count": 617,
   "metadata": {},
   "outputs": [
    {
     "data": {
      "text/plain": [
       "{'Server': 'Adv-5800',\n",
       " 'version': '202110.19.5222',\n",
       " 'results': {'distances': [[0, 66238.3, 1658321.2]],\n",
       "  'code': 'Ok',\n",
       "  'durations': [[0, 5882.8, 122080.7]]},\n",
       " 'responseCode': 200}"
      ]
     },
     "execution_count": 617,
     "metadata": {},
     "output_type": "execute_result"
    }
   ],
   "source": [
    "url_three = f\"\"\"https://apis.mapmyindia.com/advancedmaps/v1/95846a48eeef5b6c17863d2367c75349/distance_matrix/trucking/75.736685,16.805466;75.844333,17.369438;17ZUL7?rtype=1&region=ind\"\"\"\n",
    "r3 = requests.get(url_three)\n",
    "result3= json.loads(r3.content)\n",
    "result3"
   ]
  },
  {
   "cell_type": "code",
   "execution_count": null,
   "metadata": {},
   "outputs": [],
   "source": [
    "70.7"
   ]
  },
  {
   "cell_type": "code",
   "execution_count": null,
   "metadata": {},
   "outputs": [],
   "source": [
    "720 740\n",
    "17.369438,75.844333\n",
    "17.476622,75.855616\n"
   ]
  },
  {
   "cell_type": "code",
   "execution_count": 618,
   "metadata": {},
   "outputs": [
    {
     "data": {
      "text/plain": [
       "{'Server': 'Adv-5800',\n",
       " 'version': '202110.19.5222',\n",
       " 'results': {'distances': [[0, 12119, 1592083]],\n",
       "  'code': 'Ok',\n",
       "  'durations': [[0, 1092.9, 116197.9]]},\n",
       " 'responseCode': 200}"
      ]
     },
     "execution_count": 618,
     "metadata": {},
     "output_type": "execute_result"
    }
   ],
   "source": [
    "url_three = f\"\"\"https://apis.mapmyindia.com/advancedmaps/v1/95846a48eeef5b6c17863d2367c75349/distance_matrix/trucking/75.844333,17.369438;75.855616,17.476622;17ZUL7?rtype=1&region=ind\"\"\"\n",
    "r3 = requests.get(url_three)\n",
    "result3= json.loads(r3.content)\n",
    "result3"
   ]
  },
  {
   "cell_type": "code",
   "execution_count": null,
   "metadata": {},
   "outputs": [],
   "source": [
    "12.2 km"
   ]
  },
  {
   "cell_type": "code",
   "execution_count": null,
   "metadata": {},
   "outputs": [],
   "source": [
    "800-820 \n",
    "\n",
    "17.476622,75.855616\n",
    "17.476597,75.85593\n"
   ]
  },
  {
   "cell_type": "code",
   "execution_count": 619,
   "metadata": {},
   "outputs": [
    {
     "data": {
      "text/plain": [
       "{'Server': 'Adv-5800',\n",
       " 'version': '202110.19.5222',\n",
       " 'results': {'distances': [[0, 4.8, 1579963.9]],\n",
       "  'code': 'Ok',\n",
       "  'durations': [[0, 0.4, 115105]]},\n",
       " 'responseCode': 200}"
      ]
     },
     "execution_count": 619,
     "metadata": {},
     "output_type": "execute_result"
    }
   ],
   "source": [
    "url_three = f\"\"\"https://apis.mapmyindia.com/advancedmaps/v1/95846a48eeef5b6c17863d2367c75349/distance_matrix/trucking/75.855616,17.476622;75.85593,17.476597;17ZUL7?rtype=1&region=ind\"\"\"\n",
    "r3 = requests.get(url_three)\n",
    "result3= json.loads(r3.content)\n",
    "result3"
   ]
  },
  {
   "cell_type": "markdown",
   "metadata": {},
   "source": [
    "4.8 mts"
   ]
  },
  {
   "cell_type": "code",
   "execution_count": null,
   "metadata": {},
   "outputs": [],
   "source": [
    "820 - 840 \n",
    "17.476597,75.85593\n",
    "17.841352,75.574842\n",
    "\n"
   ]
  },
  {
   "cell_type": "code",
   "execution_count": 621,
   "metadata": {},
   "outputs": [
    {
     "data": {
      "text/plain": [
       "{'Server': 'Adv-5800',\n",
       " 'version': '202110.19.5222',\n",
       " 'results': {'distances': [[0, 63498.4, 1579959.1]],\n",
       "  'code': 'Ok',\n",
       "  'durations': [[0, 5214.8, 115104.6]]},\n",
       " 'responseCode': 200}"
      ]
     },
     "execution_count": 621,
     "metadata": {},
     "output_type": "execute_result"
    }
   ],
   "source": [
    "\n",
    "url_three = f\"\"\"https://apis.mapmyindia.com/advancedmaps/v1/95846a48eeef5b6c17863d2367c75349/distance_matrix/trucking/75.85593,17.476597;75.574842,17.841352;17ZUL7?rtype=1&region=ind\"\"\"\n",
    "r3 = requests.get(url_three)\n",
    "result3= json.loads(r3.content)\n",
    "result3"
   ]
  },
  {
   "cell_type": "code",
   "execution_count": null,
   "metadata": {},
   "outputs": [],
   "source": [
    "63.6 km / alternative 59.6 fastest"
   ]
  },
  {
   "cell_type": "code",
   "execution_count": null,
   "metadata": {},
   "outputs": [],
   "source": [
    "840 - 860 \n",
    "17.841352,75.574842\n",
    "18.204866,75.191443\n"
   ]
  },
  {
   "cell_type": "code",
   "execution_count": 622,
   "metadata": {},
   "outputs": [
    {
     "data": {
      "text/plain": [
       "{'Server': 'Adv-5800',\n",
       " 'version': '202110.19.5222',\n",
       " 'results': {'distances': [[0, 66451.6, 1515018.6]],\n",
       "  'code': 'Ok',\n",
       "  'durations': [[0, 5256.2, 114303]]},\n",
       " 'responseCode': 200}"
      ]
     },
     "execution_count": 622,
     "metadata": {},
     "output_type": "execute_result"
    }
   ],
   "source": [
    "url_three = f\"\"\"https://apis.mapmyindia.com/advancedmaps/v1/95846a48eeef5b6c17863d2367c75349/distance_matrix/trucking/75.574842,17.841352;75.191443,18.204866;17ZUL7?rtype=1&region=ind\"\"\"\n",
    "r3 = requests.get(url_three)\n",
    "result3= json.loads(r3.content)\n",
    "result3"
   ]
  },
  {
   "cell_type": "code",
   "execution_count": null,
   "metadata": {},
   "outputs": [],
   "source": [
    "66.6km"
   ]
  },
  {
   "cell_type": "code",
   "execution_count": null,
   "metadata": {},
   "outputs": [],
   "source": [
    "860 - 880\n",
    "18.204866,75.191443\n",
    "18.559528,75.150541\n"
   ]
  },
  {
   "cell_type": "code",
   "execution_count": 623,
   "metadata": {},
   "outputs": [
    {
     "data": {
      "text/plain": [
       "{'Server': 'Adv-5800',\n",
       " 'version': '202110.19.5222',\n",
       " 'results': {'distances': [[0, 45441, 1448567]],\n",
       "  'code': 'Ok',\n",
       "  'durations': [[0, 4376.6, 109046.8]]},\n",
       " 'responseCode': 200}"
      ]
     },
     "execution_count": 623,
     "metadata": {},
     "output_type": "execute_result"
    }
   ],
   "source": [
    "url_three = f\"\"\"https://apis.mapmyindia.com/advancedmaps/v1/95846a48eeef5b6c17863d2367c75349/distance_matrix/trucking/75.191443,18.204866;75.150541,18.559528;17ZUL7?rtype=1&region=ind\"\"\"\n",
    "r3 = requests.get(url_three)\n",
    "result3= json.loads(r3.content)\n",
    "result3"
   ]
  },
  {
   "cell_type": "code",
   "execution_count": null,
   "metadata": {},
   "outputs": [],
   "source": [
    "45.6"
   ]
  },
  {
   "cell_type": "code",
   "execution_count": null,
   "metadata": {},
   "outputs": [],
   "source": [
    "880 - 900 \n",
    "\n",
    "18.559528,75.150541\n",
    "18.705057,75.037594\n"
   ]
  },
  {
   "cell_type": "code",
   "execution_count": 624,
   "metadata": {},
   "outputs": [
    {
     "data": {
      "text/plain": [
       "{'Server': 'Adv-5800',\n",
       " 'version': '202110.19.5222',\n",
       " 'results': {'distances': [[0, 20440.7, 1403126]],\n",
       "  'code': 'Ok',\n",
       "  'durations': [[0, 2107.7, 104670.2]]},\n",
       " 'responseCode': 200}"
      ]
     },
     "execution_count": 624,
     "metadata": {},
     "output_type": "execute_result"
    }
   ],
   "source": [
    "url_three = f\"\"\"https://apis.mapmyindia.com/advancedmaps/v1/95846a48eeef5b6c17863d2367c75349/distance_matrix/trucking/75.150541,18.559528;75.037594,18.705057;17ZUL7?rtype=1&region=ind\"\"\"\n",
    "r3 = requests.get(url_three)\n",
    "result3= json.loads(r3.content)\n",
    "result3"
   ]
  },
  {
   "cell_type": "code",
   "execution_count": null,
   "metadata": {},
   "outputs": [],
   "source": [
    "45.6 km "
   ]
  },
  {
   "cell_type": "code",
   "execution_count": null,
   "metadata": {},
   "outputs": [],
   "source": [
    "900- 920 \n",
    "\n",
    "18.705057,75.037594\n",
    "18.975975,74.802106\n"
   ]
  },
  {
   "cell_type": "code",
   "execution_count": 625,
   "metadata": {},
   "outputs": [
    {
     "data": {
      "text/plain": [
       "{'Server': 'Adv-5800',\n",
       " 'version': '202110.19.5222',\n",
       " 'results': {'distances': [[0, 41088.6, 1382685.2]],\n",
       "  'code': 'Ok',\n",
       "  'durations': [[0, 4236.9, 102562.5]]},\n",
       " 'responseCode': 200}"
      ]
     },
     "execution_count": 625,
     "metadata": {},
     "output_type": "execute_result"
    }
   ],
   "source": [
    "url_three = f\"\"\"https://apis.mapmyindia.com/advancedmaps/v1/95846a48eeef5b6c17863d2367c75349/distance_matrix/trucking/75.037594,18.705057;74.802106,18.975975;17ZUL7?rtype=1&region=ind\"\"\"\n",
    "r3 = requests.get(url_three)\n",
    "result3= json.loads(r3.content)\n",
    "result3"
   ]
  },
  {
   "cell_type": "code",
   "execution_count": null,
   "metadata": {},
   "outputs": [],
   "source": [
    "41.2"
   ]
  },
  {
   "cell_type": "code",
   "execution_count": null,
   "metadata": {},
   "outputs": [],
   "source": [
    "920 -940\n",
    "18.975975,74.802106\n",
    "19.321701,74.653485\n"
   ]
  },
  {
   "cell_type": "code",
   "execution_count": 626,
   "metadata": {},
   "outputs": [
    {
     "data": {
      "text/plain": [
       "{'Server': 'Adv-5800',\n",
       " 'version': '202110.19.5222',\n",
       " 'results': {'distances': [[0, 44381.9, 1341596.6]],\n",
       "  'code': 'Ok',\n",
       "  'durations': [[0, 3936.9, 98325.6]]},\n",
       " 'responseCode': 200}"
      ]
     },
     "execution_count": 626,
     "metadata": {},
     "output_type": "execute_result"
    }
   ],
   "source": [
    "url_three = f\"\"\"https://apis.mapmyindia.com/advancedmaps/v1/95846a48eeef5b6c17863d2367c75349/distance_matrix/trucking/74.802106,18.975975;74.653485,19.321701;17ZUL7?rtype=1&region=ind\"\"\"\n",
    "r3 = requests.get(url_three)\n",
    "result3= json.loads(r3.content)\n",
    "result3"
   ]
  },
  {
   "cell_type": "code",
   "execution_count": null,
   "metadata": {},
   "outputs": [],
   "source": [
    "44.5 km "
   ]
  },
  {
   "cell_type": "code",
   "execution_count": null,
   "metadata": {},
   "outputs": [],
   "source": [
    "940-960\n",
    "19.321701,74.653485\n",
    "19.761566,74.476448\n"
   ]
  },
  {
   "cell_type": "code",
   "execution_count": 627,
   "metadata": {},
   "outputs": [
    {
     "data": {
      "text/plain": [
       "{'Server': 'Adv-5800',\n",
       " 'version': '202110.19.5222',\n",
       " 'results': {'distances': [[0, 54155.7, 1297214.8]],\n",
       "  'code': 'Ok',\n",
       "  'durations': [[0, 4348.6, 94388.7]]},\n",
       " 'responseCode': 200}"
      ]
     },
     "execution_count": 627,
     "metadata": {},
     "output_type": "execute_result"
    }
   ],
   "source": [
    "url_three = f\"\"\"https://apis.mapmyindia.com/advancedmaps/v1/95846a48eeef5b6c17863d2367c75349/distance_matrix/trucking/74.653485,19.321701;74.476448,19.761566;17ZUL7?rtype=1&region=ind\"\"\"\n",
    "r3 = requests.get(url_three)\n",
    "result3= json.loads(r3.content)\n",
    "result3"
   ]
  },
  {
   "cell_type": "code",
   "execution_count": null,
   "metadata": {},
   "outputs": [],
   "source": [
    "54.4"
   ]
  },
  {
   "cell_type": "code",
   "execution_count": null,
   "metadata": {},
   "outputs": [],
   "source": [
    "960 - 980\n",
    "19.761566,74.476448\n",
    "20.113373,74.453715\n"
   ]
  },
  {
   "cell_type": "code",
   "execution_count": 628,
   "metadata": {},
   "outputs": [
    {
     "data": {
      "text/plain": [
       "{'Server': 'Adv-5800',\n",
       " 'version': '202110.19.5222',\n",
       " 'results': {'distances': [[0, 40727.8, 1243059.2]],\n",
       "  'code': 'Ok',\n",
       "  'durations': [[0, 3841.2, 90040.1]]},\n",
       " 'responseCode': 200}"
      ]
     },
     "execution_count": 628,
     "metadata": {},
     "output_type": "execute_result"
    }
   ],
   "source": [
    "url_three = f\"\"\"https://apis.mapmyindia.com/advancedmaps/v1/95846a48eeef5b6c17863d2367c75349/distance_matrix/trucking/74.476448,19.761566;74.453715,20.113373;17ZUL7?rtype=1&region=ind\"\"\"\n",
    "r3 = requests.get(url_three)\n",
    "result3= json.loads(r3.content)\n",
    "result3"
   ]
  },
  {
   "cell_type": "code",
   "execution_count": null,
   "metadata": {},
   "outputs": [],
   "source": [
    "40.9km"
   ]
  },
  {
   "cell_type": "code",
   "execution_count": null,
   "metadata": {},
   "outputs": [],
   "source": [
    "980- 1000\n",
    "20.113373,74.453715\n",
    "20.443905,74.498202\n",
    "\n"
   ]
  },
  {
   "cell_type": "code",
   "execution_count": 630,
   "metadata": {},
   "outputs": [
    {
     "data": {
      "text/plain": [
       "{'Server': 'Adv-5800',\n",
       " 'version': '202110.19.5222',\n",
       " 'results': {'distances': [[0, 39513.2, 1202331.4]],\n",
       "  'code': 'Ok',\n",
       "  'durations': [[0, 4044.2, 86198.9]]},\n",
       " 'responseCode': 200}"
      ]
     },
     "execution_count": 630,
     "metadata": {},
     "output_type": "execute_result"
    }
   ],
   "source": [
    "url_three = f\"\"\"https://apis.mapmyindia.com/advancedmaps/v1/95846a48eeef5b6c17863d2367c75349/distance_matrix/trucking/74.453715,20.113373;74.498202,20.443905;17ZUL7?rtype=1&region=ind\"\"\"\n",
    "r3 = requests.get(url_three)\n",
    "result3= json.loads(r3.content)\n",
    "result3"
   ]
  },
  {
   "cell_type": "code",
   "execution_count": null,
   "metadata": {},
   "outputs": [],
   "source": [
    "39.7"
   ]
  },
  {
   "cell_type": "code",
   "execution_count": null,
   "metadata": {},
   "outputs": [],
   "source": [
    "1000-1020\n",
    "\n",
    "20.443905,74.498202\n",
    "20.66927,74.676934\n"
   ]
  },
  {
   "cell_type": "code",
   "execution_count": 631,
   "metadata": {},
   "outputs": [
    {
     "data": {
      "text/plain": [
       "{'Server': 'Adv-5800',\n",
       " 'version': '202110.19.5222',\n",
       " 'results': {'distances': [[0, 34791.1, 1162818.1]],\n",
       "  'code': 'Ok',\n",
       "  'durations': [[0, 2946.7, 82154.7]]},\n",
       " 'responseCode': 200}"
      ]
     },
     "execution_count": 631,
     "metadata": {},
     "output_type": "execute_result"
    }
   ],
   "source": [
    "url_three = f\"\"\"https://apis.mapmyindia.com/advancedmaps/v1/95846a48eeef5b6c17863d2367c75349/distance_matrix/trucking/74.498202,20.443905;74.676934,20.66927;17ZUL7?rtype=1&region=ind\"\"\"\n",
    "r3 = requests.get(url_three)\n",
    "result3= json.loads(r3.content)\n",
    "result3"
   ]
  },
  {
   "cell_type": "code",
   "execution_count": null,
   "metadata": {},
   "outputs": [],
   "source": [
    "34.1 / alternative 34. 9 "
   ]
  },
  {
   "cell_type": "code",
   "execution_count": null,
   "metadata": {},
   "outputs": [],
   "source": [
    "1020 - 1040 \n",
    "\n",
    "20.66927,74.676934\n",
    "20.755903,74.721274\n"
   ]
  },
  {
   "cell_type": "code",
   "execution_count": 632,
   "metadata": {},
   "outputs": [
    {
     "data": {
      "text/plain": [
       "{'Server': 'Adv-5800',\n",
       " 'version': '202110.19.5222',\n",
       " 'results': {'distances': [[0, 10908.5, 1128027.1]],\n",
       "  'code': 'Ok',\n",
       "  'durations': [[0, 783.3, 79208]]},\n",
       " 'responseCode': 200}"
      ]
     },
     "execution_count": 632,
     "metadata": {},
     "output_type": "execute_result"
    }
   ],
   "source": [
    "url_three = f\"\"\"https://apis.mapmyindia.com/advancedmaps/v1/95846a48eeef5b6c17863d2367c75349/distance_matrix/trucking/74.676934,20.66927;74.721274,20.755903;17ZUL7?rtype=1&region=ind\"\"\"\n",
    "r3 = requests.get(url_three)\n",
    "result3= json.loads(r3.content)\n",
    "result3"
   ]
  },
  {
   "cell_type": "code",
   "execution_count": null,
   "metadata": {},
   "outputs": [],
   "source": [
    "10.9 km"
   ]
  },
  {
   "cell_type": "code",
   "execution_count": null,
   "metadata": {},
   "outputs": [],
   "source": [
    "1100-1120\n",
    "20.755903,74.721274\n",
    "20.833014,74.75401\n"
   ]
  },
  {
   "cell_type": "code",
   "execution_count": 633,
   "metadata": {},
   "outputs": [
    {
     "data": {
      "text/plain": [
       "{'Server': 'Adv-5800',\n",
       " 'version': '202110.19.5222',\n",
       " 'results': {'distances': [[0, 9712.5, 1117118.6]],\n",
       "  'code': 'Ok',\n",
       "  'durations': [[0, 731.3, 78424.7]]},\n",
       " 'responseCode': 200}"
      ]
     },
     "execution_count": 633,
     "metadata": {},
     "output_type": "execute_result"
    }
   ],
   "source": [
    "url_three = f\"\"\"https://apis.mapmyindia.com/advancedmaps/v1/95846a48eeef5b6c17863d2367c75349/distance_matrix/trucking/74.721274,20.755903;74.75401,20.833014;17ZUL7?rtype=1&region=ind\"\"\"\n",
    "r3 = requests.get(url_three)\n",
    "result3= json.loads(r3.content)\n",
    "result3"
   ]
  },
  {
   "cell_type": "code",
   "execution_count": null,
   "metadata": {},
   "outputs": [],
   "source": [
    "9.75km"
   ]
  },
  {
   "cell_type": "code",
   "execution_count": null,
   "metadata": {},
   "outputs": [],
   "source": [
    "1120-1140\n",
    "20.833014,74.75401\n",
    "21.339281,74.935277\n"
   ]
  },
  {
   "cell_type": "code",
   "execution_count": 634,
   "metadata": {},
   "outputs": [
    {
     "data": {
      "text/plain": [
       "{'Server': 'Adv-5800',\n",
       " 'version': '202110.19.5222',\n",
       " 'results': {'distances': [[0, 66319.9, 1107406.1]],\n",
       "  'code': 'Ok',\n",
       "  'durations': [[0, 4904.6, 77693.4]]},\n",
       " 'responseCode': 200}"
      ]
     },
     "execution_count": 634,
     "metadata": {},
     "output_type": "execute_result"
    }
   ],
   "source": [
    "url_three = f\"\"\"https://apis.mapmyindia.com/advancedmaps/v1/95846a48eeef5b6c17863d2367c75349/distance_matrix/trucking/74.75401,20.833014;74.935277,21.339281;17ZUL7?rtype=1&region=ind\"\"\"\n",
    "r3 = requests.get(url_three)\n",
    "result3= json.loads(r3.content)\n",
    "result3"
   ]
  },
  {
   "cell_type": "code",
   "execution_count": null,
   "metadata": {},
   "outputs": [],
   "source": [
    "1140 - 1160 \n",
    "21.339281,74.935277\n",
    "21.534588,75.048915\n"
   ]
  },
  {
   "cell_type": "code",
   "execution_count": 635,
   "metadata": {},
   "outputs": [
    {
     "data": {
      "text/plain": [
       "{'Server': 'Adv-5800',\n",
       " 'version': '202110.19.5222',\n",
       " 'results': {'distances': [[0, 25952.5, 1041086.2]],\n",
       "  'code': 'Ok',\n",
       "  'durations': [[0, 1869.4, 72788.8]]},\n",
       " 'responseCode': 200}"
      ]
     },
     "execution_count": 635,
     "metadata": {},
     "output_type": "execute_result"
    }
   ],
   "source": [
    "url_three = f\"\"\"https://apis.mapmyindia.com/advancedmaps/v1/95846a48eeef5b6c17863d2367c75349/distance_matrix/trucking/74.935277,21.339281;75.048915,21.534588;17ZUL7?rtype=1&region=ind\"\"\"\n",
    "r3 = requests.get(url_three)\n",
    "result3= json.loads(r3.content)\n",
    "result3"
   ]
  },
  {
   "cell_type": "code",
   "execution_count": null,
   "metadata": {},
   "outputs": [],
   "source": [
    "26 km"
   ]
  },
  {
   "cell_type": "code",
   "execution_count": null,
   "metadata": {},
   "outputs": [],
   "source": [
    "1160 -1180\n",
    "21.534588,75.048915\n",
    "21.819916,75.18105\n"
   ]
  },
  {
   "cell_type": "code",
   "execution_count": 638,
   "metadata": {},
   "outputs": [
    {
     "data": {
      "text/plain": [
       "{'Server': 'Adv-5800',\n",
       " 'version': '202110.19.5222',\n",
       " 'results': {'distances': [[0, 37043.4, 1015133.7]],\n",
       "  'code': 'Ok',\n",
       "  'durations': [[0, 2670.8, 70919.4]]},\n",
       " 'responseCode': 200}"
      ]
     },
     "execution_count": 638,
     "metadata": {},
     "output_type": "execute_result"
    }
   ],
   "source": [
    "url_three = f\"\"\"https://apis.mapmyindia.com/advancedmaps/v1/95846a48eeef5b6c17863d2367c75349/distance_matrix/trucking/75.048915,21.534588;75.18105,21.819916;17ZUL7?rtype=1&region=ind\"\"\"\n",
    "r3 = requests.get(url_three)\n",
    "result3= json.loads(r3.content)\n",
    "result3"
   ]
  },
  {
   "cell_type": "code",
   "execution_count": null,
   "metadata": {},
   "outputs": [],
   "source": [
    "37.2"
   ]
  },
  {
   "cell_type": "code",
   "execution_count": null,
   "metadata": {},
   "outputs": [],
   "source": [
    "1180-1200\n",
    "21.819916,75.18105\n",
    "21.880716,75.22553\n"
   ]
  },
  {
   "cell_type": "code",
   "execution_count": 639,
   "metadata": {},
   "outputs": [
    {
     "data": {
      "text/plain": [
       "{'Server': 'Adv-5800',\n",
       " 'version': '202110.19.5222',\n",
       " 'results': {'distances': [[0, 8758.7, 978090.3]],\n",
       "  'code': 'Ok',\n",
       "  'durations': [[0, 631.5, 68248.6]]},\n",
       " 'responseCode': 200}"
      ]
     },
     "execution_count": 639,
     "metadata": {},
     "output_type": "execute_result"
    }
   ],
   "source": [
    "url_three = f\"\"\"https://apis.mapmyindia.com/advancedmaps/v1/95846a48eeef5b6c17863d2367c75349/distance_matrix/trucking/75.18105,21.819916;75.22553,21.880716;17ZUL7?rtype=1&region=ind\"\"\"\n",
    "r3 = requests.get(url_three)\n",
    "result3= json.loads(r3.content)\n",
    "result3"
   ]
  },
  {
   "cell_type": "code",
   "execution_count": null,
   "metadata": {},
   "outputs": [],
   "source": [
    "8.44 / 8.78 "
   ]
  },
  {
   "cell_type": "code",
   "execution_count": null,
   "metadata": {},
   "outputs": [],
   "source": [
    "1200 - 1220\n",
    "\n",
    "21.880716,75.22553\n",
    "22.370956,75.52345\n"
   ]
  },
  {
   "cell_type": "code",
   "execution_count": 640,
   "metadata": {},
   "outputs": [
    {
     "data": {
      "text/plain": [
       "{'Server': 'Adv-5800',\n",
       " 'version': '202110.19.5222',\n",
       " 'results': {'distances': [[0, 67766.4, 969331.6]],\n",
       "  'code': 'Ok',\n",
       "  'durations': [[0, 4889.6, 67617.1]]},\n",
       " 'responseCode': 200}"
      ]
     },
     "execution_count": 640,
     "metadata": {},
     "output_type": "execute_result"
    }
   ],
   "source": [
    "url_three = f\"\"\"https://apis.mapmyindia.com/advancedmaps/v1/95846a48eeef5b6c17863d2367c75349/distance_matrix/trucking/75.22553,21.880716;75.52345,22.370956;17ZUL7?rtype=1&region=ind\"\"\"\n",
    "r3 = requests.get(url_three)\n",
    "result3= json.loads(r3.content)\n",
    "result3\n"
   ]
  },
  {
   "cell_type": "code",
   "execution_count": null,
   "metadata": {},
   "outputs": [],
   "source": [
    "67.9 "
   ]
  },
  {
   "cell_type": "code",
   "execution_count": null,
   "metadata": {},
   "outputs": [],
   "source": [
    "1220 - 1240\n",
    "\n",
    "22.370956,75.52345\n",
    "22.594948,75.673005\n"
   ]
  },
  {
   "cell_type": "code",
   "execution_count": 641,
   "metadata": {},
   "outputs": [
    {
     "data": {
      "text/plain": [
       "{'Server': 'Adv-5800',\n",
       " 'version': '202110.19.5222',\n",
       " 'results': {'distances': [[0, 34614, 901565.1]],\n",
       "  'code': 'Ok',\n",
       "  'durations': [[0, 2613.8, 62727.5]]},\n",
       " 'responseCode': 200}"
      ]
     },
     "execution_count": 641,
     "metadata": {},
     "output_type": "execute_result"
    }
   ],
   "source": [
    "url_three = f\"\"\"https://apis.mapmyindia.com/advancedmaps/v1/95846a48eeef5b6c17863d2367c75349/distance_matrix/trucking/75.52345,22.370956;75.673005,22.594948;17ZUL7?rtype=1&region=ind\"\"\"\n",
    "r3 = requests.get(url_three)\n",
    "result3= json.loads(r3.content)\n",
    "result3"
   ]
  },
  {
   "cell_type": "code",
   "execution_count": null,
   "metadata": {},
   "outputs": [],
   "source": [
    "34.7"
   ]
  },
  {
   "cell_type": "code",
   "execution_count": null,
   "metadata": {},
   "outputs": [],
   "source": [
    "1240 - 1260 \n",
    "\n",
    "22.594948,75.673005\n",
    "22.922403,76.026982\n"
   ]
  },
  {
   "cell_type": "code",
   "execution_count": 642,
   "metadata": {},
   "outputs": [
    {
     "data": {
      "text/plain": [
       "{'Server': 'Adv-5800',\n",
       " 'version': '202110.19.5222',\n",
       " 'results': {'distances': [[0, 62933.1, 866979.1]],\n",
       "  'code': 'Ok',\n",
       "  'durations': [[0, 4718.8, 60153.3]]},\n",
       " 'responseCode': 200}"
      ]
     },
     "execution_count": 642,
     "metadata": {},
     "output_type": "execute_result"
    }
   ],
   "source": [
    "url_three = f\"\"\"https://apis.mapmyindia.com/advancedmaps/v1/95846a48eeef5b6c17863d2367c75349/distance_matrix/trucking/75.673005,22.594948;76.026982,22.922403;17ZUL7?rtype=1&region=ind\"\"\"\n",
    "r3 = requests.get(url_three)\n",
    "result3= json.loads(r3.content)\n",
    "result3"
   ]
  },
  {
   "cell_type": "code",
   "execution_count": null,
   "metadata": {},
   "outputs": [],
   "source": [
    "63km "
   ]
  },
  {
   "cell_type": "code",
   "execution_count": null,
   "metadata": {},
   "outputs": [],
   "source": [
    "1260 -1280 \n",
    "22.922403,76.026982\n",
    "23.448832,76.323014\n"
   ]
  },
  {
   "cell_type": "code",
   "execution_count": 643,
   "metadata": {},
   "outputs": [
    {
     "data": {
      "text/plain": [
       "{'Server': 'Adv-5800',\n",
       " 'version': '202110.19.5222',\n",
       " 'results': {'distances': [[0, 74485.9, 804046]],\n",
       "  'code': 'Ok',\n",
       "  'durations': [[0, 5798.9, 55434.5]]},\n",
       " 'responseCode': 200}"
      ]
     },
     "execution_count": 643,
     "metadata": {},
     "output_type": "execute_result"
    }
   ],
   "source": [
    "url_three = f\"\"\"https://apis.mapmyindia.com/advancedmaps/v1/95846a48eeef5b6c17863d2367c75349/distance_matrix/trucking/76.026982,22.922403;76.323014,23.448832;17ZUL7?rtype=1&region=ind\"\"\"\n",
    "r3 = requests.get(url_three)\n",
    "result3= json.loads(r3.content)\n",
    "result3"
   ]
  },
  {
   "cell_type": "code",
   "execution_count": null,
   "metadata": {},
   "outputs": [],
   "source": [
    "74.7"
   ]
  },
  {
   "cell_type": "code",
   "execution_count": null,
   "metadata": {},
   "outputs": [],
   "source": [
    "1280 -1300 \n",
    "23.448832,76.323014\n",
    "23.612387,76.539718\n"
   ]
  },
  {
   "cell_type": "code",
   "execution_count": 644,
   "metadata": {},
   "outputs": [
    {
     "data": {
      "text/plain": [
       "{'Server': 'Adv-5800',\n",
       " 'version': '202110.19.5222',\n",
       " 'results': {'distances': [[0, 29749.4, 729560]],\n",
       "  'code': 'Ok',\n",
       "  'durations': [[0, 2305.5, 49635.6]]},\n",
       " 'responseCode': 200}"
      ]
     },
     "execution_count": 644,
     "metadata": {},
     "output_type": "execute_result"
    }
   ],
   "source": [
    "url_three = f\"\"\"https://apis.mapmyindia.com/advancedmaps/v1/95846a48eeef5b6c17863d2367c75349/distance_matrix/trucking/76.323014,23.448832;76.539718,23.612387;17ZUL7?rtype=1&region=ind\"\"\"\n",
    "r3 = requests.get(url_three)\n",
    "result3= json.loads(r3.content)\n",
    "result3"
   ]
  },
  {
   "cell_type": "code",
   "execution_count": null,
   "metadata": {},
   "outputs": [],
   "source": [
    "29.8 "
   ]
  },
  {
   "cell_type": "code",
   "execution_count": null,
   "metadata": {},
   "outputs": [],
   "source": [
    "1340 - 1360 \n",
    "23.612387,76.539718\n",
    "23.711823,76.72448\n"
   ]
  },
  {
   "cell_type": "code",
   "execution_count": 645,
   "metadata": {},
   "outputs": [
    {
     "data": {
      "text/plain": [
       "{'Server': 'Adv-5800',\n",
       " 'version': '202110.19.5222',\n",
       " 'results': {'distances': [[0, 22299.6, 699810.6]],\n",
       "  'code': 'Ok',\n",
       "  'durations': [[0, 1685.4, 47330.1]]},\n",
       " 'responseCode': 200}"
      ]
     },
     "execution_count": 645,
     "metadata": {},
     "output_type": "execute_result"
    }
   ],
   "source": [
    "url_three = f\"\"\"https://apis.mapmyindia.com/advancedmaps/v1/95846a48eeef5b6c17863d2367c75349/distance_matrix/trucking/76.539718,23.612387;76.72448,23.711823;17ZUL7?rtype=1&region=ind\"\"\"\n",
    "r3 = requests.get(url_three)\n",
    "result3= json.loads(r3.content)\n",
    "result3"
   ]
  },
  {
   "cell_type": "code",
   "execution_count": null,
   "metadata": {},
   "outputs": [],
   "source": [
    "22.3 km"
   ]
  },
  {
   "cell_type": "code",
   "execution_count": null,
   "metadata": {},
   "outputs": [],
   "source": [
    "1360 - 1380 \n",
    "\n",
    "23.711823,76.72448\n",
    "24.171955,77.028154\n"
   ]
  },
  {
   "cell_type": "code",
   "execution_count": 646,
   "metadata": {},
   "outputs": [
    {
     "data": {
      "text/plain": [
       "{'Server': 'Adv-5800',\n",
       " 'version': '202110.19.5222',\n",
       " 'results': {'distances': [[0, 62170.3, 677511]],\n",
       "  'code': 'Ok',\n",
       "  'durations': [[0, 4721, 45644.7]]},\n",
       " 'responseCode': 200}"
      ]
     },
     "execution_count": 646,
     "metadata": {},
     "output_type": "execute_result"
    }
   ],
   "source": [
    "url_three = f\"\"\"https://apis.mapmyindia.com/advancedmaps/v1/95846a48eeef5b6c17863d2367c75349/distance_matrix/trucking/76.72448,23.711823;77.028154,24.171955;17ZUL7?rtype=1&region=ind\"\"\"\n",
    "r3 = requests.get(url_three)\n",
    "result3= json.loads(r3.content)\n",
    "result3"
   ]
  },
  {
   "cell_type": "code",
   "execution_count": null,
   "metadata": {},
   "outputs": [],
   "source": [
    "62.3"
   ]
  },
  {
   "cell_type": "code",
   "execution_count": null,
   "metadata": {},
   "outputs": [],
   "source": [
    "1380 - 1400 \n",
    "24.171955,77.028154\n",
    "24.674894,77.321798\n"
   ]
  },
  {
   "cell_type": "code",
   "execution_count": 647,
   "metadata": {},
   "outputs": [
    {
     "data": {
      "text/plain": [
       "{'Server': 'Adv-5800',\n",
       " 'version': '202110.19.5222',\n",
       " 'results': {'distances': [[0, 66544.9, 615340.7]],\n",
       "  'code': 'Ok',\n",
       "  'durations': [[0, 5209.2, 40923.7]]},\n",
       " 'responseCode': 200}"
      ]
     },
     "execution_count": 647,
     "metadata": {},
     "output_type": "execute_result"
    }
   ],
   "source": [
    "url_three = f\"\"\"https://apis.mapmyindia.com/advancedmaps/v1/95846a48eeef5b6c17863d2367c75349/distance_matrix/trucking/77.028154,24.171955;77.321798,24.674894;17ZUL7?rtype=1&region=ind\"\"\"\n",
    "r3 = requests.get(url_three)\n",
    "result3= json.loads(r3.content)\n",
    "result3"
   ]
  },
  {
   "cell_type": "code",
   "execution_count": null,
   "metadata": {},
   "outputs": [],
   "source": [
    "66.7"
   ]
  },
  {
   "cell_type": "code",
   "execution_count": null,
   "metadata": {},
   "outputs": [],
   "source": [
    "1400 - 1420\n",
    "\n",
    "24.674894,77.321798\n",
    "25.148689,77.606368\n",
    "\n"
   ]
  },
  {
   "cell_type": "code",
   "execution_count": 649,
   "metadata": {},
   "outputs": [
    {
     "data": {
      "text/plain": [
       "{'Server': 'Adv-5800',\n",
       " 'version': '202110.19.5222',\n",
       " 'results': {'distances': [[0, 63375.8, 548795.8]],\n",
       "  'code': 'Ok',\n",
       "  'durations': [[0, 4643.2, 35714.5]]},\n",
       " 'responseCode': 200}"
      ]
     },
     "execution_count": 649,
     "metadata": {},
     "output_type": "execute_result"
    }
   ],
   "source": [
    "url_three = f\"\"\"https://apis.mapmyindia.com/advancedmaps/v1/95846a48eeef5b6c17863d2367c75349/distance_matrix/trucking/77.321798,24.674894;77.606368,25.148689;17ZUL7?rtype=1&region=ind\"\"\"\n",
    "r3 = requests.get(url_three)\n",
    "result3= json.loads(r3.content)\n",
    "result3"
   ]
  },
  {
   "cell_type": "code",
   "execution_count": null,
   "metadata": {},
   "outputs": [],
   "source": [
    "63.5"
   ]
  },
  {
   "cell_type": "code",
   "execution_count": null,
   "metadata": {},
   "outputs": [],
   "source": [
    "1460 - 1480\n",
    "25.148849,77.606368\n",
    "25.487232,77.677837\n"
   ]
  },
  {
   "cell_type": "code",
   "execution_count": 650,
   "metadata": {},
   "outputs": [
    {
     "data": {
      "text/plain": [
       "{'Server': 'Adv-5800',\n",
       " 'version': '202110.19.5222',\n",
       " 'results': {'distances': [[0, 44198.1, 485402.4]],\n",
       "  'code': 'Ok',\n",
       "  'durations': [[0, 3389.7, 31070]]},\n",
       " 'responseCode': 200}"
      ]
     },
     "execution_count": 650,
     "metadata": {},
     "output_type": "execute_result"
    }
   ],
   "source": [
    "url_three = f\"\"\"https://apis.mapmyindia.com/advancedmaps/v1/95846a48eeef5b6c17863d2367c75349/distance_matrix/trucking/77.606368,25.148849;77.677837,25.487232;17ZUL7?rtype=1&region=ind\"\"\"\n",
    "r3 = requests.get(url_three)\n",
    "result3= json.loads(r3.content)\n",
    "result3"
   ]
  },
  {
   "cell_type": "code",
   "execution_count": null,
   "metadata": {},
   "outputs": [],
   "source": [
    "44.3 / 42.1 "
   ]
  },
  {
   "cell_type": "code",
   "execution_count": null,
   "metadata": {},
   "outputs": [],
   "source": [
    "1480 - 1500\n",
    "\n",
    "25.487232,77.677837\n",
    "26.043756,77.919155\n"
   ]
  },
  {
   "cell_type": "code",
   "execution_count": 651,
   "metadata": {},
   "outputs": [
    {
     "data": {
      "text/plain": [
       "{'Server': 'Adv-5800',\n",
       " 'version': '202110.19.5222',\n",
       " 'results': {'distances': [[0, 72510.7, 441204.3]],\n",
       "  'code': 'Ok',\n",
       "  'durations': [[0, 5508.8, 27680.3]]},\n",
       " 'responseCode': 200}"
      ]
     },
     "execution_count": 651,
     "metadata": {},
     "output_type": "execute_result"
    }
   ],
   "source": [
    "url_three = f\"\"\"https://apis.mapmyindia.com/advancedmaps/v1/95846a48eeef5b6c17863d2367c75349/distance_matrix/trucking/77.677837,25.487232;77.919155,26.043756;17ZUL7?rtype=1&region=ind\"\"\"\n",
    "r3 = requests.get(url_three)\n",
    "result3= json.loads(r3.content)\n",
    "result3"
   ]
  },
  {
   "cell_type": "code",
   "execution_count": null,
   "metadata": {},
   "outputs": [],
   "source": [
    "72.7"
   ]
  },
  {
   "cell_type": "code",
   "execution_count": null,
   "metadata": {},
   "outputs": [],
   "source": [
    "1500 - 1520\n",
    "26.043756,77.919155\n",
    "26.325735,78.153978\n"
   ]
  },
  {
   "cell_type": "code",
   "execution_count": 652,
   "metadata": {},
   "outputs": [
    {
     "data": {
      "text/plain": [
       "{'Server': 'Adv-5800',\n",
       " 'version': '202110.19.5222',\n",
       " 'results': {'distances': [[0, 70214, 368693.6]],\n",
       "  'code': 'Ok',\n",
       "  'durations': [[0, 4659.2, 22171.5]]},\n",
       " 'responseCode': 200}"
      ]
     },
     "execution_count": 652,
     "metadata": {},
     "output_type": "execute_result"
    }
   ],
   "source": [
    "url_three = f\"\"\"https://apis.mapmyindia.com/advancedmaps/v1/95846a48eeef5b6c17863d2367c75349/distance_matrix/trucking/77.919155,26.043756;78.153978,26.325735;17ZUL7?rtype=1&region=ind\"\"\"\n",
    "r3 = requests.get(url_three)\n",
    "result3= json.loads(r3.content)\n",
    "result3"
   ]
  },
  {
   "cell_type": "code",
   "execution_count": null,
   "metadata": {},
   "outputs": [],
   "source": [
    "70.2 fastest/ 50.5 / 61"
   ]
  },
  {
   "cell_type": "code",
   "execution_count": null,
   "metadata": {},
   "outputs": [],
   "source": [
    "1520 - 1540\n",
    "\n",
    "26.325735,78.153978\n",
    "26.752151,77.903245\n"
   ]
  },
  {
   "cell_type": "code",
   "execution_count": 653,
   "metadata": {},
   "outputs": [
    {
     "data": {
      "text/plain": [
       "{'Server': 'Adv-5800',\n",
       " 'version': '202110.19.5222',\n",
       " 'results': {'distances': [[0, 66339.9, 333859.1]],\n",
       "  'code': 'Ok',\n",
       "  'durations': [[0, 4509.6, 18569.2]]},\n",
       " 'responseCode': 200}"
      ]
     },
     "execution_count": 653,
     "metadata": {},
     "output_type": "execute_result"
    }
   ],
   "source": [
    "url_three = f\"\"\"https://apis.mapmyindia.com/advancedmaps/v1/95846a48eeef5b6c17863d2367c75349/distance_matrix/trucking/78.153978,26.325735;77.903245,26.752151;17ZUL7?rtype=1&region=ind\"\"\"\n",
    "r3 = requests.get(url_three)\n",
    "result3= json.loads(r3.content)\n",
    "result3"
   ]
  },
  {
   "cell_type": "code",
   "execution_count": null,
   "metadata": {},
   "outputs": [],
   "source": [
    "66.5 "
   ]
  },
  {
   "cell_type": "code",
   "execution_count": null,
   "metadata": {},
   "outputs": [],
   "source": [
    "1540 - 1560\n",
    "26.752151,77.903245\n",
    "27.187731,77.810579\n"
   ]
  },
  {
   "cell_type": "code",
   "execution_count": 654,
   "metadata": {},
   "outputs": [
    {
     "data": {
      "text/plain": [
       "{'Server': 'Adv-5800',\n",
       " 'version': '202110.19.5222',\n",
       " 'results': {'distances': [[0, 60354.9, 267519.2]],\n",
       "  'code': 'Ok',\n",
       "  'durations': [[0, 4163.6, 14059.6]]},\n",
       " 'responseCode': 200}"
      ]
     },
     "execution_count": 654,
     "metadata": {},
     "output_type": "execute_result"
    }
   ],
   "source": [
    "url_three = f\"\"\"https://apis.mapmyindia.com/advancedmaps/v1/95846a48eeef5b6c17863d2367c75349/distance_matrix/trucking/77.903245,26.752151;77.810579,27.187731;17ZUL7?rtype=1&region=ind\"\"\"\n",
    "r3 = requests.get(url_three)\n",
    "result3= json.loads(r3.content)\n",
    "result3"
   ]
  },
  {
   "cell_type": "code",
   "execution_count": null,
   "metadata": {},
   "outputs": [],
   "source": [
    "60.5"
   ]
  },
  {
   "cell_type": "code",
   "execution_count": null,
   "metadata": {},
   "outputs": [],
   "source": [
    "1560 - 1580 \n",
    "27.187731,77.810579\n",
    "27.676928,77.526989\n"
   ]
  },
  {
   "cell_type": "code",
   "execution_count": 655,
   "metadata": {},
   "outputs": [
    {
     "data": {
      "text/plain": [
       "{'Server': 'Adv-5800',\n",
       " 'version': '202110.19.5222',\n",
       " 'results': {'distances': [[0, 66975, 198622.9]],\n",
       "  'code': 'Ok',\n",
       "  'durations': [[0, 3995.5, 10432.3]]},\n",
       " 'responseCode': 200}"
      ]
     },
     "execution_count": 655,
     "metadata": {},
     "output_type": "execute_result"
    }
   ],
   "source": [
    "url_three = f\"\"\"https://apis.mapmyindia.com/advancedmaps/v1/95846a48eeef5b6c17863d2367c75349/distance_matrix/trucking/77.810579,27.187731;77.526989,27.676928;17ZUL7?rtype=1&region=ind\"\"\"\n",
    "r3 = requests.get(url_three)\n",
    "result3= json.loads(r3.content)\n",
    "result3"
   ]
  },
  {
   "cell_type": "code",
   "execution_count": null,
   "metadata": {},
   "outputs": [],
   "source": [
    "67.1"
   ]
  },
  {
   "cell_type": "code",
   "execution_count": null,
   "metadata": {},
   "outputs": [],
   "source": [
    "1580 - 1600 \n",
    "27.676928,77.526989\n",
    "27.947184,77.347354\n"
   ]
  },
  {
   "cell_type": "code",
   "execution_count": 656,
   "metadata": {},
   "outputs": [
    {
     "data": {
      "text/plain": [
       "{'Server': 'ETA-5111',\n",
       " 'version': '202110.19.5222',\n",
       " 'results': {'distances': [[0, 36411.6, 160893.3]],\n",
       "  'code': 'Ok',\n",
       "  'durations': [[0, 2997.3, 13210.9]]},\n",
       " 'responseCode': 200}"
      ]
     },
     "execution_count": 656,
     "metadata": {},
     "output_type": "execute_result"
    }
   ],
   "source": [
    "url_three = f\"\"\"https://apis.mapmyindia.com/advancedmaps/v1/95846a48eeef5b6c17863d2367c75349/distance_matrix/trucking/77.526989,27.676928;77.347354,27.947184;17ZUL7?rtype=1&region=ind\"\"\"\n",
    "r3 = requests.get(url_three)\n",
    "result3= json.loads(r3.content)\n",
    "result3"
   ]
  },
  {
   "cell_type": "code",
   "execution_count": null,
   "metadata": {},
   "outputs": [],
   "source": [
    "36.5"
   ]
  },
  {
   "cell_type": "code",
   "execution_count": null,
   "metadata": {},
   "outputs": [],
   "source": [
    "1640 - 1660\n",
    "\n",
    "27.947184,77.347354\n",
    "27.947292,77.348365\n"
   ]
  },
  {
   "cell_type": "code",
   "execution_count": 657,
   "metadata": {},
   "outputs": [
    {
     "data": {
      "text/plain": [
       "{'Server': 'ETA-5111',\n",
       " 'version': '202110.19.5222',\n",
       " 'results': {'distances': [[0, 2144.9, 124670.4]],\n",
       "  'code': 'Ok',\n",
       "  'durations': [[0, 273.3, 10706.8]]},\n",
       " 'responseCode': 200}"
      ]
     },
     "execution_count": 657,
     "metadata": {},
     "output_type": "execute_result"
    }
   ],
   "source": [
    "url_three = f\"\"\"https://apis.mapmyindia.com/advancedmaps/v1/95846a48eeef5b6c17863d2367c75349/distance_matrix/trucking/77.347354,27.947184;77.348365,27.947292;17ZUL7?rtype=1&region=ind\"\"\"\n",
    "r3 = requests.get(url_three)\n",
    "result3= json.loads(r3.content)\n",
    "result3"
   ]
  },
  {
   "cell_type": "code",
   "execution_count": null,
   "metadata": {},
   "outputs": [],
   "source": [
    "2.15 km "
   ]
  },
  {
   "cell_type": "code",
   "execution_count": null,
   "metadata": {},
   "outputs": [],
   "source": [
    "1660 - 1680 \n",
    "27.947292,77.348365\n",
    "28.25913,76.938784\n"
   ]
  },
  {
   "cell_type": "code",
   "execution_count": 386,
   "metadata": {},
   "outputs": [
    {
     "data": {
      "text/plain": [
       "{'Server': 'Adv-5800',\n",
       " 'version': '202110.19.5222',\n",
       " 'results': {'distances': [[0, 62140.2, 137209]],\n",
       "  'code': 'Ok',\n",
       "  'durations': [[0, 2706.4, 6088.2]]},\n",
       " 'responseCode': 200}"
      ]
     },
     "execution_count": 386,
     "metadata": {},
     "output_type": "execute_result"
    }
   ],
   "source": [
    "url_three = f\"\"\"https://apis.mapmyindia.com/advancedmaps/v1/95846a48eeef5b6c17863d2367c75349/distance_matrix/trucking/77.348365,27.947292;76.938784,28.25913;17ZUL7?rtype=1&region=ind\"\"\"\n",
    "r3 = requests.get(url_three)\n",
    "result3= json.loads(r3.content)\n",
    "result3"
   ]
  },
  {
   "cell_type": "code",
   "execution_count": null,
   "metadata": {},
   "outputs": [],
   "source": [
    "62.2"
   ]
  },
  {
   "cell_type": "code",
   "execution_count": null,
   "metadata": {},
   "outputs": [],
   "source": [
    ".1680 - 1700 \n",
    "\n",
    "28.25913,76.938784\n",
    "28.238352,76.613133\n"
   ]
  },
  {
   "cell_type": "code",
   "execution_count": 387,
   "metadata": {},
   "outputs": [
    {
     "data": {
      "text/plain": [
       "{'Server': 'Adv-5800',\n",
       " 'version': '202110.19.5222',\n",
       " 'results': {'distances': [[0, 43746.1, 62455.5]],\n",
       "  'code': 'Ok',\n",
       "  'durations': [[0, 2975.2, 4281.7]]},\n",
       " 'responseCode': 200}"
      ]
     },
     "execution_count": 387,
     "metadata": {},
     "output_type": "execute_result"
    }
   ],
   "source": [
    "url_three = f\"\"\"https://apis.mapmyindia.com/advancedmaps/v1/95846a48eeef5b6c17863d2367c75349/distance_matrix/trucking/76.938784,28.25913;76.613133,28.238352;17ZUL7?rtype=1&region=ind\"\"\"\n",
    "r3 = requests.get(url_three)\n",
    "result3= json.loads(r3.content)\n",
    "result3"
   ]
  },
  {
   "cell_type": "code",
   "execution_count": null,
   "metadata": {},
   "outputs": [],
   "source": []
  },
  {
   "cell_type": "code",
   "execution_count": null,
   "metadata": {},
   "outputs": [],
   "source": []
  },
  {
   "cell_type": "code",
   "execution_count": null,
   "metadata": {},
   "outputs": [],
   "source": []
  },
  {
   "cell_type": "code",
   "execution_count": null,
   "metadata": {},
   "outputs": [],
   "source": []
  },
  {
   "cell_type": "code",
   "execution_count": null,
   "metadata": {},
   "outputs": [],
   "source": []
  },
  {
   "cell_type": "code",
   "execution_count": null,
   "metadata": {},
   "outputs": [],
   "source": []
  },
  {
   "cell_type": "code",
   "execution_count": null,
   "metadata": {},
   "outputs": [],
   "source": []
  },
  {
   "cell_type": "code",
   "execution_count": null,
   "metadata": {},
   "outputs": [],
   "source": []
  },
  {
   "cell_type": "code",
   "execution_count": null,
   "metadata": {},
   "outputs": [],
   "source": []
  },
  {
   "cell_type": "code",
   "execution_count": null,
   "metadata": {},
   "outputs": [],
   "source": []
  },
  {
   "cell_type": "code",
   "execution_count": null,
   "metadata": {},
   "outputs": [],
   "source": []
  },
  {
   "cell_type": "code",
   "execution_count": null,
   "metadata": {},
   "outputs": [],
   "source": []
  },
  {
   "cell_type": "code",
   "execution_count": null,
   "metadata": {},
   "outputs": [],
   "source": []
  },
  {
   "cell_type": "code",
   "execution_count": null,
   "metadata": {},
   "outputs": [],
   "source": []
  },
  {
   "cell_type": "code",
   "execution_count": null,
   "metadata": {},
   "outputs": [],
   "source": []
  },
  {
   "cell_type": "code",
   "execution_count": null,
   "metadata": {},
   "outputs": [],
   "source": []
  },
  {
   "cell_type": "code",
   "execution_count": null,
   "metadata": {},
   "outputs": [],
   "source": []
  },
  {
   "cell_type": "code",
   "execution_count": null,
   "metadata": {},
   "outputs": [],
   "source": []
  },
  {
   "cell_type": "code",
   "execution_count": null,
   "metadata": {},
   "outputs": [],
   "source": []
  },
  {
   "cell_type": "code",
   "execution_count": null,
   "metadata": {},
   "outputs": [],
   "source": []
  },
  {
   "cell_type": "code",
   "execution_count": null,
   "metadata": {},
   "outputs": [],
   "source": []
  },
  {
   "cell_type": "code",
   "execution_count": null,
   "metadata": {},
   "outputs": [],
   "source": []
  },
  {
   "cell_type": "code",
   "execution_count": null,
   "metadata": {},
   "outputs": [],
   "source": []
  },
  {
   "cell_type": "code",
   "execution_count": null,
   "metadata": {},
   "outputs": [],
   "source": []
  },
  {
   "cell_type": "code",
   "execution_count": null,
   "metadata": {},
   "outputs": [],
   "source": []
  },
  {
   "cell_type": "code",
   "execution_count": null,
   "metadata": {},
   "outputs": [],
   "source": []
  },
  {
   "cell_type": "code",
   "execution_count": null,
   "metadata": {},
   "outputs": [],
   "source": []
  },
  {
   "cell_type": "code",
   "execution_count": null,
   "metadata": {},
   "outputs": [],
   "source": []
  },
  {
   "cell_type": "code",
   "execution_count": null,
   "metadata": {},
   "outputs": [],
   "source": []
  },
  {
   "cell_type": "code",
   "execution_count": null,
   "metadata": {},
   "outputs": [],
   "source": []
  },
  {
   "cell_type": "code",
   "execution_count": null,
   "metadata": {},
   "outputs": [],
   "source": []
  },
  {
   "cell_type": "code",
   "execution_count": null,
   "metadata": {},
   "outputs": [],
   "source": []
  },
  {
   "cell_type": "markdown",
   "metadata": {},
   "source": [
    "## NL dealer series\n"
   ]
  },
  {
   "cell_type": "code",
   "execution_count": null,
   "metadata": {},
   "outputs": [],
   "source": []
  },
  {
   "cell_type": "code",
   "execution_count": 121,
   "metadata": {},
   "outputs": [],
   "source": [
    "df_nl3708 = pd.read_excel('D:\\\\Sales Logistic Project\\\\NLO2Q3708.xltm')"
   ]
  },
  {
   "cell_type": "code",
   "execution_count": 122,
   "metadata": {},
   "outputs": [
    {
     "data": {
      "text/html": [
       "<div>\n",
       "<style scoped>\n",
       "    .dataframe tbody tr th:only-of-type {\n",
       "        vertical-align: middle;\n",
       "    }\n",
       "\n",
       "    .dataframe tbody tr th {\n",
       "        vertical-align: top;\n",
       "    }\n",
       "\n",
       "    .dataframe thead th {\n",
       "        text-align: right;\n",
       "    }\n",
       "</style>\n",
       "<table border=\"1\" class=\"dataframe\">\n",
       "  <thead>\n",
       "    <tr style=\"text-align: right;\">\n",
       "      <th></th>\n",
       "      <th>Lat,Lngt</th>\n",
       "      <th>Period</th>\n",
       "    </tr>\n",
       "  </thead>\n",
       "  <tbody>\n",
       "    <tr>\n",
       "      <th>0</th>\n",
       "      <td>13.031811,80.030688</td>\n",
       "      <td>12/08 00:00 : 12/08 00:05</td>\n",
       "    </tr>\n",
       "    <tr>\n",
       "      <th>1</th>\n",
       "      <td>13.031811,80.030688</td>\n",
       "      <td>12/08 00:05 : 12/08 00:10</td>\n",
       "    </tr>\n",
       "    <tr>\n",
       "      <th>2</th>\n",
       "      <td>13.031811,80.030688</td>\n",
       "      <td>12/08 00:10 : 12/08 00:15</td>\n",
       "    </tr>\n",
       "    <tr>\n",
       "      <th>3</th>\n",
       "      <td>13.031811,80.030688</td>\n",
       "      <td>12/08 00:15 : 12/08 00:20</td>\n",
       "    </tr>\n",
       "    <tr>\n",
       "      <th>4</th>\n",
       "      <td>13.031811,80.030688</td>\n",
       "      <td>12/08 00:20 : 12/08 00:25</td>\n",
       "    </tr>\n",
       "  </tbody>\n",
       "</table>\n",
       "</div>"
      ],
      "text/plain": [
       "              Lat,Lngt                     Period\n",
       "0  13.031811,80.030688  12/08 00:00 : 12/08 00:05\n",
       "1  13.031811,80.030688  12/08 00:05 : 12/08 00:10\n",
       "2  13.031811,80.030688  12/08 00:10 : 12/08 00:15\n",
       "3  13.031811,80.030688  12/08 00:15 : 12/08 00:20\n",
       "4  13.031811,80.030688  12/08 00:20 : 12/08 00:25"
      ]
     },
     "execution_count": 122,
     "metadata": {},
     "output_type": "execute_result"
    }
   ],
   "source": [
    "df_nl3708.head()"
   ]
  },
  {
   "cell_type": "code",
   "execution_count": 123,
   "metadata": {},
   "outputs": [
    {
     "data": {
      "text/plain": [
       "(576, 2)"
      ]
     },
     "execution_count": 123,
     "metadata": {},
     "output_type": "execute_result"
    }
   ],
   "source": [
    "df_nl3708.shape"
   ]
  },
  {
   "cell_type": "code",
   "execution_count": 124,
   "metadata": {},
   "outputs": [],
   "source": [
    "df_nl3708[['Latitude', 'Longitude']] = df_nl3708['Lat,Lngt'].str.split(',', 1, expand=True)"
   ]
  },
  {
   "cell_type": "code",
   "execution_count": 125,
   "metadata": {},
   "outputs": [],
   "source": [
    "df_nl3708['Latitude'] = df_nl3708['Latitude'].astype(float)"
   ]
  },
  {
   "cell_type": "code",
   "execution_count": 126,
   "metadata": {},
   "outputs": [],
   "source": [
    "df_nl3708['Longitude'] = df_nl3708['Longitude'].astype(float)"
   ]
  },
  {
   "cell_type": "code",
   "execution_count": 127,
   "metadata": {},
   "outputs": [],
   "source": [
    "df_nl3708 = df_nl3708[df_nl3708['Lat,Lngt'].notna()]"
   ]
  },
  {
   "cell_type": "code",
   "execution_count": 128,
   "metadata": {},
   "outputs": [],
   "source": [
    "\n",
    "\n",
    "df_nl3708['dealer_lat_3708'] = 11.905124\n",
    "df_nl3708['dealer_long_3708'] = 79.808662"
   ]
  },
  {
   "cell_type": "code",
   "execution_count": 129,
   "metadata": {},
   "outputs": [],
   "source": [
    "dealer_lat_3708 = 11.905124\n",
    "dealer_long_3708 = 79.808662\n",
    "\n",
    "\n",
    "distances_km = []\n",
    "for row in df_nl3708.itertuples(index=False):\n",
    "   distances_km.append(\n",
    "       haversine_distance(dealer_lat_3708, dealer_long_3708, row.Latitude, row.Longitude)\n",
    "   )"
   ]
  },
  {
   "cell_type": "code",
   "execution_count": 130,
   "metadata": {},
   "outputs": [],
   "source": [
    "df_nl3708['Distance'] = distances_km"
   ]
  },
  {
   "cell_type": "code",
   "execution_count": 131,
   "metadata": {},
   "outputs": [
    {
     "data": {
      "text/plain": [
       "0.13"
      ]
     },
     "execution_count": 131,
     "metadata": {},
     "output_type": "execute_result"
    }
   ],
   "source": [
    "df_nl3708.Distance.min()"
   ]
  },
  {
   "cell_type": "code",
   "execution_count": 256,
   "metadata": {},
   "outputs": [],
   "source": [
    "df_nl3708['Status'] = np.where(df_nl3708['Distance']!= df_nl3708['Distance'].min(), 'In-transit', 'Unloading-Point')"
   ]
  },
  {
   "cell_type": "code",
   "execution_count": 257,
   "metadata": {},
   "outputs": [
    {
     "data": {
      "text/html": [
       "<div>\n",
       "<style scoped>\n",
       "    .dataframe tbody tr th:only-of-type {\n",
       "        vertical-align: middle;\n",
       "    }\n",
       "\n",
       "    .dataframe tbody tr th {\n",
       "        vertical-align: top;\n",
       "    }\n",
       "\n",
       "    .dataframe thead th {\n",
       "        text-align: right;\n",
       "    }\n",
       "</style>\n",
       "<table border=\"1\" class=\"dataframe\">\n",
       "  <thead>\n",
       "    <tr style=\"text-align: right;\">\n",
       "      <th></th>\n",
       "      <th>Lat,Lngt</th>\n",
       "      <th>Period</th>\n",
       "      <th>Latitude</th>\n",
       "      <th>Longitude</th>\n",
       "      <th>dealer_lat_3708</th>\n",
       "      <th>dealer_long_3708</th>\n",
       "      <th>Distance</th>\n",
       "      <th>Status</th>\n",
       "      <th>start_dt</th>\n",
       "      <th>end_dt</th>\n",
       "      <th>Time_diff_temp</th>\n",
       "      <th>Time_diff</th>\n",
       "    </tr>\n",
       "  </thead>\n",
       "  <tbody>\n",
       "    <tr>\n",
       "      <th>0</th>\n",
       "      <td>13.031811,80.030688</td>\n",
       "      <td>12/08 00:00 : 12/08 00:05</td>\n",
       "      <td>13.031811</td>\n",
       "      <td>80.030688</td>\n",
       "      <td>11.905124</td>\n",
       "      <td>79.808662</td>\n",
       "      <td>127.58</td>\n",
       "      <td>In-transit</td>\n",
       "      <td>2021-08-12</td>\n",
       "      <td>2021-08-12 00:05:00</td>\n",
       "      <td>0 days 00:05:00</td>\n",
       "      <td>0 days</td>\n",
       "    </tr>\n",
       "  </tbody>\n",
       "</table>\n",
       "</div>"
      ],
      "text/plain": [
       "              Lat,Lngt                     Period   Latitude  Longitude  \\\n",
       "0  13.031811,80.030688  12/08 00:00 : 12/08 00:05  13.031811  80.030688   \n",
       "\n",
       "   dealer_lat_3708  dealer_long_3708  Distance      Status   start_dt  \\\n",
       "0        11.905124         79.808662    127.58  In-transit 2021-08-12   \n",
       "\n",
       "               end_dt  Time_diff_temp Time_diff  \n",
       "0 2021-08-12 00:05:00 0 days 00:05:00    0 days  "
      ]
     },
     "execution_count": 257,
     "metadata": {},
     "output_type": "execute_result"
    }
   ],
   "source": [
    "df_nl3708[0:1]"
   ]
  },
  {
   "cell_type": "code",
   "execution_count": 258,
   "metadata": {},
   "outputs": [
    {
     "data": {
      "text/html": [
       "<div>\n",
       "<style scoped>\n",
       "    .dataframe tbody tr th:only-of-type {\n",
       "        vertical-align: middle;\n",
       "    }\n",
       "\n",
       "    .dataframe tbody tr th {\n",
       "        vertical-align: top;\n",
       "    }\n",
       "\n",
       "    .dataframe thead th {\n",
       "        text-align: right;\n",
       "    }\n",
       "</style>\n",
       "<table border=\"1\" class=\"dataframe\">\n",
       "  <thead>\n",
       "    <tr style=\"text-align: right;\">\n",
       "      <th></th>\n",
       "      <th>Lat,Lngt</th>\n",
       "      <th>Period</th>\n",
       "      <th>Latitude</th>\n",
       "      <th>Longitude</th>\n",
       "      <th>dealer_lat_3708</th>\n",
       "      <th>dealer_long_3708</th>\n",
       "      <th>Distance</th>\n",
       "      <th>Status</th>\n",
       "      <th>start_dt</th>\n",
       "      <th>end_dt</th>\n",
       "      <th>Time_diff_temp</th>\n",
       "      <th>Time_diff</th>\n",
       "    </tr>\n",
       "  </thead>\n",
       "  <tbody>\n",
       "    <tr>\n",
       "      <th>449</th>\n",
       "      <td>11.905496,79.807539</td>\n",
       "      <td>13/08 13:25 : 13/08 13:30</td>\n",
       "      <td>11.905496</td>\n",
       "      <td>79.807539</td>\n",
       "      <td>11.905124</td>\n",
       "      <td>79.808662</td>\n",
       "      <td>0.13</td>\n",
       "      <td>Unloading-Point</td>\n",
       "      <td>2021-08-13 13:25:00</td>\n",
       "      <td>2021-08-13 13:30:00</td>\n",
       "      <td>0 days 00:05:00</td>\n",
       "      <td>0 days 00:05:00</td>\n",
       "    </tr>\n",
       "  </tbody>\n",
       "</table>\n",
       "</div>"
      ],
      "text/plain": [
       "                Lat,Lngt                     Period   Latitude  Longitude  \\\n",
       "449  11.905496,79.807539  13/08 13:25 : 13/08 13:30  11.905496  79.807539   \n",
       "\n",
       "     dealer_lat_3708  dealer_long_3708  Distance           Status  \\\n",
       "449        11.905124         79.808662      0.13  Unloading-Point   \n",
       "\n",
       "               start_dt              end_dt  Time_diff_temp       Time_diff  \n",
       "449 2021-08-13 13:25:00 2021-08-13 13:30:00 0 days 00:05:00 0 days 00:05:00  "
      ]
     },
     "execution_count": 258,
     "metadata": {},
     "output_type": "execute_result"
    }
   ],
   "source": [
    "df_nl3708.iloc[np.where(df_nl3708.Distance==df_nl3708.Distance.min())]"
   ]
  },
  {
   "cell_type": "code",
   "execution_count": null,
   "metadata": {},
   "outputs": [],
   "source": []
  },
  {
   "cell_type": "code",
   "execution_count": 259,
   "metadata": {},
   "outputs": [
    {
     "data": {
      "text/plain": [
       "0    2021-08-12 00:00\n",
       "1    2021-08-12 00:05\n",
       "Name: start_dt, dtype: object"
      ]
     },
     "execution_count": 259,
     "metadata": {},
     "output_type": "execute_result"
    }
   ],
   "source": [
    "#df_gj['start_dt'] = df_gj['Period'].map(lambda x:\"2021\"+\"-\"+str(x)[0:2]+\"-\"+str(x)[3:5]+\" \"+str(x)[6:11])\n",
    "df_nl3708['start_dt'] = df_nl3708['Period'].map(lambda x:\"2021\"+\"-\"+str(x)[3:5]+\"-\"+str(x)[0:2]+\" \"+str(x)[6:11])\n",
    "df_nl3708['start_dt'].head(2)"
   ]
  },
  {
   "cell_type": "code",
   "execution_count": 260,
   "metadata": {},
   "outputs": [
    {
     "data": {
      "text/plain": [
       "0    2021-08 - 12 00:05\n",
       "1    2021-08 - 12 00:10\n",
       "Name: end_dt, dtype: object"
      ]
     },
     "execution_count": 260,
     "metadata": {},
     "output_type": "execute_result"
    }
   ],
   "source": [
    "#df_gj['end_dt'] = df_gj['Period'].map(lambda x:\"2021\"+\"-\"+str(x)[13:16]+\"-\"+str(x)[17:20]+\" \"+str(x)[20:25])\n",
    "df_nl3708['end_dt'] = df_nl3708['Period'].map(lambda x:\"2021\"+\"-\"+str(x)[17:20]+\"-\"+str(x)[13:16]+\" \"+str(x)[20:25])\n",
    "df_nl3708['end_dt'].head(2)"
   ]
  },
  {
   "cell_type": "code",
   "execution_count": 261,
   "metadata": {},
   "outputs": [],
   "source": [
    "df_nl3708['start_dt'] = pd.to_datetime(df_nl3708['start_dt'])"
   ]
  },
  {
   "cell_type": "code",
   "execution_count": 262,
   "metadata": {},
   "outputs": [],
   "source": [
    "df_nl3708['end_dt'] = pd.to_datetime(df_nl3708['end_dt'])"
   ]
  },
  {
   "cell_type": "code",
   "execution_count": 263,
   "metadata": {},
   "outputs": [],
   "source": [
    "df_nl3708['Time_diff_temp'] = df_nl3708['end_dt'] - df_nl3708['start_dt']"
   ]
  },
  {
   "cell_type": "code",
   "execution_count": 264,
   "metadata": {},
   "outputs": [
    {
     "data": {
      "text/plain": [
       "Timedelta('1 days 23:54:00')"
      ]
     },
     "execution_count": 264,
     "metadata": {},
     "output_type": "execute_result"
    }
   ],
   "source": [
    "df_nl3708.Time_diff_temp.sum()"
   ]
  },
  {
   "cell_type": "code",
   "execution_count": 265,
   "metadata": {},
   "outputs": [],
   "source": [
    "df_nl3708['Time_diff'] = [x.iloc[-1] - x.iloc[0] for x in df_nl3708['end_dt'].rolling(2) if len(x)>0]"
   ]
  },
  {
   "cell_type": "code",
   "execution_count": 266,
   "metadata": {},
   "outputs": [
    {
     "data": {
      "text/plain": [
       "Timedelta('1 days 23:49:00')"
      ]
     },
     "execution_count": 266,
     "metadata": {},
     "output_type": "execute_result"
    }
   ],
   "source": [
    "df_nl3708['Time_diff'].sum()"
   ]
  },
  {
   "cell_type": "code",
   "execution_count": null,
   "metadata": {},
   "outputs": [],
   "source": []
  },
  {
   "cell_type": "code",
   "execution_count": 267,
   "metadata": {},
   "outputs": [],
   "source": [
    "df_nl3708_new = df_nl3708[0:450]"
   ]
  },
  {
   "cell_type": "code",
   "execution_count": 401,
   "metadata": {},
   "outputs": [
    {
     "data": {
      "text/plain": [
       "(450, 12)"
      ]
     },
     "execution_count": 401,
     "metadata": {},
     "output_type": "execute_result"
    }
   ],
   "source": [
    "df_nl3708_new.shape"
   ]
  },
  {
   "cell_type": "code",
   "execution_count": 268,
   "metadata": {},
   "outputs": [
    {
     "data": {
      "text/html": [
       "<div>\n",
       "<style scoped>\n",
       "    .dataframe tbody tr th:only-of-type {\n",
       "        vertical-align: middle;\n",
       "    }\n",
       "\n",
       "    .dataframe tbody tr th {\n",
       "        vertical-align: top;\n",
       "    }\n",
       "\n",
       "    .dataframe thead th {\n",
       "        text-align: right;\n",
       "    }\n",
       "</style>\n",
       "<table border=\"1\" class=\"dataframe\">\n",
       "  <thead>\n",
       "    <tr style=\"text-align: right;\">\n",
       "      <th></th>\n",
       "      <th>Lat,Lngt</th>\n",
       "      <th>Period</th>\n",
       "      <th>Latitude</th>\n",
       "      <th>Longitude</th>\n",
       "      <th>dealer_lat_3708</th>\n",
       "      <th>dealer_long_3708</th>\n",
       "      <th>Distance</th>\n",
       "      <th>Status</th>\n",
       "      <th>start_dt</th>\n",
       "      <th>end_dt</th>\n",
       "      <th>Time_diff_temp</th>\n",
       "      <th>Time_diff</th>\n",
       "    </tr>\n",
       "  </thead>\n",
       "  <tbody>\n",
       "    <tr>\n",
       "      <th>449</th>\n",
       "      <td>11.905496,79.807539</td>\n",
       "      <td>13/08 13:25 : 13/08 13:30</td>\n",
       "      <td>11.905496</td>\n",
       "      <td>79.807539</td>\n",
       "      <td>11.905124</td>\n",
       "      <td>79.808662</td>\n",
       "      <td>0.13</td>\n",
       "      <td>Unloading-Point</td>\n",
       "      <td>2021-08-13 13:25:00</td>\n",
       "      <td>2021-08-13 13:30:00</td>\n",
       "      <td>0 days 00:05:00</td>\n",
       "      <td>0 days 00:05:00</td>\n",
       "    </tr>\n",
       "  </tbody>\n",
       "</table>\n",
       "</div>"
      ],
      "text/plain": [
       "                Lat,Lngt                     Period   Latitude  Longitude  \\\n",
       "449  11.905496,79.807539  13/08 13:25 : 13/08 13:30  11.905496  79.807539   \n",
       "\n",
       "     dealer_lat_3708  dealer_long_3708  Distance           Status  \\\n",
       "449        11.905124         79.808662      0.13  Unloading-Point   \n",
       "\n",
       "               start_dt              end_dt  Time_diff_temp       Time_diff  \n",
       "449 2021-08-13 13:25:00 2021-08-13 13:30:00 0 days 00:05:00 0 days 00:05:00  "
      ]
     },
     "execution_count": 268,
     "metadata": {},
     "output_type": "execute_result"
    }
   ],
   "source": [
    "df_nl3708_new.tail(1)"
   ]
  },
  {
   "cell_type": "code",
   "execution_count": 269,
   "metadata": {},
   "outputs": [
    {
     "data": {
      "text/plain": [
       "In-transit         449\n",
       "Unloading-Point      1\n",
       "Name: Status, dtype: int64"
      ]
     },
     "execution_count": 269,
     "metadata": {},
     "output_type": "execute_result"
    }
   ],
   "source": [
    "df_nl3708_new['Status'].value_counts()"
   ]
  },
  {
   "cell_type": "code",
   "execution_count": 270,
   "metadata": {},
   "outputs": [],
   "source": [
    "df_nl3708_new['Time_diff'] = [x.iloc[-1] - x.iloc[0] for x in df_nl3708_new['end_dt'].rolling(2) if len(x)>0]"
   ]
  },
  {
   "cell_type": "code",
   "execution_count": 271,
   "metadata": {},
   "outputs": [
    {
     "data": {
      "text/plain": [
       "0 days 00:05:00    449\n",
       "0 days 00:00:00      1\n",
       "Name: Time_diff, dtype: int64"
      ]
     },
     "execution_count": 271,
     "metadata": {},
     "output_type": "execute_result"
    }
   ],
   "source": [
    "df_nl3708_new['Time_diff'].value_counts()"
   ]
  },
  {
   "cell_type": "code",
   "execution_count": 272,
   "metadata": {},
   "outputs": [
    {
     "data": {
      "text/plain": [
       "Timedelta('1 days 13:25:00')"
      ]
     },
     "execution_count": 272,
     "metadata": {},
     "output_type": "execute_result"
    }
   ],
   "source": [
    "df_nl3708_new['Time_diff'].sum()"
   ]
  },
  {
   "cell_type": "code",
   "execution_count": 273,
   "metadata": {},
   "outputs": [
    {
     "data": {
      "text/html": [
       "<div>\n",
       "<style scoped>\n",
       "    .dataframe tbody tr th:only-of-type {\n",
       "        vertical-align: middle;\n",
       "    }\n",
       "\n",
       "    .dataframe tbody tr th {\n",
       "        vertical-align: top;\n",
       "    }\n",
       "\n",
       "    .dataframe thead th {\n",
       "        text-align: right;\n",
       "    }\n",
       "</style>\n",
       "<table border=\"1\" class=\"dataframe\">\n",
       "  <thead>\n",
       "    <tr style=\"text-align: right;\">\n",
       "      <th></th>\n",
       "      <th>Lat,Lngt</th>\n",
       "      <th>Period</th>\n",
       "      <th>Latitude</th>\n",
       "      <th>Longitude</th>\n",
       "      <th>dealer_lat_3708</th>\n",
       "      <th>dealer_long_3708</th>\n",
       "      <th>Distance</th>\n",
       "      <th>Status</th>\n",
       "      <th>start_dt</th>\n",
       "      <th>end_dt</th>\n",
       "      <th>Time_diff_temp</th>\n",
       "      <th>Time_diff</th>\n",
       "    </tr>\n",
       "  </thead>\n",
       "  <tbody>\n",
       "    <tr>\n",
       "      <th>0</th>\n",
       "      <td>13.031811,80.030688</td>\n",
       "      <td>12/08 00:00 : 12/08 00:05</td>\n",
       "      <td>13.031811</td>\n",
       "      <td>80.030688</td>\n",
       "      <td>11.905124</td>\n",
       "      <td>79.808662</td>\n",
       "      <td>127.58</td>\n",
       "      <td>In-transit</td>\n",
       "      <td>2021-08-12</td>\n",
       "      <td>2021-08-12 00:05:00</td>\n",
       "      <td>0 days 00:05:00</td>\n",
       "      <td>0 days</td>\n",
       "    </tr>\n",
       "  </tbody>\n",
       "</table>\n",
       "</div>"
      ],
      "text/plain": [
       "              Lat,Lngt                     Period   Latitude  Longitude  \\\n",
       "0  13.031811,80.030688  12/08 00:00 : 12/08 00:05  13.031811  80.030688   \n",
       "\n",
       "   dealer_lat_3708  dealer_long_3708  Distance      Status   start_dt  \\\n",
       "0        11.905124         79.808662    127.58  In-transit 2021-08-12   \n",
       "\n",
       "               end_dt  Time_diff_temp Time_diff  \n",
       "0 2021-08-12 00:05:00 0 days 00:05:00    0 days  "
      ]
     },
     "execution_count": 273,
     "metadata": {},
     "output_type": "execute_result"
    }
   ],
   "source": [
    "df_nl3708_new.head(1)"
   ]
  },
  {
   "cell_type": "code",
   "execution_count": 274,
   "metadata": {},
   "outputs": [
    {
     "data": {
      "text/html": [
       "<div>\n",
       "<style scoped>\n",
       "    .dataframe tbody tr th:only-of-type {\n",
       "        vertical-align: middle;\n",
       "    }\n",
       "\n",
       "    .dataframe tbody tr th {\n",
       "        vertical-align: top;\n",
       "    }\n",
       "\n",
       "    .dataframe thead th {\n",
       "        text-align: right;\n",
       "    }\n",
       "</style>\n",
       "<table border=\"1\" class=\"dataframe\">\n",
       "  <thead>\n",
       "    <tr style=\"text-align: right;\">\n",
       "      <th></th>\n",
       "      <th>Lat,Lngt</th>\n",
       "      <th>Period</th>\n",
       "      <th>Latitude</th>\n",
       "      <th>Longitude</th>\n",
       "      <th>dealer_lat_3708</th>\n",
       "      <th>dealer_long_3708</th>\n",
       "      <th>Distance</th>\n",
       "      <th>Status</th>\n",
       "      <th>start_dt</th>\n",
       "      <th>end_dt</th>\n",
       "      <th>Time_diff_temp</th>\n",
       "      <th>Time_diff</th>\n",
       "    </tr>\n",
       "  </thead>\n",
       "  <tbody>\n",
       "    <tr>\n",
       "      <th>449</th>\n",
       "      <td>11.905496,79.807539</td>\n",
       "      <td>13/08 13:25 : 13/08 13:30</td>\n",
       "      <td>11.905496</td>\n",
       "      <td>79.807539</td>\n",
       "      <td>11.905124</td>\n",
       "      <td>79.808662</td>\n",
       "      <td>0.13</td>\n",
       "      <td>Unloading-Point</td>\n",
       "      <td>2021-08-13 13:25:00</td>\n",
       "      <td>2021-08-13 13:30:00</td>\n",
       "      <td>0 days 00:05:00</td>\n",
       "      <td>0 days 00:05:00</td>\n",
       "    </tr>\n",
       "  </tbody>\n",
       "</table>\n",
       "</div>"
      ],
      "text/plain": [
       "                Lat,Lngt                     Period   Latitude  Longitude  \\\n",
       "449  11.905496,79.807539  13/08 13:25 : 13/08 13:30  11.905496  79.807539   \n",
       "\n",
       "     dealer_lat_3708  dealer_long_3708  Distance           Status  \\\n",
       "449        11.905124         79.808662      0.13  Unloading-Point   \n",
       "\n",
       "               start_dt              end_dt  Time_diff_temp       Time_diff  \n",
       "449 2021-08-13 13:25:00 2021-08-13 13:30:00 0 days 00:05:00 0 days 00:05:00  "
      ]
     },
     "execution_count": 274,
     "metadata": {},
     "output_type": "execute_result"
    }
   ],
   "source": [
    "df_nl3708_new.tail(1)"
   ]
  },
  {
   "cell_type": "code",
   "execution_count": 276,
   "metadata": {},
   "outputs": [
    {
     "data": {
      "text/plain": [
       "Timedelta('1 days 13:25:00')"
      ]
     },
     "execution_count": 276,
     "metadata": {},
     "output_type": "execute_result"
    }
   ],
   "source": [
    "dt1 = '2021-08-12 00:05:00'\n",
    "d1 = pd.to_datetime(dt1)\n",
    "dt2 = '2021-08-13 13:30:00'\n",
    "d2 = pd.to_datetime(dt2)\n",
    "\n",
    "a = d2-d1\n",
    "a"
   ]
  },
  {
   "cell_type": "code",
   "execution_count": null,
   "metadata": {},
   "outputs": [],
   "source": []
  },
  {
   "cell_type": "code",
   "execution_count": 335,
   "metadata": {},
   "outputs": [],
   "source": [
    "Gb3708 = df_nl3708_new.groupby('Lat,Lngt').agg({'Time_diff': np.sum})"
   ]
  },
  {
   "cell_type": "code",
   "execution_count": 410,
   "metadata": {},
   "outputs": [
    {
     "data": {
      "text/plain": [
       "Time_diff      \n",
       "0 days 00:05:00    77\n",
       "0 days 00:40:00     2\n",
       "0 days 00:30:00     2\n",
       "0 days 11:30:00     1\n",
       "0 days 07:00:00     1\n",
       "0 days 03:40:00     1\n",
       "0 days 03:30:00     1\n",
       "0 days 01:10:00     1\n",
       "0 days 00:50:00     1\n",
       "0 days 00:35:00     1\n",
       "0 days 00:15:00     1\n",
       "0 days 00:10:00     1\n",
       "dtype: int64"
      ]
     },
     "execution_count": 410,
     "metadata": {},
     "output_type": "execute_result"
    }
   ],
   "source": [
    "Gb3708.value_counts()"
   ]
  },
  {
   "cell_type": "code",
   "execution_count": 411,
   "metadata": {},
   "outputs": [
    {
     "data": {
      "text/plain": [
       "Time_diff   1 days 13:25:00\n",
       "dtype: timedelta64[ns]"
      ]
     },
     "execution_count": 411,
     "metadata": {},
     "output_type": "execute_result"
    }
   ],
   "source": [
    "Gb3708.sum()"
   ]
  },
  {
   "cell_type": "code",
   "execution_count": 405,
   "metadata": {},
   "outputs": [],
   "source": [
    "Gb3708.to_excel(\"3708.xlsx\")"
   ]
  },
  {
   "cell_type": "code",
   "execution_count": 345,
   "metadata": {},
   "outputs": [
    {
     "data": {
      "text/plain": [
       "Timedelta('1 days 13:25:00')"
      ]
     },
     "execution_count": 345,
     "metadata": {},
     "output_type": "execute_result"
    }
   ],
   "source": [
    "Gb3708['Time_diff'].sum()"
   ]
  },
  {
   "cell_type": "code",
   "execution_count": 346,
   "metadata": {},
   "outputs": [],
   "source": [
    "#gb_3708_res = Gb3708.iloc[np.where(Gb3708)==Gb3708['Time_diff']>='1:00:00']"
   ]
  },
  {
   "cell_type": "code",
   "execution_count": 343,
   "metadata": {},
   "outputs": [],
   "source": [
    "Gb3708_test = Gb3708[Gb3708['Time_diff'] >= '1:00:00']"
   ]
  },
  {
   "cell_type": "code",
   "execution_count": 403,
   "metadata": {},
   "outputs": [
    {
     "data": {
      "text/html": [
       "<div>\n",
       "<style scoped>\n",
       "    .dataframe tbody tr th:only-of-type {\n",
       "        vertical-align: middle;\n",
       "    }\n",
       "\n",
       "    .dataframe tbody tr th {\n",
       "        vertical-align: top;\n",
       "    }\n",
       "\n",
       "    .dataframe thead th {\n",
       "        text-align: right;\n",
       "    }\n",
       "</style>\n",
       "<table border=\"1\" class=\"dataframe\">\n",
       "  <thead>\n",
       "    <tr style=\"text-align: right;\">\n",
       "      <th></th>\n",
       "      <th>Time_diff</th>\n",
       "    </tr>\n",
       "    <tr>\n",
       "      <th>Lat,Lngt</th>\n",
       "      <th></th>\n",
       "    </tr>\n",
       "  </thead>\n",
       "  <tbody>\n",
       "    <tr>\n",
       "      <th>11.904675,79.807078</th>\n",
       "      <td>0 days 11:30:00</td>\n",
       "    </tr>\n",
       "    <tr>\n",
       "      <th>11.905312,79.80736</th>\n",
       "      <td>0 days 01:10:00</td>\n",
       "    </tr>\n",
       "    <tr>\n",
       "      <th>11.905353,79.807386</th>\n",
       "      <td>0 days 03:40:00</td>\n",
       "    </tr>\n",
       "    <tr>\n",
       "      <th>13.031811,80.030688</th>\n",
       "      <td>0 days 07:00:00</td>\n",
       "    </tr>\n",
       "    <tr>\n",
       "      <th>13.031829,80.030765</th>\n",
       "      <td>0 days 03:30:00</td>\n",
       "    </tr>\n",
       "  </tbody>\n",
       "</table>\n",
       "</div>"
      ],
      "text/plain": [
       "                          Time_diff\n",
       "Lat,Lngt                           \n",
       "11.904675,79.807078 0 days 11:30:00\n",
       "11.905312,79.80736  0 days 01:10:00\n",
       "11.905353,79.807386 0 days 03:40:00\n",
       "13.031811,80.030688 0 days 07:00:00\n",
       "13.031829,80.030765 0 days 03:30:00"
      ]
     },
     "execution_count": 403,
     "metadata": {},
     "output_type": "execute_result"
    }
   ],
   "source": [
    "Gb3708_test"
   ]
  },
  {
   "cell_type": "code",
   "execution_count": null,
   "metadata": {},
   "outputs": [],
   "source": [
    "## Using API - 20 Index Intervals "
   ]
  },
  {
   "cell_type": "code",
   "execution_count": 371,
   "metadata": {},
   "outputs": [
    {
     "data": {
      "text/plain": [
       "(575, 12)"
      ]
     },
     "execution_count": 371,
     "metadata": {},
     "output_type": "execute_result"
    }
   ],
   "source": [
    "df_nl3708.shape"
   ]
  },
  {
   "cell_type": "code",
   "execution_count": 370,
   "metadata": {},
   "outputs": [
    {
     "data": {
      "text/plain": [
       "(450, 12)"
      ]
     },
     "execution_count": 370,
     "metadata": {},
     "output_type": "execute_result"
    }
   ],
   "source": [
    "df_nl3708_new.shape"
   ]
  },
  {
   "cell_type": "code",
   "execution_count": null,
   "metadata": {},
   "outputs": [],
   "source": []
  },
  {
   "cell_type": "markdown",
   "metadata": {},
   "source": [
    "## stoppage time old"
   ]
  },
  {
   "cell_type": "code",
   "execution_count": 372,
   "metadata": {},
   "outputs": [],
   "source": [
    "#df_nl3708_stoppage = df_nl3708.groupby(['Latitude', 'Longitude']).agg({'end_dt':['min','max']})"
   ]
  },
  {
   "cell_type": "code",
   "execution_count": 373,
   "metadata": {},
   "outputs": [],
   "source": [
    "#df_nl3708_stoppage.to_excel(\"df_nl3708_stoppage.xlsx\")"
   ]
  },
  {
   "cell_type": "code",
   "execution_count": 374,
   "metadata": {},
   "outputs": [],
   "source": [
    "#df_nl3708_stoppage = pd.read_excel(\"D:Sales Logistic Project\\\\dfnl3708.xltm\")"
   ]
  },
  {
   "cell_type": "code",
   "execution_count": 375,
   "metadata": {},
   "outputs": [],
   "source": [
    "#df_nl3708_stoppage['min'] = pd.to_datetime(df_nl3708_stoppage['min'])"
   ]
  },
  {
   "cell_type": "code",
   "execution_count": 376,
   "metadata": {},
   "outputs": [],
   "source": [
    "#df_nl3708_stoppage['max'] = pd.to_datetime(df_nl3708_stoppage['max'])"
   ]
  },
  {
   "cell_type": "code",
   "execution_count": 377,
   "metadata": {},
   "outputs": [],
   "source": [
    "#df_nl3708_stoppage['diff'] = df_nl3708_stoppage['max']-df_nl3708_stoppage['min']"
   ]
  },
  {
   "cell_type": "code",
   "execution_count": 378,
   "metadata": {},
   "outputs": [],
   "source": [
    "#df_nl3708_stoppage['diff'].count()"
   ]
  },
  {
   "cell_type": "code",
   "execution_count": 379,
   "metadata": {},
   "outputs": [],
   "source": [
    "#df_nl3708_stop = df_nl3708_stoppage[df_nl3708_stoppage['diff'] >= '1:00:00']"
   ]
  },
  {
   "cell_type": "code",
   "execution_count": 380,
   "metadata": {},
   "outputs": [],
   "source": [
    "#df_nl3708_stop['diff'].count()"
   ]
  },
  {
   "cell_type": "code",
   "execution_count": null,
   "metadata": {},
   "outputs": [],
   "source": []
  },
  {
   "cell_type": "markdown",
   "metadata": {},
   "source": [
    "## API TEST"
   ]
  },
  {
   "cell_type": "code",
   "execution_count": 350,
   "metadata": {},
   "outputs": [],
   "source": [
    "import requests\n",
    "import json"
   ]
  },
  {
   "cell_type": "code",
   "execution_count": 351,
   "metadata": {},
   "outputs": [
    {
     "data": {
      "text/plain": [
       "{'Server': 'Adv-5800',\n",
       " 'version': '202110.19.5222',\n",
       " 'results': {'distances': [[0, 159625.9, 2193467.8]],\n",
       "  'code': 'Ok',\n",
       "  'durations': [[0, 12364.5, 146402.2]]},\n",
       " 'responseCode': 200}"
      ]
     },
     "execution_count": 351,
     "metadata": {},
     "output_type": "execute_result"
    }
   ],
   "source": [
    "\n",
    "url_three = f\"\"\"https://apis.mapmyindia.com/advancedmaps/v1/95846a48eeef5b6c17863d2367c75349/distance_matrix/trucking/80.030688,13.031811;79.808662,11.905124;17ZUL7?rtype=1&region=ind\"\"\"\n",
    "r3 = requests.get(url_three)\n",
    "result3= json.loads(r3.content)\n",
    "result3"
   ]
  },
  {
   "cell_type": "code",
   "execution_count": null,
   "metadata": {},
   "outputs": [],
   "source": [
    "13.031811,80.030688\n",
    "11.905124,79.808662"
   ]
  },
  {
   "cell_type": "code",
   "execution_count": 352,
   "metadata": {},
   "outputs": [
    {
     "data": {
      "text/plain": [
       "159.6259"
      ]
     },
     "execution_count": 352,
     "metadata": {},
     "output_type": "execute_result"
    }
   ],
   "source": [
    "159625.9/1000"
   ]
  },
  {
   "cell_type": "code",
   "execution_count": null,
   "metadata": {},
   "outputs": [],
   "source": [
    "# MapMyInd - 160/ Gmap - 160 "
   ]
  },
  {
   "cell_type": "code",
   "execution_count": 381,
   "metadata": {},
   "outputs": [],
   "source": [
    "# Read the dataset "
   ]
  },
  {
   "cell_type": "code",
   "execution_count": 382,
   "metadata": {},
   "outputs": [],
   "source": [
    "nl3708_new = df_nl3708_new[0::20]"
   ]
  },
  {
   "cell_type": "code",
   "execution_count": 383,
   "metadata": {},
   "outputs": [
    {
     "data": {
      "text/plain": [
       "(23, 12)"
      ]
     },
     "execution_count": 383,
     "metadata": {},
     "output_type": "execute_result"
    }
   ],
   "source": [
    "nl3708_new.shape"
   ]
  },
  {
   "cell_type": "code",
   "execution_count": 384,
   "metadata": {},
   "outputs": [
    {
     "data": {
      "text/html": [
       "<div>\n",
       "<style scoped>\n",
       "    .dataframe tbody tr th:only-of-type {\n",
       "        vertical-align: middle;\n",
       "    }\n",
       "\n",
       "    .dataframe tbody tr th {\n",
       "        vertical-align: top;\n",
       "    }\n",
       "\n",
       "    .dataframe thead th {\n",
       "        text-align: right;\n",
       "    }\n",
       "</style>\n",
       "<table border=\"1\" class=\"dataframe\">\n",
       "  <thead>\n",
       "    <tr style=\"text-align: right;\">\n",
       "      <th></th>\n",
       "      <th>Lat,Lngt</th>\n",
       "      <th>Period</th>\n",
       "      <th>Latitude</th>\n",
       "      <th>Longitude</th>\n",
       "      <th>dealer_lat_3708</th>\n",
       "      <th>dealer_long_3708</th>\n",
       "      <th>Distance</th>\n",
       "      <th>Status</th>\n",
       "      <th>start_dt</th>\n",
       "      <th>end_dt</th>\n",
       "      <th>Time_diff_temp</th>\n",
       "      <th>Time_diff</th>\n",
       "    </tr>\n",
       "  </thead>\n",
       "  <tbody>\n",
       "    <tr>\n",
       "      <th>0</th>\n",
       "      <td>13.031811,80.030688</td>\n",
       "      <td>12/08 00:00 : 12/08 00:05</td>\n",
       "      <td>13.031811</td>\n",
       "      <td>80.030688</td>\n",
       "      <td>11.905124</td>\n",
       "      <td>79.808662</td>\n",
       "      <td>127.58</td>\n",
       "      <td>In-transit</td>\n",
       "      <td>2021-08-12 00:00:00</td>\n",
       "      <td>2021-08-12 00:05:00</td>\n",
       "      <td>0 days 00:05:00</td>\n",
       "      <td>0 days 00:00:00</td>\n",
       "    </tr>\n",
       "    <tr>\n",
       "      <th>20</th>\n",
       "      <td>13.031811,80.030688</td>\n",
       "      <td>12/08 01:40 : 12/08 01:45</td>\n",
       "      <td>13.031811</td>\n",
       "      <td>80.030688</td>\n",
       "      <td>11.905124</td>\n",
       "      <td>79.808662</td>\n",
       "      <td>127.58</td>\n",
       "      <td>In-transit</td>\n",
       "      <td>2021-08-12 01:40:00</td>\n",
       "      <td>2021-08-12 01:45:00</td>\n",
       "      <td>0 days 00:05:00</td>\n",
       "      <td>0 days 00:05:00</td>\n",
       "    </tr>\n",
       "    <tr>\n",
       "      <th>40</th>\n",
       "      <td>13.031811,80.030688</td>\n",
       "      <td>12/08 03:20 : 12/08 03:25</td>\n",
       "      <td>13.031811</td>\n",
       "      <td>80.030688</td>\n",
       "      <td>11.905124</td>\n",
       "      <td>79.808662</td>\n",
       "      <td>127.58</td>\n",
       "      <td>In-transit</td>\n",
       "      <td>2021-08-12 03:20:00</td>\n",
       "      <td>2021-08-12 03:25:00</td>\n",
       "      <td>0 days 00:05:00</td>\n",
       "      <td>0 days 00:05:00</td>\n",
       "    </tr>\n",
       "    <tr>\n",
       "      <th>60</th>\n",
       "      <td>13.031811,80.030688</td>\n",
       "      <td>12/08 05:00 : 12/08 05:05</td>\n",
       "      <td>13.031811</td>\n",
       "      <td>80.030688</td>\n",
       "      <td>11.905124</td>\n",
       "      <td>79.808662</td>\n",
       "      <td>127.58</td>\n",
       "      <td>In-transit</td>\n",
       "      <td>2021-08-12 05:00:00</td>\n",
       "      <td>2021-08-12 05:05:00</td>\n",
       "      <td>0 days 00:05:00</td>\n",
       "      <td>0 days 00:05:00</td>\n",
       "    </tr>\n",
       "    <tr>\n",
       "      <th>80</th>\n",
       "      <td>13.031811,80.030688</td>\n",
       "      <td>12/08 06:40 : 12/08 06:45</td>\n",
       "      <td>13.031811</td>\n",
       "      <td>80.030688</td>\n",
       "      <td>11.905124</td>\n",
       "      <td>79.808662</td>\n",
       "      <td>127.58</td>\n",
       "      <td>In-transit</td>\n",
       "      <td>2021-08-12 06:40:00</td>\n",
       "      <td>2021-08-12 06:45:00</td>\n",
       "      <td>0 days 00:05:00</td>\n",
       "      <td>0 days 00:05:00</td>\n",
       "    </tr>\n",
       "    <tr>\n",
       "      <th>100</th>\n",
       "      <td>13.031829,80.030765</td>\n",
       "      <td>12/08 08:20 : 12/08 08:25</td>\n",
       "      <td>13.031829</td>\n",
       "      <td>80.030765</td>\n",
       "      <td>11.905124</td>\n",
       "      <td>79.808662</td>\n",
       "      <td>127.58</td>\n",
       "      <td>In-transit</td>\n",
       "      <td>2021-08-12 08:20:00</td>\n",
       "      <td>2021-08-12 08:25:00</td>\n",
       "      <td>0 days 00:05:00</td>\n",
       "      <td>0 days 00:05:00</td>\n",
       "    </tr>\n",
       "    <tr>\n",
       "      <th>120</th>\n",
       "      <td>13.031829,80.030765</td>\n",
       "      <td>12/08 10:00 : 12/08 10:05</td>\n",
       "      <td>13.031829</td>\n",
       "      <td>80.030765</td>\n",
       "      <td>11.905124</td>\n",
       "      <td>79.808662</td>\n",
       "      <td>127.58</td>\n",
       "      <td>In-transit</td>\n",
       "      <td>2021-08-12 10:00:00</td>\n",
       "      <td>2021-08-12 10:05:00</td>\n",
       "      <td>0 days 00:05:00</td>\n",
       "      <td>0 days 00:05:00</td>\n",
       "    </tr>\n",
       "    <tr>\n",
       "      <th>140</th>\n",
       "      <td>13.003496,79.995904</td>\n",
       "      <td>12/08 11:40 : 12/08 11:45</td>\n",
       "      <td>13.003496</td>\n",
       "      <td>79.995904</td>\n",
       "      <td>11.905124</td>\n",
       "      <td>79.808662</td>\n",
       "      <td>123.81</td>\n",
       "      <td>In-transit</td>\n",
       "      <td>2021-08-12 11:40:00</td>\n",
       "      <td>2021-08-12 11:45:00</td>\n",
       "      <td>0 days 00:05:00</td>\n",
       "      <td>0 days 00:05:00</td>\n",
       "    </tr>\n",
       "    <tr>\n",
       "      <th>160</th>\n",
       "      <td>12.993972,80.013805</td>\n",
       "      <td>12/08 13:20 : 12/08 13:25</td>\n",
       "      <td>12.993972</td>\n",
       "      <td>80.013805</td>\n",
       "      <td>11.905124</td>\n",
       "      <td>79.808662</td>\n",
       "      <td>123.11</td>\n",
       "      <td>In-transit</td>\n",
       "      <td>2021-08-12 13:20:00</td>\n",
       "      <td>2021-08-12 13:25:00</td>\n",
       "      <td>0 days 00:05:00</td>\n",
       "      <td>0 days 00:05:00</td>\n",
       "    </tr>\n",
       "    <tr>\n",
       "      <th>180</th>\n",
       "      <td>12.754856,80.001235</td>\n",
       "      <td>12/08 15:00 : 12/08 15:05</td>\n",
       "      <td>12.754856</td>\n",
       "      <td>80.001235</td>\n",
       "      <td>11.905124</td>\n",
       "      <td>79.808662</td>\n",
       "      <td>96.77</td>\n",
       "      <td>In-transit</td>\n",
       "      <td>2021-08-12 15:00:00</td>\n",
       "      <td>2021-08-12 15:05:00</td>\n",
       "      <td>0 days 00:05:00</td>\n",
       "      <td>0 days 00:05:00</td>\n",
       "    </tr>\n",
       "    <tr>\n",
       "      <th>200</th>\n",
       "      <td>12.263199,79.681549</td>\n",
       "      <td>12/08 16:40 : 12/08 16:45</td>\n",
       "      <td>12.263199</td>\n",
       "      <td>79.681549</td>\n",
       "      <td>11.905124</td>\n",
       "      <td>79.808662</td>\n",
       "      <td>42.15</td>\n",
       "      <td>In-transit</td>\n",
       "      <td>2021-08-12 16:40:00</td>\n",
       "      <td>2021-08-12 16:45:00</td>\n",
       "      <td>0 days 00:05:00</td>\n",
       "      <td>0 days 00:05:00</td>\n",
       "    </tr>\n",
       "    <tr>\n",
       "      <th>220</th>\n",
       "      <td>11.904619,79.807034</td>\n",
       "      <td>12/08 18:20 : 12/08 18:25</td>\n",
       "      <td>11.904619</td>\n",
       "      <td>79.807034</td>\n",
       "      <td>11.905124</td>\n",
       "      <td>79.808662</td>\n",
       "      <td>0.19</td>\n",
       "      <td>In-transit</td>\n",
       "      <td>2021-08-12 18:20:00</td>\n",
       "      <td>2021-08-12 18:25:00</td>\n",
       "      <td>0 days 00:05:00</td>\n",
       "      <td>0 days 00:05:00</td>\n",
       "    </tr>\n",
       "    <tr>\n",
       "      <th>240</th>\n",
       "      <td>11.904636,79.807059</td>\n",
       "      <td>12/08 20:00 : 12/08 20:05</td>\n",
       "      <td>11.904636</td>\n",
       "      <td>79.807059</td>\n",
       "      <td>11.905124</td>\n",
       "      <td>79.808662</td>\n",
       "      <td>0.18</td>\n",
       "      <td>In-transit</td>\n",
       "      <td>2021-08-12 20:00:00</td>\n",
       "      <td>2021-08-12 20:05:00</td>\n",
       "      <td>0 days 00:05:00</td>\n",
       "      <td>0 days 00:05:00</td>\n",
       "    </tr>\n",
       "    <tr>\n",
       "      <th>260</th>\n",
       "      <td>11.904675,79.807078</td>\n",
       "      <td>12/08 21:40 : 12/08 21:45</td>\n",
       "      <td>11.904675</td>\n",
       "      <td>79.807078</td>\n",
       "      <td>11.905124</td>\n",
       "      <td>79.808662</td>\n",
       "      <td>0.18</td>\n",
       "      <td>In-transit</td>\n",
       "      <td>2021-08-12 21:40:00</td>\n",
       "      <td>2021-08-12 21:45:00</td>\n",
       "      <td>0 days 00:05:00</td>\n",
       "      <td>0 days 00:05:00</td>\n",
       "    </tr>\n",
       "    <tr>\n",
       "      <th>280</th>\n",
       "      <td>11.904675,79.807078</td>\n",
       "      <td>12/08 23:20 : 12/08 23:25</td>\n",
       "      <td>11.904675</td>\n",
       "      <td>79.807078</td>\n",
       "      <td>11.905124</td>\n",
       "      <td>79.808662</td>\n",
       "      <td>0.18</td>\n",
       "      <td>In-transit</td>\n",
       "      <td>2021-08-12 23:20:00</td>\n",
       "      <td>2021-08-12 23:25:00</td>\n",
       "      <td>0 days 00:05:00</td>\n",
       "      <td>0 days 00:05:00</td>\n",
       "    </tr>\n",
       "    <tr>\n",
       "      <th>300</th>\n",
       "      <td>11.904675,79.807078</td>\n",
       "      <td>13/08 01:00 : 13/08 01:05</td>\n",
       "      <td>11.904675</td>\n",
       "      <td>79.807078</td>\n",
       "      <td>11.905124</td>\n",
       "      <td>79.808662</td>\n",
       "      <td>0.18</td>\n",
       "      <td>In-transit</td>\n",
       "      <td>2021-08-13 01:00:00</td>\n",
       "      <td>2021-08-13 01:05:00</td>\n",
       "      <td>0 days 00:05:00</td>\n",
       "      <td>0 days 00:05:00</td>\n",
       "    </tr>\n",
       "    <tr>\n",
       "      <th>320</th>\n",
       "      <td>11.904675,79.807078</td>\n",
       "      <td>13/08 02:40 : 13/08 02:45</td>\n",
       "      <td>11.904675</td>\n",
       "      <td>79.807078</td>\n",
       "      <td>11.905124</td>\n",
       "      <td>79.808662</td>\n",
       "      <td>0.18</td>\n",
       "      <td>In-transit</td>\n",
       "      <td>2021-08-13 02:40:00</td>\n",
       "      <td>2021-08-13 02:45:00</td>\n",
       "      <td>0 days 00:05:00</td>\n",
       "      <td>0 days 00:05:00</td>\n",
       "    </tr>\n",
       "    <tr>\n",
       "      <th>340</th>\n",
       "      <td>11.904675,79.807078</td>\n",
       "      <td>13/08 04:20 : 13/08 04:25</td>\n",
       "      <td>11.904675</td>\n",
       "      <td>79.807078</td>\n",
       "      <td>11.905124</td>\n",
       "      <td>79.808662</td>\n",
       "      <td>0.18</td>\n",
       "      <td>In-transit</td>\n",
       "      <td>2021-08-13 04:20:00</td>\n",
       "      <td>2021-08-13 04:25:00</td>\n",
       "      <td>0 days 00:05:00</td>\n",
       "      <td>0 days 00:05:00</td>\n",
       "    </tr>\n",
       "    <tr>\n",
       "      <th>360</th>\n",
       "      <td>11.904675,79.807078</td>\n",
       "      <td>13/08 06:00 : 13/08 06:05</td>\n",
       "      <td>11.904675</td>\n",
       "      <td>79.807078</td>\n",
       "      <td>11.905124</td>\n",
       "      <td>79.808662</td>\n",
       "      <td>0.18</td>\n",
       "      <td>In-transit</td>\n",
       "      <td>2021-08-13 06:00:00</td>\n",
       "      <td>2021-08-13 06:05:00</td>\n",
       "      <td>0 days 00:05:00</td>\n",
       "      <td>0 days 00:05:00</td>\n",
       "    </tr>\n",
       "    <tr>\n",
       "      <th>380</th>\n",
       "      <td>11.904675,79.807078</td>\n",
       "      <td>13/08 07:40 : 13/08 07:45</td>\n",
       "      <td>11.904675</td>\n",
       "      <td>79.807078</td>\n",
       "      <td>11.905124</td>\n",
       "      <td>79.808662</td>\n",
       "      <td>0.18</td>\n",
       "      <td>In-transit</td>\n",
       "      <td>2021-08-13 07:40:00</td>\n",
       "      <td>2021-08-13 07:45:00</td>\n",
       "      <td>0 days 00:05:00</td>\n",
       "      <td>0 days 00:05:00</td>\n",
       "    </tr>\n",
       "    <tr>\n",
       "      <th>400</th>\n",
       "      <td>11.905312,79.80736</td>\n",
       "      <td>13/08 09:20 : 13/08 09:25</td>\n",
       "      <td>11.905312</td>\n",
       "      <td>79.807360</td>\n",
       "      <td>11.905124</td>\n",
       "      <td>79.808662</td>\n",
       "      <td>0.14</td>\n",
       "      <td>In-transit</td>\n",
       "      <td>2021-08-13 09:20:00</td>\n",
       "      <td>2021-08-13 09:25:00</td>\n",
       "      <td>0 days 00:05:00</td>\n",
       "      <td>0 days 00:05:00</td>\n",
       "    </tr>\n",
       "    <tr>\n",
       "      <th>420</th>\n",
       "      <td>11.905353,79.807386</td>\n",
       "      <td>13/08 11:00 : 13/08 11:05</td>\n",
       "      <td>11.905353</td>\n",
       "      <td>79.807386</td>\n",
       "      <td>11.905124</td>\n",
       "      <td>79.808662</td>\n",
       "      <td>0.14</td>\n",
       "      <td>In-transit</td>\n",
       "      <td>2021-08-13 11:00:00</td>\n",
       "      <td>2021-08-13 11:05:00</td>\n",
       "      <td>0 days 00:05:00</td>\n",
       "      <td>0 days 00:05:00</td>\n",
       "    </tr>\n",
       "    <tr>\n",
       "      <th>440</th>\n",
       "      <td>11.905353,79.807386</td>\n",
       "      <td>13/08 12:40 : 13/08 12:45</td>\n",
       "      <td>11.905353</td>\n",
       "      <td>79.807386</td>\n",
       "      <td>11.905124</td>\n",
       "      <td>79.808662</td>\n",
       "      <td>0.14</td>\n",
       "      <td>In-transit</td>\n",
       "      <td>2021-08-13 12:40:00</td>\n",
       "      <td>2021-08-13 12:45:00</td>\n",
       "      <td>0 days 00:05:00</td>\n",
       "      <td>0 days 00:05:00</td>\n",
       "    </tr>\n",
       "  </tbody>\n",
       "</table>\n",
       "</div>"
      ],
      "text/plain": [
       "                Lat,Lngt                     Period   Latitude  Longitude  \\\n",
       "0    13.031811,80.030688  12/08 00:00 : 12/08 00:05  13.031811  80.030688   \n",
       "20   13.031811,80.030688  12/08 01:40 : 12/08 01:45  13.031811  80.030688   \n",
       "40   13.031811,80.030688  12/08 03:20 : 12/08 03:25  13.031811  80.030688   \n",
       "60   13.031811,80.030688  12/08 05:00 : 12/08 05:05  13.031811  80.030688   \n",
       "80   13.031811,80.030688  12/08 06:40 : 12/08 06:45  13.031811  80.030688   \n",
       "100  13.031829,80.030765  12/08 08:20 : 12/08 08:25  13.031829  80.030765   \n",
       "120  13.031829,80.030765  12/08 10:00 : 12/08 10:05  13.031829  80.030765   \n",
       "140  13.003496,79.995904  12/08 11:40 : 12/08 11:45  13.003496  79.995904   \n",
       "160  12.993972,80.013805  12/08 13:20 : 12/08 13:25  12.993972  80.013805   \n",
       "180  12.754856,80.001235  12/08 15:00 : 12/08 15:05  12.754856  80.001235   \n",
       "200  12.263199,79.681549  12/08 16:40 : 12/08 16:45  12.263199  79.681549   \n",
       "220  11.904619,79.807034  12/08 18:20 : 12/08 18:25  11.904619  79.807034   \n",
       "240  11.904636,79.807059  12/08 20:00 : 12/08 20:05  11.904636  79.807059   \n",
       "260  11.904675,79.807078  12/08 21:40 : 12/08 21:45  11.904675  79.807078   \n",
       "280  11.904675,79.807078  12/08 23:20 : 12/08 23:25  11.904675  79.807078   \n",
       "300  11.904675,79.807078  13/08 01:00 : 13/08 01:05  11.904675  79.807078   \n",
       "320  11.904675,79.807078  13/08 02:40 : 13/08 02:45  11.904675  79.807078   \n",
       "340  11.904675,79.807078  13/08 04:20 : 13/08 04:25  11.904675  79.807078   \n",
       "360  11.904675,79.807078  13/08 06:00 : 13/08 06:05  11.904675  79.807078   \n",
       "380  11.904675,79.807078  13/08 07:40 : 13/08 07:45  11.904675  79.807078   \n",
       "400   11.905312,79.80736  13/08 09:20 : 13/08 09:25  11.905312  79.807360   \n",
       "420  11.905353,79.807386  13/08 11:00 : 13/08 11:05  11.905353  79.807386   \n",
       "440  11.905353,79.807386  13/08 12:40 : 13/08 12:45  11.905353  79.807386   \n",
       "\n",
       "     dealer_lat_3708  dealer_long_3708  Distance      Status  \\\n",
       "0          11.905124         79.808662    127.58  In-transit   \n",
       "20         11.905124         79.808662    127.58  In-transit   \n",
       "40         11.905124         79.808662    127.58  In-transit   \n",
       "60         11.905124         79.808662    127.58  In-transit   \n",
       "80         11.905124         79.808662    127.58  In-transit   \n",
       "100        11.905124         79.808662    127.58  In-transit   \n",
       "120        11.905124         79.808662    127.58  In-transit   \n",
       "140        11.905124         79.808662    123.81  In-transit   \n",
       "160        11.905124         79.808662    123.11  In-transit   \n",
       "180        11.905124         79.808662     96.77  In-transit   \n",
       "200        11.905124         79.808662     42.15  In-transit   \n",
       "220        11.905124         79.808662      0.19  In-transit   \n",
       "240        11.905124         79.808662      0.18  In-transit   \n",
       "260        11.905124         79.808662      0.18  In-transit   \n",
       "280        11.905124         79.808662      0.18  In-transit   \n",
       "300        11.905124         79.808662      0.18  In-transit   \n",
       "320        11.905124         79.808662      0.18  In-transit   \n",
       "340        11.905124         79.808662      0.18  In-transit   \n",
       "360        11.905124         79.808662      0.18  In-transit   \n",
       "380        11.905124         79.808662      0.18  In-transit   \n",
       "400        11.905124         79.808662      0.14  In-transit   \n",
       "420        11.905124         79.808662      0.14  In-transit   \n",
       "440        11.905124         79.808662      0.14  In-transit   \n",
       "\n",
       "               start_dt              end_dt  Time_diff_temp       Time_diff  \n",
       "0   2021-08-12 00:00:00 2021-08-12 00:05:00 0 days 00:05:00 0 days 00:00:00  \n",
       "20  2021-08-12 01:40:00 2021-08-12 01:45:00 0 days 00:05:00 0 days 00:05:00  \n",
       "40  2021-08-12 03:20:00 2021-08-12 03:25:00 0 days 00:05:00 0 days 00:05:00  \n",
       "60  2021-08-12 05:00:00 2021-08-12 05:05:00 0 days 00:05:00 0 days 00:05:00  \n",
       "80  2021-08-12 06:40:00 2021-08-12 06:45:00 0 days 00:05:00 0 days 00:05:00  \n",
       "100 2021-08-12 08:20:00 2021-08-12 08:25:00 0 days 00:05:00 0 days 00:05:00  \n",
       "120 2021-08-12 10:00:00 2021-08-12 10:05:00 0 days 00:05:00 0 days 00:05:00  \n",
       "140 2021-08-12 11:40:00 2021-08-12 11:45:00 0 days 00:05:00 0 days 00:05:00  \n",
       "160 2021-08-12 13:20:00 2021-08-12 13:25:00 0 days 00:05:00 0 days 00:05:00  \n",
       "180 2021-08-12 15:00:00 2021-08-12 15:05:00 0 days 00:05:00 0 days 00:05:00  \n",
       "200 2021-08-12 16:40:00 2021-08-12 16:45:00 0 days 00:05:00 0 days 00:05:00  \n",
       "220 2021-08-12 18:20:00 2021-08-12 18:25:00 0 days 00:05:00 0 days 00:05:00  \n",
       "240 2021-08-12 20:00:00 2021-08-12 20:05:00 0 days 00:05:00 0 days 00:05:00  \n",
       "260 2021-08-12 21:40:00 2021-08-12 21:45:00 0 days 00:05:00 0 days 00:05:00  \n",
       "280 2021-08-12 23:20:00 2021-08-12 23:25:00 0 days 00:05:00 0 days 00:05:00  \n",
       "300 2021-08-13 01:00:00 2021-08-13 01:05:00 0 days 00:05:00 0 days 00:05:00  \n",
       "320 2021-08-13 02:40:00 2021-08-13 02:45:00 0 days 00:05:00 0 days 00:05:00  \n",
       "340 2021-08-13 04:20:00 2021-08-13 04:25:00 0 days 00:05:00 0 days 00:05:00  \n",
       "360 2021-08-13 06:00:00 2021-08-13 06:05:00 0 days 00:05:00 0 days 00:05:00  \n",
       "380 2021-08-13 07:40:00 2021-08-13 07:45:00 0 days 00:05:00 0 days 00:05:00  \n",
       "400 2021-08-13 09:20:00 2021-08-13 09:25:00 0 days 00:05:00 0 days 00:05:00  \n",
       "420 2021-08-13 11:00:00 2021-08-13 11:05:00 0 days 00:05:00 0 days 00:05:00  \n",
       "440 2021-08-13 12:40:00 2021-08-13 12:45:00 0 days 00:05:00 0 days 00:05:00  "
      ]
     },
     "execution_count": 384,
     "metadata": {},
     "output_type": "execute_result"
    }
   ],
   "source": [
    "nl3708_new"
   ]
  },
  {
   "cell_type": "code",
   "execution_count": null,
   "metadata": {},
   "outputs": [],
   "source": []
  },
  {
   "cell_type": "code",
   "execution_count": null,
   "metadata": {},
   "outputs": [],
   "source": []
  },
  {
   "cell_type": "code",
   "execution_count": null,
   "metadata": {},
   "outputs": [],
   "source": []
  },
  {
   "cell_type": "code",
   "execution_count": null,
   "metadata": {},
   "outputs": [],
   "source": []
  },
  {
   "cell_type": "code",
   "execution_count": null,
   "metadata": {},
   "outputs": [],
   "source": []
  },
  {
   "cell_type": "code",
   "execution_count": null,
   "metadata": {},
   "outputs": [],
   "source": []
  },
  {
   "cell_type": "code",
   "execution_count": null,
   "metadata": {},
   "outputs": [],
   "source": []
  },
  {
   "cell_type": "code",
   "execution_count": null,
   "metadata": {},
   "outputs": [],
   "source": []
  },
  {
   "cell_type": "code",
   "execution_count": null,
   "metadata": {},
   "outputs": [],
   "source": []
  },
  {
   "cell_type": "code",
   "execution_count": null,
   "metadata": {},
   "outputs": [],
   "source": []
  },
  {
   "cell_type": "code",
   "execution_count": null,
   "metadata": {},
   "outputs": [],
   "source": []
  },
  {
   "cell_type": "code",
   "execution_count": null,
   "metadata": {},
   "outputs": [],
   "source": []
  },
  {
   "cell_type": "code",
   "execution_count": null,
   "metadata": {},
   "outputs": [],
   "source": []
  },
  {
   "cell_type": "code",
   "execution_count": null,
   "metadata": {},
   "outputs": [],
   "source": []
  },
  {
   "cell_type": "code",
   "execution_count": null,
   "metadata": {},
   "outputs": [],
   "source": []
  },
  {
   "cell_type": "code",
   "execution_count": null,
   "metadata": {},
   "outputs": [],
   "source": []
  },
  {
   "cell_type": "code",
   "execution_count": null,
   "metadata": {},
   "outputs": [],
   "source": []
  },
  {
   "cell_type": "code",
   "execution_count": null,
   "metadata": {},
   "outputs": [],
   "source": []
  },
  {
   "cell_type": "code",
   "execution_count": null,
   "metadata": {},
   "outputs": [],
   "source": []
  },
  {
   "cell_type": "code",
   "execution_count": null,
   "metadata": {},
   "outputs": [],
   "source": []
  },
  {
   "cell_type": "code",
   "execution_count": null,
   "metadata": {},
   "outputs": [],
   "source": []
  },
  {
   "cell_type": "code",
   "execution_count": null,
   "metadata": {},
   "outputs": [],
   "source": []
  },
  {
   "cell_type": "code",
   "execution_count": null,
   "metadata": {},
   "outputs": [],
   "source": []
  },
  {
   "cell_type": "code",
   "execution_count": null,
   "metadata": {},
   "outputs": [],
   "source": []
  },
  {
   "cell_type": "code",
   "execution_count": null,
   "metadata": {},
   "outputs": [],
   "source": []
  },
  {
   "cell_type": "code",
   "execution_count": null,
   "metadata": {},
   "outputs": [],
   "source": []
  },
  {
   "cell_type": "code",
   "execution_count": null,
   "metadata": {},
   "outputs": [],
   "source": []
  },
  {
   "cell_type": "code",
   "execution_count": null,
   "metadata": {},
   "outputs": [],
   "source": []
  },
  {
   "cell_type": "code",
   "execution_count": null,
   "metadata": {},
   "outputs": [],
   "source": []
  },
  {
   "cell_type": "code",
   "execution_count": null,
   "metadata": {},
   "outputs": [],
   "source": []
  },
  {
   "cell_type": "code",
   "execution_count": null,
   "metadata": {},
   "outputs": [],
   "source": []
  },
  {
   "cell_type": "code",
   "execution_count": null,
   "metadata": {},
   "outputs": [],
   "source": []
  },
  {
   "cell_type": "code",
   "execution_count": null,
   "metadata": {},
   "outputs": [],
   "source": []
  },
  {
   "cell_type": "code",
   "execution_count": null,
   "metadata": {},
   "outputs": [],
   "source": []
  },
  {
   "cell_type": "code",
   "execution_count": null,
   "metadata": {},
   "outputs": [],
   "source": []
  },
  {
   "cell_type": "code",
   "execution_count": null,
   "metadata": {},
   "outputs": [],
   "source": []
  },
  {
   "cell_type": "code",
   "execution_count": null,
   "metadata": {},
   "outputs": [],
   "source": []
  },
  {
   "cell_type": "code",
   "execution_count": null,
   "metadata": {},
   "outputs": [],
   "source": []
  },
  {
   "cell_type": "code",
   "execution_count": null,
   "metadata": {},
   "outputs": [],
   "source": []
  },
  {
   "cell_type": "code",
   "execution_count": null,
   "metadata": {},
   "outputs": [],
   "source": []
  },
  {
   "cell_type": "code",
   "execution_count": null,
   "metadata": {},
   "outputs": [],
   "source": []
  },
  {
   "cell_type": "code",
   "execution_count": null,
   "metadata": {},
   "outputs": [],
   "source": []
  },
  {
   "cell_type": "code",
   "execution_count": null,
   "metadata": {},
   "outputs": [],
   "source": []
  },
  {
   "cell_type": "code",
   "execution_count": null,
   "metadata": {},
   "outputs": [],
   "source": []
  },
  {
   "cell_type": "code",
   "execution_count": 162,
   "metadata": {},
   "outputs": [],
   "source": [
    "## Nl3753"
   ]
  },
  {
   "cell_type": "code",
   "execution_count": 279,
   "metadata": {},
   "outputs": [],
   "source": [
    "df_nl3753 = pd.read_excel('D:\\\\Sales Logistic Project\\\\NL02Q3753_new.xltm')"
   ]
  },
  {
   "cell_type": "code",
   "execution_count": 280,
   "metadata": {},
   "outputs": [],
   "source": [
    "df_nl3753[['Latitude', 'Longitude']] = df_nl3753['Lat,Lngt'].str.split(',', 1, expand=True)"
   ]
  },
  {
   "cell_type": "code",
   "execution_count": 281,
   "metadata": {},
   "outputs": [],
   "source": [
    "df_nl3753 = df_nl3753[df_nl3753['Lat,Lngt'].notna()]"
   ]
  },
  {
   "cell_type": "code",
   "execution_count": 282,
   "metadata": {},
   "outputs": [],
   "source": [
    "df_nl3753['Latitude'] = df_nl3753['Latitude'].astype(float)"
   ]
  },
  {
   "cell_type": "code",
   "execution_count": 283,
   "metadata": {},
   "outputs": [],
   "source": [
    "df_nl3753['Longitude'] = df_nl3753['Longitude'].astype(float)"
   ]
  },
  {
   "cell_type": "code",
   "execution_count": 284,
   "metadata": {},
   "outputs": [
    {
     "data": {
      "text/plain": [
       "(862, 4)"
      ]
     },
     "execution_count": 284,
     "metadata": {},
     "output_type": "execute_result"
    }
   ],
   "source": [
    "df_nl3753.shape"
   ]
  },
  {
   "cell_type": "code",
   "execution_count": 285,
   "metadata": {},
   "outputs": [],
   "source": [
    "df_nl3753['dealer_lat_3753'] = 11.0131189\n",
    "df_nl3753['dealer_long_3753'] = 76.9801286"
   ]
  },
  {
   "cell_type": "code",
   "execution_count": 286,
   "metadata": {},
   "outputs": [],
   "source": [
    "dealer_lat_3753 = 11.0131189\n",
    "dealer_long_3753 = 76.9801286\n",
    "\n",
    "\n",
    "distances_km = []\n",
    "for row in df_nl3753.itertuples(index=False):\n",
    "   distances_km.append(\n",
    "       haversine_distance(dealer_lat_3753, dealer_long_3753, row.Latitude, row.Longitude)\n",
    "   )"
   ]
  },
  {
   "cell_type": "code",
   "execution_count": 287,
   "metadata": {},
   "outputs": [],
   "source": [
    "df_nl3753['Distance'] = distances_km"
   ]
  },
  {
   "cell_type": "code",
   "execution_count": 288,
   "metadata": {},
   "outputs": [
    {
     "data": {
      "text/plain": [
       "0.61"
      ]
     },
     "execution_count": 288,
     "metadata": {},
     "output_type": "execute_result"
    }
   ],
   "source": [
    "df_nl3753.Distance.min()"
   ]
  },
  {
   "cell_type": "code",
   "execution_count": 289,
   "metadata": {},
   "outputs": [],
   "source": [
    "df_nl3753['Status'] = np.where(df_nl3753['Distance']!= df_nl3753['Distance'].min(), 'In-transit', 'Unloading-Point')"
   ]
  },
  {
   "cell_type": "code",
   "execution_count": 290,
   "metadata": {},
   "outputs": [
    {
     "data": {
      "text/html": [
       "<div>\n",
       "<style scoped>\n",
       "    .dataframe tbody tr th:only-of-type {\n",
       "        vertical-align: middle;\n",
       "    }\n",
       "\n",
       "    .dataframe tbody tr th {\n",
       "        vertical-align: top;\n",
       "    }\n",
       "\n",
       "    .dataframe thead th {\n",
       "        text-align: right;\n",
       "    }\n",
       "</style>\n",
       "<table border=\"1\" class=\"dataframe\">\n",
       "  <thead>\n",
       "    <tr style=\"text-align: right;\">\n",
       "      <th></th>\n",
       "      <th>Lat,Lngt</th>\n",
       "      <th>Period</th>\n",
       "      <th>Latitude</th>\n",
       "      <th>Longitude</th>\n",
       "      <th>dealer_lat_3753</th>\n",
       "      <th>dealer_long_3753</th>\n",
       "      <th>Distance</th>\n",
       "      <th>Status</th>\n",
       "    </tr>\n",
       "  </thead>\n",
       "  <tbody>\n",
       "    <tr>\n",
       "      <th>0</th>\n",
       "      <td>13.027363,80.029651</td>\n",
       "      <td>16/09 00:00 : 16/09 00:05</td>\n",
       "      <td>13.027363</td>\n",
       "      <td>80.029651</td>\n",
       "      <td>11.013119</td>\n",
       "      <td>76.980129</td>\n",
       "      <td>400.18</td>\n",
       "      <td>In-transit</td>\n",
       "    </tr>\n",
       "  </tbody>\n",
       "</table>\n",
       "</div>"
      ],
      "text/plain": [
       "              Lat,Lngt                     Period   Latitude  Longitude  \\\n",
       "0  13.027363,80.029651  16/09 00:00 : 16/09 00:05  13.027363  80.029651   \n",
       "\n",
       "   dealer_lat_3753  dealer_long_3753  Distance      Status  \n",
       "0        11.013119         76.980129    400.18  In-transit  "
      ]
     },
     "execution_count": 290,
     "metadata": {},
     "output_type": "execute_result"
    }
   ],
   "source": [
    "df_nl3753[0:1]"
   ]
  },
  {
   "cell_type": "code",
   "execution_count": 291,
   "metadata": {},
   "outputs": [
    {
     "data": {
      "text/html": [
       "<div>\n",
       "<style scoped>\n",
       "    .dataframe tbody tr th:only-of-type {\n",
       "        vertical-align: middle;\n",
       "    }\n",
       "\n",
       "    .dataframe tbody tr th {\n",
       "        vertical-align: top;\n",
       "    }\n",
       "\n",
       "    .dataframe thead th {\n",
       "        text-align: right;\n",
       "    }\n",
       "</style>\n",
       "<table border=\"1\" class=\"dataframe\">\n",
       "  <thead>\n",
       "    <tr style=\"text-align: right;\">\n",
       "      <th></th>\n",
       "      <th>Lat,Lngt</th>\n",
       "      <th>Period</th>\n",
       "      <th>Latitude</th>\n",
       "      <th>Longitude</th>\n",
       "      <th>dealer_lat_3753</th>\n",
       "      <th>dealer_long_3753</th>\n",
       "      <th>Distance</th>\n",
       "      <th>Status</th>\n",
       "    </tr>\n",
       "  </thead>\n",
       "  <tbody>\n",
       "    <tr>\n",
       "      <th>566</th>\n",
       "      <td>11.012391,76.985638</td>\n",
       "      <td>17/09 23:10 : 17/09 23:15</td>\n",
       "      <td>11.012391</td>\n",
       "      <td>76.985638</td>\n",
       "      <td>11.013119</td>\n",
       "      <td>76.980129</td>\n",
       "      <td>0.61</td>\n",
       "      <td>Unloading-Point</td>\n",
       "    </tr>\n",
       "    <tr>\n",
       "      <th>567</th>\n",
       "      <td>11.012391,76.985638</td>\n",
       "      <td>17/09 23:15 : 17/09 23:20</td>\n",
       "      <td>11.012391</td>\n",
       "      <td>76.985638</td>\n",
       "      <td>11.013119</td>\n",
       "      <td>76.980129</td>\n",
       "      <td>0.61</td>\n",
       "      <td>Unloading-Point</td>\n",
       "    </tr>\n",
       "    <tr>\n",
       "      <th>568</th>\n",
       "      <td>11.012391,76.985638</td>\n",
       "      <td>17/09 23:20 : 17/09 23:25</td>\n",
       "      <td>11.012391</td>\n",
       "      <td>76.985638</td>\n",
       "      <td>11.013119</td>\n",
       "      <td>76.980129</td>\n",
       "      <td>0.61</td>\n",
       "      <td>Unloading-Point</td>\n",
       "    </tr>\n",
       "    <tr>\n",
       "      <th>569</th>\n",
       "      <td>11.012391,76.985638</td>\n",
       "      <td>17/09 23:25 : 17/09 23:30</td>\n",
       "      <td>11.012391</td>\n",
       "      <td>76.985638</td>\n",
       "      <td>11.013119</td>\n",
       "      <td>76.980129</td>\n",
       "      <td>0.61</td>\n",
       "      <td>Unloading-Point</td>\n",
       "    </tr>\n",
       "    <tr>\n",
       "      <th>570</th>\n",
       "      <td>11.012391,76.985638</td>\n",
       "      <td>17/09 23:30 : 17/09 23:35</td>\n",
       "      <td>11.012391</td>\n",
       "      <td>76.985638</td>\n",
       "      <td>11.013119</td>\n",
       "      <td>76.980129</td>\n",
       "      <td>0.61</td>\n",
       "      <td>Unloading-Point</td>\n",
       "    </tr>\n",
       "    <tr>\n",
       "      <th>571</th>\n",
       "      <td>11.012391,76.985638</td>\n",
       "      <td>17/09 23:35 : 17/09 23:40</td>\n",
       "      <td>11.012391</td>\n",
       "      <td>76.985638</td>\n",
       "      <td>11.013119</td>\n",
       "      <td>76.980129</td>\n",
       "      <td>0.61</td>\n",
       "      <td>Unloading-Point</td>\n",
       "    </tr>\n",
       "    <tr>\n",
       "      <th>572</th>\n",
       "      <td>11.012391,76.985638</td>\n",
       "      <td>17/09 23:40 : 17/09 23:45</td>\n",
       "      <td>11.012391</td>\n",
       "      <td>76.985638</td>\n",
       "      <td>11.013119</td>\n",
       "      <td>76.980129</td>\n",
       "      <td>0.61</td>\n",
       "      <td>Unloading-Point</td>\n",
       "    </tr>\n",
       "    <tr>\n",
       "      <th>573</th>\n",
       "      <td>11.012391,76.985638</td>\n",
       "      <td>17/09 23:45 : 17/09 23:50</td>\n",
       "      <td>11.012391</td>\n",
       "      <td>76.985638</td>\n",
       "      <td>11.013119</td>\n",
       "      <td>76.980129</td>\n",
       "      <td>0.61</td>\n",
       "      <td>Unloading-Point</td>\n",
       "    </tr>\n",
       "    <tr>\n",
       "      <th>574</th>\n",
       "      <td>11.012391,76.985638</td>\n",
       "      <td>17/09 23:50 : 17/09 23:55</td>\n",
       "      <td>11.012391</td>\n",
       "      <td>76.985638</td>\n",
       "      <td>11.013119</td>\n",
       "      <td>76.980129</td>\n",
       "      <td>0.61</td>\n",
       "      <td>Unloading-Point</td>\n",
       "    </tr>\n",
       "    <tr>\n",
       "      <th>575</th>\n",
       "      <td>11.012391,76.985638</td>\n",
       "      <td>17/09 23:55 : 18/09 00:00</td>\n",
       "      <td>11.012391</td>\n",
       "      <td>76.985638</td>\n",
       "      <td>11.013119</td>\n",
       "      <td>76.980129</td>\n",
       "      <td>0.61</td>\n",
       "      <td>Unloading-Point</td>\n",
       "    </tr>\n",
       "    <tr>\n",
       "      <th>576</th>\n",
       "      <td>11.012391,76.985638</td>\n",
       "      <td>18/09 00:00 : 18/09 00:05</td>\n",
       "      <td>11.012391</td>\n",
       "      <td>76.985638</td>\n",
       "      <td>11.013119</td>\n",
       "      <td>76.980129</td>\n",
       "      <td>0.61</td>\n",
       "      <td>Unloading-Point</td>\n",
       "    </tr>\n",
       "    <tr>\n",
       "      <th>577</th>\n",
       "      <td>11.012391,76.985638</td>\n",
       "      <td>18/09 00:05 : 18/09 00:10</td>\n",
       "      <td>11.012391</td>\n",
       "      <td>76.985638</td>\n",
       "      <td>11.013119</td>\n",
       "      <td>76.980129</td>\n",
       "      <td>0.61</td>\n",
       "      <td>Unloading-Point</td>\n",
       "    </tr>\n",
       "    <tr>\n",
       "      <th>578</th>\n",
       "      <td>11.012391,76.985638</td>\n",
       "      <td>18/09 00:10 : 18/09 00:15</td>\n",
       "      <td>11.012391</td>\n",
       "      <td>76.985638</td>\n",
       "      <td>11.013119</td>\n",
       "      <td>76.980129</td>\n",
       "      <td>0.61</td>\n",
       "      <td>Unloading-Point</td>\n",
       "    </tr>\n",
       "    <tr>\n",
       "      <th>579</th>\n",
       "      <td>11.012391,76.985638</td>\n",
       "      <td>18/09 00:15 : 18/09 00:20</td>\n",
       "      <td>11.012391</td>\n",
       "      <td>76.985638</td>\n",
       "      <td>11.013119</td>\n",
       "      <td>76.980129</td>\n",
       "      <td>0.61</td>\n",
       "      <td>Unloading-Point</td>\n",
       "    </tr>\n",
       "    <tr>\n",
       "      <th>580</th>\n",
       "      <td>11.012391,76.985638</td>\n",
       "      <td>18/09 00:20 : 18/09 00:25</td>\n",
       "      <td>11.012391</td>\n",
       "      <td>76.985638</td>\n",
       "      <td>11.013119</td>\n",
       "      <td>76.980129</td>\n",
       "      <td>0.61</td>\n",
       "      <td>Unloading-Point</td>\n",
       "    </tr>\n",
       "    <tr>\n",
       "      <th>581</th>\n",
       "      <td>11.012391,76.985638</td>\n",
       "      <td>18/09 00:25 : 18/09 00:30</td>\n",
       "      <td>11.012391</td>\n",
       "      <td>76.985638</td>\n",
       "      <td>11.013119</td>\n",
       "      <td>76.980129</td>\n",
       "      <td>0.61</td>\n",
       "      <td>Unloading-Point</td>\n",
       "    </tr>\n",
       "    <tr>\n",
       "      <th>582</th>\n",
       "      <td>11.012391,76.985638</td>\n",
       "      <td>18/09 00:30 : 18/09 00:35</td>\n",
       "      <td>11.012391</td>\n",
       "      <td>76.985638</td>\n",
       "      <td>11.013119</td>\n",
       "      <td>76.980129</td>\n",
       "      <td>0.61</td>\n",
       "      <td>Unloading-Point</td>\n",
       "    </tr>\n",
       "    <tr>\n",
       "      <th>583</th>\n",
       "      <td>11.012391,76.985638</td>\n",
       "      <td>18/09 00:35 : 18/09 00:40</td>\n",
       "      <td>11.012391</td>\n",
       "      <td>76.985638</td>\n",
       "      <td>11.013119</td>\n",
       "      <td>76.980129</td>\n",
       "      <td>0.61</td>\n",
       "      <td>Unloading-Point</td>\n",
       "    </tr>\n",
       "    <tr>\n",
       "      <th>584</th>\n",
       "      <td>11.012391,76.985638</td>\n",
       "      <td>18/09 00:40 : 18/09 00:45</td>\n",
       "      <td>11.012391</td>\n",
       "      <td>76.985638</td>\n",
       "      <td>11.013119</td>\n",
       "      <td>76.980129</td>\n",
       "      <td>0.61</td>\n",
       "      <td>Unloading-Point</td>\n",
       "    </tr>\n",
       "    <tr>\n",
       "      <th>585</th>\n",
       "      <td>11.012391,76.985638</td>\n",
       "      <td>18/09 00:45 : 18/09 00:50</td>\n",
       "      <td>11.012391</td>\n",
       "      <td>76.985638</td>\n",
       "      <td>11.013119</td>\n",
       "      <td>76.980129</td>\n",
       "      <td>0.61</td>\n",
       "      <td>Unloading-Point</td>\n",
       "    </tr>\n",
       "  </tbody>\n",
       "</table>\n",
       "</div>"
      ],
      "text/plain": [
       "                Lat,Lngt                     Period   Latitude  Longitude  \\\n",
       "566  11.012391,76.985638  17/09 23:10 : 17/09 23:15  11.012391  76.985638   \n",
       "567  11.012391,76.985638  17/09 23:15 : 17/09 23:20  11.012391  76.985638   \n",
       "568  11.012391,76.985638  17/09 23:20 : 17/09 23:25  11.012391  76.985638   \n",
       "569  11.012391,76.985638  17/09 23:25 : 17/09 23:30  11.012391  76.985638   \n",
       "570  11.012391,76.985638  17/09 23:30 : 17/09 23:35  11.012391  76.985638   \n",
       "571  11.012391,76.985638  17/09 23:35 : 17/09 23:40  11.012391  76.985638   \n",
       "572  11.012391,76.985638  17/09 23:40 : 17/09 23:45  11.012391  76.985638   \n",
       "573  11.012391,76.985638  17/09 23:45 : 17/09 23:50  11.012391  76.985638   \n",
       "574  11.012391,76.985638  17/09 23:50 : 17/09 23:55  11.012391  76.985638   \n",
       "575  11.012391,76.985638  17/09 23:55 : 18/09 00:00  11.012391  76.985638   \n",
       "576  11.012391,76.985638  18/09 00:00 : 18/09 00:05  11.012391  76.985638   \n",
       "577  11.012391,76.985638  18/09 00:05 : 18/09 00:10  11.012391  76.985638   \n",
       "578  11.012391,76.985638  18/09 00:10 : 18/09 00:15  11.012391  76.985638   \n",
       "579  11.012391,76.985638  18/09 00:15 : 18/09 00:20  11.012391  76.985638   \n",
       "580  11.012391,76.985638  18/09 00:20 : 18/09 00:25  11.012391  76.985638   \n",
       "581  11.012391,76.985638  18/09 00:25 : 18/09 00:30  11.012391  76.985638   \n",
       "582  11.012391,76.985638  18/09 00:30 : 18/09 00:35  11.012391  76.985638   \n",
       "583  11.012391,76.985638  18/09 00:35 : 18/09 00:40  11.012391  76.985638   \n",
       "584  11.012391,76.985638  18/09 00:40 : 18/09 00:45  11.012391  76.985638   \n",
       "585  11.012391,76.985638  18/09 00:45 : 18/09 00:50  11.012391  76.985638   \n",
       "\n",
       "     dealer_lat_3753  dealer_long_3753  Distance           Status  \n",
       "566        11.013119         76.980129      0.61  Unloading-Point  \n",
       "567        11.013119         76.980129      0.61  Unloading-Point  \n",
       "568        11.013119         76.980129      0.61  Unloading-Point  \n",
       "569        11.013119         76.980129      0.61  Unloading-Point  \n",
       "570        11.013119         76.980129      0.61  Unloading-Point  \n",
       "571        11.013119         76.980129      0.61  Unloading-Point  \n",
       "572        11.013119         76.980129      0.61  Unloading-Point  \n",
       "573        11.013119         76.980129      0.61  Unloading-Point  \n",
       "574        11.013119         76.980129      0.61  Unloading-Point  \n",
       "575        11.013119         76.980129      0.61  Unloading-Point  \n",
       "576        11.013119         76.980129      0.61  Unloading-Point  \n",
       "577        11.013119         76.980129      0.61  Unloading-Point  \n",
       "578        11.013119         76.980129      0.61  Unloading-Point  \n",
       "579        11.013119         76.980129      0.61  Unloading-Point  \n",
       "580        11.013119         76.980129      0.61  Unloading-Point  \n",
       "581        11.013119         76.980129      0.61  Unloading-Point  \n",
       "582        11.013119         76.980129      0.61  Unloading-Point  \n",
       "583        11.013119         76.980129      0.61  Unloading-Point  \n",
       "584        11.013119         76.980129      0.61  Unloading-Point  \n",
       "585        11.013119         76.980129      0.61  Unloading-Point  "
      ]
     },
     "execution_count": 291,
     "metadata": {},
     "output_type": "execute_result"
    }
   ],
   "source": [
    "df_nl3753.iloc[np.where(df_nl3753.Distance==df_nl3753.Distance.min())]"
   ]
  },
  {
   "cell_type": "code",
   "execution_count": 292,
   "metadata": {},
   "outputs": [
    {
     "data": {
      "text/plain": [
       "0    2021-09-16 00:00\n",
       "1    2021-09-16 00:05\n",
       "Name: start_dt, dtype: object"
      ]
     },
     "execution_count": 292,
     "metadata": {},
     "output_type": "execute_result"
    }
   ],
   "source": [
    "#df_gj['start_dt'] = df_gj['Period'].map(lambda x:\"2021\"+\"-\"+str(x)[0:2]+\"-\"+str(x)[3:5]+\" \"+str(x)[6:11])\n",
    "df_nl3753['start_dt'] = df_nl3753['Period'].map(lambda x:\"2021\"+\"-\"+str(x)[3:5]+\"-\"+str(x)[0:2]+\" \"+str(x)[6:11])\n",
    "df_nl3753['start_dt'].head(2)"
   ]
  },
  {
   "cell_type": "code",
   "execution_count": 293,
   "metadata": {},
   "outputs": [
    {
     "data": {
      "text/plain": [
       "0    2021-09 - 16 00:05\n",
       "1    2021-09 - 16 00:10\n",
       "Name: end_dt, dtype: object"
      ]
     },
     "execution_count": 293,
     "metadata": {},
     "output_type": "execute_result"
    }
   ],
   "source": [
    "#df_gj['end_dt'] = df_gj['Period'].map(lambda x:\"2021\"+\"-\"+str(x)[13:16]+\"-\"+str(x)[17:20]+\" \"+str(x)[20:25])\n",
    "df_nl3753['end_dt'] = df_nl3753['Period'].map(lambda x:\"2021\"+\"-\"+str(x)[17:20]+\"-\"+str(x)[13:16]+\" \"+str(x)[20:25])\n",
    "df_nl3753['end_dt'].head(2)"
   ]
  },
  {
   "cell_type": "code",
   "execution_count": 294,
   "metadata": {},
   "outputs": [],
   "source": [
    "df_nl3753['start_dt'] = pd.to_datetime(df_nl3753['start_dt'])\n",
    "df_nl3753['end_dt'] = pd.to_datetime(df_nl3753['end_dt'])"
   ]
  },
  {
   "cell_type": "code",
   "execution_count": 295,
   "metadata": {},
   "outputs": [],
   "source": [
    "df_nl3753['Time_diff_temp'] = df_nl3753['end_dt'] - df_nl3753['start_dt']"
   ]
  },
  {
   "cell_type": "code",
   "execution_count": 296,
   "metadata": {},
   "outputs": [
    {
     "data": {
      "text/plain": [
       "0 days 00:05:00    861\n",
       "0 days 00:04:00      1\n",
       "Name: Time_diff_temp, dtype: int64"
      ]
     },
     "execution_count": 296,
     "metadata": {},
     "output_type": "execute_result"
    }
   ],
   "source": [
    "df_nl3753['Time_diff_temp'].value_counts()"
   ]
  },
  {
   "cell_type": "code",
   "execution_count": 297,
   "metadata": {},
   "outputs": [],
   "source": [
    "df_nl3753['Time_diff'] = [x.iloc[-1] - x.iloc[0] for x in df_nl3753['end_dt'].rolling(2) if len(x)>0]\n"
   ]
  },
  {
   "cell_type": "code",
   "execution_count": 298,
   "metadata": {},
   "outputs": [
    {
     "data": {
      "text/plain": [
       "0 days 00:05:00    859\n",
       "0 days 00:10:00      1\n",
       "0 days 00:04:00      1\n",
       "0 days 00:00:00      1\n",
       "Name: Time_diff, dtype: int64"
      ]
     },
     "execution_count": 298,
     "metadata": {},
     "output_type": "execute_result"
    }
   ],
   "source": [
    "df_nl3753['Time_diff'].value_counts()"
   ]
  },
  {
   "cell_type": "code",
   "execution_count": 183,
   "metadata": {},
   "outputs": [],
   "source": [
    "## stoppage time "
   ]
  },
  {
   "cell_type": "code",
   "execution_count": 184,
   "metadata": {},
   "outputs": [],
   "source": [
    "df_nl3753 = df_nl3753.groupby(['Latitude', 'Longitude']).agg({'end_dt':['min','max']})\n"
   ]
  },
  {
   "cell_type": "code",
   "execution_count": 186,
   "metadata": {},
   "outputs": [],
   "source": [
    "df_nl3753.to_excel(\"df_nl3753.xlsx\")\n",
    "\n"
   ]
  },
  {
   "cell_type": "code",
   "execution_count": 188,
   "metadata": {},
   "outputs": [],
   "source": [
    "df_nl3753_stoppage = pd.read_excel('D:\\\\Sales Logistic Project\\\\df_nl3753.xltm')"
   ]
  },
  {
   "cell_type": "code",
   "execution_count": 189,
   "metadata": {},
   "outputs": [
    {
     "data": {
      "text/html": [
       "<div>\n",
       "<style scoped>\n",
       "    .dataframe tbody tr th:only-of-type {\n",
       "        vertical-align: middle;\n",
       "    }\n",
       "\n",
       "    .dataframe tbody tr th {\n",
       "        vertical-align: top;\n",
       "    }\n",
       "\n",
       "    .dataframe thead th {\n",
       "        text-align: right;\n",
       "    }\n",
       "</style>\n",
       "<table border=\"1\" class=\"dataframe\">\n",
       "  <thead>\n",
       "    <tr style=\"text-align: right;\">\n",
       "      <th></th>\n",
       "      <th>Latitude</th>\n",
       "      <th>Longitude</th>\n",
       "      <th>min</th>\n",
       "      <th>max</th>\n",
       "    </tr>\n",
       "  </thead>\n",
       "  <tbody>\n",
       "    <tr>\n",
       "      <th>0</th>\n",
       "      <td>11.012391</td>\n",
       "      <td>76.985638</td>\n",
       "      <td>2021-09-17 23:15:00</td>\n",
       "      <td>2021-09-18 00:50:00</td>\n",
       "    </tr>\n",
       "    <tr>\n",
       "      <th>1</th>\n",
       "      <td>11.014603</td>\n",
       "      <td>76.988141</td>\n",
       "      <td>2021-09-17 23:10:00</td>\n",
       "      <td>2021-09-17 23:10:00</td>\n",
       "    </tr>\n",
       "    <tr>\n",
       "      <th>2</th>\n",
       "      <td>11.017727</td>\n",
       "      <td>76.990534</td>\n",
       "      <td>2021-09-18 00:55:00</td>\n",
       "      <td>2021-09-18 00:55:00</td>\n",
       "    </tr>\n",
       "    <tr>\n",
       "      <th>3</th>\n",
       "      <td>11.020194</td>\n",
       "      <td>76.992390</td>\n",
       "      <td>2021-09-17 23:05:00</td>\n",
       "      <td>2021-09-17 23:05:00</td>\n",
       "    </tr>\n",
       "    <tr>\n",
       "      <th>4</th>\n",
       "      <td>11.024900</td>\n",
       "      <td>77.010086</td>\n",
       "      <td>2021-09-17 23:00:00</td>\n",
       "      <td>2021-09-17 23:00:00</td>\n",
       "    </tr>\n",
       "    <tr>\n",
       "      <th>...</th>\n",
       "      <td>...</td>\n",
       "      <td>...</td>\n",
       "      <td>...</td>\n",
       "      <td>...</td>\n",
       "    </tr>\n",
       "    <tr>\n",
       "      <th>315</th>\n",
       "      <td>13.029796</td>\n",
       "      <td>80.031443</td>\n",
       "      <td>2021-09-16 02:55:00</td>\n",
       "      <td>2021-09-16 02:55:00</td>\n",
       "    </tr>\n",
       "    <tr>\n",
       "      <th>316</th>\n",
       "      <td>13.031107</td>\n",
       "      <td>80.031437</td>\n",
       "      <td>2021-09-16 08:20:00</td>\n",
       "      <td>2021-09-16 08:35:00</td>\n",
       "    </tr>\n",
       "    <tr>\n",
       "      <th>317</th>\n",
       "      <td>13.032272</td>\n",
       "      <td>80.031322</td>\n",
       "      <td>2021-09-16 03:00:00</td>\n",
       "      <td>2021-09-16 03:00:00</td>\n",
       "    </tr>\n",
       "    <tr>\n",
       "      <th>318</th>\n",
       "      <td>13.033472</td>\n",
       "      <td>80.031046</td>\n",
       "      <td>2021-09-16 03:05:00</td>\n",
       "      <td>2021-09-16 08:15:00</td>\n",
       "    </tr>\n",
       "    <tr>\n",
       "      <th>319</th>\n",
       "      <td>13.036065</td>\n",
       "      <td>80.043552</td>\n",
       "      <td>2021-09-16 08:45:00</td>\n",
       "      <td>2021-09-16 08:45:00</td>\n",
       "    </tr>\n",
       "  </tbody>\n",
       "</table>\n",
       "<p>320 rows × 4 columns</p>\n",
       "</div>"
      ],
      "text/plain": [
       "      Latitude  Longitude                 min                 max\n",
       "0    11.012391  76.985638 2021-09-17 23:15:00 2021-09-18 00:50:00\n",
       "1    11.014603  76.988141 2021-09-17 23:10:00 2021-09-17 23:10:00\n",
       "2    11.017727  76.990534 2021-09-18 00:55:00 2021-09-18 00:55:00\n",
       "3    11.020194  76.992390 2021-09-17 23:05:00 2021-09-17 23:05:00\n",
       "4    11.024900  77.010086 2021-09-17 23:00:00 2021-09-17 23:00:00\n",
       "..         ...        ...                 ...                 ...\n",
       "315  13.029796  80.031443 2021-09-16 02:55:00 2021-09-16 02:55:00\n",
       "316  13.031107  80.031437 2021-09-16 08:20:00 2021-09-16 08:35:00\n",
       "317  13.032272  80.031322 2021-09-16 03:00:00 2021-09-16 03:00:00\n",
       "318  13.033472  80.031046 2021-09-16 03:05:00 2021-09-16 08:15:00\n",
       "319  13.036065  80.043552 2021-09-16 08:45:00 2021-09-16 08:45:00\n",
       "\n",
       "[320 rows x 4 columns]"
      ]
     },
     "execution_count": 189,
     "metadata": {},
     "output_type": "execute_result"
    }
   ],
   "source": [
    "df_nl3753_stoppage"
   ]
  },
  {
   "cell_type": "code",
   "execution_count": 190,
   "metadata": {},
   "outputs": [],
   "source": [
    "df_nl3753_stoppage['max'] = pd.to_datetime(df_nl3753_stoppage['max'])"
   ]
  },
  {
   "cell_type": "code",
   "execution_count": 191,
   "metadata": {},
   "outputs": [],
   "source": [
    "df_nl3753_stoppage['min'] = pd.to_datetime(df_nl3753_stoppage['min'])"
   ]
  },
  {
   "cell_type": "code",
   "execution_count": 192,
   "metadata": {},
   "outputs": [],
   "source": [
    "df_nl3753_stoppage['diff'] = df_nl3753_stoppage['max'] - df_nl3753_stoppage['min']"
   ]
  },
  {
   "cell_type": "code",
   "execution_count": 218,
   "metadata": {},
   "outputs": [
    {
     "data": {
      "text/plain": [
       "320"
      ]
     },
     "execution_count": 218,
     "metadata": {},
     "output_type": "execute_result"
    }
   ],
   "source": [
    "df_nl3753_stoppage['diff'].count()"
   ]
  },
  {
   "cell_type": "code",
   "execution_count": 222,
   "metadata": {},
   "outputs": [],
   "source": [
    "df_nl3753_stoppage_stop = df_nl3753_stoppage[df_nl3753_stoppage['diff'] >= '1:00:00']"
   ]
  },
  {
   "cell_type": "code",
   "execution_count": 334,
   "metadata": {},
   "outputs": [
    {
     "data": {
      "text/html": [
       "<div>\n",
       "<style scoped>\n",
       "    .dataframe tbody tr th:only-of-type {\n",
       "        vertical-align: middle;\n",
       "    }\n",
       "\n",
       "    .dataframe tbody tr th {\n",
       "        vertical-align: top;\n",
       "    }\n",
       "\n",
       "    .dataframe thead th {\n",
       "        text-align: right;\n",
       "    }\n",
       "</style>\n",
       "<table border=\"1\" class=\"dataframe\">\n",
       "  <thead>\n",
       "    <tr style=\"text-align: right;\">\n",
       "      <th></th>\n",
       "      <th>Latitude</th>\n",
       "      <th>Longitude</th>\n",
       "      <th>min</th>\n",
       "      <th>max</th>\n",
       "      <th>diff</th>\n",
       "    </tr>\n",
       "  </thead>\n",
       "  <tbody>\n",
       "    <tr>\n",
       "      <th>0</th>\n",
       "      <td>11.012391</td>\n",
       "      <td>76.985638</td>\n",
       "      <td>2021-09-17 23:15:00</td>\n",
       "      <td>2021-09-18 00:50:00</td>\n",
       "      <td>0 days 01:35:00</td>\n",
       "    </tr>\n",
       "    <tr>\n",
       "      <th>22</th>\n",
       "      <td>11.121815</td>\n",
       "      <td>77.191546</td>\n",
       "      <td>2021-09-17 14:10:00</td>\n",
       "      <td>2021-09-17 22:05:00</td>\n",
       "      <td>0 days 07:55:00</td>\n",
       "    </tr>\n",
       "    <tr>\n",
       "      <th>91</th>\n",
       "      <td>11.517723</td>\n",
       "      <td>77.928614</td>\n",
       "      <td>2021-09-18 04:10:00</td>\n",
       "      <td>2021-09-18 11:40:00</td>\n",
       "      <td>0 days 07:30:00</td>\n",
       "    </tr>\n",
       "    <tr>\n",
       "      <th>93</th>\n",
       "      <td>11.517840</td>\n",
       "      <td>77.928544</td>\n",
       "      <td>2021-09-16 21:50:00</td>\n",
       "      <td>2021-09-17 10:20:00</td>\n",
       "      <td>0 days 12:30:00</td>\n",
       "    </tr>\n",
       "    <tr>\n",
       "      <th>258</th>\n",
       "      <td>12.908352</td>\n",
       "      <td>79.408704</td>\n",
       "      <td>2021-09-18 20:20:00</td>\n",
       "      <td>2021-09-18 23:54:00</td>\n",
       "      <td>0 days 03:34:00</td>\n",
       "    </tr>\n",
       "    <tr>\n",
       "      <th>265</th>\n",
       "      <td>12.912272</td>\n",
       "      <td>79.320173</td>\n",
       "      <td>2021-09-16 11:30:00</td>\n",
       "      <td>2021-09-16 12:40:00</td>\n",
       "      <td>0 days 01:10:00</td>\n",
       "    </tr>\n",
       "    <tr>\n",
       "      <th>302</th>\n",
       "      <td>12.994010</td>\n",
       "      <td>80.012742</td>\n",
       "      <td>2021-09-16 00:45:00</td>\n",
       "      <td>2021-09-16 02:30:00</td>\n",
       "      <td>0 days 01:45:00</td>\n",
       "    </tr>\n",
       "    <tr>\n",
       "      <th>318</th>\n",
       "      <td>13.033472</td>\n",
       "      <td>80.031046</td>\n",
       "      <td>2021-09-16 03:05:00</td>\n",
       "      <td>2021-09-16 08:15:00</td>\n",
       "      <td>0 days 05:10:00</td>\n",
       "    </tr>\n",
       "  </tbody>\n",
       "</table>\n",
       "</div>"
      ],
      "text/plain": [
       "      Latitude  Longitude                 min                 max  \\\n",
       "0    11.012391  76.985638 2021-09-17 23:15:00 2021-09-18 00:50:00   \n",
       "22   11.121815  77.191546 2021-09-17 14:10:00 2021-09-17 22:05:00   \n",
       "91   11.517723  77.928614 2021-09-18 04:10:00 2021-09-18 11:40:00   \n",
       "93   11.517840  77.928544 2021-09-16 21:50:00 2021-09-17 10:20:00   \n",
       "258  12.908352  79.408704 2021-09-18 20:20:00 2021-09-18 23:54:00   \n",
       "265  12.912272  79.320173 2021-09-16 11:30:00 2021-09-16 12:40:00   \n",
       "302  12.994010  80.012742 2021-09-16 00:45:00 2021-09-16 02:30:00   \n",
       "318  13.033472  80.031046 2021-09-16 03:05:00 2021-09-16 08:15:00   \n",
       "\n",
       "               diff  \n",
       "0   0 days 01:35:00  \n",
       "22  0 days 07:55:00  \n",
       "91  0 days 07:30:00  \n",
       "93  0 days 12:30:00  \n",
       "258 0 days 03:34:00  \n",
       "265 0 days 01:10:00  \n",
       "302 0 days 01:45:00  \n",
       "318 0 days 05:10:00  "
      ]
     },
     "execution_count": 334,
     "metadata": {},
     "output_type": "execute_result"
    }
   ],
   "source": [
    "df_nl3753_stoppage_stop"
   ]
  },
  {
   "cell_type": "markdown",
   "metadata": {},
   "source": [
    "\n",
    "\n",
    "### \n"
   ]
  },
  {
   "cell_type": "code",
   "execution_count": 299,
   "metadata": {},
   "outputs": [],
   "source": [
    "df_nl3753_new = df_nl3753[0:567]"
   ]
  },
  {
   "cell_type": "code",
   "execution_count": 406,
   "metadata": {},
   "outputs": [
    {
     "data": {
      "text/plain": [
       "(567, 12)"
      ]
     },
     "execution_count": 406,
     "metadata": {},
     "output_type": "execute_result"
    }
   ],
   "source": [
    "df_nl3753_new.shape"
   ]
  },
  {
   "cell_type": "code",
   "execution_count": 301,
   "metadata": {},
   "outputs": [
    {
     "data": {
      "text/html": [
       "<div>\n",
       "<style scoped>\n",
       "    .dataframe tbody tr th:only-of-type {\n",
       "        vertical-align: middle;\n",
       "    }\n",
       "\n",
       "    .dataframe tbody tr th {\n",
       "        vertical-align: top;\n",
       "    }\n",
       "\n",
       "    .dataframe thead th {\n",
       "        text-align: right;\n",
       "    }\n",
       "</style>\n",
       "<table border=\"1\" class=\"dataframe\">\n",
       "  <thead>\n",
       "    <tr style=\"text-align: right;\">\n",
       "      <th></th>\n",
       "      <th>Lat,Lngt</th>\n",
       "      <th>Period</th>\n",
       "      <th>Latitude</th>\n",
       "      <th>Longitude</th>\n",
       "      <th>dealer_lat_3753</th>\n",
       "      <th>dealer_long_3753</th>\n",
       "      <th>Distance</th>\n",
       "      <th>Status</th>\n",
       "      <th>start_dt</th>\n",
       "      <th>end_dt</th>\n",
       "      <th>Time_diff_temp</th>\n",
       "      <th>Time_diff</th>\n",
       "    </tr>\n",
       "  </thead>\n",
       "  <tbody>\n",
       "    <tr>\n",
       "      <th>566</th>\n",
       "      <td>11.012391,76.985638</td>\n",
       "      <td>17/09 23:10 : 17/09 23:15</td>\n",
       "      <td>11.012391</td>\n",
       "      <td>76.985638</td>\n",
       "      <td>11.013119</td>\n",
       "      <td>76.980129</td>\n",
       "      <td>0.61</td>\n",
       "      <td>Unloading-Point</td>\n",
       "      <td>2021-09-17 23:10:00</td>\n",
       "      <td>2021-09-17 23:15:00</td>\n",
       "      <td>0 days 00:05:00</td>\n",
       "      <td>0 days 00:05:00</td>\n",
       "    </tr>\n",
       "  </tbody>\n",
       "</table>\n",
       "</div>"
      ],
      "text/plain": [
       "                Lat,Lngt                     Period   Latitude  Longitude  \\\n",
       "566  11.012391,76.985638  17/09 23:10 : 17/09 23:15  11.012391  76.985638   \n",
       "\n",
       "     dealer_lat_3753  dealer_long_3753  Distance           Status  \\\n",
       "566        11.013119         76.980129      0.61  Unloading-Point   \n",
       "\n",
       "               start_dt              end_dt  Time_diff_temp       Time_diff  \n",
       "566 2021-09-17 23:10:00 2021-09-17 23:15:00 0 days 00:05:00 0 days 00:05:00  "
      ]
     },
     "execution_count": 301,
     "metadata": {},
     "output_type": "execute_result"
    }
   ],
   "source": [
    "df_nl3753_new.tail(1)"
   ]
  },
  {
   "cell_type": "code",
   "execution_count": 302,
   "metadata": {},
   "outputs": [
    {
     "data": {
      "text/plain": [
       "In-transit         566\n",
       "Unloading-Point      1\n",
       "Name: Status, dtype: int64"
      ]
     },
     "execution_count": 302,
     "metadata": {},
     "output_type": "execute_result"
    }
   ],
   "source": [
    "df_nl3753_new['Status'].value_counts()"
   ]
  },
  {
   "cell_type": "code",
   "execution_count": 303,
   "metadata": {},
   "outputs": [],
   "source": [
    "df_nl3753_new['Time_diff'] = [x.iloc[-1] - x.iloc[0] for x in df_nl3753_new['end_dt'].rolling(2) if len(x)>0]"
   ]
  },
  {
   "cell_type": "code",
   "execution_count": 304,
   "metadata": {},
   "outputs": [
    {
     "data": {
      "text/plain": [
       "0 days 00:05:00    566\n",
       "0 days 00:00:00      1\n",
       "Name: Time_diff, dtype: int64"
      ]
     },
     "execution_count": 304,
     "metadata": {},
     "output_type": "execute_result"
    }
   ],
   "source": [
    "df_nl3753_new['Time_diff'].value_counts()"
   ]
  },
  {
   "cell_type": "code",
   "execution_count": 305,
   "metadata": {},
   "outputs": [
    {
     "data": {
      "text/plain": [
       "Timedelta('1 days 23:10:00')"
      ]
     },
     "execution_count": 305,
     "metadata": {},
     "output_type": "execute_result"
    }
   ],
   "source": [
    "df_nl3753_new['Time_diff'].sum()"
   ]
  },
  {
   "cell_type": "code",
   "execution_count": 308,
   "metadata": {},
   "outputs": [
    {
     "data": {
      "text/plain": [
       "Timedelta('1 days 23:10:00')"
      ]
     },
     "execution_count": 308,
     "metadata": {},
     "output_type": "execute_result"
    }
   ],
   "source": [
    "dt1 = '2021-09-16 00:05:00'\n",
    "d1 = pd.to_datetime(dt1)\n",
    "dt2 = '2021-09-17 23:15:00'\n",
    "d2 = pd.to_datetime(dt2)\n",
    "\n",
    "a = d2-d1\n",
    "a"
   ]
  },
  {
   "cell_type": "code",
   "execution_count": 306,
   "metadata": {},
   "outputs": [
    {
     "data": {
      "text/html": [
       "<div>\n",
       "<style scoped>\n",
       "    .dataframe tbody tr th:only-of-type {\n",
       "        vertical-align: middle;\n",
       "    }\n",
       "\n",
       "    .dataframe tbody tr th {\n",
       "        vertical-align: top;\n",
       "    }\n",
       "\n",
       "    .dataframe thead th {\n",
       "        text-align: right;\n",
       "    }\n",
       "</style>\n",
       "<table border=\"1\" class=\"dataframe\">\n",
       "  <thead>\n",
       "    <tr style=\"text-align: right;\">\n",
       "      <th></th>\n",
       "      <th>Lat,Lngt</th>\n",
       "      <th>Period</th>\n",
       "      <th>Latitude</th>\n",
       "      <th>Longitude</th>\n",
       "      <th>dealer_lat_3753</th>\n",
       "      <th>dealer_long_3753</th>\n",
       "      <th>Distance</th>\n",
       "      <th>Status</th>\n",
       "      <th>start_dt</th>\n",
       "      <th>end_dt</th>\n",
       "      <th>Time_diff_temp</th>\n",
       "      <th>Time_diff</th>\n",
       "    </tr>\n",
       "  </thead>\n",
       "  <tbody>\n",
       "    <tr>\n",
       "      <th>0</th>\n",
       "      <td>13.027363,80.029651</td>\n",
       "      <td>16/09 00:00 : 16/09 00:05</td>\n",
       "      <td>13.027363</td>\n",
       "      <td>80.029651</td>\n",
       "      <td>11.013119</td>\n",
       "      <td>76.980129</td>\n",
       "      <td>400.18</td>\n",
       "      <td>In-transit</td>\n",
       "      <td>2021-09-16</td>\n",
       "      <td>2021-09-16 00:05:00</td>\n",
       "      <td>0 days 00:05:00</td>\n",
       "      <td>0 days</td>\n",
       "    </tr>\n",
       "  </tbody>\n",
       "</table>\n",
       "</div>"
      ],
      "text/plain": [
       "              Lat,Lngt                     Period   Latitude  Longitude  \\\n",
       "0  13.027363,80.029651  16/09 00:00 : 16/09 00:05  13.027363  80.029651   \n",
       "\n",
       "   dealer_lat_3753  dealer_long_3753  Distance      Status   start_dt  \\\n",
       "0        11.013119         76.980129    400.18  In-transit 2021-09-16   \n",
       "\n",
       "               end_dt  Time_diff_temp Time_diff  \n",
       "0 2021-09-16 00:05:00 0 days 00:05:00    0 days  "
      ]
     },
     "execution_count": 306,
     "metadata": {},
     "output_type": "execute_result"
    }
   ],
   "source": [
    "df_nl3753_new.head(1)"
   ]
  },
  {
   "cell_type": "code",
   "execution_count": 307,
   "metadata": {},
   "outputs": [
    {
     "data": {
      "text/html": [
       "<div>\n",
       "<style scoped>\n",
       "    .dataframe tbody tr th:only-of-type {\n",
       "        vertical-align: middle;\n",
       "    }\n",
       "\n",
       "    .dataframe tbody tr th {\n",
       "        vertical-align: top;\n",
       "    }\n",
       "\n",
       "    .dataframe thead th {\n",
       "        text-align: right;\n",
       "    }\n",
       "</style>\n",
       "<table border=\"1\" class=\"dataframe\">\n",
       "  <thead>\n",
       "    <tr style=\"text-align: right;\">\n",
       "      <th></th>\n",
       "      <th>Lat,Lngt</th>\n",
       "      <th>Period</th>\n",
       "      <th>Latitude</th>\n",
       "      <th>Longitude</th>\n",
       "      <th>dealer_lat_3753</th>\n",
       "      <th>dealer_long_3753</th>\n",
       "      <th>Distance</th>\n",
       "      <th>Status</th>\n",
       "      <th>start_dt</th>\n",
       "      <th>end_dt</th>\n",
       "      <th>Time_diff_temp</th>\n",
       "      <th>Time_diff</th>\n",
       "    </tr>\n",
       "  </thead>\n",
       "  <tbody>\n",
       "    <tr>\n",
       "      <th>566</th>\n",
       "      <td>11.012391,76.985638</td>\n",
       "      <td>17/09 23:10 : 17/09 23:15</td>\n",
       "      <td>11.012391</td>\n",
       "      <td>76.985638</td>\n",
       "      <td>11.013119</td>\n",
       "      <td>76.980129</td>\n",
       "      <td>0.61</td>\n",
       "      <td>Unloading-Point</td>\n",
       "      <td>2021-09-17 23:10:00</td>\n",
       "      <td>2021-09-17 23:15:00</td>\n",
       "      <td>0 days 00:05:00</td>\n",
       "      <td>0 days 00:05:00</td>\n",
       "    </tr>\n",
       "  </tbody>\n",
       "</table>\n",
       "</div>"
      ],
      "text/plain": [
       "                Lat,Lngt                     Period   Latitude  Longitude  \\\n",
       "566  11.012391,76.985638  17/09 23:10 : 17/09 23:15  11.012391  76.985638   \n",
       "\n",
       "     dealer_lat_3753  dealer_long_3753  Distance           Status  \\\n",
       "566        11.013119         76.980129      0.61  Unloading-Point   \n",
       "\n",
       "               start_dt              end_dt  Time_diff_temp       Time_diff  \n",
       "566 2021-09-17 23:10:00 2021-09-17 23:15:00 0 days 00:05:00 0 days 00:05:00  "
      ]
     },
     "execution_count": 307,
     "metadata": {},
     "output_type": "execute_result"
    }
   ],
   "source": [
    "df_nl3753_new.tail(1)"
   ]
  },
  {
   "cell_type": "code",
   "execution_count": 318,
   "metadata": {},
   "outputs": [],
   "source": [
    "df_nl3753_new['Time_diff'] = df_nl3753_new['Time_diff'].astype(str)"
   ]
  },
  {
   "cell_type": "code",
   "execution_count": 320,
   "metadata": {},
   "outputs": [],
   "source": [
    "df_nl3753_new['Time_diff'] = pd.to_timedelta(df_nl3753_new['Time_diff'])"
   ]
  },
  {
   "cell_type": "code",
   "execution_count": 322,
   "metadata": {},
   "outputs": [
    {
     "data": {
      "text/plain": [
       "Timedelta('1 days 23:10:00')"
      ]
     },
     "execution_count": 322,
     "metadata": {},
     "output_type": "execute_result"
    }
   ],
   "source": [
    "df_nl3753_new['Time_diff'].sum()"
   ]
  },
  {
   "cell_type": "code",
   "execution_count": 325,
   "metadata": {},
   "outputs": [],
   "source": [
    "t = df_nl3753_new.groupby('Lat,Lngt').agg({'Time_diff': np.sum})"
   ]
  },
  {
   "cell_type": "code",
   "execution_count": 407,
   "metadata": {},
   "outputs": [
    {
     "data": {
      "text/plain": [
       "Time_diff    194\n",
       "dtype: int64"
      ]
     },
     "execution_count": 407,
     "metadata": {},
     "output_type": "execute_result"
    }
   ],
   "source": [
    "t.count()"
   ]
  },
  {
   "cell_type": "code",
   "execution_count": 393,
   "metadata": {},
   "outputs": [
    {
     "data": {
      "text/plain": [
       "0 days 00:05:00    177\n",
       "0 days 00:10:00      6\n",
       "0 days 00:15:00      2\n",
       "0 days 00:30:00      1\n",
       "0 days 00:25:00      1\n",
       "0 days 12:35:00      1\n",
       "0 days 05:15:00      1\n",
       "0 days 00:20:00      1\n",
       "0 days 00:45:00      1\n",
       "0 days 08:00:00      1\n",
       "0 days 01:15:00      1\n",
       "0 days 01:50:00      1\n",
       "Name: Time_diff, dtype: int64"
      ]
     },
     "execution_count": 393,
     "metadata": {},
     "output_type": "execute_result"
    }
   ],
   "source": [
    "t['Time_diff'].value_counts()"
   ]
  },
  {
   "cell_type": "code",
   "execution_count": 330,
   "metadata": {},
   "outputs": [
    {
     "data": {
      "text/plain": [
       "Timedelta('1 days 23:10:00')"
      ]
     },
     "execution_count": 330,
     "metadata": {},
     "output_type": "execute_result"
    }
   ],
   "source": [
    "t['Time_diff'].sum()"
   ]
  },
  {
   "cell_type": "code",
   "execution_count": 331,
   "metadata": {},
   "outputs": [],
   "source": [
    "test = t[t['Time_diff'] >= '1:00:00']"
   ]
  },
  {
   "cell_type": "code",
   "execution_count": 409,
   "metadata": {},
   "outputs": [
    {
     "data": {
      "text/html": [
       "<div>\n",
       "<style scoped>\n",
       "    .dataframe tbody tr th:only-of-type {\n",
       "        vertical-align: middle;\n",
       "    }\n",
       "\n",
       "    .dataframe tbody tr th {\n",
       "        vertical-align: top;\n",
       "    }\n",
       "\n",
       "    .dataframe thead th {\n",
       "        text-align: right;\n",
       "    }\n",
       "</style>\n",
       "<table border=\"1\" class=\"dataframe\">\n",
       "  <thead>\n",
       "    <tr style=\"text-align: right;\">\n",
       "      <th></th>\n",
       "      <th>Time_diff</th>\n",
       "    </tr>\n",
       "    <tr>\n",
       "      <th>Lat,Lngt</th>\n",
       "      <th></th>\n",
       "    </tr>\n",
       "  </thead>\n",
       "  <tbody>\n",
       "    <tr>\n",
       "      <th>11.121815,77.191546</th>\n",
       "      <td>0 days 08:00:00</td>\n",
       "    </tr>\n",
       "    <tr>\n",
       "      <th>11.51784,77.928544</th>\n",
       "      <td>0 days 12:35:00</td>\n",
       "    </tr>\n",
       "    <tr>\n",
       "      <th>12.912272,79.320173</th>\n",
       "      <td>0 days 01:15:00</td>\n",
       "    </tr>\n",
       "    <tr>\n",
       "      <th>12.99401,80.012742</th>\n",
       "      <td>0 days 01:50:00</td>\n",
       "    </tr>\n",
       "    <tr>\n",
       "      <th>13.033472,80.031046</th>\n",
       "      <td>0 days 05:15:00</td>\n",
       "    </tr>\n",
       "  </tbody>\n",
       "</table>\n",
       "</div>"
      ],
      "text/plain": [
       "                          Time_diff\n",
       "Lat,Lngt                           \n",
       "11.121815,77.191546 0 days 08:00:00\n",
       "11.51784,77.928544  0 days 12:35:00\n",
       "12.912272,79.320173 0 days 01:15:00\n",
       "12.99401,80.012742  0 days 01:50:00\n",
       "13.033472,80.031046 0 days 05:15:00"
      ]
     },
     "execution_count": 409,
     "metadata": {},
     "output_type": "execute_result"
    }
   ],
   "source": [
    "test"
   ]
  },
  {
   "cell_type": "code",
   "execution_count": null,
   "metadata": {},
   "outputs": [],
   "source": [
    "## API "
   ]
  },
  {
   "cell_type": "code",
   "execution_count": 353,
   "metadata": {},
   "outputs": [
    {
     "data": {
      "text/plain": [
       "{'Server': 'Adv-5800',\n",
       " 'version': '202110.19.5222',\n",
       " 'results': {'distances': [[0, 499291.1, 2194893.2]],\n",
       "  'code': 'Ok',\n",
       "  'durations': [[0, 35126.1, 146239.2]]},\n",
       " 'responseCode': 200}"
      ]
     },
     "execution_count": 353,
     "metadata": {},
     "output_type": "execute_result"
    }
   ],
   "source": [
    "\n",
    "url_three = f\"\"\"https://apis.mapmyindia.com/advancedmaps/v1/95846a48eeef5b6c17863d2367c75349/distance_matrix/trucking/80.029651,13.027363;76.980129,11.013119;17ZUL7?rtype=1&region=ind\"\"\"\n",
    "r3 = requests.get(url_three)\n",
    "result3= json.loads(r3.content)\n",
    "result3"
   ]
  },
  {
   "cell_type": "code",
   "execution_count": 354,
   "metadata": {},
   "outputs": [
    {
     "data": {
      "text/plain": [
       "499.2911"
      ]
     },
     "execution_count": 354,
     "metadata": {},
     "output_type": "execute_result"
    }
   ],
   "source": [
    "499291.1/1000"
   ]
  },
  {
   "cell_type": "code",
   "execution_count": null,
   "metadata": {},
   "outputs": [],
   "source": [
    "# google maps - 496/ 489\n",
    "# map my ind - 500/502 "
   ]
  },
  {
   "cell_type": "code",
   "execution_count": null,
   "metadata": {},
   "outputs": [],
   "source": []
  },
  {
   "cell_type": "code",
   "execution_count": null,
   "metadata": {},
   "outputs": [],
   "source": [
    "13.027363,80.029651\n",
    "11.013119,76.980129"
   ]
  }
 ],
 "metadata": {
  "kernelspec": {
   "display_name": "Python 3",
   "language": "python",
   "name": "python3"
  },
  "language_info": {
   "codemirror_mode": {
    "name": "ipython",
    "version": 3
   },
   "file_extension": ".py",
   "mimetype": "text/x-python",
   "name": "python",
   "nbconvert_exporter": "python",
   "pygments_lexer": "ipython3",
   "version": "3.8.5"
  }
 },
 "nbformat": 4,
 "nbformat_minor": 4
}
