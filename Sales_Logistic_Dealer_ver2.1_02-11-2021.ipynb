{
 "cells": [
  {
   "cell_type": "code",
   "execution_count": 554,
   "metadata": {},
   "outputs": [],
   "source": [
    "#importing libraries \n",
    "import pandas as pd\n",
    "from geopy import distance\n",
    "import warnings\n",
    "#warnings.filterwarnings(\"ignore\", category=DeprecationWarning) \n",
    "import datetime\n",
    "import calendar\n",
    "import re"
   ]
  },
  {
   "cell_type": "code",
   "execution_count": 555,
   "metadata": {},
   "outputs": [],
   "source": [
    "import warnings\n",
    "warnings.filterwarnings(\"ignore\")\n"
   ]
  },
  {
   "cell_type": "code",
   "execution_count": 616,
   "metadata": {},
   "outputs": [],
   "source": [
    "#getting granular level insights from date6\\\n",
    "def add_datepart(df, fldname, drop=True):\n",
    "    \n",
    "    fld = df[fldname]\n",
    "    fld_dtype = fld.dtype\n",
    "    if isinstance(fld_dtype, pd.core.dtypes.dtypes.DatetimeTZDtype):\n",
    "        fld_dtype = np.datetime64\n",
    "\n",
    "    if not np.issubdtype(fld_dtype, np.datetime64):\n",
    "        df[fldname] = fld = pd.to_datetime(fld, infer_datetime_format=True)\n",
    "        \n",
    "    targ_pre = re.sub('[Dd]ate$', '', fldname)\n",
    "    \n",
    "    attr = ['Year', 'Month', 'Week', 'Day','hour','minute','second']\n",
    "    \n",
    "    for n in attr: \n",
    "        df[targ_pre + n] = getattr(fld.dt, n.lower())\n",
    "    \n",
    "    df[targ_pre + \"MonthName\"] = df[targ_pre + \"Month\"].astype(int).apply(lambda x: calendar.month_abbr[x])\n",
    "    df[targ_pre + \"MonthKey\"] =  df[targ_pre + \"Year\"].astype(str)+\"_\"+df[targ_pre + \"Month\"].astype(str)\n",
    "    df[targ_pre + \"WeekKey\"] =  df[targ_pre + \"Year\"].astype(str)+\"_\"+df[targ_pre + \"Week\"].astype(str)\n",
    "        \n",
    "    if drop: \n",
    "        df.drop(fldname, axis=1, inplace=True)"
   ]
  },
  {
   "cell_type": "code",
   "execution_count": 617,
   "metadata": {},
   "outputs": [],
   "source": [
    "# load the dataset \n",
    "df = pd.read_excel('GJ12b.xltm')"
   ]
  },
  {
   "cell_type": "code",
   "execution_count": 888,
   "metadata": {},
   "outputs": [
    {
     "data": {
      "text/plain": [
       "(1449, 11)"
      ]
     },
     "execution_count": 888,
     "metadata": {},
     "output_type": "execute_result"
    }
   ],
   "source": [
    "df.shape"
   ]
  },
  {
   "cell_type": "code",
   "execution_count": 916,
   "metadata": {},
   "outputs": [
    {
     "data": {
      "text/html": [
       "<div>\n",
       "<style scoped>\n",
       "    .dataframe tbody tr th:only-of-type {\n",
       "        vertical-align: middle;\n",
       "    }\n",
       "\n",
       "    .dataframe tbody tr th {\n",
       "        vertical-align: top;\n",
       "    }\n",
       "\n",
       "    .dataframe thead th {\n",
       "        text-align: right;\n",
       "    }\n",
       "</style>\n",
       "<table border=\"1\" class=\"dataframe\">\n",
       "  <thead>\n",
       "    <tr style=\"text-align: right;\">\n",
       "      <th></th>\n",
       "      <th>Lat,Lngt</th>\n",
       "      <th>Period</th>\n",
       "      <th>start_dt</th>\n",
       "      <th>end_dt</th>\n",
       "      <th>Time_diff</th>\n",
       "      <th>Time_diff_new</th>\n",
       "      <th>dealer_lat</th>\n",
       "      <th>dealer_long</th>\n",
       "      <th>lat</th>\n",
       "      <th>long</th>\n",
       "      <th>Distance</th>\n",
       "      <th>Time_Difference</th>\n",
       "    </tr>\n",
       "  </thead>\n",
       "  <tbody>\n",
       "    <tr>\n",
       "      <th>0</th>\n",
       "      <td>13.003621,79.990784</td>\n",
       "      <td>16/10 10:10 : 16/10 10:15</td>\n",
       "      <td>2021-10-16 10:10:00</td>\n",
       "      <td>2021-10-16 10:15:00</td>\n",
       "      <td>0 days 00:05:00</td>\n",
       "      <td>0</td>\n",
       "      <td>27.99536</td>\n",
       "      <td>73.31652</td>\n",
       "      <td>13.003621</td>\n",
       "      <td>79.990784</td>\n",
       "      <td>1805.03</td>\n",
       "      <td>0 days 00:00:00</td>\n",
       "    </tr>\n",
       "    <tr>\n",
       "      <th>1</th>\n",
       "      <td>13.003621,79.990784</td>\n",
       "      <td>16/10 10:15 : 16/10 10:20</td>\n",
       "      <td>2021-10-16 10:15:00</td>\n",
       "      <td>2021-10-16 10:20:00</td>\n",
       "      <td>0 days 00:05:00</td>\n",
       "      <td>00:05:00</td>\n",
       "      <td>27.99536</td>\n",
       "      <td>73.31652</td>\n",
       "      <td>13.003621</td>\n",
       "      <td>79.990784</td>\n",
       "      <td>1805.03</td>\n",
       "      <td>0 days 00:05:00</td>\n",
       "    </tr>\n",
       "    <tr>\n",
       "      <th>2</th>\n",
       "      <td>13.003621,79.990784</td>\n",
       "      <td>16/10 10:20 : 16/10 10:25</td>\n",
       "      <td>2021-10-16 10:20:00</td>\n",
       "      <td>2021-10-16 10:25:00</td>\n",
       "      <td>0 days 00:05:00</td>\n",
       "      <td>00:05:00</td>\n",
       "      <td>27.99536</td>\n",
       "      <td>73.31652</td>\n",
       "      <td>13.003621</td>\n",
       "      <td>79.990784</td>\n",
       "      <td>1805.03</td>\n",
       "      <td>0 days 00:05:00</td>\n",
       "    </tr>\n",
       "    <tr>\n",
       "      <th>3</th>\n",
       "      <td>13.003621,79.990784</td>\n",
       "      <td>16/10 10:25 : 16/10 10:30</td>\n",
       "      <td>2021-10-16 10:25:00</td>\n",
       "      <td>2021-10-16 10:30:00</td>\n",
       "      <td>0 days 00:05:00</td>\n",
       "      <td>00:05:00</td>\n",
       "      <td>27.99536</td>\n",
       "      <td>73.31652</td>\n",
       "      <td>13.003621</td>\n",
       "      <td>79.990784</td>\n",
       "      <td>1805.03</td>\n",
       "      <td>0 days 00:05:00</td>\n",
       "    </tr>\n",
       "    <tr>\n",
       "      <th>4</th>\n",
       "      <td>13.003621,79.990784</td>\n",
       "      <td>16/10 10:30 : 16/10 10:35</td>\n",
       "      <td>2021-10-16 10:30:00</td>\n",
       "      <td>2021-10-16 10:35:00</td>\n",
       "      <td>0 days 00:05:00</td>\n",
       "      <td>00:05:00</td>\n",
       "      <td>27.99536</td>\n",
       "      <td>73.31652</td>\n",
       "      <td>13.003621</td>\n",
       "      <td>79.990784</td>\n",
       "      <td>1805.03</td>\n",
       "      <td>0 days 00:05:00</td>\n",
       "    </tr>\n",
       "  </tbody>\n",
       "</table>\n",
       "</div>"
      ],
      "text/plain": [
       "              Lat,Lngt                     Period            start_dt  \\\n",
       "0  13.003621,79.990784  16/10 10:10 : 16/10 10:15 2021-10-16 10:10:00   \n",
       "1  13.003621,79.990784  16/10 10:15 : 16/10 10:20 2021-10-16 10:15:00   \n",
       "2  13.003621,79.990784  16/10 10:20 : 16/10 10:25 2021-10-16 10:20:00   \n",
       "3  13.003621,79.990784  16/10 10:25 : 16/10 10:30 2021-10-16 10:25:00   \n",
       "4  13.003621,79.990784  16/10 10:30 : 16/10 10:35 2021-10-16 10:30:00   \n",
       "\n",
       "               end_dt       Time_diff Time_diff_new  dealer_lat  dealer_long  \\\n",
       "0 2021-10-16 10:15:00 0 days 00:05:00             0    27.99536     73.31652   \n",
       "1 2021-10-16 10:20:00 0 days 00:05:00      00:05:00    27.99536     73.31652   \n",
       "2 2021-10-16 10:25:00 0 days 00:05:00      00:05:00    27.99536     73.31652   \n",
       "3 2021-10-16 10:30:00 0 days 00:05:00      00:05:00    27.99536     73.31652   \n",
       "4 2021-10-16 10:35:00 0 days 00:05:00      00:05:00    27.99536     73.31652   \n",
       "\n",
       "         lat       long  Distance Time_Difference  \n",
       "0  13.003621  79.990784   1805.03 0 days 00:00:00  \n",
       "1  13.003621  79.990784   1805.03 0 days 00:05:00  \n",
       "2  13.003621  79.990784   1805.03 0 days 00:05:00  \n",
       "3  13.003621  79.990784   1805.03 0 days 00:05:00  \n",
       "4  13.003621  79.990784   1805.03 0 days 00:05:00  "
      ]
     },
     "execution_count": 916,
     "metadata": {},
     "output_type": "execute_result"
    }
   ],
   "source": [
    "df.head()"
   ]
  },
  {
   "cell_type": "code",
   "execution_count": 618,
   "metadata": {},
   "outputs": [
    {
     "data": {
      "text/html": [
       "<div>\n",
       "<style scoped>\n",
       "    .dataframe tbody tr th:only-of-type {\n",
       "        vertical-align: middle;\n",
       "    }\n",
       "\n",
       "    .dataframe tbody tr th {\n",
       "        vertical-align: top;\n",
       "    }\n",
       "\n",
       "    .dataframe thead th {\n",
       "        text-align: right;\n",
       "    }\n",
       "</style>\n",
       "<table border=\"1\" class=\"dataframe\">\n",
       "  <thead>\n",
       "    <tr style=\"text-align: right;\">\n",
       "      <th></th>\n",
       "      <th>Lat,Lngt</th>\n",
       "      <th>Period</th>\n",
       "    </tr>\n",
       "  </thead>\n",
       "  <tbody>\n",
       "    <tr>\n",
       "      <th>1445</th>\n",
       "      <td>28.039583,73.430438</td>\n",
       "      <td>21/10 11:40 : 21/10 11:45</td>\n",
       "    </tr>\n",
       "    <tr>\n",
       "      <th>1446</th>\n",
       "      <td>28.039583,73.430438</td>\n",
       "      <td>21/10 11:45 : 21/10 11:50</td>\n",
       "    </tr>\n",
       "    <tr>\n",
       "      <th>1447</th>\n",
       "      <td>28.039583,73.430438</td>\n",
       "      <td>21/10 11:50 : 21/10 11:55</td>\n",
       "    </tr>\n",
       "    <tr>\n",
       "      <th>1448</th>\n",
       "      <td>28.039583,73.430438</td>\n",
       "      <td>21/10 11:55 : 21/10 11:57</td>\n",
       "    </tr>\n",
       "    <tr>\n",
       "      <th>1449</th>\n",
       "      <td>NaN</td>\n",
       "      <td>16/10 10:10 : 21/10 11:57</td>\n",
       "    </tr>\n",
       "  </tbody>\n",
       "</table>\n",
       "</div>"
      ],
      "text/plain": [
       "                 Lat,Lngt                     Period\n",
       "1445  28.039583,73.430438  21/10 11:40 : 21/10 11:45\n",
       "1446  28.039583,73.430438  21/10 11:45 : 21/10 11:50\n",
       "1447  28.039583,73.430438  21/10 11:50 : 21/10 11:55\n",
       "1448  28.039583,73.430438  21/10 11:55 : 21/10 11:57\n",
       "1449                  NaN  16/10 10:10 : 21/10 11:57"
      ]
     },
     "execution_count": 618,
     "metadata": {},
     "output_type": "execute_result"
    }
   ],
   "source": [
    "# Display the data set\n",
    "df.tail()\n"
   ]
  },
  {
   "cell_type": "code",
   "execution_count": 921,
   "metadata": {},
   "outputs": [
    {
     "data": {
      "text/plain": [
       "Timedelta('5 days 01:25:00')"
      ]
     },
     "execution_count": 921,
     "metadata": {},
     "output_type": "execute_result"
    }
   ],
   "source": [
    "# \n",
    "dt1 = '2021-10-16 10:00:00'\n",
    "d1 = pd.to_datetime(dt1)\n",
    "dt2 = '2021-10-21 11:25:00'\n",
    "d2 = pd.to_datetime(dt2)\n",
    "\n",
    "a = d2-d1\n",
    "a\n",
    "\n"
   ]
  },
  {
   "cell_type": "code",
   "execution_count": null,
   "metadata": {},
   "outputs": [],
   "source": []
  },
  {
   "cell_type": "code",
   "execution_count": 620,
   "metadata": {},
   "outputs": [
    {
     "data": {
      "text/plain": [
       "0    2021-10-16 10:10\n",
       "1    2021-10-16 10:15\n",
       "Name: start_dt, dtype: object"
      ]
     },
     "execution_count": 620,
     "metadata": {},
     "output_type": "execute_result"
    }
   ],
   "source": [
    "#df_gj['start_dt'] = df_gj['Period'].map(lambda x:\"2021\"+\"-\"+str(x)[0:2]+\"-\"+str(x)[3:5]+\" \"+str(x)[6:11])\n",
    "df['start_dt'] = df['Period'].map(lambda x:\"2021\"+\"-\"+str(x)[3:5]+\"-\"+str(x)[0:2]+\" \"+str(x)[6:11])\n",
    "df['start_dt'].head(2)"
   ]
  },
  {
   "cell_type": "code",
   "execution_count": 621,
   "metadata": {},
   "outputs": [
    {
     "data": {
      "text/plain": [
       "0    2021-10 - 16 10:15\n",
       "1    2021-10 - 16 10:20\n",
       "Name: end_dt, dtype: object"
      ]
     },
     "execution_count": 621,
     "metadata": {},
     "output_type": "execute_result"
    }
   ],
   "source": [
    "#df_gj['end_dt'] = df_gj['Period'].map(lambda x:\"2021\"+\"-\"+str(x)[13:16]+\"-\"+str(x)[17:20]+\" \"+str(x)[20:25])\n",
    "df['end_dt'] = df['Period'].map(lambda x:\"2021\"+\"-\"+str(x)[17:20]+\"-\"+str(x)[13:16]+\" \"+str(x)[20:25])\n",
    "df['end_dt'].head(2)"
   ]
  },
  {
   "cell_type": "code",
   "execution_count": 622,
   "metadata": {},
   "outputs": [],
   "source": [
    "df['start_dt'] = pd.to_datetime(df['start_dt'])"
   ]
  },
  {
   "cell_type": "code",
   "execution_count": 623,
   "metadata": {},
   "outputs": [],
   "source": [
    "df['end_dt'] = pd.to_datetime(df['end_dt'])"
   ]
  },
  {
   "cell_type": "code",
   "execution_count": 624,
   "metadata": {},
   "outputs": [],
   "source": [
    "df['Time_diff'] = df['end_dt'] - df['start_dt']"
   ]
  },
  {
   "cell_type": "code",
   "execution_count": 626,
   "metadata": {},
   "outputs": [],
   "source": [
    "df['Time_diff_new'] = 0"
   ]
  },
  {
   "cell_type": "code",
   "execution_count": 627,
   "metadata": {},
   "outputs": [],
   "source": [
    "for i in range(df.shape[0] - 1):\n",
    "    df['Time_diff_new'][i+1] = (datetime.datetime.min +(df['end_dt'][i+1] - df['end_dt'][i])).time()\n",
    "\n",
    "# .time() gets the time from datetime object, if you need both days and hours, simply use this line instead:\n",
    "df['Time_diff_new'][i+1] = df['end_dt'][i+1] - df['end_dt'][i]"
   ]
  },
  {
   "cell_type": "code",
   "execution_count": 628,
   "metadata": {},
   "outputs": [
    {
     "data": {
      "text/plain": [
       "00:05:00           1446\n",
       "00:02:00              1\n",
       "0 days 00:00:00       1\n",
       "01:10:00              1\n",
       "0                     1\n",
       "Name: Time_diff_new, dtype: int64"
      ]
     },
     "execution_count": 628,
     "metadata": {},
     "output_type": "execute_result"
    }
   ],
   "source": [
    "df['Time_diff_new'].value_counts()"
   ]
  },
  {
   "cell_type": "code",
   "execution_count": 890,
   "metadata": {},
   "outputs": [],
   "source": [
    "df['Time_Difference'] = [x.iloc[-1] - x.iloc[0] for x in df['end_dt'].rolling(2) if len(x)>0]"
   ]
  },
  {
   "cell_type": "code",
   "execution_count": 894,
   "metadata": {},
   "outputs": [
    {
     "data": {
      "text/html": [
       "<div>\n",
       "<style scoped>\n",
       "    .dataframe tbody tr th:only-of-type {\n",
       "        vertical-align: middle;\n",
       "    }\n",
       "\n",
       "    .dataframe tbody tr th {\n",
       "        vertical-align: top;\n",
       "    }\n",
       "\n",
       "    .dataframe thead th {\n",
       "        text-align: right;\n",
       "    }\n",
       "</style>\n",
       "<table border=\"1\" class=\"dataframe\">\n",
       "  <thead>\n",
       "    <tr style=\"text-align: right;\">\n",
       "      <th></th>\n",
       "      <th>Time_diff</th>\n",
       "      <th>Time_Difference</th>\n",
       "    </tr>\n",
       "  </thead>\n",
       "  <tbody>\n",
       "    <tr>\n",
       "      <th>0</th>\n",
       "      <td>0 days 00:05:00</td>\n",
       "      <td>0 days 00:00:00</td>\n",
       "    </tr>\n",
       "    <tr>\n",
       "      <th>1</th>\n",
       "      <td>0 days 00:05:00</td>\n",
       "      <td>0 days 00:05:00</td>\n",
       "    </tr>\n",
       "    <tr>\n",
       "      <th>2</th>\n",
       "      <td>0 days 00:05:00</td>\n",
       "      <td>0 days 00:05:00</td>\n",
       "    </tr>\n",
       "    <tr>\n",
       "      <th>3</th>\n",
       "      <td>0 days 00:05:00</td>\n",
       "      <td>0 days 00:05:00</td>\n",
       "    </tr>\n",
       "    <tr>\n",
       "      <th>4</th>\n",
       "      <td>0 days 00:05:00</td>\n",
       "      <td>0 days 00:05:00</td>\n",
       "    </tr>\n",
       "    <tr>\n",
       "      <th>...</th>\n",
       "      <td>...</td>\n",
       "      <td>...</td>\n",
       "    </tr>\n",
       "    <tr>\n",
       "      <th>1444</th>\n",
       "      <td>0 days 00:05:00</td>\n",
       "      <td>0 days 00:05:00</td>\n",
       "    </tr>\n",
       "    <tr>\n",
       "      <th>1445</th>\n",
       "      <td>0 days 00:05:00</td>\n",
       "      <td>0 days 00:05:00</td>\n",
       "    </tr>\n",
       "    <tr>\n",
       "      <th>1446</th>\n",
       "      <td>0 days 00:05:00</td>\n",
       "      <td>0 days 00:05:00</td>\n",
       "    </tr>\n",
       "    <tr>\n",
       "      <th>1447</th>\n",
       "      <td>0 days 00:05:00</td>\n",
       "      <td>0 days 00:05:00</td>\n",
       "    </tr>\n",
       "    <tr>\n",
       "      <th>1448</th>\n",
       "      <td>0 days 00:02:00</td>\n",
       "      <td>0 days 00:02:00</td>\n",
       "    </tr>\n",
       "  </tbody>\n",
       "</table>\n",
       "<p>1449 rows × 2 columns</p>\n",
       "</div>"
      ],
      "text/plain": [
       "           Time_diff Time_Difference\n",
       "0    0 days 00:05:00 0 days 00:00:00\n",
       "1    0 days 00:05:00 0 days 00:05:00\n",
       "2    0 days 00:05:00 0 days 00:05:00\n",
       "3    0 days 00:05:00 0 days 00:05:00\n",
       "4    0 days 00:05:00 0 days 00:05:00\n",
       "...              ...             ...\n",
       "1444 0 days 00:05:00 0 days 00:05:00\n",
       "1445 0 days 00:05:00 0 days 00:05:00\n",
       "1446 0 days 00:05:00 0 days 00:05:00\n",
       "1447 0 days 00:05:00 0 days 00:05:00\n",
       "1448 0 days 00:02:00 0 days 00:02:00\n",
       "\n",
       "[1449 rows x 2 columns]"
      ]
     },
     "execution_count": 894,
     "metadata": {},
     "output_type": "execute_result"
    }
   ],
   "source": [
    "df[['Time_diff','Time_Difference']]"
   ]
  },
  {
   "cell_type": "code",
   "execution_count": 895,
   "metadata": {},
   "outputs": [
    {
     "data": {
      "text/plain": [
       "0 days 00:05:00    1446\n",
       "0 days 01:10:00       1\n",
       "0 days 00:02:00       1\n",
       "0 days 00:00:00       1\n",
       "Name: Time_Difference, dtype: int64"
      ]
     },
     "execution_count": 895,
     "metadata": {},
     "output_type": "execute_result"
    }
   ],
   "source": [
    "df['Time_Difference'].value_counts()"
   ]
  },
  {
   "cell_type": "code",
   "execution_count": 896,
   "metadata": {},
   "outputs": [
    {
     "data": {
      "text/plain": [
       "Timedelta('5 days 01:42:00')"
      ]
     },
     "execution_count": 896,
     "metadata": {},
     "output_type": "execute_result"
    }
   ],
   "source": [
    "df['Time_Difference'].sum()"
   ]
  },
  {
   "cell_type": "code",
   "execution_count": null,
   "metadata": {},
   "outputs": [],
   "source": [
    "# Checking rows/cols\n",
    "df.shape"
   ]
  },
  {
   "cell_type": "code",
   "execution_count": 722,
   "metadata": {},
   "outputs": [],
   "source": [
    "#splitting lat/long col\n",
    "df[['lat', 'long']] = df['Lat,Lngt'].str.split(',', 1, expand=True)"
   ]
  },
  {
   "cell_type": "code",
   "execution_count": 724,
   "metadata": {},
   "outputs": [
    {
     "data": {
      "text/html": [
       "<div>\n",
       "<style scoped>\n",
       "    .dataframe tbody tr th:only-of-type {\n",
       "        vertical-align: middle;\n",
       "    }\n",
       "\n",
       "    .dataframe tbody tr th {\n",
       "        vertical-align: top;\n",
       "    }\n",
       "\n",
       "    .dataframe thead th {\n",
       "        text-align: right;\n",
       "    }\n",
       "</style>\n",
       "<table border=\"1\" class=\"dataframe\">\n",
       "  <thead>\n",
       "    <tr style=\"text-align: right;\">\n",
       "      <th></th>\n",
       "      <th>Lat,Lngt</th>\n",
       "      <th>Period</th>\n",
       "      <th>start_dt</th>\n",
       "      <th>end_dt</th>\n",
       "      <th>Time_diff</th>\n",
       "      <th>Time_diff_new</th>\n",
       "      <th>dealer_lat</th>\n",
       "      <th>dealer_long</th>\n",
       "      <th>lat</th>\n",
       "      <th>long</th>\n",
       "    </tr>\n",
       "  </thead>\n",
       "  <tbody>\n",
       "    <tr>\n",
       "      <th>0</th>\n",
       "      <td>13.003621,79.990784</td>\n",
       "      <td>16/10 10:10 : 16/10 10:15</td>\n",
       "      <td>2021-10-16 10:10:00</td>\n",
       "      <td>2021-10-16 10:15:00</td>\n",
       "      <td>0 days 00:05:00</td>\n",
       "      <td>0</td>\n",
       "      <td>27.99536</td>\n",
       "      <td>73.31652</td>\n",
       "      <td>13.003621</td>\n",
       "      <td>79.990784</td>\n",
       "    </tr>\n",
       "    <tr>\n",
       "      <th>1</th>\n",
       "      <td>13.003621,79.990784</td>\n",
       "      <td>16/10 10:15 : 16/10 10:20</td>\n",
       "      <td>2021-10-16 10:15:00</td>\n",
       "      <td>2021-10-16 10:20:00</td>\n",
       "      <td>0 days 00:05:00</td>\n",
       "      <td>00:05:00</td>\n",
       "      <td>27.99536</td>\n",
       "      <td>73.31652</td>\n",
       "      <td>13.003621</td>\n",
       "      <td>79.990784</td>\n",
       "    </tr>\n",
       "    <tr>\n",
       "      <th>2</th>\n",
       "      <td>13.003621,79.990784</td>\n",
       "      <td>16/10 10:20 : 16/10 10:25</td>\n",
       "      <td>2021-10-16 10:20:00</td>\n",
       "      <td>2021-10-16 10:25:00</td>\n",
       "      <td>0 days 00:05:00</td>\n",
       "      <td>00:05:00</td>\n",
       "      <td>27.99536</td>\n",
       "      <td>73.31652</td>\n",
       "      <td>13.003621</td>\n",
       "      <td>79.990784</td>\n",
       "    </tr>\n",
       "    <tr>\n",
       "      <th>3</th>\n",
       "      <td>13.003621,79.990784</td>\n",
       "      <td>16/10 10:25 : 16/10 10:30</td>\n",
       "      <td>2021-10-16 10:25:00</td>\n",
       "      <td>2021-10-16 10:30:00</td>\n",
       "      <td>0 days 00:05:00</td>\n",
       "      <td>00:05:00</td>\n",
       "      <td>27.99536</td>\n",
       "      <td>73.31652</td>\n",
       "      <td>13.003621</td>\n",
       "      <td>79.990784</td>\n",
       "    </tr>\n",
       "    <tr>\n",
       "      <th>4</th>\n",
       "      <td>13.003621,79.990784</td>\n",
       "      <td>16/10 10:30 : 16/10 10:35</td>\n",
       "      <td>2021-10-16 10:30:00</td>\n",
       "      <td>2021-10-16 10:35:00</td>\n",
       "      <td>0 days 00:05:00</td>\n",
       "      <td>00:05:00</td>\n",
       "      <td>27.99536</td>\n",
       "      <td>73.31652</td>\n",
       "      <td>13.003621</td>\n",
       "      <td>79.990784</td>\n",
       "    </tr>\n",
       "    <tr>\n",
       "      <th>...</th>\n",
       "      <td>...</td>\n",
       "      <td>...</td>\n",
       "      <td>...</td>\n",
       "      <td>...</td>\n",
       "      <td>...</td>\n",
       "      <td>...</td>\n",
       "      <td>...</td>\n",
       "      <td>...</td>\n",
       "      <td>...</td>\n",
       "      <td>...</td>\n",
       "    </tr>\n",
       "    <tr>\n",
       "      <th>1444</th>\n",
       "      <td>28.039583,73.430438</td>\n",
       "      <td>21/10 11:35 : 21/10 11:40</td>\n",
       "      <td>2021-10-21 11:35:00</td>\n",
       "      <td>2021-10-21 11:40:00</td>\n",
       "      <td>0 days 00:05:00</td>\n",
       "      <td>00:05:00</td>\n",
       "      <td>27.99536</td>\n",
       "      <td>73.31652</td>\n",
       "      <td>28.039583</td>\n",
       "      <td>73.430438</td>\n",
       "    </tr>\n",
       "    <tr>\n",
       "      <th>1445</th>\n",
       "      <td>28.039583,73.430438</td>\n",
       "      <td>21/10 11:40 : 21/10 11:45</td>\n",
       "      <td>2021-10-21 11:40:00</td>\n",
       "      <td>2021-10-21 11:45:00</td>\n",
       "      <td>0 days 00:05:00</td>\n",
       "      <td>00:05:00</td>\n",
       "      <td>27.99536</td>\n",
       "      <td>73.31652</td>\n",
       "      <td>28.039583</td>\n",
       "      <td>73.430438</td>\n",
       "    </tr>\n",
       "    <tr>\n",
       "      <th>1446</th>\n",
       "      <td>28.039583,73.430438</td>\n",
       "      <td>21/10 11:45 : 21/10 11:50</td>\n",
       "      <td>2021-10-21 11:45:00</td>\n",
       "      <td>2021-10-21 11:50:00</td>\n",
       "      <td>0 days 00:05:00</td>\n",
       "      <td>00:05:00</td>\n",
       "      <td>27.99536</td>\n",
       "      <td>73.31652</td>\n",
       "      <td>28.039583</td>\n",
       "      <td>73.430438</td>\n",
       "    </tr>\n",
       "    <tr>\n",
       "      <th>1447</th>\n",
       "      <td>28.039583,73.430438</td>\n",
       "      <td>21/10 11:50 : 21/10 11:55</td>\n",
       "      <td>2021-10-21 11:50:00</td>\n",
       "      <td>2021-10-21 11:55:00</td>\n",
       "      <td>0 days 00:05:00</td>\n",
       "      <td>00:05:00</td>\n",
       "      <td>27.99536</td>\n",
       "      <td>73.31652</td>\n",
       "      <td>28.039583</td>\n",
       "      <td>73.430438</td>\n",
       "    </tr>\n",
       "    <tr>\n",
       "      <th>1448</th>\n",
       "      <td>28.039583,73.430438</td>\n",
       "      <td>21/10 11:55 : 21/10 11:57</td>\n",
       "      <td>2021-10-21 11:55:00</td>\n",
       "      <td>2021-10-21 11:57:00</td>\n",
       "      <td>0 days 00:02:00</td>\n",
       "      <td>00:02:00</td>\n",
       "      <td>27.99536</td>\n",
       "      <td>73.31652</td>\n",
       "      <td>28.039583</td>\n",
       "      <td>73.430438</td>\n",
       "    </tr>\n",
       "  </tbody>\n",
       "</table>\n",
       "<p>1449 rows × 10 columns</p>\n",
       "</div>"
      ],
      "text/plain": [
       "                 Lat,Lngt                     Period            start_dt  \\\n",
       "0     13.003621,79.990784  16/10 10:10 : 16/10 10:15 2021-10-16 10:10:00   \n",
       "1     13.003621,79.990784  16/10 10:15 : 16/10 10:20 2021-10-16 10:15:00   \n",
       "2     13.003621,79.990784  16/10 10:20 : 16/10 10:25 2021-10-16 10:20:00   \n",
       "3     13.003621,79.990784  16/10 10:25 : 16/10 10:30 2021-10-16 10:25:00   \n",
       "4     13.003621,79.990784  16/10 10:30 : 16/10 10:35 2021-10-16 10:30:00   \n",
       "...                   ...                        ...                 ...   \n",
       "1444  28.039583,73.430438  21/10 11:35 : 21/10 11:40 2021-10-21 11:35:00   \n",
       "1445  28.039583,73.430438  21/10 11:40 : 21/10 11:45 2021-10-21 11:40:00   \n",
       "1446  28.039583,73.430438  21/10 11:45 : 21/10 11:50 2021-10-21 11:45:00   \n",
       "1447  28.039583,73.430438  21/10 11:50 : 21/10 11:55 2021-10-21 11:50:00   \n",
       "1448  28.039583,73.430438  21/10 11:55 : 21/10 11:57 2021-10-21 11:55:00   \n",
       "\n",
       "                  end_dt       Time_diff Time_diff_new  dealer_lat  \\\n",
       "0    2021-10-16 10:15:00 0 days 00:05:00             0    27.99536   \n",
       "1    2021-10-16 10:20:00 0 days 00:05:00      00:05:00    27.99536   \n",
       "2    2021-10-16 10:25:00 0 days 00:05:00      00:05:00    27.99536   \n",
       "3    2021-10-16 10:30:00 0 days 00:05:00      00:05:00    27.99536   \n",
       "4    2021-10-16 10:35:00 0 days 00:05:00      00:05:00    27.99536   \n",
       "...                  ...             ...           ...         ...   \n",
       "1444 2021-10-21 11:40:00 0 days 00:05:00      00:05:00    27.99536   \n",
       "1445 2021-10-21 11:45:00 0 days 00:05:00      00:05:00    27.99536   \n",
       "1446 2021-10-21 11:50:00 0 days 00:05:00      00:05:00    27.99536   \n",
       "1447 2021-10-21 11:55:00 0 days 00:05:00      00:05:00    27.99536   \n",
       "1448 2021-10-21 11:57:00 0 days 00:02:00      00:02:00    27.99536   \n",
       "\n",
       "      dealer_long        lat       long  \n",
       "0        73.31652  13.003621  79.990784  \n",
       "1        73.31652  13.003621  79.990784  \n",
       "2        73.31652  13.003621  79.990784  \n",
       "3        73.31652  13.003621  79.990784  \n",
       "4        73.31652  13.003621  79.990784  \n",
       "...           ...        ...        ...  \n",
       "1444     73.31652  28.039583  73.430438  \n",
       "1445     73.31652  28.039583  73.430438  \n",
       "1446     73.31652  28.039583  73.430438  \n",
       "1447     73.31652  28.039583  73.430438  \n",
       "1448     73.31652  28.039583  73.430438  \n",
       "\n",
       "[1449 rows x 10 columns]"
      ]
     },
     "execution_count": 724,
     "metadata": {},
     "output_type": "execute_result"
    }
   ],
   "source": [
    "df"
   ]
  },
  {
   "cell_type": "code",
   "execution_count": 725,
   "metadata": {},
   "outputs": [],
   "source": [
    "df = df[0:1449]"
   ]
  },
  {
   "cell_type": "code",
   "execution_count": 777,
   "metadata": {},
   "outputs": [
    {
     "name": "stdout",
     "output_type": "stream",
     "text": [
      "<class 'pandas.core.frame.DataFrame'>\n",
      "RangeIndex: 1449 entries, 0 to 1448\n",
      "Data columns (total 11 columns):\n",
      " #   Column         Non-Null Count  Dtype          \n",
      "---  ------         --------------  -----          \n",
      " 0   Lat,Lngt       1449 non-null   object         \n",
      " 1   Period         1449 non-null   object         \n",
      " 2   start_dt       1449 non-null   datetime64[ns] \n",
      " 3   end_dt         1449 non-null   datetime64[ns] \n",
      " 4   Time_diff      1449 non-null   timedelta64[ns]\n",
      " 5   Time_diff_new  1449 non-null   object         \n",
      " 6   dealer_lat     1449 non-null   float64        \n",
      " 7   dealer_long    1449 non-null   float64        \n",
      " 8   lat            1449 non-null   float64        \n",
      " 9   long           1449 non-null   float64        \n",
      " 10  Distance       1449 non-null   float64        \n",
      "dtypes: datetime64[ns](2), float64(5), object(3), timedelta64[ns](1)\n",
      "memory usage: 124.6+ KB\n"
     ]
    }
   ],
   "source": [
    "df.info()"
   ]
  },
  {
   "cell_type": "code",
   "execution_count": 727,
   "metadata": {},
   "outputs": [],
   "source": [
    "df['dealer_lat'] = 27.99536"
   ]
  },
  {
   "cell_type": "code",
   "execution_count": 728,
   "metadata": {},
   "outputs": [],
   "source": [
    "df['dealer_long'] = 73.31652"
   ]
  },
  {
   "cell_type": "code",
   "execution_count": 729,
   "metadata": {
    "scrolled": true
   },
   "outputs": [
    {
     "data": {
      "text/html": [
       "<div>\n",
       "<style scoped>\n",
       "    .dataframe tbody tr th:only-of-type {\n",
       "        vertical-align: middle;\n",
       "    }\n",
       "\n",
       "    .dataframe tbody tr th {\n",
       "        vertical-align: top;\n",
       "    }\n",
       "\n",
       "    .dataframe thead th {\n",
       "        text-align: right;\n",
       "    }\n",
       "</style>\n",
       "<table border=\"1\" class=\"dataframe\">\n",
       "  <thead>\n",
       "    <tr style=\"text-align: right;\">\n",
       "      <th></th>\n",
       "      <th>Lat,Lngt</th>\n",
       "      <th>Period</th>\n",
       "      <th>start_dt</th>\n",
       "      <th>end_dt</th>\n",
       "      <th>Time_diff</th>\n",
       "      <th>Time_diff_new</th>\n",
       "      <th>dealer_lat</th>\n",
       "      <th>dealer_long</th>\n",
       "      <th>lat</th>\n",
       "      <th>long</th>\n",
       "    </tr>\n",
       "  </thead>\n",
       "  <tbody>\n",
       "    <tr>\n",
       "      <th>0</th>\n",
       "      <td>13.003621,79.990784</td>\n",
       "      <td>16/10 10:10 : 16/10 10:15</td>\n",
       "      <td>2021-10-16 10:10:00</td>\n",
       "      <td>2021-10-16 10:15:00</td>\n",
       "      <td>0 days 00:05:00</td>\n",
       "      <td>0</td>\n",
       "      <td>27.99536</td>\n",
       "      <td>73.31652</td>\n",
       "      <td>13.003621</td>\n",
       "      <td>79.990784</td>\n",
       "    </tr>\n",
       "    <tr>\n",
       "      <th>1</th>\n",
       "      <td>13.003621,79.990784</td>\n",
       "      <td>16/10 10:15 : 16/10 10:20</td>\n",
       "      <td>2021-10-16 10:15:00</td>\n",
       "      <td>2021-10-16 10:20:00</td>\n",
       "      <td>0 days 00:05:00</td>\n",
       "      <td>00:05:00</td>\n",
       "      <td>27.99536</td>\n",
       "      <td>73.31652</td>\n",
       "      <td>13.003621</td>\n",
       "      <td>79.990784</td>\n",
       "    </tr>\n",
       "    <tr>\n",
       "      <th>2</th>\n",
       "      <td>13.003621,79.990784</td>\n",
       "      <td>16/10 10:20 : 16/10 10:25</td>\n",
       "      <td>2021-10-16 10:20:00</td>\n",
       "      <td>2021-10-16 10:25:00</td>\n",
       "      <td>0 days 00:05:00</td>\n",
       "      <td>00:05:00</td>\n",
       "      <td>27.99536</td>\n",
       "      <td>73.31652</td>\n",
       "      <td>13.003621</td>\n",
       "      <td>79.990784</td>\n",
       "    </tr>\n",
       "    <tr>\n",
       "      <th>3</th>\n",
       "      <td>13.003621,79.990784</td>\n",
       "      <td>16/10 10:25 : 16/10 10:30</td>\n",
       "      <td>2021-10-16 10:25:00</td>\n",
       "      <td>2021-10-16 10:30:00</td>\n",
       "      <td>0 days 00:05:00</td>\n",
       "      <td>00:05:00</td>\n",
       "      <td>27.99536</td>\n",
       "      <td>73.31652</td>\n",
       "      <td>13.003621</td>\n",
       "      <td>79.990784</td>\n",
       "    </tr>\n",
       "    <tr>\n",
       "      <th>4</th>\n",
       "      <td>13.003621,79.990784</td>\n",
       "      <td>16/10 10:30 : 16/10 10:35</td>\n",
       "      <td>2021-10-16 10:30:00</td>\n",
       "      <td>2021-10-16 10:35:00</td>\n",
       "      <td>0 days 00:05:00</td>\n",
       "      <td>00:05:00</td>\n",
       "      <td>27.99536</td>\n",
       "      <td>73.31652</td>\n",
       "      <td>13.003621</td>\n",
       "      <td>79.990784</td>\n",
       "    </tr>\n",
       "    <tr>\n",
       "      <th>...</th>\n",
       "      <td>...</td>\n",
       "      <td>...</td>\n",
       "      <td>...</td>\n",
       "      <td>...</td>\n",
       "      <td>...</td>\n",
       "      <td>...</td>\n",
       "      <td>...</td>\n",
       "      <td>...</td>\n",
       "      <td>...</td>\n",
       "      <td>...</td>\n",
       "    </tr>\n",
       "    <tr>\n",
       "      <th>1444</th>\n",
       "      <td>28.039583,73.430438</td>\n",
       "      <td>21/10 11:35 : 21/10 11:40</td>\n",
       "      <td>2021-10-21 11:35:00</td>\n",
       "      <td>2021-10-21 11:40:00</td>\n",
       "      <td>0 days 00:05:00</td>\n",
       "      <td>00:05:00</td>\n",
       "      <td>27.99536</td>\n",
       "      <td>73.31652</td>\n",
       "      <td>28.039583</td>\n",
       "      <td>73.430438</td>\n",
       "    </tr>\n",
       "    <tr>\n",
       "      <th>1445</th>\n",
       "      <td>28.039583,73.430438</td>\n",
       "      <td>21/10 11:40 : 21/10 11:45</td>\n",
       "      <td>2021-10-21 11:40:00</td>\n",
       "      <td>2021-10-21 11:45:00</td>\n",
       "      <td>0 days 00:05:00</td>\n",
       "      <td>00:05:00</td>\n",
       "      <td>27.99536</td>\n",
       "      <td>73.31652</td>\n",
       "      <td>28.039583</td>\n",
       "      <td>73.430438</td>\n",
       "    </tr>\n",
       "    <tr>\n",
       "      <th>1446</th>\n",
       "      <td>28.039583,73.430438</td>\n",
       "      <td>21/10 11:45 : 21/10 11:50</td>\n",
       "      <td>2021-10-21 11:45:00</td>\n",
       "      <td>2021-10-21 11:50:00</td>\n",
       "      <td>0 days 00:05:00</td>\n",
       "      <td>00:05:00</td>\n",
       "      <td>27.99536</td>\n",
       "      <td>73.31652</td>\n",
       "      <td>28.039583</td>\n",
       "      <td>73.430438</td>\n",
       "    </tr>\n",
       "    <tr>\n",
       "      <th>1447</th>\n",
       "      <td>28.039583,73.430438</td>\n",
       "      <td>21/10 11:50 : 21/10 11:55</td>\n",
       "      <td>2021-10-21 11:50:00</td>\n",
       "      <td>2021-10-21 11:55:00</td>\n",
       "      <td>0 days 00:05:00</td>\n",
       "      <td>00:05:00</td>\n",
       "      <td>27.99536</td>\n",
       "      <td>73.31652</td>\n",
       "      <td>28.039583</td>\n",
       "      <td>73.430438</td>\n",
       "    </tr>\n",
       "    <tr>\n",
       "      <th>1448</th>\n",
       "      <td>28.039583,73.430438</td>\n",
       "      <td>21/10 11:55 : 21/10 11:57</td>\n",
       "      <td>2021-10-21 11:55:00</td>\n",
       "      <td>2021-10-21 11:57:00</td>\n",
       "      <td>0 days 00:02:00</td>\n",
       "      <td>00:02:00</td>\n",
       "      <td>27.99536</td>\n",
       "      <td>73.31652</td>\n",
       "      <td>28.039583</td>\n",
       "      <td>73.430438</td>\n",
       "    </tr>\n",
       "  </tbody>\n",
       "</table>\n",
       "<p>1449 rows × 10 columns</p>\n",
       "</div>"
      ],
      "text/plain": [
       "                 Lat,Lngt                     Period            start_dt  \\\n",
       "0     13.003621,79.990784  16/10 10:10 : 16/10 10:15 2021-10-16 10:10:00   \n",
       "1     13.003621,79.990784  16/10 10:15 : 16/10 10:20 2021-10-16 10:15:00   \n",
       "2     13.003621,79.990784  16/10 10:20 : 16/10 10:25 2021-10-16 10:20:00   \n",
       "3     13.003621,79.990784  16/10 10:25 : 16/10 10:30 2021-10-16 10:25:00   \n",
       "4     13.003621,79.990784  16/10 10:30 : 16/10 10:35 2021-10-16 10:30:00   \n",
       "...                   ...                        ...                 ...   \n",
       "1444  28.039583,73.430438  21/10 11:35 : 21/10 11:40 2021-10-21 11:35:00   \n",
       "1445  28.039583,73.430438  21/10 11:40 : 21/10 11:45 2021-10-21 11:40:00   \n",
       "1446  28.039583,73.430438  21/10 11:45 : 21/10 11:50 2021-10-21 11:45:00   \n",
       "1447  28.039583,73.430438  21/10 11:50 : 21/10 11:55 2021-10-21 11:50:00   \n",
       "1448  28.039583,73.430438  21/10 11:55 : 21/10 11:57 2021-10-21 11:55:00   \n",
       "\n",
       "                  end_dt       Time_diff Time_diff_new  dealer_lat  \\\n",
       "0    2021-10-16 10:15:00 0 days 00:05:00             0    27.99536   \n",
       "1    2021-10-16 10:20:00 0 days 00:05:00      00:05:00    27.99536   \n",
       "2    2021-10-16 10:25:00 0 days 00:05:00      00:05:00    27.99536   \n",
       "3    2021-10-16 10:30:00 0 days 00:05:00      00:05:00    27.99536   \n",
       "4    2021-10-16 10:35:00 0 days 00:05:00      00:05:00    27.99536   \n",
       "...                  ...             ...           ...         ...   \n",
       "1444 2021-10-21 11:40:00 0 days 00:05:00      00:05:00    27.99536   \n",
       "1445 2021-10-21 11:45:00 0 days 00:05:00      00:05:00    27.99536   \n",
       "1446 2021-10-21 11:50:00 0 days 00:05:00      00:05:00    27.99536   \n",
       "1447 2021-10-21 11:55:00 0 days 00:05:00      00:05:00    27.99536   \n",
       "1448 2021-10-21 11:57:00 0 days 00:02:00      00:02:00    27.99536   \n",
       "\n",
       "      dealer_long        lat       long  \n",
       "0        73.31652  13.003621  79.990784  \n",
       "1        73.31652  13.003621  79.990784  \n",
       "2        73.31652  13.003621  79.990784  \n",
       "3        73.31652  13.003621  79.990784  \n",
       "4        73.31652  13.003621  79.990784  \n",
       "...           ...        ...        ...  \n",
       "1444     73.31652  28.039583  73.430438  \n",
       "1445     73.31652  28.039583  73.430438  \n",
       "1446     73.31652  28.039583  73.430438  \n",
       "1447     73.31652  28.039583  73.430438  \n",
       "1448     73.31652  28.039583  73.430438  \n",
       "\n",
       "[1449 rows x 10 columns]"
      ]
     },
     "execution_count": 729,
     "metadata": {},
     "output_type": "execute_result"
    }
   ],
   "source": [
    "df"
   ]
  },
  {
   "cell_type": "code",
   "execution_count": 730,
   "metadata": {},
   "outputs": [
    {
     "data": {
      "text/plain": [
       "Lat,Lngt                  object\n",
       "Period                    object\n",
       "start_dt          datetime64[ns]\n",
       "end_dt            datetime64[ns]\n",
       "Time_diff        timedelta64[ns]\n",
       "Time_diff_new             object\n",
       "dealer_lat               float64\n",
       "dealer_long              float64\n",
       "lat                       object\n",
       "long                      object\n",
       "dtype: object"
      ]
     },
     "execution_count": 730,
     "metadata": {},
     "output_type": "execute_result"
    }
   ],
   "source": [
    "# checking data types for type conversion\n",
    "df.dtypes"
   ]
  },
  {
   "cell_type": "code",
   "execution_count": 731,
   "metadata": {},
   "outputs": [],
   "source": [
    "# lat / long is object type -> we must convert it to a floating point number \n",
    "df[\"lat\"]= df[\"lat\"].astype(float)\n",
    "df[\"long\"]= df[\"long\"].astype(float)"
   ]
  },
  {
   "cell_type": "code",
   "execution_count": 732,
   "metadata": {},
   "outputs": [
    {
     "data": {
      "text/html": [
       "<div>\n",
       "<style scoped>\n",
       "    .dataframe tbody tr th:only-of-type {\n",
       "        vertical-align: middle;\n",
       "    }\n",
       "\n",
       "    .dataframe tbody tr th {\n",
       "        vertical-align: top;\n",
       "    }\n",
       "\n",
       "    .dataframe thead th {\n",
       "        text-align: right;\n",
       "    }\n",
       "</style>\n",
       "<table border=\"1\" class=\"dataframe\">\n",
       "  <thead>\n",
       "    <tr style=\"text-align: right;\">\n",
       "      <th></th>\n",
       "      <th>Lat,Lngt</th>\n",
       "      <th>Period</th>\n",
       "      <th>start_dt</th>\n",
       "      <th>end_dt</th>\n",
       "      <th>Time_diff</th>\n",
       "      <th>Time_diff_new</th>\n",
       "      <th>dealer_lat</th>\n",
       "      <th>dealer_long</th>\n",
       "      <th>lat</th>\n",
       "      <th>long</th>\n",
       "    </tr>\n",
       "  </thead>\n",
       "  <tbody>\n",
       "    <tr>\n",
       "      <th>0</th>\n",
       "      <td>13.003621,79.990784</td>\n",
       "      <td>16/10 10:10 : 16/10 10:15</td>\n",
       "      <td>2021-10-16 10:10:00</td>\n",
       "      <td>2021-10-16 10:15:00</td>\n",
       "      <td>0 days 00:05:00</td>\n",
       "      <td>0</td>\n",
       "      <td>27.99536</td>\n",
       "      <td>73.31652</td>\n",
       "      <td>13.003621</td>\n",
       "      <td>79.990784</td>\n",
       "    </tr>\n",
       "  </tbody>\n",
       "</table>\n",
       "</div>"
      ],
      "text/plain": [
       "              Lat,Lngt                     Period            start_dt  \\\n",
       "0  13.003621,79.990784  16/10 10:10 : 16/10 10:15 2021-10-16 10:10:00   \n",
       "\n",
       "               end_dt       Time_diff Time_diff_new  dealer_lat  dealer_long  \\\n",
       "0 2021-10-16 10:15:00 0 days 00:05:00             0    27.99536     73.31652   \n",
       "\n",
       "         lat       long  \n",
       "0  13.003621  79.990784  "
      ]
     },
     "execution_count": 732,
     "metadata": {},
     "output_type": "execute_result"
    }
   ],
   "source": [
    "df[0:1]"
   ]
  },
  {
   "cell_type": "code",
   "execution_count": 734,
   "metadata": {},
   "outputs": [],
   "source": [
    "import numpy as np"
   ]
  },
  {
   "cell_type": "markdown",
   "metadata": {},
   "source": [
    "### Calculating straight line distance using haversine method"
   ]
  },
  {
   "cell_type": "code",
   "execution_count": 735,
   "metadata": {},
   "outputs": [],
   "source": [
    "def haversine_distance(lat1, lon1, lat2, lon2):\n",
    "   r = 6371\n",
    "   phi1 = np.radians(lat1)\n",
    "   phi2 = np.radians(lat2)\n",
    "   delta_phi = np.radians(lat2 - lat1)\n",
    "   delta_lambda = np.radians(lon2 - lon1)\n",
    "   a = np.sin(delta_phi / 2)**2 + np.cos(phi1) * np.cos(phi2) *   np.sin(delta_lambda / 2)**2\n",
    "   res = r * (2 * np.arctan2(np.sqrt(a), np.sqrt(1 - a)))\n",
    "   return np.round(res, 2)"
   ]
  },
  {
   "cell_type": "code",
   "execution_count": 736,
   "metadata": {},
   "outputs": [],
   "source": [
    "dealer_lat = 27.99536\n",
    "dealer_lon = 73.31652\n",
    "distances_km = []\n",
    "for row in df.itertuples(index=False):\n",
    "   distances_km.append(\n",
    "       haversine_distance(dealer_lat, dealer_lon, row.lat, row.long)\n",
    "   )"
   ]
  },
  {
   "cell_type": "code",
   "execution_count": 737,
   "metadata": {},
   "outputs": [],
   "source": [
    "df['Distance'] = distances_km"
   ]
  },
  {
   "cell_type": "code",
   "execution_count": 931,
   "metadata": {},
   "outputs": [],
   "source": [
    "df['Status'] = np.where(df['Distance']!= df['Distance'].min(), 'In-transit', 'Unloading-Point')\n"
   ]
  },
  {
   "cell_type": "code",
   "execution_count": 933,
   "metadata": {},
   "outputs": [
    {
     "data": {
      "text/plain": [
       "(1449, 13)"
      ]
     },
     "execution_count": 933,
     "metadata": {},
     "output_type": "execute_result"
    }
   ],
   "source": [
    "df.shape"
   ]
  },
  {
   "cell_type": "code",
   "execution_count": 932,
   "metadata": {
    "scrolled": true
   },
   "outputs": [
    {
     "data": {
      "text/html": [
       "<div>\n",
       "<style scoped>\n",
       "    .dataframe tbody tr th:only-of-type {\n",
       "        vertical-align: middle;\n",
       "    }\n",
       "\n",
       "    .dataframe tbody tr th {\n",
       "        vertical-align: top;\n",
       "    }\n",
       "\n",
       "    .dataframe thead th {\n",
       "        text-align: right;\n",
       "    }\n",
       "</style>\n",
       "<table border=\"1\" class=\"dataframe\">\n",
       "  <thead>\n",
       "    <tr style=\"text-align: right;\">\n",
       "      <th></th>\n",
       "      <th>Lat,Lngt</th>\n",
       "      <th>Period</th>\n",
       "      <th>start_dt</th>\n",
       "      <th>end_dt</th>\n",
       "      <th>Time_diff</th>\n",
       "      <th>Time_diff_new</th>\n",
       "      <th>dealer_lat</th>\n",
       "      <th>dealer_long</th>\n",
       "      <th>lat</th>\n",
       "      <th>long</th>\n",
       "      <th>Distance</th>\n",
       "      <th>Time_Difference</th>\n",
       "      <th>Status</th>\n",
       "    </tr>\n",
       "  </thead>\n",
       "  <tbody>\n",
       "    <tr>\n",
       "      <th>1442</th>\n",
       "      <td>28.039583,73.430438</td>\n",
       "      <td>21/10 11:25 : 21/10 11:30</td>\n",
       "      <td>2021-10-21 11:25:00</td>\n",
       "      <td>2021-10-21 11:30:00</td>\n",
       "      <td>0 days 00:05:00</td>\n",
       "      <td>00:05:00</td>\n",
       "      <td>27.99536</td>\n",
       "      <td>73.31652</td>\n",
       "      <td>28.039583</td>\n",
       "      <td>73.430438</td>\n",
       "      <td>12.22</td>\n",
       "      <td>0 days 00:05:00</td>\n",
       "      <td>Unloading-Point</td>\n",
       "    </tr>\n",
       "    <tr>\n",
       "      <th>1443</th>\n",
       "      <td>28.039583,73.430438</td>\n",
       "      <td>21/10 11:30 : 21/10 11:35</td>\n",
       "      <td>2021-10-21 11:30:00</td>\n",
       "      <td>2021-10-21 11:35:00</td>\n",
       "      <td>0 days 00:05:00</td>\n",
       "      <td>00:05:00</td>\n",
       "      <td>27.99536</td>\n",
       "      <td>73.31652</td>\n",
       "      <td>28.039583</td>\n",
       "      <td>73.430438</td>\n",
       "      <td>12.22</td>\n",
       "      <td>0 days 00:05:00</td>\n",
       "      <td>Unloading-Point</td>\n",
       "    </tr>\n",
       "    <tr>\n",
       "      <th>1444</th>\n",
       "      <td>28.039583,73.430438</td>\n",
       "      <td>21/10 11:35 : 21/10 11:40</td>\n",
       "      <td>2021-10-21 11:35:00</td>\n",
       "      <td>2021-10-21 11:40:00</td>\n",
       "      <td>0 days 00:05:00</td>\n",
       "      <td>00:05:00</td>\n",
       "      <td>27.99536</td>\n",
       "      <td>73.31652</td>\n",
       "      <td>28.039583</td>\n",
       "      <td>73.430438</td>\n",
       "      <td>12.22</td>\n",
       "      <td>0 days 00:05:00</td>\n",
       "      <td>Unloading-Point</td>\n",
       "    </tr>\n",
       "    <tr>\n",
       "      <th>1445</th>\n",
       "      <td>28.039583,73.430438</td>\n",
       "      <td>21/10 11:40 : 21/10 11:45</td>\n",
       "      <td>2021-10-21 11:40:00</td>\n",
       "      <td>2021-10-21 11:45:00</td>\n",
       "      <td>0 days 00:05:00</td>\n",
       "      <td>00:05:00</td>\n",
       "      <td>27.99536</td>\n",
       "      <td>73.31652</td>\n",
       "      <td>28.039583</td>\n",
       "      <td>73.430438</td>\n",
       "      <td>12.22</td>\n",
       "      <td>0 days 00:05:00</td>\n",
       "      <td>Unloading-Point</td>\n",
       "    </tr>\n",
       "    <tr>\n",
       "      <th>1446</th>\n",
       "      <td>28.039583,73.430438</td>\n",
       "      <td>21/10 11:45 : 21/10 11:50</td>\n",
       "      <td>2021-10-21 11:45:00</td>\n",
       "      <td>2021-10-21 11:50:00</td>\n",
       "      <td>0 days 00:05:00</td>\n",
       "      <td>00:05:00</td>\n",
       "      <td>27.99536</td>\n",
       "      <td>73.31652</td>\n",
       "      <td>28.039583</td>\n",
       "      <td>73.430438</td>\n",
       "      <td>12.22</td>\n",
       "      <td>0 days 00:05:00</td>\n",
       "      <td>Unloading-Point</td>\n",
       "    </tr>\n",
       "    <tr>\n",
       "      <th>1447</th>\n",
       "      <td>28.039583,73.430438</td>\n",
       "      <td>21/10 11:50 : 21/10 11:55</td>\n",
       "      <td>2021-10-21 11:50:00</td>\n",
       "      <td>2021-10-21 11:55:00</td>\n",
       "      <td>0 days 00:05:00</td>\n",
       "      <td>00:05:00</td>\n",
       "      <td>27.99536</td>\n",
       "      <td>73.31652</td>\n",
       "      <td>28.039583</td>\n",
       "      <td>73.430438</td>\n",
       "      <td>12.22</td>\n",
       "      <td>0 days 00:05:00</td>\n",
       "      <td>Unloading-Point</td>\n",
       "    </tr>\n",
       "    <tr>\n",
       "      <th>1448</th>\n",
       "      <td>28.039583,73.430438</td>\n",
       "      <td>21/10 11:55 : 21/10 11:57</td>\n",
       "      <td>2021-10-21 11:55:00</td>\n",
       "      <td>2021-10-21 11:57:00</td>\n",
       "      <td>0 days 00:02:00</td>\n",
       "      <td>00:02:00</td>\n",
       "      <td>27.99536</td>\n",
       "      <td>73.31652</td>\n",
       "      <td>28.039583</td>\n",
       "      <td>73.430438</td>\n",
       "      <td>12.22</td>\n",
       "      <td>0 days 00:02:00</td>\n",
       "      <td>Unloading-Point</td>\n",
       "    </tr>\n",
       "  </tbody>\n",
       "</table>\n",
       "</div>"
      ],
      "text/plain": [
       "                 Lat,Lngt                     Period            start_dt  \\\n",
       "1442  28.039583,73.430438  21/10 11:25 : 21/10 11:30 2021-10-21 11:25:00   \n",
       "1443  28.039583,73.430438  21/10 11:30 : 21/10 11:35 2021-10-21 11:30:00   \n",
       "1444  28.039583,73.430438  21/10 11:35 : 21/10 11:40 2021-10-21 11:35:00   \n",
       "1445  28.039583,73.430438  21/10 11:40 : 21/10 11:45 2021-10-21 11:40:00   \n",
       "1446  28.039583,73.430438  21/10 11:45 : 21/10 11:50 2021-10-21 11:45:00   \n",
       "1447  28.039583,73.430438  21/10 11:50 : 21/10 11:55 2021-10-21 11:50:00   \n",
       "1448  28.039583,73.430438  21/10 11:55 : 21/10 11:57 2021-10-21 11:55:00   \n",
       "\n",
       "                  end_dt       Time_diff Time_diff_new  dealer_lat  \\\n",
       "1442 2021-10-21 11:30:00 0 days 00:05:00      00:05:00    27.99536   \n",
       "1443 2021-10-21 11:35:00 0 days 00:05:00      00:05:00    27.99536   \n",
       "1444 2021-10-21 11:40:00 0 days 00:05:00      00:05:00    27.99536   \n",
       "1445 2021-10-21 11:45:00 0 days 00:05:00      00:05:00    27.99536   \n",
       "1446 2021-10-21 11:50:00 0 days 00:05:00      00:05:00    27.99536   \n",
       "1447 2021-10-21 11:55:00 0 days 00:05:00      00:05:00    27.99536   \n",
       "1448 2021-10-21 11:57:00 0 days 00:02:00      00:02:00    27.99536   \n",
       "\n",
       "      dealer_long        lat       long  Distance Time_Difference  \\\n",
       "1442     73.31652  28.039583  73.430438     12.22 0 days 00:05:00   \n",
       "1443     73.31652  28.039583  73.430438     12.22 0 days 00:05:00   \n",
       "1444     73.31652  28.039583  73.430438     12.22 0 days 00:05:00   \n",
       "1445     73.31652  28.039583  73.430438     12.22 0 days 00:05:00   \n",
       "1446     73.31652  28.039583  73.430438     12.22 0 days 00:05:00   \n",
       "1447     73.31652  28.039583  73.430438     12.22 0 days 00:05:00   \n",
       "1448     73.31652  28.039583  73.430438     12.22 0 days 00:02:00   \n",
       "\n",
       "               Status  \n",
       "1442  Unloading-Point  \n",
       "1443  Unloading-Point  \n",
       "1444  Unloading-Point  \n",
       "1445  Unloading-Point  \n",
       "1446  Unloading-Point  \n",
       "1447  Unloading-Point  \n",
       "1448  Unloading-Point  "
      ]
     },
     "execution_count": 932,
     "metadata": {},
     "output_type": "execute_result"
    }
   ],
   "source": [
    "df.iloc[np.where(df.Distance==df.Distance.min())]"
   ]
  },
  {
   "cell_type": "markdown",
   "metadata": {},
   "source": [
    "# removing other rows; keeping only single unloading point"
   ]
  },
  {
   "cell_type": "code",
   "execution_count": 934,
   "metadata": {},
   "outputs": [],
   "source": [
    "# removing other rows; keeping only single unloading point\n",
    "df1_gj = df[0:1443].copy()"
   ]
  },
  {
   "cell_type": "code",
   "execution_count": 1128,
   "metadata": {},
   "outputs": [
    {
     "data": {
      "text/plain": [
       "(1443, 14)"
      ]
     },
     "execution_count": 1128,
     "metadata": {},
     "output_type": "execute_result"
    }
   ],
   "source": [
    "df1_gj.shape"
   ]
  },
  {
   "cell_type": "code",
   "execution_count": 941,
   "metadata": {},
   "outputs": [
    {
     "data": {
      "text/html": [
       "<div>\n",
       "<style scoped>\n",
       "    .dataframe tbody tr th:only-of-type {\n",
       "        vertical-align: middle;\n",
       "    }\n",
       "\n",
       "    .dataframe tbody tr th {\n",
       "        vertical-align: top;\n",
       "    }\n",
       "\n",
       "    .dataframe thead th {\n",
       "        text-align: right;\n",
       "    }\n",
       "</style>\n",
       "<table border=\"1\" class=\"dataframe\">\n",
       "  <thead>\n",
       "    <tr style=\"text-align: right;\">\n",
       "      <th></th>\n",
       "      <th>Lat,Lngt</th>\n",
       "      <th>Period</th>\n",
       "      <th>start_dt</th>\n",
       "      <th>end_dt</th>\n",
       "      <th>Time_diff</th>\n",
       "      <th>Time_diff_new</th>\n",
       "      <th>dealer_lat</th>\n",
       "      <th>dealer_long</th>\n",
       "      <th>lat</th>\n",
       "      <th>long</th>\n",
       "      <th>Distance</th>\n",
       "      <th>Time_Difference</th>\n",
       "      <th>Status</th>\n",
       "    </tr>\n",
       "  </thead>\n",
       "  <tbody>\n",
       "    <tr>\n",
       "      <th>0</th>\n",
       "      <td>13.003621,79.990784</td>\n",
       "      <td>16/10 10:10 : 16/10 10:15</td>\n",
       "      <td>2021-10-16 10:10:00</td>\n",
       "      <td>2021-10-16 10:15:00</td>\n",
       "      <td>0 days 00:05:00</td>\n",
       "      <td>0</td>\n",
       "      <td>27.99536</td>\n",
       "      <td>73.31652</td>\n",
       "      <td>13.003621</td>\n",
       "      <td>79.990784</td>\n",
       "      <td>1805.03</td>\n",
       "      <td>0 days</td>\n",
       "      <td>In-transit</td>\n",
       "    </tr>\n",
       "  </tbody>\n",
       "</table>\n",
       "</div>"
      ],
      "text/plain": [
       "              Lat,Lngt                     Period            start_dt  \\\n",
       "0  13.003621,79.990784  16/10 10:10 : 16/10 10:15 2021-10-16 10:10:00   \n",
       "\n",
       "               end_dt       Time_diff Time_diff_new  dealer_lat  dealer_long  \\\n",
       "0 2021-10-16 10:15:00 0 days 00:05:00             0    27.99536     73.31652   \n",
       "\n",
       "         lat       long  Distance Time_Difference      Status  \n",
       "0  13.003621  79.990784   1805.03          0 days  In-transit  "
      ]
     },
     "execution_count": 941,
     "metadata": {},
     "output_type": "execute_result"
    }
   ],
   "source": [
    "df1_gj.head(1)"
   ]
  },
  {
   "cell_type": "code",
   "execution_count": 1034,
   "metadata": {},
   "outputs": [
    {
     "data": {
      "text/html": [
       "<div>\n",
       "<style scoped>\n",
       "    .dataframe tbody tr th:only-of-type {\n",
       "        vertical-align: middle;\n",
       "    }\n",
       "\n",
       "    .dataframe tbody tr th {\n",
       "        vertical-align: top;\n",
       "    }\n",
       "\n",
       "    .dataframe thead th {\n",
       "        text-align: right;\n",
       "    }\n",
       "</style>\n",
       "<table border=\"1\" class=\"dataframe\">\n",
       "  <thead>\n",
       "    <tr style=\"text-align: right;\">\n",
       "      <th></th>\n",
       "      <th>Lat,Lngt</th>\n",
       "      <th>Period</th>\n",
       "      <th>start_dt</th>\n",
       "      <th>end_dt</th>\n",
       "      <th>Time_diff</th>\n",
       "      <th>Time_diff_new</th>\n",
       "      <th>dealer_lat</th>\n",
       "      <th>dealer_long</th>\n",
       "      <th>lat</th>\n",
       "      <th>long</th>\n",
       "      <th>Distance</th>\n",
       "      <th>Time_Difference</th>\n",
       "      <th>Status</th>\n",
       "      <th>diff_Stop</th>\n",
       "    </tr>\n",
       "  </thead>\n",
       "  <tbody>\n",
       "    <tr>\n",
       "      <th>1442</th>\n",
       "      <td>28.039583,73.430438</td>\n",
       "      <td>21/10 11:25 : 21/10 11:30</td>\n",
       "      <td>2021-10-21 11:25:00</td>\n",
       "      <td>2021-10-21 11:30:00</td>\n",
       "      <td>0 days 00:05:00</td>\n",
       "      <td>00:05:00</td>\n",
       "      <td>27.99536</td>\n",
       "      <td>73.31652</td>\n",
       "      <td>28.039583</td>\n",
       "      <td>73.430438</td>\n",
       "      <td>12.22</td>\n",
       "      <td>0 days 00:05:00</td>\n",
       "      <td>Unloading-Point</td>\n",
       "      <td>NaT</td>\n",
       "    </tr>\n",
       "  </tbody>\n",
       "</table>\n",
       "</div>"
      ],
      "text/plain": [
       "                 Lat,Lngt                     Period            start_dt  \\\n",
       "1442  28.039583,73.430438  21/10 11:25 : 21/10 11:30 2021-10-21 11:25:00   \n",
       "\n",
       "                  end_dt       Time_diff Time_diff_new  dealer_lat  \\\n",
       "1442 2021-10-21 11:30:00 0 days 00:05:00      00:05:00    27.99536   \n",
       "\n",
       "      dealer_long        lat       long  Distance Time_Difference  \\\n",
       "1442     73.31652  28.039583  73.430438     12.22 0 days 00:05:00   \n",
       "\n",
       "               Status diff_Stop  \n",
       "1442  Unloading-Point       NaT  "
      ]
     },
     "execution_count": 1034,
     "metadata": {},
     "output_type": "execute_result"
    }
   ],
   "source": [
    "df1_gj.tail(1)"
   ]
  },
  {
   "cell_type": "code",
   "execution_count": 936,
   "metadata": {},
   "outputs": [
    {
     "data": {
      "text/plain": [
       "In-transit         1442\n",
       "Unloading-Point       1\n",
       "Name: Status, dtype: int64"
      ]
     },
     "execution_count": 936,
     "metadata": {},
     "output_type": "execute_result"
    }
   ],
   "source": [
    "df1_gj['Status'].value_counts()"
   ]
  },
  {
   "cell_type": "code",
   "execution_count": 1031,
   "metadata": {},
   "outputs": [],
   "source": [
    "df1_gj['Time_diff'] = [x.iloc[-1] - x.iloc[0] for x in df1_gj['end_dt'].rolling(2) if len(x)>0]"
   ]
  },
  {
   "cell_type": "code",
   "execution_count": 1032,
   "metadata": {},
   "outputs": [
    {
     "data": {
      "text/plain": [
       "0 days 00:05:00    1441\n",
       "0 days 01:10:00       1\n",
       "0 days 00:00:00       1\n",
       "Name: Time_diff, dtype: int64"
      ]
     },
     "execution_count": 1032,
     "metadata": {},
     "output_type": "execute_result"
    }
   ],
   "source": [
    "df1_gj['Time_diff'].value_counts()"
   ]
  },
  {
   "cell_type": "code",
   "execution_count": 1033,
   "metadata": {},
   "outputs": [
    {
     "data": {
      "text/plain": [
       "Timedelta('5 days 01:15:00')"
      ]
     },
     "execution_count": 1033,
     "metadata": {},
     "output_type": "execute_result"
    }
   ],
   "source": [
    "df1_gj['Time_diff'].sum()"
   ]
  },
  {
   "cell_type": "code",
   "execution_count": 1035,
   "metadata": {},
   "outputs": [
    {
     "data": {
      "text/plain": [
       "Timedelta('5 days 01:15:00')"
      ]
     },
     "execution_count": 1035,
     "metadata": {},
     "output_type": "execute_result"
    }
   ],
   "source": [
    "dt1 = '2021-10-16 10:15:00'\n",
    "d1 = pd.to_datetime(dt1)\n",
    "dt2 = '2021-10-21 11:30:00'\n",
    "d2 = pd.to_datetime(dt2)\n",
    "\n",
    "a = d2-d1\n",
    "a"
   ]
  },
  {
   "cell_type": "code",
   "execution_count": 1054,
   "metadata": {},
   "outputs": [],
   "source": [
    "#df1_gj"
   ]
  },
  {
   "cell_type": "markdown",
   "metadata": {},
   "source": [
    "# stoppage time new"
   ]
  },
  {
   "cell_type": "code",
   "execution_count": 1056,
   "metadata": {},
   "outputs": [],
   "source": [
    "df1gby = df1_gj.groupby('Lat,Lngt').agg({'Time_diff': np.sum})"
   ]
  },
  {
   "cell_type": "code",
   "execution_count": 1129,
   "metadata": {},
   "outputs": [
    {
     "data": {
      "text/plain": [
       "0 days 00:05:00    763\n",
       "0 days 00:10:00      8\n",
       "0 days 00:25:00      5\n",
       "0 days 00:15:00      3\n",
       "0 days 00:20:00      2\n",
       "0 days 00:30:00      2\n",
       "0 days 00:50:00      1\n",
       "0 days 00:35:00      1\n",
       "0 days 03:15:00      1\n",
       "0 days 16:20:00      1\n",
       "0 days 01:35:00      1\n",
       "0 days 03:25:00      1\n",
       "0 days 01:00:00      1\n",
       "0 days 01:10:00      1\n",
       "0 days 03:45:00      1\n",
       "0 days 06:15:00      1\n",
       "0 days 01:30:00      1\n",
       "0 days 04:00:00      1\n",
       "0 days 08:10:00      1\n",
       "Name: Time_diff, dtype: int64"
      ]
     },
     "execution_count": 1129,
     "metadata": {},
     "output_type": "execute_result"
    }
   ],
   "source": [
    "df1gby['Time_diff'].value_counts()"
   ]
  },
  {
   "cell_type": "code",
   "execution_count": 1059,
   "metadata": {},
   "outputs": [],
   "source": [
    "df1gby_res = df1gby[df1gby['Time_diff'] >= '01:00:00']"
   ]
  },
  {
   "cell_type": "code",
   "execution_count": 1060,
   "metadata": {},
   "outputs": [
    {
     "data": {
      "text/html": [
       "<div>\n",
       "<style scoped>\n",
       "    .dataframe tbody tr th:only-of-type {\n",
       "        vertical-align: middle;\n",
       "    }\n",
       "\n",
       "    .dataframe tbody tr th {\n",
       "        vertical-align: top;\n",
       "    }\n",
       "\n",
       "    .dataframe thead th {\n",
       "        text-align: right;\n",
       "    }\n",
       "</style>\n",
       "<table border=\"1\" class=\"dataframe\">\n",
       "  <thead>\n",
       "    <tr style=\"text-align: right;\">\n",
       "      <th></th>\n",
       "      <th>Time_diff</th>\n",
       "    </tr>\n",
       "    <tr>\n",
       "      <th>Lat,Lngt</th>\n",
       "      <th></th>\n",
       "    </tr>\n",
       "  </thead>\n",
       "  <tbody>\n",
       "    <tr>\n",
       "      <th>12.99363,80.012518</th>\n",
       "      <td>0 days 01:30:00</td>\n",
       "    </tr>\n",
       "    <tr>\n",
       "      <th>12.996785,79.989242</th>\n",
       "      <td>0 days 01:00:00</td>\n",
       "    </tr>\n",
       "    <tr>\n",
       "      <th>12.997075,79.989683</th>\n",
       "      <td>0 days 01:35:00</td>\n",
       "    </tr>\n",
       "    <tr>\n",
       "      <th>13.003621,79.990784</th>\n",
       "      <td>0 days 03:25:00</td>\n",
       "    </tr>\n",
       "    <tr>\n",
       "      <th>13.003654,79.990822</th>\n",
       "      <td>0 days 16:20:00</td>\n",
       "    </tr>\n",
       "    <tr>\n",
       "      <th>13.111439,77.88025</th>\n",
       "      <td>0 days 03:15:00</td>\n",
       "    </tr>\n",
       "    <tr>\n",
       "      <th>13.133839,77.356141</th>\n",
       "      <td>0 days 03:45:00</td>\n",
       "    </tr>\n",
       "    <tr>\n",
       "      <th>17.347675,75.839744</th>\n",
       "      <td>0 days 01:10:00</td>\n",
       "    </tr>\n",
       "    <tr>\n",
       "      <th>17.465471,75.852986</th>\n",
       "      <td>0 days 08:10:00</td>\n",
       "    </tr>\n",
       "    <tr>\n",
       "      <th>21.965622,75.292115</th>\n",
       "      <td>0 days 06:15:00</td>\n",
       "    </tr>\n",
       "    <tr>\n",
       "      <th>27.192282,74.830483</th>\n",
       "      <td>0 days 04:00:00</td>\n",
       "    </tr>\n",
       "  </tbody>\n",
       "</table>\n",
       "</div>"
      ],
      "text/plain": [
       "                          Time_diff\n",
       "Lat,Lngt                           \n",
       "12.99363,80.012518  0 days 01:30:00\n",
       "12.996785,79.989242 0 days 01:00:00\n",
       "12.997075,79.989683 0 days 01:35:00\n",
       "13.003621,79.990784 0 days 03:25:00\n",
       "13.003654,79.990822 0 days 16:20:00\n",
       "13.111439,77.88025  0 days 03:15:00\n",
       "13.133839,77.356141 0 days 03:45:00\n",
       "17.347675,75.839744 0 days 01:10:00\n",
       "17.465471,75.852986 0 days 08:10:00\n",
       "21.965622,75.292115 0 days 06:15:00\n",
       "27.192282,74.830483 0 days 04:00:00"
      ]
     },
     "execution_count": 1060,
     "metadata": {},
     "output_type": "execute_result"
    }
   ],
   "source": [
    "df1gby_res"
   ]
  },
  {
   "cell_type": "code",
   "execution_count": 1062,
   "metadata": {},
   "outputs": [
    {
     "data": {
      "text/plain": [
       "Timedelta('0 days 04:35:00')"
      ]
     },
     "execution_count": 1062,
     "metadata": {},
     "output_type": "execute_result"
    }
   ],
   "source": [
    "df1gby_res['Time_diff'].mean()"
   ]
  },
  {
   "cell_type": "code",
   "execution_count": 1063,
   "metadata": {},
   "outputs": [
    {
     "data": {
      "text/plain": [
       "Timedelta('0 days 03:25:00')"
      ]
     },
     "execution_count": 1063,
     "metadata": {},
     "output_type": "execute_result"
    }
   ],
   "source": [
    "df1gby_res['Time_diff'].median()"
   ]
  },
  {
   "cell_type": "code",
   "execution_count": 1064,
   "metadata": {},
   "outputs": [
    {
     "data": {
      "text/plain": [
       "Timedelta('0 days 16:20:00')"
      ]
     },
     "execution_count": 1064,
     "metadata": {},
     "output_type": "execute_result"
    }
   ],
   "source": [
    "df1gby_res['Time_diff'].max()"
   ]
  },
  {
   "cell_type": "code",
   "execution_count": null,
   "metadata": {},
   "outputs": [],
   "source": []
  },
  {
   "cell_type": "code",
   "execution_count": null,
   "metadata": {},
   "outputs": [],
   "source": []
  },
  {
   "cell_type": "code",
   "execution_count": null,
   "metadata": {},
   "outputs": [],
   "source": []
  },
  {
   "cell_type": "code",
   "execution_count": null,
   "metadata": {},
   "outputs": [],
   "source": []
  },
  {
   "cell_type": "code",
   "execution_count": null,
   "metadata": {},
   "outputs": [],
   "source": []
  },
  {
   "cell_type": "code",
   "execution_count": null,
   "metadata": {},
   "outputs": [],
   "source": []
  },
  {
   "cell_type": "code",
   "execution_count": null,
   "metadata": {},
   "outputs": [],
   "source": []
  },
  {
   "cell_type": "code",
   "execution_count": null,
   "metadata": {},
   "outputs": [],
   "source": [
    "# stoppage time old "
   ]
  },
  {
   "cell_type": "code",
   "execution_count": 977,
   "metadata": {},
   "outputs": [],
   "source": [
    "A=df1_gj.groupby(['lat', 'long']).agg({'end_dt':['min','max']})"
   ]
  },
  {
   "cell_type": "code",
   "execution_count": 978,
   "metadata": {},
   "outputs": [],
   "source": [
    "A.to_excel('dddf1gj.xlsx')"
   ]
  },
  {
   "cell_type": "code",
   "execution_count": 979,
   "metadata": {},
   "outputs": [],
   "source": [
    "df1 = pd.read_excel(\"D://Sales Logistic Project\\\\df1_final.xltm\")"
   ]
  },
  {
   "cell_type": "code",
   "execution_count": 980,
   "metadata": {},
   "outputs": [
    {
     "data": {
      "text/html": [
       "<div>\n",
       "<style scoped>\n",
       "    .dataframe tbody tr th:only-of-type {\n",
       "        vertical-align: middle;\n",
       "    }\n",
       "\n",
       "    .dataframe tbody tr th {\n",
       "        vertical-align: top;\n",
       "    }\n",
       "\n",
       "    .dataframe thead th {\n",
       "        text-align: right;\n",
       "    }\n",
       "</style>\n",
       "<table border=\"1\" class=\"dataframe\">\n",
       "  <thead>\n",
       "    <tr style=\"text-align: right;\">\n",
       "      <th></th>\n",
       "      <th>lat</th>\n",
       "      <th>long</th>\n",
       "      <th>min</th>\n",
       "      <th>max</th>\n",
       "    </tr>\n",
       "  </thead>\n",
       "  <tbody>\n",
       "    <tr>\n",
       "      <th>0</th>\n",
       "      <td>12.869451</td>\n",
       "      <td>79.646637</td>\n",
       "      <td>2021-10-17 12:30:00</td>\n",
       "      <td>2021-10-17 12:30:00</td>\n",
       "    </tr>\n",
       "    <tr>\n",
       "      <th>1</th>\n",
       "      <td>12.871091</td>\n",
       "      <td>79.711763</td>\n",
       "      <td>2021-10-17 12:20:00</td>\n",
       "      <td>2021-10-17 12:20:00</td>\n",
       "    </tr>\n",
       "    <tr>\n",
       "      <th>2</th>\n",
       "      <td>12.873888</td>\n",
       "      <td>79.747770</td>\n",
       "      <td>2021-10-17 12:15:00</td>\n",
       "      <td>2021-10-17 12:15:00</td>\n",
       "    </tr>\n",
       "    <tr>\n",
       "      <th>3</th>\n",
       "      <td>12.874396</td>\n",
       "      <td>79.678234</td>\n",
       "      <td>2021-10-17 12:25:00</td>\n",
       "      <td>2021-10-17 12:25:00</td>\n",
       "    </tr>\n",
       "    <tr>\n",
       "      <th>4</th>\n",
       "      <td>12.877281</td>\n",
       "      <td>79.612570</td>\n",
       "      <td>2021-10-17 12:35:00</td>\n",
       "      <td>2021-10-17 12:35:00</td>\n",
       "    </tr>\n",
       "    <tr>\n",
       "      <th>...</th>\n",
       "      <td>...</td>\n",
       "      <td>...</td>\n",
       "      <td>...</td>\n",
       "      <td>...</td>\n",
       "    </tr>\n",
       "    <tr>\n",
       "      <th>791</th>\n",
       "      <td>28.091904</td>\n",
       "      <td>74.024634</td>\n",
       "      <td>2021-10-21 09:35:00</td>\n",
       "      <td>2021-10-21 09:35:00</td>\n",
       "    </tr>\n",
       "    <tr>\n",
       "      <th>792</th>\n",
       "      <td>28.093113</td>\n",
       "      <td>73.953741</td>\n",
       "      <td>2021-10-21 09:45:00</td>\n",
       "      <td>2021-10-21 09:45:00</td>\n",
       "    </tr>\n",
       "    <tr>\n",
       "      <th>793</th>\n",
       "      <td>28.093616</td>\n",
       "      <td>73.876032</td>\n",
       "      <td>2021-10-21 09:55:00</td>\n",
       "      <td>2021-10-21 09:55:00</td>\n",
       "    </tr>\n",
       "    <tr>\n",
       "      <th>794</th>\n",
       "      <td>28.099674</td>\n",
       "      <td>73.799597</td>\n",
       "      <td>2021-10-21 10:05:00</td>\n",
       "      <td>2021-10-21 10:05:00</td>\n",
       "    </tr>\n",
       "    <tr>\n",
       "      <th>795</th>\n",
       "      <td>28.103632</td>\n",
       "      <td>73.838765</td>\n",
       "      <td>2021-10-21 10:00:00</td>\n",
       "      <td>2021-10-21 10:00:00</td>\n",
       "    </tr>\n",
       "  </tbody>\n",
       "</table>\n",
       "<p>796 rows × 4 columns</p>\n",
       "</div>"
      ],
      "text/plain": [
       "           lat       long                 min                 max\n",
       "0    12.869451  79.646637 2021-10-17 12:30:00 2021-10-17 12:30:00\n",
       "1    12.871091  79.711763 2021-10-17 12:20:00 2021-10-17 12:20:00\n",
       "2    12.873888  79.747770 2021-10-17 12:15:00 2021-10-17 12:15:00\n",
       "3    12.874396  79.678234 2021-10-17 12:25:00 2021-10-17 12:25:00\n",
       "4    12.877281  79.612570 2021-10-17 12:35:00 2021-10-17 12:35:00\n",
       "..         ...        ...                 ...                 ...\n",
       "791  28.091904  74.024634 2021-10-21 09:35:00 2021-10-21 09:35:00\n",
       "792  28.093113  73.953741 2021-10-21 09:45:00 2021-10-21 09:45:00\n",
       "793  28.093616  73.876032 2021-10-21 09:55:00 2021-10-21 09:55:00\n",
       "794  28.099674  73.799597 2021-10-21 10:05:00 2021-10-21 10:05:00\n",
       "795  28.103632  73.838765 2021-10-21 10:00:00 2021-10-21 10:00:00\n",
       "\n",
       "[796 rows x 4 columns]"
      ]
     },
     "execution_count": 980,
     "metadata": {},
     "output_type": "execute_result"
    }
   ],
   "source": [
    "df1"
   ]
  },
  {
   "cell_type": "code",
   "execution_count": 981,
   "metadata": {},
   "outputs": [],
   "source": [
    "df1['max']=pd.to_datetime(df1['max'])"
   ]
  },
  {
   "cell_type": "code",
   "execution_count": 982,
   "metadata": {},
   "outputs": [],
   "source": [
    "df1['min']=pd.to_datetime(df1['min'])"
   ]
  },
  {
   "cell_type": "code",
   "execution_count": 983,
   "metadata": {},
   "outputs": [],
   "source": [
    "df1['Diff'] = df1['max'] - df1['min']"
   ]
  },
  {
   "cell_type": "code",
   "execution_count": 984,
   "metadata": {},
   "outputs": [
    {
     "data": {
      "text/plain": [
       "0 days 00:00:00    764\n",
       "0 days 00:05:00      8\n",
       "0 days 00:20:00      5\n",
       "0 days 00:10:00      3\n",
       "0 days 00:15:00      2\n",
       "0 days 00:25:00      2\n",
       "0 days 01:30:00      1\n",
       "0 days 00:30:00      1\n",
       "0 days 03:10:00      1\n",
       "0 days 16:15:00      1\n",
       "0 days 08:05:00      1\n",
       "0 days 00:55:00      1\n",
       "0 days 03:25:00      1\n",
       "0 days 03:40:00      1\n",
       "0 days 06:10:00      1\n",
       "0 days 01:25:00      1\n",
       "0 days 03:55:00      1\n",
       "0 days 00:45:00      1\n",
       "Name: Diff, dtype: int64"
      ]
     },
     "execution_count": 984,
     "metadata": {},
     "output_type": "execute_result"
    }
   ],
   "source": [
    "df1['Diff'].value_counts()"
   ]
  },
  {
   "cell_type": "code",
   "execution_count": 985,
   "metadata": {},
   "outputs": [],
   "source": [
    "df1_res = df1[df1['Diff'] >= '1:00:00']"
   ]
  },
  {
   "cell_type": "code",
   "execution_count": 990,
   "metadata": {},
   "outputs": [
    {
     "data": {
      "text/plain": [
       "9"
      ]
     },
     "execution_count": 990,
     "metadata": {},
     "output_type": "execute_result"
    }
   ],
   "source": [
    "df1_res['Diff'].value_counts().count()"
   ]
  },
  {
   "cell_type": "code",
   "execution_count": 987,
   "metadata": {},
   "outputs": [],
   "source": [
    "df1_res_lessthan1hr = df1[df1['Diff'] < '1:00:00']"
   ]
  },
  {
   "cell_type": "code",
   "execution_count": 989,
   "metadata": {},
   "outputs": [
    {
     "data": {
      "text/html": [
       "<div>\n",
       "<style scoped>\n",
       "    .dataframe tbody tr th:only-of-type {\n",
       "        vertical-align: middle;\n",
       "    }\n",
       "\n",
       "    .dataframe tbody tr th {\n",
       "        vertical-align: top;\n",
       "    }\n",
       "\n",
       "    .dataframe thead th {\n",
       "        text-align: right;\n",
       "    }\n",
       "</style>\n",
       "<table border=\"1\" class=\"dataframe\">\n",
       "  <thead>\n",
       "    <tr style=\"text-align: right;\">\n",
       "      <th></th>\n",
       "      <th>lat</th>\n",
       "      <th>long</th>\n",
       "      <th>min</th>\n",
       "      <th>max</th>\n",
       "      <th>Diff</th>\n",
       "    </tr>\n",
       "  </thead>\n",
       "  <tbody>\n",
       "    <tr>\n",
       "      <th>0</th>\n",
       "      <td>12.869451</td>\n",
       "      <td>79.646637</td>\n",
       "      <td>2021-10-17 12:30:00</td>\n",
       "      <td>2021-10-17 12:30:00</td>\n",
       "      <td>0 days</td>\n",
       "    </tr>\n",
       "    <tr>\n",
       "      <th>1</th>\n",
       "      <td>12.871091</td>\n",
       "      <td>79.711763</td>\n",
       "      <td>2021-10-17 12:20:00</td>\n",
       "      <td>2021-10-17 12:20:00</td>\n",
       "      <td>0 days</td>\n",
       "    </tr>\n",
       "    <tr>\n",
       "      <th>2</th>\n",
       "      <td>12.873888</td>\n",
       "      <td>79.747770</td>\n",
       "      <td>2021-10-17 12:15:00</td>\n",
       "      <td>2021-10-17 12:15:00</td>\n",
       "      <td>0 days</td>\n",
       "    </tr>\n",
       "    <tr>\n",
       "      <th>3</th>\n",
       "      <td>12.874396</td>\n",
       "      <td>79.678234</td>\n",
       "      <td>2021-10-17 12:25:00</td>\n",
       "      <td>2021-10-17 12:25:00</td>\n",
       "      <td>0 days</td>\n",
       "    </tr>\n",
       "    <tr>\n",
       "      <th>4</th>\n",
       "      <td>12.877281</td>\n",
       "      <td>79.612570</td>\n",
       "      <td>2021-10-17 12:35:00</td>\n",
       "      <td>2021-10-17 12:35:00</td>\n",
       "      <td>0 days</td>\n",
       "    </tr>\n",
       "    <tr>\n",
       "      <th>...</th>\n",
       "      <td>...</td>\n",
       "      <td>...</td>\n",
       "      <td>...</td>\n",
       "      <td>...</td>\n",
       "      <td>...</td>\n",
       "    </tr>\n",
       "    <tr>\n",
       "      <th>791</th>\n",
       "      <td>28.091904</td>\n",
       "      <td>74.024634</td>\n",
       "      <td>2021-10-21 09:35:00</td>\n",
       "      <td>2021-10-21 09:35:00</td>\n",
       "      <td>0 days</td>\n",
       "    </tr>\n",
       "    <tr>\n",
       "      <th>792</th>\n",
       "      <td>28.093113</td>\n",
       "      <td>73.953741</td>\n",
       "      <td>2021-10-21 09:45:00</td>\n",
       "      <td>2021-10-21 09:45:00</td>\n",
       "      <td>0 days</td>\n",
       "    </tr>\n",
       "    <tr>\n",
       "      <th>793</th>\n",
       "      <td>28.093616</td>\n",
       "      <td>73.876032</td>\n",
       "      <td>2021-10-21 09:55:00</td>\n",
       "      <td>2021-10-21 09:55:00</td>\n",
       "      <td>0 days</td>\n",
       "    </tr>\n",
       "    <tr>\n",
       "      <th>794</th>\n",
       "      <td>28.099674</td>\n",
       "      <td>73.799597</td>\n",
       "      <td>2021-10-21 10:05:00</td>\n",
       "      <td>2021-10-21 10:05:00</td>\n",
       "      <td>0 days</td>\n",
       "    </tr>\n",
       "    <tr>\n",
       "      <th>795</th>\n",
       "      <td>28.103632</td>\n",
       "      <td>73.838765</td>\n",
       "      <td>2021-10-21 10:00:00</td>\n",
       "      <td>2021-10-21 10:00:00</td>\n",
       "      <td>0 days</td>\n",
       "    </tr>\n",
       "  </tbody>\n",
       "</table>\n",
       "<p>787 rows × 5 columns</p>\n",
       "</div>"
      ],
      "text/plain": [
       "           lat       long                 min                 max   Diff\n",
       "0    12.869451  79.646637 2021-10-17 12:30:00 2021-10-17 12:30:00 0 days\n",
       "1    12.871091  79.711763 2021-10-17 12:20:00 2021-10-17 12:20:00 0 days\n",
       "2    12.873888  79.747770 2021-10-17 12:15:00 2021-10-17 12:15:00 0 days\n",
       "3    12.874396  79.678234 2021-10-17 12:25:00 2021-10-17 12:25:00 0 days\n",
       "4    12.877281  79.612570 2021-10-17 12:35:00 2021-10-17 12:35:00 0 days\n",
       "..         ...        ...                 ...                 ...    ...\n",
       "791  28.091904  74.024634 2021-10-21 09:35:00 2021-10-21 09:35:00 0 days\n",
       "792  28.093113  73.953741 2021-10-21 09:45:00 2021-10-21 09:45:00 0 days\n",
       "793  28.093616  73.876032 2021-10-21 09:55:00 2021-10-21 09:55:00 0 days\n",
       "794  28.099674  73.799597 2021-10-21 10:05:00 2021-10-21 10:05:00 0 days\n",
       "795  28.103632  73.838765 2021-10-21 10:00:00 2021-10-21 10:00:00 0 days\n",
       "\n",
       "[787 rows x 5 columns]"
      ]
     },
     "execution_count": 989,
     "metadata": {},
     "output_type": "execute_result"
    }
   ],
   "source": [
    "df1_res_lessthan1hr"
   ]
  },
  {
   "cell_type": "code",
   "execution_count": 904,
   "metadata": {},
   "outputs": [
    {
     "data": {
      "text/plain": [
       "796"
      ]
     },
     "execution_count": 904,
     "metadata": {},
     "output_type": "execute_result"
    }
   ],
   "source": [
    "787 + 9"
   ]
  },
  {
   "cell_type": "code",
   "execution_count": 991,
   "metadata": {},
   "outputs": [
    {
     "data": {
      "text/plain": [
       "Timedelta('0 days 05:17:13.333333333')"
      ]
     },
     "execution_count": 991,
     "metadata": {},
     "output_type": "execute_result"
    }
   ],
   "source": [
    "df1_res['Diff'].mean()\n"
   ]
  },
  {
   "cell_type": "code",
   "execution_count": 992,
   "metadata": {},
   "outputs": [
    {
     "data": {
      "text/plain": [
       "Timedelta('0 days 03:40:00')"
      ]
     },
     "execution_count": 992,
     "metadata": {},
     "output_type": "execute_result"
    }
   ],
   "source": [
    "df1_res['Diff'].median()"
   ]
  },
  {
   "cell_type": "code",
   "execution_count": 771,
   "metadata": {},
   "outputs": [
    {
     "data": {
      "text/plain": [
       "Timedelta('0 days 16:15:00')"
      ]
     },
     "execution_count": 771,
     "metadata": {},
     "output_type": "execute_result"
    }
   ],
   "source": [
    "df1_res['Diff'].max()"
   ]
  },
  {
   "cell_type": "code",
   "execution_count": 772,
   "metadata": {},
   "outputs": [
    {
     "data": {
      "text/plain": [
       "Timedelta('0 days 01:25:00')"
      ]
     },
     "execution_count": 772,
     "metadata": {},
     "output_type": "execute_result"
    }
   ],
   "source": [
    "df1_res['Diff'].min()"
   ]
  },
  {
   "cell_type": "code",
   "execution_count": 774,
   "metadata": {},
   "outputs": [
    {
     "data": {
      "text/plain": [
       "Timedelta('1 days 23:35:00')"
      ]
     },
     "execution_count": 774,
     "metadata": {},
     "output_type": "execute_result"
    }
   ],
   "source": [
    "df1_res['Diff'].sum()"
   ]
  },
  {
   "cell_type": "code",
   "execution_count": null,
   "metadata": {},
   "outputs": [],
   "source": []
  },
  {
   "cell_type": "code",
   "execution_count": null,
   "metadata": {},
   "outputs": [],
   "source": []
  },
  {
   "cell_type": "code",
   "execution_count": null,
   "metadata": {},
   "outputs": [],
   "source": []
  },
  {
   "cell_type": "code",
   "execution_count": null,
   "metadata": {},
   "outputs": [],
   "source": []
  },
  {
   "cell_type": "code",
   "execution_count": null,
   "metadata": {},
   "outputs": [],
   "source": []
  },
  {
   "cell_type": "code",
   "execution_count": null,
   "metadata": {},
   "outputs": [],
   "source": []
  },
  {
   "cell_type": "markdown",
   "metadata": {},
   "source": [
    "## Dataset 2 "
   ]
  },
  {
   "cell_type": "code",
   "execution_count": 1066,
   "metadata": {},
   "outputs": [],
   "source": [
    "#Read the dataset\n",
    "df2 = pd.read_excel(\"NL01AA_1.xltm\")"
   ]
  },
  {
   "cell_type": "code",
   "execution_count": 1067,
   "metadata": {},
   "outputs": [],
   "source": [
    "# Checking data types -> lat / long has to be a floating point number\n",
    "#df2.info()"
   ]
  },
  {
   "cell_type": "code",
   "execution_count": 1068,
   "metadata": {},
   "outputs": [
    {
     "name": "stdout",
     "output_type": "stream",
     "text": [
      "(529, 5)\n"
     ]
    }
   ],
   "source": [
    "#Exploring dataset contents\n",
    "df2.head()\n",
    "print(df2.shape)"
   ]
  },
  {
   "cell_type": "code",
   "execution_count": 1069,
   "metadata": {},
   "outputs": [],
   "source": [
    "#splitting lat/long col\n",
    "#df2[['lat', 'long']] = df2['LatLong'].str.split(',',1,expand=True)"
   ]
  },
  {
   "cell_type": "code",
   "execution_count": 1070,
   "metadata": {},
   "outputs": [],
   "source": [
    "# Setting dealer's location \n",
    "df2['dealer_lat2'] = 13.070983\n",
    "df2['dealer_long2'] = 77.452922"
   ]
  },
  {
   "cell_type": "markdown",
   "metadata": {},
   "source": [
    "# Stoppage time"
   ]
  },
  {
   "cell_type": "code",
   "execution_count": 1071,
   "metadata": {},
   "outputs": [
    {
     "data": {
      "text/html": [
       "<div>\n",
       "<style scoped>\n",
       "    .dataframe tbody tr th:only-of-type {\n",
       "        vertical-align: middle;\n",
       "    }\n",
       "\n",
       "    .dataframe tbody tr th {\n",
       "        vertical-align: top;\n",
       "    }\n",
       "\n",
       "    .dataframe thead th {\n",
       "        text-align: right;\n",
       "    }\n",
       "</style>\n",
       "<table border=\"1\" class=\"dataframe\">\n",
       "  <thead>\n",
       "    <tr style=\"text-align: right;\">\n",
       "      <th></th>\n",
       "      <th>Unnamed: 0</th>\n",
       "      <th>LatLong</th>\n",
       "      <th>Lat</th>\n",
       "      <th>Long</th>\n",
       "      <th>Date</th>\n",
       "      <th>dealer_lat2</th>\n",
       "      <th>dealer_long2</th>\n",
       "    </tr>\n",
       "  </thead>\n",
       "  <tbody>\n",
       "    <tr>\n",
       "      <th>0</th>\n",
       "      <td>0</td>\n",
       "      <td>13.024994,80.028231</td>\n",
       "      <td>13.024994</td>\n",
       "      <td>80.028231</td>\n",
       "      <td>2021-10-04 00:03:00</td>\n",
       "      <td>13.070983</td>\n",
       "      <td>77.452922</td>\n",
       "    </tr>\n",
       "    <tr>\n",
       "      <th>1</th>\n",
       "      <td>1</td>\n",
       "      <td>13.024994,80.028231</td>\n",
       "      <td>13.024994</td>\n",
       "      <td>80.028231</td>\n",
       "      <td>2021-10-04 00:08:00</td>\n",
       "      <td>13.070983</td>\n",
       "      <td>77.452922</td>\n",
       "    </tr>\n",
       "    <tr>\n",
       "      <th>2</th>\n",
       "      <td>2</td>\n",
       "      <td>13.024994,80.028231</td>\n",
       "      <td>13.024994</td>\n",
       "      <td>80.028231</td>\n",
       "      <td>2021-10-04 00:18:00</td>\n",
       "      <td>13.070983</td>\n",
       "      <td>77.452922</td>\n",
       "    </tr>\n",
       "    <tr>\n",
       "      <th>3</th>\n",
       "      <td>3</td>\n",
       "      <td>13.024994,80.028231</td>\n",
       "      <td>13.024994</td>\n",
       "      <td>80.028231</td>\n",
       "      <td>2021-10-04 00:23:00</td>\n",
       "      <td>13.070983</td>\n",
       "      <td>77.452922</td>\n",
       "    </tr>\n",
       "    <tr>\n",
       "      <th>4</th>\n",
       "      <td>4</td>\n",
       "      <td>13.024994,80.028231</td>\n",
       "      <td>13.024994</td>\n",
       "      <td>80.028231</td>\n",
       "      <td>2021-10-04 00:28:00</td>\n",
       "      <td>13.070983</td>\n",
       "      <td>77.452922</td>\n",
       "    </tr>\n",
       "    <tr>\n",
       "      <th>...</th>\n",
       "      <td>...</td>\n",
       "      <td>...</td>\n",
       "      <td>...</td>\n",
       "      <td>...</td>\n",
       "      <td>...</td>\n",
       "      <td>...</td>\n",
       "      <td>...</td>\n",
       "    </tr>\n",
       "    <tr>\n",
       "      <th>524</th>\n",
       "      <td>524</td>\n",
       "      <td>13.081451,77.450764</td>\n",
       "      <td>13.081451</td>\n",
       "      <td>77.450764</td>\n",
       "      <td>2021-10-05 23:38:00</td>\n",
       "      <td>13.070983</td>\n",
       "      <td>77.452922</td>\n",
       "    </tr>\n",
       "    <tr>\n",
       "      <th>525</th>\n",
       "      <td>525</td>\n",
       "      <td>13.081451,77.450764</td>\n",
       "      <td>13.081451</td>\n",
       "      <td>77.450764</td>\n",
       "      <td>2021-10-05 23:43:00</td>\n",
       "      <td>13.070983</td>\n",
       "      <td>77.452922</td>\n",
       "    </tr>\n",
       "    <tr>\n",
       "      <th>526</th>\n",
       "      <td>526</td>\n",
       "      <td>13.081451,77.450764</td>\n",
       "      <td>13.081451</td>\n",
       "      <td>77.450764</td>\n",
       "      <td>2021-10-05 23:48:00</td>\n",
       "      <td>13.070983</td>\n",
       "      <td>77.452922</td>\n",
       "    </tr>\n",
       "    <tr>\n",
       "      <th>527</th>\n",
       "      <td>527</td>\n",
       "      <td>13.081451,77.450764</td>\n",
       "      <td>13.081451</td>\n",
       "      <td>77.450764</td>\n",
       "      <td>2021-10-05 23:53:00</td>\n",
       "      <td>13.070983</td>\n",
       "      <td>77.452922</td>\n",
       "    </tr>\n",
       "    <tr>\n",
       "      <th>528</th>\n",
       "      <td>528</td>\n",
       "      <td>13.081451,77.450764</td>\n",
       "      <td>13.081451</td>\n",
       "      <td>77.450764</td>\n",
       "      <td>2021-10-05 23:58:00</td>\n",
       "      <td>13.070983</td>\n",
       "      <td>77.452922</td>\n",
       "    </tr>\n",
       "  </tbody>\n",
       "</table>\n",
       "<p>529 rows × 7 columns</p>\n",
       "</div>"
      ],
      "text/plain": [
       "     Unnamed: 0              LatLong        Lat       Long  \\\n",
       "0             0  13.024994,80.028231  13.024994  80.028231   \n",
       "1             1  13.024994,80.028231  13.024994  80.028231   \n",
       "2             2  13.024994,80.028231  13.024994  80.028231   \n",
       "3             3  13.024994,80.028231  13.024994  80.028231   \n",
       "4             4  13.024994,80.028231  13.024994  80.028231   \n",
       "..          ...                  ...        ...        ...   \n",
       "524         524  13.081451,77.450764  13.081451  77.450764   \n",
       "525         525  13.081451,77.450764  13.081451  77.450764   \n",
       "526         526  13.081451,77.450764  13.081451  77.450764   \n",
       "527         527  13.081451,77.450764  13.081451  77.450764   \n",
       "528         528  13.081451,77.450764  13.081451  77.450764   \n",
       "\n",
       "                   Date  dealer_lat2  dealer_long2  \n",
       "0   2021-10-04 00:03:00    13.070983     77.452922  \n",
       "1   2021-10-04 00:08:00    13.070983     77.452922  \n",
       "2   2021-10-04 00:18:00    13.070983     77.452922  \n",
       "3   2021-10-04 00:23:00    13.070983     77.452922  \n",
       "4   2021-10-04 00:28:00    13.070983     77.452922  \n",
       "..                  ...          ...           ...  \n",
       "524 2021-10-05 23:38:00    13.070983     77.452922  \n",
       "525 2021-10-05 23:43:00    13.070983     77.452922  \n",
       "526 2021-10-05 23:48:00    13.070983     77.452922  \n",
       "527 2021-10-05 23:53:00    13.070983     77.452922  \n",
       "528 2021-10-05 23:58:00    13.070983     77.452922  \n",
       "\n",
       "[529 rows x 7 columns]"
      ]
     },
     "execution_count": 1071,
     "metadata": {},
     "output_type": "execute_result"
    }
   ],
   "source": [
    "#Stoppage time\n",
    "#df2"
   ]
  },
  {
   "cell_type": "code",
   "execution_count": 1072,
   "metadata": {},
   "outputs": [],
   "source": [
    "df2['Date'] = pd.to_datetime(df2['Date'])"
   ]
  },
  {
   "cell_type": "code",
   "execution_count": null,
   "metadata": {},
   "outputs": [],
   "source": []
  },
  {
   "cell_type": "code",
   "execution_count": null,
   "metadata": {},
   "outputs": [],
   "source": []
  },
  {
   "cell_type": "code",
   "execution_count": null,
   "metadata": {},
   "outputs": [],
   "source": [
    "# old stoppage time"
   ]
  },
  {
   "cell_type": "code",
   "execution_count": 779,
   "metadata": {},
   "outputs": [],
   "source": [
    "#b=df2.groupby(['Lat', 'Long']).agg({'Date':['min','max']})"
   ]
  },
  {
   "cell_type": "code",
   "execution_count": 781,
   "metadata": {},
   "outputs": [],
   "source": [
    "#b.to_excel('b.xlsx')"
   ]
  },
  {
   "cell_type": "code",
   "execution_count": 782,
   "metadata": {},
   "outputs": [],
   "source": [
    "#df2_Nl0AA = pd.read_excel(\"D:Sales Logistic Project\\\\df2grpby.xltm\")"
   ]
  },
  {
   "cell_type": "code",
   "execution_count": 783,
   "metadata": {},
   "outputs": [],
   "source": [
    "#df2_Nl0AA['max']=pd.to_datetime(df2_Nl0AA['max'])"
   ]
  },
  {
   "cell_type": "code",
   "execution_count": 784,
   "metadata": {},
   "outputs": [],
   "source": [
    "#df2_Nl0AA['min']=pd.to_datetime(df2_Nl0AA['min'])"
   ]
  },
  {
   "cell_type": "code",
   "execution_count": 785,
   "metadata": {},
   "outputs": [],
   "source": [
    "#df2_Nl0AA['Diff']=df2_Nl0AA['max']-df2_Nl0AA['min']"
   ]
  },
  {
   "cell_type": "code",
   "execution_count": 1073,
   "metadata": {},
   "outputs": [],
   "source": [
    "#df2_Nl0AA['Diff'].count()"
   ]
  },
  {
   "cell_type": "code",
   "execution_count": 787,
   "metadata": {},
   "outputs": [],
   "source": [
    "#df2res = df2_Nl0AA[df2_Nl0AA['Diff'] >= '1:00:00']"
   ]
  },
  {
   "cell_type": "code",
   "execution_count": 1075,
   "metadata": {},
   "outputs": [],
   "source": [
    "#df2res['Diff'].count()"
   ]
  },
  {
   "cell_type": "code",
   "execution_count": 1074,
   "metadata": {},
   "outputs": [],
   "source": [
    "#print(\"Mean = \",df2res['Diff'].mean())\n",
    "#print(\"Median=\",df2res['Diff'].median())\n",
    "#print(\"Max = \",df2res['Diff'].max())\n",
    "#print(\"Min = \",df2res['Diff'].min())\n",
    "#print(\"Sum = \",df2res['Diff'].sum())"
   ]
  },
  {
   "cell_type": "code",
   "execution_count": 801,
   "metadata": {},
   "outputs": [],
   "source": [
    "# Time difference consistancy\n",
    "#df2['Time_diff'] = 0"
   ]
  },
  {
   "cell_type": "code",
   "execution_count": 1076,
   "metadata": {},
   "outputs": [],
   "source": [
    "#for i in range(df2.shape[0] - 1):\n",
    "    #df2['Time_diff'][i+1] = (datetime.datetime.min +(df2['Date'][i+1] - df2['Date'][i])).time()\n",
    "\n",
    "# .time() gets the time from datetime object, if you need both days and hours, simply use this line instead:\n",
    "#df2['Time_diff'][i+1] = df2['Date'][i+1] - df2['Date'][i]"
   ]
  },
  {
   "cell_type": "code",
   "execution_count": 695,
   "metadata": {},
   "outputs": [],
   "source": [
    "#df2.to_excel(\"nlaa.xlsx\")"
   ]
  },
  {
   "cell_type": "code",
   "execution_count": 696,
   "metadata": {},
   "outputs": [],
   "source": [
    "# converting lat/long to floating type"
   ]
  },
  {
   "cell_type": "markdown",
   "metadata": {},
   "source": [
    "### Straight Line Distance"
   ]
  },
  {
   "cell_type": "code",
   "execution_count": 1077,
   "metadata": {},
   "outputs": [],
   "source": [
    "dealer_lat2 = 13.070983\n",
    "dealer_lon2 = 77.452922\n",
    "distances_km = []\n",
    "for row in df2.itertuples(index=False):\n",
    "   distances_km.append(\n",
    "       haversine_distance(dealer_lat2, dealer_lon2, row.Lat, row.Long)\n",
    "   )"
   ]
  },
  {
   "cell_type": "code",
   "execution_count": 1078,
   "metadata": {},
   "outputs": [],
   "source": [
    "df2['Distance'] = distances_km"
   ]
  },
  {
   "cell_type": "code",
   "execution_count": 1079,
   "metadata": {},
   "outputs": [],
   "source": [
    "df2['Status'] = np.where(df2['Distance']!= df2['Distance'].min(), 'In-transit', 'Unloading-Point')"
   ]
  },
  {
   "cell_type": "code",
   "execution_count": 1080,
   "metadata": {},
   "outputs": [
    {
     "data": {
      "text/html": [
       "<div>\n",
       "<style scoped>\n",
       "    .dataframe tbody tr th:only-of-type {\n",
       "        vertical-align: middle;\n",
       "    }\n",
       "\n",
       "    .dataframe tbody tr th {\n",
       "        vertical-align: top;\n",
       "    }\n",
       "\n",
       "    .dataframe thead th {\n",
       "        text-align: right;\n",
       "    }\n",
       "</style>\n",
       "<table border=\"1\" class=\"dataframe\">\n",
       "  <thead>\n",
       "    <tr style=\"text-align: right;\">\n",
       "      <th></th>\n",
       "      <th>Unnamed: 0</th>\n",
       "      <th>LatLong</th>\n",
       "      <th>Lat</th>\n",
       "      <th>Long</th>\n",
       "      <th>Date</th>\n",
       "      <th>dealer_lat2</th>\n",
       "      <th>dealer_long2</th>\n",
       "      <th>Distance</th>\n",
       "      <th>Status</th>\n",
       "    </tr>\n",
       "  </thead>\n",
       "  <tbody>\n",
       "    <tr>\n",
       "      <th>512</th>\n",
       "      <td>512</td>\n",
       "      <td>13.066884,77.451716</td>\n",
       "      <td>13.066884</td>\n",
       "      <td>77.451716</td>\n",
       "      <td>2021-10-05 22:32:00</td>\n",
       "      <td>13.070983</td>\n",
       "      <td>77.452922</td>\n",
       "      <td>0.47</td>\n",
       "      <td>Unloading-Point</td>\n",
       "    </tr>\n",
       "  </tbody>\n",
       "</table>\n",
       "</div>"
      ],
      "text/plain": [
       "     Unnamed: 0              LatLong        Lat       Long  \\\n",
       "512         512  13.066884,77.451716  13.066884  77.451716   \n",
       "\n",
       "                   Date  dealer_lat2  dealer_long2  Distance           Status  \n",
       "512 2021-10-05 22:32:00    13.070983     77.452922      0.47  Unloading-Point  "
      ]
     },
     "execution_count": 1080,
     "metadata": {},
     "output_type": "execute_result"
    }
   ],
   "source": [
    "df2.iloc[np.where(df2['Distance']==df2['Distance'].min())]"
   ]
  },
  {
   "cell_type": "code",
   "execution_count": 1081,
   "metadata": {},
   "outputs": [
    {
     "data": {
      "text/plain": [
       "(529, 9)"
      ]
     },
     "execution_count": 1081,
     "metadata": {},
     "output_type": "execute_result"
    }
   ],
   "source": [
    "df2.shape"
   ]
  },
  {
   "cell_type": "code",
   "execution_count": null,
   "metadata": {},
   "outputs": [],
   "source": []
  },
  {
   "cell_type": "markdown",
   "metadata": {},
   "source": [
    "## Sliced DataFrame 2 - Unloading Point"
   ]
  },
  {
   "cell_type": "code",
   "execution_count": 1082,
   "metadata": {},
   "outputs": [],
   "source": [
    "df2_new = df2[0:513]"
   ]
  },
  {
   "cell_type": "code",
   "execution_count": 1130,
   "metadata": {},
   "outputs": [
    {
     "data": {
      "text/plain": [
       "(513, 10)"
      ]
     },
     "execution_count": 1130,
     "metadata": {},
     "output_type": "execute_result"
    }
   ],
   "source": [
    "df2_new.shape"
   ]
  },
  {
   "cell_type": "code",
   "execution_count": 1083,
   "metadata": {},
   "outputs": [
    {
     "data": {
      "text/plain": [
       "In-transit         512\n",
       "Unloading-Point      1\n",
       "Name: Status, dtype: int64"
      ]
     },
     "execution_count": 1083,
     "metadata": {},
     "output_type": "execute_result"
    }
   ],
   "source": [
    "df2_new.Status.value_counts()"
   ]
  },
  {
   "cell_type": "code",
   "execution_count": 1084,
   "metadata": {},
   "outputs": [
    {
     "data": {
      "text/html": [
       "<div>\n",
       "<style scoped>\n",
       "    .dataframe tbody tr th:only-of-type {\n",
       "        vertical-align: middle;\n",
       "    }\n",
       "\n",
       "    .dataframe tbody tr th {\n",
       "        vertical-align: top;\n",
       "    }\n",
       "\n",
       "    .dataframe thead th {\n",
       "        text-align: right;\n",
       "    }\n",
       "</style>\n",
       "<table border=\"1\" class=\"dataframe\">\n",
       "  <thead>\n",
       "    <tr style=\"text-align: right;\">\n",
       "      <th></th>\n",
       "      <th>Unnamed: 0</th>\n",
       "      <th>LatLong</th>\n",
       "      <th>Lat</th>\n",
       "      <th>Long</th>\n",
       "      <th>Date</th>\n",
       "      <th>dealer_lat2</th>\n",
       "      <th>dealer_long2</th>\n",
       "      <th>Distance</th>\n",
       "      <th>Status</th>\n",
       "    </tr>\n",
       "  </thead>\n",
       "  <tbody>\n",
       "    <tr>\n",
       "      <th>512</th>\n",
       "      <td>512</td>\n",
       "      <td>13.066884,77.451716</td>\n",
       "      <td>13.066884</td>\n",
       "      <td>77.451716</td>\n",
       "      <td>2021-10-05 22:32:00</td>\n",
       "      <td>13.070983</td>\n",
       "      <td>77.452922</td>\n",
       "      <td>0.47</td>\n",
       "      <td>Unloading-Point</td>\n",
       "    </tr>\n",
       "  </tbody>\n",
       "</table>\n",
       "</div>"
      ],
      "text/plain": [
       "     Unnamed: 0              LatLong        Lat       Long  \\\n",
       "512         512  13.066884,77.451716  13.066884  77.451716   \n",
       "\n",
       "                   Date  dealer_lat2  dealer_long2  Distance           Status  \n",
       "512 2021-10-05 22:32:00    13.070983     77.452922      0.47  Unloading-Point  "
      ]
     },
     "execution_count": 1084,
     "metadata": {},
     "output_type": "execute_result"
    }
   ],
   "source": [
    "df2_new.tail(1)"
   ]
  },
  {
   "cell_type": "code",
   "execution_count": 1085,
   "metadata": {},
   "outputs": [
    {
     "data": {
      "text/html": [
       "<div>\n",
       "<style scoped>\n",
       "    .dataframe tbody tr th:only-of-type {\n",
       "        vertical-align: middle;\n",
       "    }\n",
       "\n",
       "    .dataframe tbody tr th {\n",
       "        vertical-align: top;\n",
       "    }\n",
       "\n",
       "    .dataframe thead th {\n",
       "        text-align: right;\n",
       "    }\n",
       "</style>\n",
       "<table border=\"1\" class=\"dataframe\">\n",
       "  <thead>\n",
       "    <tr style=\"text-align: right;\">\n",
       "      <th></th>\n",
       "      <th>Unnamed: 0</th>\n",
       "      <th>LatLong</th>\n",
       "      <th>Lat</th>\n",
       "      <th>Long</th>\n",
       "      <th>Date</th>\n",
       "      <th>dealer_lat2</th>\n",
       "      <th>dealer_long2</th>\n",
       "      <th>Distance</th>\n",
       "      <th>Status</th>\n",
       "    </tr>\n",
       "  </thead>\n",
       "  <tbody>\n",
       "    <tr>\n",
       "      <th>0</th>\n",
       "      <td>0</td>\n",
       "      <td>13.024994,80.028231</td>\n",
       "      <td>13.024994</td>\n",
       "      <td>80.028231</td>\n",
       "      <td>2021-10-04 00:03:00</td>\n",
       "      <td>13.070983</td>\n",
       "      <td>77.452922</td>\n",
       "      <td>279.01</td>\n",
       "      <td>In-transit</td>\n",
       "    </tr>\n",
       "  </tbody>\n",
       "</table>\n",
       "</div>"
      ],
      "text/plain": [
       "   Unnamed: 0              LatLong        Lat       Long                Date  \\\n",
       "0           0  13.024994,80.028231  13.024994  80.028231 2021-10-04 00:03:00   \n",
       "\n",
       "   dealer_lat2  dealer_long2  Distance      Status  \n",
       "0    13.070983     77.452922    279.01  In-transit  "
      ]
     },
     "execution_count": 1085,
     "metadata": {},
     "output_type": "execute_result"
    }
   ],
   "source": [
    "df2_new.head(1)"
   ]
  },
  {
   "cell_type": "code",
   "execution_count": 1094,
   "metadata": {},
   "outputs": [],
   "source": [
    "df2_new['Time_diff'] = [x.iloc[-1] - x.iloc[0] for x in df2_new['Date'].rolling(2) if len(x)>0]\n"
   ]
  },
  {
   "cell_type": "code",
   "execution_count": 1095,
   "metadata": {},
   "outputs": [
    {
     "data": {
      "text/plain": [
       "Time_diff   1 days 22:29:00\n",
       "dtype: timedelta64[ns]"
      ]
     },
     "execution_count": 1095,
     "metadata": {},
     "output_type": "execute_result"
    }
   ],
   "source": [
    "df2_new[['Time_diff']].sum()"
   ]
  },
  {
   "cell_type": "code",
   "execution_count": 1096,
   "metadata": {},
   "outputs": [
    {
     "data": {
      "text/plain": [
       "0 days 00:05:00    443\n",
       "0 days 00:10:00     28\n",
       "0 days 00:06:00     25\n",
       "0 days 00:09:00      8\n",
       "0 days 00:07:00      5\n",
       "0 days 00:08:00      2\n",
       "0 days 00:21:00      1\n",
       "0 days 00:00:00      1\n",
       "Name: Time_diff, dtype: int64"
      ]
     },
     "execution_count": 1096,
     "metadata": {},
     "output_type": "execute_result"
    }
   ],
   "source": [
    "df2_new['Time_diff'].value_counts()"
   ]
  },
  {
   "cell_type": "code",
   "execution_count": 1047,
   "metadata": {},
   "outputs": [
    {
     "data": {
      "text/plain": [
       "Timedelta('1 days 22:29:00')"
      ]
     },
     "execution_count": 1047,
     "metadata": {},
     "output_type": "execute_result"
    }
   ],
   "source": [
    "dt1 = '2021-10-04 00:03:00'\n",
    "d1 = pd.to_datetime(dt1)\n",
    "dt2 = '2021-10-05 22:32:00'\n",
    "d2 = pd.to_datetime(dt2)\n",
    "\n",
    "a = d2-d1\n",
    "a"
   ]
  },
  {
   "cell_type": "markdown",
   "metadata": {},
   "source": [
    "### Stoppage Time"
   ]
  },
  {
   "cell_type": "code",
   "execution_count": 1097,
   "metadata": {},
   "outputs": [],
   "source": [
    "df2_new_gby = df2_new.groupby('LatLong').agg({'Time_diff': np.sum})"
   ]
  },
  {
   "cell_type": "code",
   "execution_count": 1141,
   "metadata": {},
   "outputs": [],
   "source": []
  },
  {
   "cell_type": "code",
   "execution_count": 1140,
   "metadata": {},
   "outputs": [
    {
     "data": {
      "text/plain": [
       "0 days 00:05:00    92\n",
       "0 days 00:06:00    18\n",
       "0 days 00:07:00     3\n",
       "0 days 01:35:00     2\n",
       "0 days 02:26:00     1\n",
       "0 days 00:15:00     1\n",
       "0 days 13:40:00     1\n",
       "0 days 01:43:00     1\n",
       "0 days 08:25:00     1\n",
       "0 days 01:03:00     1\n",
       "0 days 00:44:00     1\n",
       "0 days 00:43:00     1\n",
       "0 days 01:00:00     1\n",
       "0 days 00:59:00     1\n",
       "0 days 00:22:00     1\n",
       "0 days 02:10:00     1\n",
       "Name: Time_diff, dtype: int64"
      ]
     },
     "execution_count": 1140,
     "metadata": {},
     "output_type": "execute_result"
    }
   ],
   "source": [
    "df2_new_gby.Time_diff.value_counts()"
   ]
  },
  {
   "cell_type": "code",
   "execution_count": 1133,
   "metadata": {},
   "outputs": [],
   "source": [
    "df2_new_gby.to_excel('df2_new_gby.xlsx')"
   ]
  },
  {
   "cell_type": "code",
   "execution_count": 1104,
   "metadata": {},
   "outputs": [],
   "source": [
    "df2_new_gby_res = df2_new_gby[df2_new_gby['Time_diff'] >='01:00:00']\n"
   ]
  },
  {
   "cell_type": "code",
   "execution_count": 1105,
   "metadata": {},
   "outputs": [
    {
     "data": {
      "text/html": [
       "<div>\n",
       "<style scoped>\n",
       "    .dataframe tbody tr th:only-of-type {\n",
       "        vertical-align: middle;\n",
       "    }\n",
       "\n",
       "    .dataframe tbody tr th {\n",
       "        vertical-align: top;\n",
       "    }\n",
       "\n",
       "    .dataframe thead th {\n",
       "        text-align: right;\n",
       "    }\n",
       "</style>\n",
       "<table border=\"1\" class=\"dataframe\">\n",
       "  <thead>\n",
       "    <tr style=\"text-align: right;\">\n",
       "      <th></th>\n",
       "      <th>Time_diff</th>\n",
       "    </tr>\n",
       "    <tr>\n",
       "      <th>LatLong</th>\n",
       "      <th></th>\n",
       "    </tr>\n",
       "  </thead>\n",
       "  <tbody>\n",
       "    <tr>\n",
       "      <th>12.623982,78.080702</th>\n",
       "      <td>0 days 02:10:00</td>\n",
       "    </tr>\n",
       "    <tr>\n",
       "      <th>12.779421,77.763307</th>\n",
       "      <td>0 days 01:03:00</td>\n",
       "    </tr>\n",
       "    <tr>\n",
       "      <th>12.886374,79.596062</th>\n",
       "      <td>0 days 08:25:00</td>\n",
       "    </tr>\n",
       "    <tr>\n",
       "      <th>12.994271,80.012587</th>\n",
       "      <td>0 days 01:43:00</td>\n",
       "    </tr>\n",
       "    <tr>\n",
       "      <th>13.024806,80.028267</th>\n",
       "      <td>0 days 01:35:00</td>\n",
       "    </tr>\n",
       "    <tr>\n",
       "      <th>13.024907,80.028187</th>\n",
       "      <td>0 days 01:00:00</td>\n",
       "    </tr>\n",
       "    <tr>\n",
       "      <th>13.024988,80.028222</th>\n",
       "      <td>0 days 01:35:00</td>\n",
       "    </tr>\n",
       "    <tr>\n",
       "      <th>13.024992,80.028302</th>\n",
       "      <td>0 days 02:26:00</td>\n",
       "    </tr>\n",
       "    <tr>\n",
       "      <th>13.024994,80.028231</th>\n",
       "      <td>0 days 13:40:00</td>\n",
       "    </tr>\n",
       "  </tbody>\n",
       "</table>\n",
       "</div>"
      ],
      "text/plain": [
       "                          Time_diff\n",
       "LatLong                            \n",
       "12.623982,78.080702 0 days 02:10:00\n",
       "12.779421,77.763307 0 days 01:03:00\n",
       "12.886374,79.596062 0 days 08:25:00\n",
       "12.994271,80.012587 0 days 01:43:00\n",
       "13.024806,80.028267 0 days 01:35:00\n",
       "13.024907,80.028187 0 days 01:00:00\n",
       "13.024988,80.028222 0 days 01:35:00\n",
       "13.024992,80.028302 0 days 02:26:00\n",
       "13.024994,80.028231 0 days 13:40:00"
      ]
     },
     "execution_count": 1105,
     "metadata": {},
     "output_type": "execute_result"
    }
   ],
   "source": [
    "df2_new_gby_res"
   ]
  },
  {
   "cell_type": "code",
   "execution_count": null,
   "metadata": {},
   "outputs": [],
   "source": []
  },
  {
   "cell_type": "code",
   "execution_count": null,
   "metadata": {},
   "outputs": [],
   "source": []
  },
  {
   "cell_type": "code",
   "execution_count": null,
   "metadata": {},
   "outputs": [],
   "source": []
  },
  {
   "cell_type": "markdown",
   "metadata": {},
   "source": [
    "## Dataset 3"
   ]
  },
  {
   "cell_type": "code",
   "execution_count": 403,
   "metadata": {},
   "outputs": [],
   "source": [
    "df3 = pd.read_excel(\"NL01AB.xltm\")"
   ]
  },
  {
   "cell_type": "code",
   "execution_count": 404,
   "metadata": {},
   "outputs": [
    {
     "data": {
      "text/html": [
       "<div>\n",
       "<style scoped>\n",
       "    .dataframe tbody tr th:only-of-type {\n",
       "        vertical-align: middle;\n",
       "    }\n",
       "\n",
       "    .dataframe tbody tr th {\n",
       "        vertical-align: top;\n",
       "    }\n",
       "\n",
       "    .dataframe thead th {\n",
       "        text-align: right;\n",
       "    }\n",
       "</style>\n",
       "<table border=\"1\" class=\"dataframe\">\n",
       "  <thead>\n",
       "    <tr style=\"text-align: right;\">\n",
       "      <th></th>\n",
       "      <th>Latitude</th>\n",
       "      <th>Longitude</th>\n",
       "      <th>Packet Time</th>\n",
       "    </tr>\n",
       "  </thead>\n",
       "  <tbody>\n",
       "    <tr>\n",
       "      <th>0</th>\n",
       "      <td>13.029557</td>\n",
       "      <td>80.032257</td>\n",
       "      <td>02-Sep-2021 01:05</td>\n",
       "    </tr>\n",
       "    <tr>\n",
       "      <th>1</th>\n",
       "      <td>13.029557</td>\n",
       "      <td>80.032257</td>\n",
       "      <td>02-Sep-2021 01:10</td>\n",
       "    </tr>\n",
       "    <tr>\n",
       "      <th>2</th>\n",
       "      <td>13.027725</td>\n",
       "      <td>80.029144</td>\n",
       "      <td>02-Sep-2021 01:15</td>\n",
       "    </tr>\n",
       "    <tr>\n",
       "      <th>3</th>\n",
       "      <td>13.013268</td>\n",
       "      <td>80.001274</td>\n",
       "      <td>02-Sep-2021 01:20</td>\n",
       "    </tr>\n",
       "    <tr>\n",
       "      <th>4</th>\n",
       "      <td>13.002186</td>\n",
       "      <td>80.000305</td>\n",
       "      <td>02-Sep-2021 01:25</td>\n",
       "    </tr>\n",
       "    <tr>\n",
       "      <th>...</th>\n",
       "      <td>...</td>\n",
       "      <td>...</td>\n",
       "      <td>...</td>\n",
       "    </tr>\n",
       "    <tr>\n",
       "      <th>452</th>\n",
       "      <td>15.841319</td>\n",
       "      <td>74.541664</td>\n",
       "      <td>03-Sep-2021 15:46</td>\n",
       "    </tr>\n",
       "    <tr>\n",
       "      <th>453</th>\n",
       "      <td>15.841319</td>\n",
       "      <td>74.541664</td>\n",
       "      <td>03-Sep-2021 15:51</td>\n",
       "    </tr>\n",
       "    <tr>\n",
       "      <th>454</th>\n",
       "      <td>15.841319</td>\n",
       "      <td>74.541664</td>\n",
       "      <td>03-Sep-2021 15:56</td>\n",
       "    </tr>\n",
       "    <tr>\n",
       "      <th>455</th>\n",
       "      <td>15.841319</td>\n",
       "      <td>74.541664</td>\n",
       "      <td>03-Sep-2021 15:59</td>\n",
       "    </tr>\n",
       "    <tr>\n",
       "      <th>456</th>\n",
       "      <td>NaN</td>\n",
       "      <td>NaN</td>\n",
       "      <td>NaN</td>\n",
       "    </tr>\n",
       "  </tbody>\n",
       "</table>\n",
       "<p>457 rows × 3 columns</p>\n",
       "</div>"
      ],
      "text/plain": [
       "      Latitude  Longitude        Packet Time\n",
       "0    13.029557  80.032257  02-Sep-2021 01:05\n",
       "1    13.029557  80.032257  02-Sep-2021 01:10\n",
       "2    13.027725  80.029144  02-Sep-2021 01:15\n",
       "3    13.013268  80.001274  02-Sep-2021 01:20\n",
       "4    13.002186  80.000305  02-Sep-2021 01:25\n",
       "..         ...        ...                ...\n",
       "452  15.841319  74.541664  03-Sep-2021 15:46\n",
       "453  15.841319  74.541664  03-Sep-2021 15:51\n",
       "454  15.841319  74.541664  03-Sep-2021 15:56\n",
       "455  15.841319  74.541664  03-Sep-2021 15:59\n",
       "456        NaN        NaN                NaN\n",
       "\n",
       "[457 rows x 3 columns]"
      ]
     },
     "execution_count": 404,
     "metadata": {},
     "output_type": "execute_result"
    }
   ],
   "source": [
    "df3"
   ]
  },
  {
   "cell_type": "code",
   "execution_count": 405,
   "metadata": {},
   "outputs": [],
   "source": [
    "df3['Dealer_lat3'] = 15.818516\n",
    "df3['Dealer_long3'] = 74.494901"
   ]
  },
  {
   "cell_type": "code",
   "execution_count": 406,
   "metadata": {},
   "outputs": [],
   "source": [
    "df3 = df3[0:455]"
   ]
  },
  {
   "cell_type": "code",
   "execution_count": 407,
   "metadata": {},
   "outputs": [
    {
     "data": {
      "text/html": [
       "<div>\n",
       "<style scoped>\n",
       "    .dataframe tbody tr th:only-of-type {\n",
       "        vertical-align: middle;\n",
       "    }\n",
       "\n",
       "    .dataframe tbody tr th {\n",
       "        vertical-align: top;\n",
       "    }\n",
       "\n",
       "    .dataframe thead th {\n",
       "        text-align: right;\n",
       "    }\n",
       "</style>\n",
       "<table border=\"1\" class=\"dataframe\">\n",
       "  <thead>\n",
       "    <tr style=\"text-align: right;\">\n",
       "      <th></th>\n",
       "      <th>Latitude</th>\n",
       "      <th>Longitude</th>\n",
       "      <th>Packet Time</th>\n",
       "      <th>Dealer_lat3</th>\n",
       "      <th>Dealer_long3</th>\n",
       "    </tr>\n",
       "  </thead>\n",
       "  <tbody>\n",
       "    <tr>\n",
       "      <th>0</th>\n",
       "      <td>13.029557</td>\n",
       "      <td>80.032257</td>\n",
       "      <td>02-Sep-2021 01:05</td>\n",
       "      <td>15.818516</td>\n",
       "      <td>74.494901</td>\n",
       "    </tr>\n",
       "    <tr>\n",
       "      <th>1</th>\n",
       "      <td>13.029557</td>\n",
       "      <td>80.032257</td>\n",
       "      <td>02-Sep-2021 01:10</td>\n",
       "      <td>15.818516</td>\n",
       "      <td>74.494901</td>\n",
       "    </tr>\n",
       "    <tr>\n",
       "      <th>2</th>\n",
       "      <td>13.027725</td>\n",
       "      <td>80.029144</td>\n",
       "      <td>02-Sep-2021 01:15</td>\n",
       "      <td>15.818516</td>\n",
       "      <td>74.494901</td>\n",
       "    </tr>\n",
       "    <tr>\n",
       "      <th>3</th>\n",
       "      <td>13.013268</td>\n",
       "      <td>80.001274</td>\n",
       "      <td>02-Sep-2021 01:20</td>\n",
       "      <td>15.818516</td>\n",
       "      <td>74.494901</td>\n",
       "    </tr>\n",
       "    <tr>\n",
       "      <th>4</th>\n",
       "      <td>13.002186</td>\n",
       "      <td>80.000305</td>\n",
       "      <td>02-Sep-2021 01:25</td>\n",
       "      <td>15.818516</td>\n",
       "      <td>74.494901</td>\n",
       "    </tr>\n",
       "    <tr>\n",
       "      <th>...</th>\n",
       "      <td>...</td>\n",
       "      <td>...</td>\n",
       "      <td>...</td>\n",
       "      <td>...</td>\n",
       "      <td>...</td>\n",
       "    </tr>\n",
       "    <tr>\n",
       "      <th>450</th>\n",
       "      <td>15.841319</td>\n",
       "      <td>74.541664</td>\n",
       "      <td>03-Sep-2021 15:36</td>\n",
       "      <td>15.818516</td>\n",
       "      <td>74.494901</td>\n",
       "    </tr>\n",
       "    <tr>\n",
       "      <th>451</th>\n",
       "      <td>15.841319</td>\n",
       "      <td>74.541664</td>\n",
       "      <td>03-Sep-2021 15:41</td>\n",
       "      <td>15.818516</td>\n",
       "      <td>74.494901</td>\n",
       "    </tr>\n",
       "    <tr>\n",
       "      <th>452</th>\n",
       "      <td>15.841319</td>\n",
       "      <td>74.541664</td>\n",
       "      <td>03-Sep-2021 15:46</td>\n",
       "      <td>15.818516</td>\n",
       "      <td>74.494901</td>\n",
       "    </tr>\n",
       "    <tr>\n",
       "      <th>453</th>\n",
       "      <td>15.841319</td>\n",
       "      <td>74.541664</td>\n",
       "      <td>03-Sep-2021 15:51</td>\n",
       "      <td>15.818516</td>\n",
       "      <td>74.494901</td>\n",
       "    </tr>\n",
       "    <tr>\n",
       "      <th>454</th>\n",
       "      <td>15.841319</td>\n",
       "      <td>74.541664</td>\n",
       "      <td>03-Sep-2021 15:56</td>\n",
       "      <td>15.818516</td>\n",
       "      <td>74.494901</td>\n",
       "    </tr>\n",
       "  </tbody>\n",
       "</table>\n",
       "<p>455 rows × 5 columns</p>\n",
       "</div>"
      ],
      "text/plain": [
       "      Latitude  Longitude        Packet Time  Dealer_lat3  Dealer_long3\n",
       "0    13.029557  80.032257  02-Sep-2021 01:05    15.818516     74.494901\n",
       "1    13.029557  80.032257  02-Sep-2021 01:10    15.818516     74.494901\n",
       "2    13.027725  80.029144  02-Sep-2021 01:15    15.818516     74.494901\n",
       "3    13.013268  80.001274  02-Sep-2021 01:20    15.818516     74.494901\n",
       "4    13.002186  80.000305  02-Sep-2021 01:25    15.818516     74.494901\n",
       "..         ...        ...                ...          ...           ...\n",
       "450  15.841319  74.541664  03-Sep-2021 15:36    15.818516     74.494901\n",
       "451  15.841319  74.541664  03-Sep-2021 15:41    15.818516     74.494901\n",
       "452  15.841319  74.541664  03-Sep-2021 15:46    15.818516     74.494901\n",
       "453  15.841319  74.541664  03-Sep-2021 15:51    15.818516     74.494901\n",
       "454  15.841319  74.541664  03-Sep-2021 15:56    15.818516     74.494901\n",
       "\n",
       "[455 rows x 5 columns]"
      ]
     },
     "execution_count": 407,
     "metadata": {},
     "output_type": "execute_result"
    }
   ],
   "source": [
    "df3"
   ]
  },
  {
   "cell_type": "code",
   "execution_count": 408,
   "metadata": {},
   "outputs": [
    {
     "data": {
      "text/plain": [
       "Latitude        float64\n",
       "Longitude       float64\n",
       "Packet Time      object\n",
       "Dealer_lat3     float64\n",
       "Dealer_long3    float64\n",
       "dtype: object"
      ]
     },
     "execution_count": 408,
     "metadata": {},
     "output_type": "execute_result"
    }
   ],
   "source": [
    "df3.dtypes"
   ]
  },
  {
   "cell_type": "code",
   "execution_count": 409,
   "metadata": {},
   "outputs": [],
   "source": [
    "dealer_lat3 = 15.818516\n",
    "dealer_lon3 = 74.494901\n",
    "distances_km = []\n",
    "for row in df3.itertuples(index=False):\n",
    "   distances_km.append(\n",
    "       haversine_distance(dealer_lat3, dealer_lon3, row.Latitude, row.Longitude)\n",
    "   )"
   ]
  },
  {
   "cell_type": "code",
   "execution_count": 410,
   "metadata": {},
   "outputs": [],
   "source": [
    "df3['Distance'] = distances_km"
   ]
  },
  {
   "cell_type": "code",
   "execution_count": 44,
   "metadata": {},
   "outputs": [],
   "source": [
    "df3.to_excel(\"NL01AB.xlsx\")"
   ]
  },
  {
   "cell_type": "code",
   "execution_count": 818,
   "metadata": {},
   "outputs": [
    {
     "data": {
      "text/html": [
       "<div>\n",
       "<style scoped>\n",
       "    .dataframe tbody tr th:only-of-type {\n",
       "        vertical-align: middle;\n",
       "    }\n",
       "\n",
       "    .dataframe tbody tr th {\n",
       "        vertical-align: top;\n",
       "    }\n",
       "\n",
       "    .dataframe thead th {\n",
       "        text-align: right;\n",
       "    }\n",
       "</style>\n",
       "<table border=\"1\" class=\"dataframe\">\n",
       "  <thead>\n",
       "    <tr style=\"text-align: right;\">\n",
       "      <th></th>\n",
       "      <th>Latitude</th>\n",
       "      <th>Longitude</th>\n",
       "      <th>Packet Time</th>\n",
       "      <th>Dealer_lat3</th>\n",
       "      <th>Dealer_long3</th>\n",
       "      <th>Distance</th>\n",
       "    </tr>\n",
       "  </thead>\n",
       "  <tbody>\n",
       "    <tr>\n",
       "      <th>0</th>\n",
       "      <td>13.029557</td>\n",
       "      <td>80.032257</td>\n",
       "      <td>02-Sep-2021 01:05</td>\n",
       "      <td>15.818516</td>\n",
       "      <td>74.494901</td>\n",
       "      <td>672.06</td>\n",
       "    </tr>\n",
       "    <tr>\n",
       "      <th>1</th>\n",
       "      <td>13.029557</td>\n",
       "      <td>80.032257</td>\n",
       "      <td>02-Sep-2021 01:10</td>\n",
       "      <td>15.818516</td>\n",
       "      <td>74.494901</td>\n",
       "      <td>672.06</td>\n",
       "    </tr>\n",
       "    <tr>\n",
       "      <th>2</th>\n",
       "      <td>13.027725</td>\n",
       "      <td>80.029144</td>\n",
       "      <td>02-Sep-2021 01:15</td>\n",
       "      <td>15.818516</td>\n",
       "      <td>74.494901</td>\n",
       "      <td>671.86</td>\n",
       "    </tr>\n",
       "    <tr>\n",
       "      <th>3</th>\n",
       "      <td>13.013268</td>\n",
       "      <td>80.001274</td>\n",
       "      <td>02-Sep-2021 01:20</td>\n",
       "      <td>15.818516</td>\n",
       "      <td>74.494901</td>\n",
       "      <td>669.96</td>\n",
       "    </tr>\n",
       "    <tr>\n",
       "      <th>4</th>\n",
       "      <td>13.002186</td>\n",
       "      <td>80.000305</td>\n",
       "      <td>02-Sep-2021 01:25</td>\n",
       "      <td>15.818516</td>\n",
       "      <td>74.494901</td>\n",
       "      <td>670.46</td>\n",
       "    </tr>\n",
       "    <tr>\n",
       "      <th>...</th>\n",
       "      <td>...</td>\n",
       "      <td>...</td>\n",
       "      <td>...</td>\n",
       "      <td>...</td>\n",
       "      <td>...</td>\n",
       "      <td>...</td>\n",
       "    </tr>\n",
       "    <tr>\n",
       "      <th>450</th>\n",
       "      <td>15.841319</td>\n",
       "      <td>74.541664</td>\n",
       "      <td>03-Sep-2021 15:36</td>\n",
       "      <td>15.818516</td>\n",
       "      <td>74.494901</td>\n",
       "      <td>5.61</td>\n",
       "    </tr>\n",
       "    <tr>\n",
       "      <th>451</th>\n",
       "      <td>15.841319</td>\n",
       "      <td>74.541664</td>\n",
       "      <td>03-Sep-2021 15:41</td>\n",
       "      <td>15.818516</td>\n",
       "      <td>74.494901</td>\n",
       "      <td>5.61</td>\n",
       "    </tr>\n",
       "    <tr>\n",
       "      <th>452</th>\n",
       "      <td>15.841319</td>\n",
       "      <td>74.541664</td>\n",
       "      <td>03-Sep-2021 15:46</td>\n",
       "      <td>15.818516</td>\n",
       "      <td>74.494901</td>\n",
       "      <td>5.61</td>\n",
       "    </tr>\n",
       "    <tr>\n",
       "      <th>453</th>\n",
       "      <td>15.841319</td>\n",
       "      <td>74.541664</td>\n",
       "      <td>03-Sep-2021 15:51</td>\n",
       "      <td>15.818516</td>\n",
       "      <td>74.494901</td>\n",
       "      <td>5.61</td>\n",
       "    </tr>\n",
       "    <tr>\n",
       "      <th>454</th>\n",
       "      <td>15.841319</td>\n",
       "      <td>74.541664</td>\n",
       "      <td>03-Sep-2021 15:56</td>\n",
       "      <td>15.818516</td>\n",
       "      <td>74.494901</td>\n",
       "      <td>5.61</td>\n",
       "    </tr>\n",
       "  </tbody>\n",
       "</table>\n",
       "<p>455 rows × 6 columns</p>\n",
       "</div>"
      ],
      "text/plain": [
       "      Latitude  Longitude        Packet Time  Dealer_lat3  Dealer_long3  \\\n",
       "0    13.029557  80.032257  02-Sep-2021 01:05    15.818516     74.494901   \n",
       "1    13.029557  80.032257  02-Sep-2021 01:10    15.818516     74.494901   \n",
       "2    13.027725  80.029144  02-Sep-2021 01:15    15.818516     74.494901   \n",
       "3    13.013268  80.001274  02-Sep-2021 01:20    15.818516     74.494901   \n",
       "4    13.002186  80.000305  02-Sep-2021 01:25    15.818516     74.494901   \n",
       "..         ...        ...                ...          ...           ...   \n",
       "450  15.841319  74.541664  03-Sep-2021 15:36    15.818516     74.494901   \n",
       "451  15.841319  74.541664  03-Sep-2021 15:41    15.818516     74.494901   \n",
       "452  15.841319  74.541664  03-Sep-2021 15:46    15.818516     74.494901   \n",
       "453  15.841319  74.541664  03-Sep-2021 15:51    15.818516     74.494901   \n",
       "454  15.841319  74.541664  03-Sep-2021 15:56    15.818516     74.494901   \n",
       "\n",
       "     Distance  \n",
       "0      672.06  \n",
       "1      672.06  \n",
       "2      671.86  \n",
       "3      669.96  \n",
       "4      670.46  \n",
       "..        ...  \n",
       "450      5.61  \n",
       "451      5.61  \n",
       "452      5.61  \n",
       "453      5.61  \n",
       "454      5.61  \n",
       "\n",
       "[455 rows x 6 columns]"
      ]
     },
     "execution_count": 818,
     "metadata": {},
     "output_type": "execute_result"
    }
   ],
   "source": [
    "df3\n"
   ]
  },
  {
   "cell_type": "code",
   "execution_count": 1106,
   "metadata": {},
   "outputs": [],
   "source": [
    "df3['Status'] = np.where(df3['Distance']!= df3['Distance'].min(), 'In-transit', 'Unloading-Point')"
   ]
  },
  {
   "cell_type": "code",
   "execution_count": 1107,
   "metadata": {},
   "outputs": [],
   "source": [
    "df3['Packet Time'] = pd.to_datetime(df3['Packet Time'])"
   ]
  },
  {
   "cell_type": "code",
   "execution_count": 1108,
   "metadata": {},
   "outputs": [],
   "source": [
    "df3['Time_diff'] = [x.iloc[-1] - x.iloc[0] for x in df3['Packet Time'].rolling(2) if len(x)>0]"
   ]
  },
  {
   "cell_type": "code",
   "execution_count": 1109,
   "metadata": {},
   "outputs": [
    {
     "data": {
      "text/plain": [
       "0 days 00:05:00    393\n",
       "0 days 00:06:00     61\n",
       "0 days 00:00:00      1\n",
       "Name: Time_diff, dtype: int64"
      ]
     },
     "execution_count": 1109,
     "metadata": {},
     "output_type": "execute_result"
    }
   ],
   "source": [
    "df3.Time_diff.value_counts()"
   ]
  },
  {
   "cell_type": "code",
   "execution_count": 1110,
   "metadata": {},
   "outputs": [
    {
     "data": {
      "text/plain": [
       "Timedelta('1 days 14:51:00')"
      ]
     },
     "execution_count": 1110,
     "metadata": {},
     "output_type": "execute_result"
    }
   ],
   "source": [
    "df3.Time_diff.sum()"
   ]
  },
  {
   "cell_type": "code",
   "execution_count": 821,
   "metadata": {},
   "outputs": [],
   "source": [
    "# old stoppage time"
   ]
  },
  {
   "cell_type": "code",
   "execution_count": 838,
   "metadata": {},
   "outputs": [],
   "source": [
    "df3_nlab = df3.groupby(['Latitude', 'Longitude']).agg({'Packet Time':['min','max']})"
   ]
  },
  {
   "cell_type": "code",
   "execution_count": 840,
   "metadata": {},
   "outputs": [],
   "source": [
    "df3_nlab.to_excel(\"df3_nlab.xlsx\")"
   ]
  },
  {
   "cell_type": "code",
   "execution_count": 841,
   "metadata": {},
   "outputs": [],
   "source": [
    "df3_nlab = pd.read_excel(\"D:Sales Logistic Project\\\\df3nlab.xltm\")"
   ]
  },
  {
   "cell_type": "code",
   "execution_count": 843,
   "metadata": {},
   "outputs": [],
   "source": [
    "df3_nlab['max'] = pd.to_datetime(df3_nlab['max'])"
   ]
  },
  {
   "cell_type": "code",
   "execution_count": 844,
   "metadata": {},
   "outputs": [],
   "source": [
    "df3_nlab['min'] = pd.to_datetime(df3_nlab['min'])"
   ]
  },
  {
   "cell_type": "code",
   "execution_count": 845,
   "metadata": {},
   "outputs": [],
   "source": [
    "df3_nlab['Diff'] = df3_nlab['max'] - df3_nlab['min']"
   ]
  },
  {
   "cell_type": "code",
   "execution_count": 913,
   "metadata": {},
   "outputs": [],
   "source": [
    "df3_nlab_stop = df3_nlab[df3_nlab['Diff'] >= '1:00:00']"
   ]
  },
  {
   "cell_type": "code",
   "execution_count": 914,
   "metadata": {},
   "outputs": [
    {
     "data": {
      "text/plain": [
       "3"
      ]
     },
     "execution_count": 914,
     "metadata": {},
     "output_type": "execute_result"
    }
   ],
   "source": [
    "df3_nlab_stop['Diff'].count()"
   ]
  },
  {
   "cell_type": "code",
   "execution_count": 915,
   "metadata": {},
   "outputs": [
    {
     "data": {
      "text/plain": [
       "289"
      ]
     },
     "execution_count": 915,
     "metadata": {},
     "output_type": "execute_result"
    }
   ],
   "source": [
    "df3_nlab['Diff'].count()"
   ]
  },
  {
   "cell_type": "code",
   "execution_count": 856,
   "metadata": {},
   "outputs": [
    {
     "name": "stdout",
     "output_type": "stream",
     "text": [
      "Mean  0 days 03:20:40\n",
      "Median  0 days 03:09:00\n",
      "Min  0 days 01:32:00\n",
      "Max  0 days 05:21:00\n",
      "Sum  0 days 10:02:00\n"
     ]
    }
   ],
   "source": [
    "print(\"Mean \",df3_nlab_stop['Diff'].mean())\n",
    "print(\"Median \",df3_nlab_stop['Diff'].median())\n",
    "print(\"Min \",df3_nlab_stop['Diff'].min())\n",
    "print(\"Max \",df3_nlab_stop['Diff'].max())\n",
    "print(\"Sum \",df3_nlab_stop['Diff'].sum())"
   ]
  },
  {
   "cell_type": "code",
   "execution_count": 1011,
   "metadata": {},
   "outputs": [
    {
     "data": {
      "text/plain": [
       "(455, 8)"
      ]
     },
     "execution_count": 1011,
     "metadata": {},
     "output_type": "execute_result"
    }
   ],
   "source": [
    "df3.shape"
   ]
  },
  {
   "cell_type": "code",
   "execution_count": 1010,
   "metadata": {},
   "outputs": [
    {
     "data": {
      "text/html": [
       "<div>\n",
       "<style scoped>\n",
       "    .dataframe tbody tr th:only-of-type {\n",
       "        vertical-align: middle;\n",
       "    }\n",
       "\n",
       "    .dataframe tbody tr th {\n",
       "        vertical-align: top;\n",
       "    }\n",
       "\n",
       "    .dataframe thead th {\n",
       "        text-align: right;\n",
       "    }\n",
       "</style>\n",
       "<table border=\"1\" class=\"dataframe\">\n",
       "  <thead>\n",
       "    <tr style=\"text-align: right;\">\n",
       "      <th></th>\n",
       "      <th>Latitude</th>\n",
       "      <th>Longitude</th>\n",
       "      <th>Packet Time</th>\n",
       "      <th>Dealer_lat3</th>\n",
       "      <th>Dealer_long3</th>\n",
       "      <th>Distance</th>\n",
       "      <th>Status</th>\n",
       "      <th>Time_diff</th>\n",
       "    </tr>\n",
       "  </thead>\n",
       "  <tbody>\n",
       "    <tr>\n",
       "      <th>390</th>\n",
       "      <td>15.841252</td>\n",
       "      <td>74.541702</td>\n",
       "      <td>2021-09-03 10:30:00</td>\n",
       "      <td>15.818516</td>\n",
       "      <td>74.494901</td>\n",
       "      <td>5.61</td>\n",
       "      <td>Completed</td>\n",
       "      <td>0 days 00:05:00</td>\n",
       "    </tr>\n",
       "    <tr>\n",
       "      <th>391</th>\n",
       "      <td>15.841319</td>\n",
       "      <td>74.541664</td>\n",
       "      <td>2021-09-03 10:35:00</td>\n",
       "      <td>15.818516</td>\n",
       "      <td>74.494901</td>\n",
       "      <td>5.61</td>\n",
       "      <td>Completed</td>\n",
       "      <td>0 days 00:05:00</td>\n",
       "    </tr>\n",
       "    <tr>\n",
       "      <th>392</th>\n",
       "      <td>15.841319</td>\n",
       "      <td>74.541664</td>\n",
       "      <td>2021-09-03 10:40:00</td>\n",
       "      <td>15.818516</td>\n",
       "      <td>74.494901</td>\n",
       "      <td>5.61</td>\n",
       "      <td>Completed</td>\n",
       "      <td>0 days 00:05:00</td>\n",
       "    </tr>\n",
       "    <tr>\n",
       "      <th>393</th>\n",
       "      <td>15.841319</td>\n",
       "      <td>74.541664</td>\n",
       "      <td>2021-09-03 10:45:00</td>\n",
       "      <td>15.818516</td>\n",
       "      <td>74.494901</td>\n",
       "      <td>5.61</td>\n",
       "      <td>Completed</td>\n",
       "      <td>0 days 00:05:00</td>\n",
       "    </tr>\n",
       "    <tr>\n",
       "      <th>394</th>\n",
       "      <td>15.841319</td>\n",
       "      <td>74.541664</td>\n",
       "      <td>2021-09-03 10:51:00</td>\n",
       "      <td>15.818516</td>\n",
       "      <td>74.494901</td>\n",
       "      <td>5.61</td>\n",
       "      <td>Completed</td>\n",
       "      <td>0 days 00:06:00</td>\n",
       "    </tr>\n",
       "    <tr>\n",
       "      <th>...</th>\n",
       "      <td>...</td>\n",
       "      <td>...</td>\n",
       "      <td>...</td>\n",
       "      <td>...</td>\n",
       "      <td>...</td>\n",
       "      <td>...</td>\n",
       "      <td>...</td>\n",
       "      <td>...</td>\n",
       "    </tr>\n",
       "    <tr>\n",
       "      <th>450</th>\n",
       "      <td>15.841319</td>\n",
       "      <td>74.541664</td>\n",
       "      <td>2021-09-03 15:36:00</td>\n",
       "      <td>15.818516</td>\n",
       "      <td>74.494901</td>\n",
       "      <td>5.61</td>\n",
       "      <td>Completed</td>\n",
       "      <td>0 days 00:05:00</td>\n",
       "    </tr>\n",
       "    <tr>\n",
       "      <th>451</th>\n",
       "      <td>15.841319</td>\n",
       "      <td>74.541664</td>\n",
       "      <td>2021-09-03 15:41:00</td>\n",
       "      <td>15.818516</td>\n",
       "      <td>74.494901</td>\n",
       "      <td>5.61</td>\n",
       "      <td>Completed</td>\n",
       "      <td>0 days 00:05:00</td>\n",
       "    </tr>\n",
       "    <tr>\n",
       "      <th>452</th>\n",
       "      <td>15.841319</td>\n",
       "      <td>74.541664</td>\n",
       "      <td>2021-09-03 15:46:00</td>\n",
       "      <td>15.818516</td>\n",
       "      <td>74.494901</td>\n",
       "      <td>5.61</td>\n",
       "      <td>Completed</td>\n",
       "      <td>0 days 00:05:00</td>\n",
       "    </tr>\n",
       "    <tr>\n",
       "      <th>453</th>\n",
       "      <td>15.841319</td>\n",
       "      <td>74.541664</td>\n",
       "      <td>2021-09-03 15:51:00</td>\n",
       "      <td>15.818516</td>\n",
       "      <td>74.494901</td>\n",
       "      <td>5.61</td>\n",
       "      <td>Completed</td>\n",
       "      <td>0 days 00:05:00</td>\n",
       "    </tr>\n",
       "    <tr>\n",
       "      <th>454</th>\n",
       "      <td>15.841319</td>\n",
       "      <td>74.541664</td>\n",
       "      <td>2021-09-03 15:56:00</td>\n",
       "      <td>15.818516</td>\n",
       "      <td>74.494901</td>\n",
       "      <td>5.61</td>\n",
       "      <td>Completed</td>\n",
       "      <td>0 days 00:05:00</td>\n",
       "    </tr>\n",
       "  </tbody>\n",
       "</table>\n",
       "<p>65 rows × 8 columns</p>\n",
       "</div>"
      ],
      "text/plain": [
       "      Latitude  Longitude         Packet Time  Dealer_lat3  Dealer_long3  \\\n",
       "390  15.841252  74.541702 2021-09-03 10:30:00    15.818516     74.494901   \n",
       "391  15.841319  74.541664 2021-09-03 10:35:00    15.818516     74.494901   \n",
       "392  15.841319  74.541664 2021-09-03 10:40:00    15.818516     74.494901   \n",
       "393  15.841319  74.541664 2021-09-03 10:45:00    15.818516     74.494901   \n",
       "394  15.841319  74.541664 2021-09-03 10:51:00    15.818516     74.494901   \n",
       "..         ...        ...                 ...          ...           ...   \n",
       "450  15.841319  74.541664 2021-09-03 15:36:00    15.818516     74.494901   \n",
       "451  15.841319  74.541664 2021-09-03 15:41:00    15.818516     74.494901   \n",
       "452  15.841319  74.541664 2021-09-03 15:46:00    15.818516     74.494901   \n",
       "453  15.841319  74.541664 2021-09-03 15:51:00    15.818516     74.494901   \n",
       "454  15.841319  74.541664 2021-09-03 15:56:00    15.818516     74.494901   \n",
       "\n",
       "     Distance     Status       Time_diff  \n",
       "390      5.61  Completed 0 days 00:05:00  \n",
       "391      5.61  Completed 0 days 00:05:00  \n",
       "392      5.61  Completed 0 days 00:05:00  \n",
       "393      5.61  Completed 0 days 00:05:00  \n",
       "394      5.61  Completed 0 days 00:06:00  \n",
       "..        ...        ...             ...  \n",
       "450      5.61  Completed 0 days 00:05:00  \n",
       "451      5.61  Completed 0 days 00:05:00  \n",
       "452      5.61  Completed 0 days 00:05:00  \n",
       "453      5.61  Completed 0 days 00:05:00  \n",
       "454      5.61  Completed 0 days 00:05:00  \n",
       "\n",
       "[65 rows x 8 columns]"
      ]
     },
     "execution_count": 1010,
     "metadata": {},
     "output_type": "execute_result"
    }
   ],
   "source": [
    "df3.iloc[np.where(df3.Distance==df3.Distance.min())]"
   ]
  },
  {
   "cell_type": "markdown",
   "metadata": {},
   "source": [
    "## Sliced df3 - Unloading Point"
   ]
  },
  {
   "cell_type": "code",
   "execution_count": 1113,
   "metadata": {},
   "outputs": [],
   "source": [
    "df3_new = df3[0:391]"
   ]
  },
  {
   "cell_type": "code",
   "execution_count": 1134,
   "metadata": {},
   "outputs": [
    {
     "data": {
      "text/plain": [
       "(391, 9)"
      ]
     },
     "execution_count": 1134,
     "metadata": {},
     "output_type": "execute_result"
    }
   ],
   "source": [
    "df3_new.shape\n"
   ]
  },
  {
   "cell_type": "code",
   "execution_count": 1115,
   "metadata": {},
   "outputs": [],
   "source": [
    "df3_new['Time_diff'] = [x.iloc[-1] - x.iloc[0] for x in df3_new['Packet Time'].rolling(2) if len(x)>0]"
   ]
  },
  {
   "cell_type": "code",
   "execution_count": 1116,
   "metadata": {},
   "outputs": [
    {
     "data": {
      "text/plain": [
       "0 days 00:05:00    335\n",
       "0 days 00:06:00     55\n",
       "0 days 00:00:00      1\n",
       "Name: Time_diff, dtype: int64"
      ]
     },
     "execution_count": 1116,
     "metadata": {},
     "output_type": "execute_result"
    }
   ],
   "source": [
    "df3_new['Time_diff'].value_counts()"
   ]
  },
  {
   "cell_type": "code",
   "execution_count": 1117,
   "metadata": {},
   "outputs": [
    {
     "data": {
      "text/plain": [
       "Timedelta('1 days 09:25:00')"
      ]
     },
     "execution_count": 1117,
     "metadata": {},
     "output_type": "execute_result"
    }
   ],
   "source": [
    "df3_new['Time_diff'].sum()"
   ]
  },
  {
   "cell_type": "code",
   "execution_count": 1118,
   "metadata": {},
   "outputs": [
    {
     "data": {
      "text/html": [
       "<div>\n",
       "<style scoped>\n",
       "    .dataframe tbody tr th:only-of-type {\n",
       "        vertical-align: middle;\n",
       "    }\n",
       "\n",
       "    .dataframe tbody tr th {\n",
       "        vertical-align: top;\n",
       "    }\n",
       "\n",
       "    .dataframe thead th {\n",
       "        text-align: right;\n",
       "    }\n",
       "</style>\n",
       "<table border=\"1\" class=\"dataframe\">\n",
       "  <thead>\n",
       "    <tr style=\"text-align: right;\">\n",
       "      <th></th>\n",
       "      <th>Latitude</th>\n",
       "      <th>Longitude</th>\n",
       "      <th>Packet Time</th>\n",
       "      <th>Dealer_lat3</th>\n",
       "      <th>Dealer_long3</th>\n",
       "      <th>Distance</th>\n",
       "      <th>Status</th>\n",
       "      <th>Time_diff</th>\n",
       "    </tr>\n",
       "  </thead>\n",
       "  <tbody>\n",
       "    <tr>\n",
       "      <th>0</th>\n",
       "      <td>13.029557</td>\n",
       "      <td>80.032257</td>\n",
       "      <td>2021-09-02 01:05:00</td>\n",
       "      <td>15.818516</td>\n",
       "      <td>74.494901</td>\n",
       "      <td>672.06</td>\n",
       "      <td>In-transit</td>\n",
       "      <td>0 days</td>\n",
       "    </tr>\n",
       "  </tbody>\n",
       "</table>\n",
       "</div>"
      ],
      "text/plain": [
       "    Latitude  Longitude         Packet Time  Dealer_lat3  Dealer_long3  \\\n",
       "0  13.029557  80.032257 2021-09-02 01:05:00    15.818516     74.494901   \n",
       "\n",
       "   Distance      Status Time_diff  \n",
       "0    672.06  In-transit    0 days  "
      ]
     },
     "execution_count": 1118,
     "metadata": {},
     "output_type": "execute_result"
    }
   ],
   "source": [
    "df3_new.head(1)"
   ]
  },
  {
   "cell_type": "code",
   "execution_count": 1119,
   "metadata": {},
   "outputs": [
    {
     "data": {
      "text/html": [
       "<div>\n",
       "<style scoped>\n",
       "    .dataframe tbody tr th:only-of-type {\n",
       "        vertical-align: middle;\n",
       "    }\n",
       "\n",
       "    .dataframe tbody tr th {\n",
       "        vertical-align: top;\n",
       "    }\n",
       "\n",
       "    .dataframe thead th {\n",
       "        text-align: right;\n",
       "    }\n",
       "</style>\n",
       "<table border=\"1\" class=\"dataframe\">\n",
       "  <thead>\n",
       "    <tr style=\"text-align: right;\">\n",
       "      <th></th>\n",
       "      <th>Latitude</th>\n",
       "      <th>Longitude</th>\n",
       "      <th>Packet Time</th>\n",
       "      <th>Dealer_lat3</th>\n",
       "      <th>Dealer_long3</th>\n",
       "      <th>Distance</th>\n",
       "      <th>Status</th>\n",
       "      <th>Time_diff</th>\n",
       "    </tr>\n",
       "  </thead>\n",
       "  <tbody>\n",
       "    <tr>\n",
       "      <th>390</th>\n",
       "      <td>15.841252</td>\n",
       "      <td>74.541702</td>\n",
       "      <td>2021-09-03 10:30:00</td>\n",
       "      <td>15.818516</td>\n",
       "      <td>74.494901</td>\n",
       "      <td>5.61</td>\n",
       "      <td>Unloading-Point</td>\n",
       "      <td>0 days 00:05:00</td>\n",
       "    </tr>\n",
       "  </tbody>\n",
       "</table>\n",
       "</div>"
      ],
      "text/plain": [
       "      Latitude  Longitude         Packet Time  Dealer_lat3  Dealer_long3  \\\n",
       "390  15.841252  74.541702 2021-09-03 10:30:00    15.818516     74.494901   \n",
       "\n",
       "     Distance           Status       Time_diff  \n",
       "390      5.61  Unloading-Point 0 days 00:05:00  "
      ]
     },
     "execution_count": 1119,
     "metadata": {},
     "output_type": "execute_result"
    }
   ],
   "source": [
    "df3_new.tail(1)"
   ]
  },
  {
   "cell_type": "code",
   "execution_count": null,
   "metadata": {},
   "outputs": [],
   "source": []
  },
  {
   "cell_type": "code",
   "execution_count": 1120,
   "metadata": {},
   "outputs": [
    {
     "data": {
      "text/plain": [
       "Timedelta('1 days 09:25:00')"
      ]
     },
     "execution_count": 1120,
     "metadata": {},
     "output_type": "execute_result"
    }
   ],
   "source": [
    "dt1 = '2021-09-02 01:05:00'\n",
    "d1 = pd.to_datetime(dt1)\n",
    "dt2 = '2021-09-03 10:30:00'\n",
    "d2 = pd.to_datetime(dt2)\n",
    "\n",
    "a = d2-d1\n",
    "a"
   ]
  },
  {
   "cell_type": "code",
   "execution_count": null,
   "metadata": {},
   "outputs": [],
   "source": [
    "## Stoppage time new"
   ]
  },
  {
   "cell_type": "code",
   "execution_count": 1121,
   "metadata": {},
   "outputs": [],
   "source": [
    "df3_new['Lat,Lngt'] = df3_new['Latitude'].astype(str) + df3_new['Longitude'].astype(str)"
   ]
  },
  {
   "cell_type": "code",
   "execution_count": 1123,
   "metadata": {},
   "outputs": [],
   "source": [
    "df3_new_gby = df3_new.groupby('Lat,Lngt').agg({'Time_diff': np.sum})"
   ]
  },
  {
   "cell_type": "code",
   "execution_count": 1142,
   "metadata": {},
   "outputs": [
    {
     "data": {
      "text/plain": [
       "Time_diff      \n",
       "0 days 00:05:00    235\n",
       "0 days 00:06:00     39\n",
       "0 days 00:20:00      2\n",
       "0 days 00:11:00      2\n",
       "0 days 00:10:00      2\n",
       "0 days 03:15:00      1\n",
       "0 days 01:37:00      1\n",
       "0 days 01:02:00      1\n",
       "0 days 00:56:00      1\n",
       "0 days 00:52:00      1\n",
       "0 days 00:21:00      1\n",
       "0 days 00:16:00      1\n",
       "0 days 00:15:00      1\n",
       "dtype: int64"
      ]
     },
     "execution_count": 1142,
     "metadata": {},
     "output_type": "execute_result"
    }
   ],
   "source": [
    "df3_new_gby.value_counts()"
   ]
  },
  {
   "cell_type": "code",
   "execution_count": 1125,
   "metadata": {},
   "outputs": [
    {
     "data": {
      "text/plain": [
       "Timedelta('1 days 09:25:00')"
      ]
     },
     "execution_count": 1125,
     "metadata": {},
     "output_type": "execute_result"
    }
   ],
   "source": [
    "df3_new_gby['Time_diff'].sum()"
   ]
  },
  {
   "cell_type": "code",
   "execution_count": 1126,
   "metadata": {},
   "outputs": [],
   "source": [
    "df3_new_gby_res = df3_new_gby[df3_new_gby['Time_diff'] >= '01:00:00']"
   ]
  },
  {
   "cell_type": "code",
   "execution_count": 1127,
   "metadata": {},
   "outputs": [
    {
     "data": {
      "text/html": [
       "<div>\n",
       "<style scoped>\n",
       "    .dataframe tbody tr th:only-of-type {\n",
       "        vertical-align: middle;\n",
       "    }\n",
       "\n",
       "    .dataframe tbody tr th {\n",
       "        vertical-align: top;\n",
       "    }\n",
       "\n",
       "    .dataframe thead th {\n",
       "        text-align: right;\n",
       "    }\n",
       "</style>\n",
       "<table border=\"1\" class=\"dataframe\">\n",
       "  <thead>\n",
       "    <tr style=\"text-align: right;\">\n",
       "      <th></th>\n",
       "      <th>Time_diff</th>\n",
       "    </tr>\n",
       "    <tr>\n",
       "      <th>Lat,Lngt</th>\n",
       "      <th></th>\n",
       "    </tr>\n",
       "  </thead>\n",
       "  <tbody>\n",
       "    <tr>\n",
       "      <th>12.9955980.013062</th>\n",
       "      <td>0 days 01:37:00</td>\n",
       "    </tr>\n",
       "    <tr>\n",
       "      <th>13.03036380.030731</th>\n",
       "      <td>0 days 03:15:00</td>\n",
       "    </tr>\n",
       "    <tr>\n",
       "      <th>13.2169877.252518</th>\n",
       "      <td>0 days 01:02:00</td>\n",
       "    </tr>\n",
       "  </tbody>\n",
       "</table>\n",
       "</div>"
      ],
      "text/plain": [
       "                         Time_diff\n",
       "Lat,Lngt                          \n",
       "12.9955980.013062  0 days 01:37:00\n",
       "13.03036380.030731 0 days 03:15:00\n",
       "13.2169877.252518  0 days 01:02:00"
      ]
     },
     "execution_count": 1127,
     "metadata": {},
     "output_type": "execute_result"
    }
   ],
   "source": [
    "df3_new_gby_res"
   ]
  },
  {
   "cell_type": "code",
   "execution_count": null,
   "metadata": {},
   "outputs": [],
   "source": []
  },
  {
   "cell_type": "markdown",
   "metadata": {},
   "source": [
    "## Calculating Distance Using Map My India API "
   ]
  },
  {
   "cell_type": "code",
   "execution_count": 46,
   "metadata": {},
   "outputs": [],
   "source": [
    "## dataset 1 \n",
    "lat1=79.990784\n",
    "long1=13.003621\n",
    "#destination\n",
    "long2=73.31652\n",
    "lat2=27.99536"
   ]
  },
  {
   "cell_type": "code",
   "execution_count": 47,
   "metadata": {},
   "outputs": [
    {
     "data": {
      "text/plain": [
       "{'Server': 'Adv-5400',\n",
       " 'version': '202109.19.5222',\n",
       " 'results': {'distances': [[0, 2503857, 2201925.2]],\n",
       "  'code': 'Ok',\n",
       "  'durations': [[0, 141073.1, 120174.6]]},\n",
       " 'responseCode': 200}"
      ]
     },
     "execution_count": 47,
     "metadata": {},
     "output_type": "execute_result"
    }
   ],
   "source": [
    "url = f\"\"\"https://apis.mapmyindia.com/advancedmaps/v1/95846a48eeef5b6c17863d2367c75349/distance_matrix/driving/79.990784,13.003621;73.31652,27.99536;17ZUL7?rtype=0&region=ind\"\"\"\n",
    "r = requests.get(url)\n",
    "result= json.loads(r.content)\n",
    "result"
   ]
  },
  {
   "cell_type": "code",
   "execution_count": 120,
   "metadata": {},
   "outputs": [
    {
     "data": {
      "text/plain": [
       "{'Server': 'Adv-5800',\n",
       " 'version': '202109.19.5222',\n",
       " 'results': {'distances': [[0, 2503300.4, 2176142.4]],\n",
       "  'code': 'Ok',\n",
       "  'durations': [[0, 176809.3, 150276.7]]},\n",
       " 'responseCode': 200}"
      ]
     },
     "execution_count": 120,
     "metadata": {},
     "output_type": "execute_result"
    }
   ],
   "source": [
    "url = f\"\"\"https://apis.mapmyindia.com/advancedmaps/v1/95846a48eeef5b6c17863d2367c75349/distance_matrix/trucking/79.990784,13.003621;73.31652,27.99536;17ZUL7?rtype=1&region=ind\"\"\"\n",
    "r = requests.get(url)\n",
    "result= json.loads(r.content)\n",
    "result"
   ]
  },
  {
   "cell_type": "code",
   "execution_count": 119,
   "metadata": {},
   "outputs": [
    {
     "data": {
      "text/plain": [
       "2503.3004"
      ]
     },
     "execution_count": 119,
     "metadata": {},
     "output_type": "execute_result"
    }
   ],
   "source": [
    "2503300.4/1000"
   ]
  },
  {
   "cell_type": "code",
   "execution_count": 121,
   "metadata": {},
   "outputs": [
    {
     "data": {
      "text/html": [
       "<div>\n",
       "<style scoped>\n",
       "    .dataframe tbody tr th:only-of-type {\n",
       "        vertical-align: middle;\n",
       "    }\n",
       "\n",
       "    .dataframe tbody tr th {\n",
       "        vertical-align: top;\n",
       "    }\n",
       "\n",
       "    .dataframe thead th {\n",
       "        text-align: right;\n",
       "    }\n",
       "</style>\n",
       "<table border=\"1\" class=\"dataframe\">\n",
       "  <thead>\n",
       "    <tr style=\"text-align: right;\">\n",
       "      <th></th>\n",
       "      <th>Lat,Lngt</th>\n",
       "      <th>Period</th>\n",
       "      <th>lat</th>\n",
       "      <th>long</th>\n",
       "      <th>dealer_lat</th>\n",
       "      <th>dealer_long</th>\n",
       "      <th>Distance</th>\n",
       "    </tr>\n",
       "  </thead>\n",
       "  <tbody>\n",
       "    <tr>\n",
       "      <th>0</th>\n",
       "      <td>13.003621,79.990784</td>\n",
       "      <td>16/10 10:10 : 16/10 10:15</td>\n",
       "      <td>13.003621</td>\n",
       "      <td>79.990784</td>\n",
       "      <td>27.99536</td>\n",
       "      <td>73.31652</td>\n",
       "      <td>1805.03</td>\n",
       "    </tr>\n",
       "    <tr>\n",
       "      <th>1</th>\n",
       "      <td>13.003621,79.990784</td>\n",
       "      <td>16/10 10:15 : 16/10 10:20</td>\n",
       "      <td>13.003621</td>\n",
       "      <td>79.990784</td>\n",
       "      <td>27.99536</td>\n",
       "      <td>73.31652</td>\n",
       "      <td>1805.03</td>\n",
       "    </tr>\n",
       "    <tr>\n",
       "      <th>2</th>\n",
       "      <td>13.003621,79.990784</td>\n",
       "      <td>16/10 10:20 : 16/10 10:25</td>\n",
       "      <td>13.003621</td>\n",
       "      <td>79.990784</td>\n",
       "      <td>27.99536</td>\n",
       "      <td>73.31652</td>\n",
       "      <td>1805.03</td>\n",
       "    </tr>\n",
       "    <tr>\n",
       "      <th>3</th>\n",
       "      <td>13.003621,79.990784</td>\n",
       "      <td>16/10 10:25 : 16/10 10:30</td>\n",
       "      <td>13.003621</td>\n",
       "      <td>79.990784</td>\n",
       "      <td>27.99536</td>\n",
       "      <td>73.31652</td>\n",
       "      <td>1805.03</td>\n",
       "    </tr>\n",
       "    <tr>\n",
       "      <th>4</th>\n",
       "      <td>13.003621,79.990784</td>\n",
       "      <td>16/10 10:30 : 16/10 10:35</td>\n",
       "      <td>13.003621</td>\n",
       "      <td>79.990784</td>\n",
       "      <td>27.99536</td>\n",
       "      <td>73.31652</td>\n",
       "      <td>1805.03</td>\n",
       "    </tr>\n",
       "    <tr>\n",
       "      <th>...</th>\n",
       "      <td>...</td>\n",
       "      <td>...</td>\n",
       "      <td>...</td>\n",
       "      <td>...</td>\n",
       "      <td>...</td>\n",
       "      <td>...</td>\n",
       "      <td>...</td>\n",
       "    </tr>\n",
       "    <tr>\n",
       "      <th>1444</th>\n",
       "      <td>28.039583,73.430438</td>\n",
       "      <td>21/10 11:35 : 21/10 11:40</td>\n",
       "      <td>28.039583</td>\n",
       "      <td>73.430438</td>\n",
       "      <td>27.99536</td>\n",
       "      <td>73.31652</td>\n",
       "      <td>12.22</td>\n",
       "    </tr>\n",
       "    <tr>\n",
       "      <th>1445</th>\n",
       "      <td>28.039583,73.430438</td>\n",
       "      <td>21/10 11:40 : 21/10 11:45</td>\n",
       "      <td>28.039583</td>\n",
       "      <td>73.430438</td>\n",
       "      <td>27.99536</td>\n",
       "      <td>73.31652</td>\n",
       "      <td>12.22</td>\n",
       "    </tr>\n",
       "    <tr>\n",
       "      <th>1446</th>\n",
       "      <td>28.039583,73.430438</td>\n",
       "      <td>21/10 11:45 : 21/10 11:50</td>\n",
       "      <td>28.039583</td>\n",
       "      <td>73.430438</td>\n",
       "      <td>27.99536</td>\n",
       "      <td>73.31652</td>\n",
       "      <td>12.22</td>\n",
       "    </tr>\n",
       "    <tr>\n",
       "      <th>1447</th>\n",
       "      <td>28.039583,73.430438</td>\n",
       "      <td>21/10 11:50 : 21/10 11:55</td>\n",
       "      <td>28.039583</td>\n",
       "      <td>73.430438</td>\n",
       "      <td>27.99536</td>\n",
       "      <td>73.31652</td>\n",
       "      <td>12.22</td>\n",
       "    </tr>\n",
       "    <tr>\n",
       "      <th>1448</th>\n",
       "      <td>28.039583,73.430438</td>\n",
       "      <td>21/10 11:55 : 21/10 11:57</td>\n",
       "      <td>28.039583</td>\n",
       "      <td>73.430438</td>\n",
       "      <td>27.99536</td>\n",
       "      <td>73.31652</td>\n",
       "      <td>12.22</td>\n",
       "    </tr>\n",
       "  </tbody>\n",
       "</table>\n",
       "<p>1449 rows × 7 columns</p>\n",
       "</div>"
      ],
      "text/plain": [
       "                 Lat,Lngt                     Period        lat       long  \\\n",
       "0     13.003621,79.990784  16/10 10:10 : 16/10 10:15  13.003621  79.990784   \n",
       "1     13.003621,79.990784  16/10 10:15 : 16/10 10:20  13.003621  79.990784   \n",
       "2     13.003621,79.990784  16/10 10:20 : 16/10 10:25  13.003621  79.990784   \n",
       "3     13.003621,79.990784  16/10 10:25 : 16/10 10:30  13.003621  79.990784   \n",
       "4     13.003621,79.990784  16/10 10:30 : 16/10 10:35  13.003621  79.990784   \n",
       "...                   ...                        ...        ...        ...   \n",
       "1444  28.039583,73.430438  21/10 11:35 : 21/10 11:40  28.039583  73.430438   \n",
       "1445  28.039583,73.430438  21/10 11:40 : 21/10 11:45  28.039583  73.430438   \n",
       "1446  28.039583,73.430438  21/10 11:45 : 21/10 11:50  28.039583  73.430438   \n",
       "1447  28.039583,73.430438  21/10 11:50 : 21/10 11:55  28.039583  73.430438   \n",
       "1448  28.039583,73.430438  21/10 11:55 : 21/10 11:57  28.039583  73.430438   \n",
       "\n",
       "      dealer_lat  dealer_long  Distance  \n",
       "0       27.99536     73.31652   1805.03  \n",
       "1       27.99536     73.31652   1805.03  \n",
       "2       27.99536     73.31652   1805.03  \n",
       "3       27.99536     73.31652   1805.03  \n",
       "4       27.99536     73.31652   1805.03  \n",
       "...          ...          ...       ...  \n",
       "1444    27.99536     73.31652     12.22  \n",
       "1445    27.99536     73.31652     12.22  \n",
       "1446    27.99536     73.31652     12.22  \n",
       "1447    27.99536     73.31652     12.22  \n",
       "1448    27.99536     73.31652     12.22  \n",
       "\n",
       "[1449 rows x 7 columns]"
      ]
     },
     "execution_count": 121,
     "metadata": {},
     "output_type": "execute_result"
    }
   ],
   "source": [
    "#df\t lat/long\n",
    "#13.003621,79.990784\n",
    "#27.99536,73.31652\n",
    "\n",
    "# long/lat\n",
    "79.990784,13.003621\n",
    "73.31652,27.99536"
   ]
  },
  {
   "cell_type": "code",
   "execution_count": 124,
   "metadata": {},
   "outputs": [
    {
     "data": {
      "text/plain": [
       "{'Server': 'Adv-5800',\n",
       " 'version': '202109.19.5222',\n",
       " 'results': {'distances': [[0, 2503300.4, 2176142.4]],\n",
       "  'code': 'Ok',\n",
       "  'durations': [[0, 176809.3, 150276.7]]},\n",
       " 'responseCode': 200}"
      ]
     },
     "execution_count": 124,
     "metadata": {},
     "output_type": "execute_result"
    }
   ],
   "source": [
    "url = f\"\"\"https://apis.mapmyindia.com/advancedmaps/v1/95846a48eeef5b6c17863d2367c75349/distance_matrix/trucking/79.990784,13.003621;73.31652,27.99536;17ZUL7?rtype=0&region=ind\"\"\"\n",
    "r2 = requests.get(url)\n",
    "result2= json.loads(r2.content)\n",
    "result2"
   ]
  },
  {
   "cell_type": "code",
   "execution_count": 51,
   "metadata": {},
   "outputs": [],
   "source": [
    "## dataset 2 "
   ]
  },
  {
   "cell_type": "code",
   "execution_count": 52,
   "metadata": {},
   "outputs": [],
   "source": [
    "# Origin\n",
    "lat1 = 13.024994\n",
    "long1 = 80.028231\n",
    "\n",
    "\n",
    "# destination\n",
    "lat2 = 13.070983\n",
    "long2 = 77.452922\n",
    "\n",
    "\n"
   ]
  },
  {
   "cell_type": "code",
   "execution_count": 53,
   "metadata": {},
   "outputs": [
    {
     "data": {
      "text/plain": [
       "{'Server': 'Adv-5200',\n",
       " 'version': '202109.19.5222',\n",
       " 'results': {'distances': [[0, 313253.5, 2006644]],\n",
       "  'code': 'Ok',\n",
       "  'durations': [[0, 32885.8, 214315.4]]},\n",
       " 'responseCode': 200}"
      ]
     },
     "execution_count": 53,
     "metadata": {},
     "output_type": "execute_result"
    }
   ],
   "source": [
    "url_2 = f\"\"\"https://apis.mapmyindia.com/advancedmaps/v1/95846a48eeef5b6c17863d2367c75349/distance_matrix/driving/80.028231,13.024994;77.452922,13.070983;17ZUL7?rtype=1&region=ind\"\"\"\n",
    "r2 = requests.get(url_2)\n",
    "result2= json.loads(r2.content)\n",
    "result2"
   ]
  },
  {
   "cell_type": "code",
   "execution_count": 54,
   "metadata": {},
   "outputs": [
    {
     "data": {
      "text/plain": [
       "{'Server': 'Adv-5400',\n",
       " 'version': '202109.19.5222',\n",
       " 'results': {'distances': [[0, 347559.2, 2198156.2]],\n",
       "  'code': 'Ok',\n",
       "  'durations': [[0, 20354.9, 119960.2]]},\n",
       " 'responseCode': 200}"
      ]
     },
     "execution_count": 54,
     "metadata": {},
     "output_type": "execute_result"
    }
   ],
   "source": [
    "url_2= f\"\"\"https://apis.mapmyindia.com/advancedmaps/v1/95846a48eeef5b6c17863d2367c75349/distance_matrix/driving/80.028231,13.024994;77.452922,13.070983;17ZUL7?rtype=0&region=ind\"\"\"\n",
    "r2 = requests.get(url_2)\n",
    "result2= json.loads(r2.content)\n",
    "result2"
   ]
  },
  {
   "cell_type": "code",
   "execution_count": null,
   "metadata": {},
   "outputs": [],
   "source": []
  },
  {
   "cell_type": "code",
   "execution_count": 55,
   "metadata": {},
   "outputs": [],
   "source": [
    "#df2 "
   ]
  },
  {
   "cell_type": "code",
   "execution_count": 56,
   "metadata": {},
   "outputs": [
    {
     "data": {
      "text/plain": [
       "(13.070983, 77.452922)"
      ]
     },
     "execution_count": 56,
     "metadata": {},
     "output_type": "execute_result"
    }
   ],
   "source": [
    "13.024994,80.028231\n",
    "13.070983,77.452922"
   ]
  },
  {
   "cell_type": "code",
   "execution_count": 57,
   "metadata": {},
   "outputs": [
    {
     "data": {
      "text/plain": [
       "{'Server': 'Adv-5200',\n",
       " 'version': '202109.19.5222',\n",
       " 'results': {'distances': [[0, 313253.5, 2006644]],\n",
       "  'code': 'Ok',\n",
       "  'durations': [[0, 32885.8, 214315.4]]},\n",
       " 'responseCode': 200}"
      ]
     },
     "execution_count": 57,
     "metadata": {},
     "output_type": "execute_result"
    }
   ],
   "source": [
    "url_2= f\"\"\"https://apis.mapmyindia.com/advancedmaps/v1/95846a48eeef5b6c17863d2367c75349/distance_matrix/driving/80.028231,13.024994;77.452922,13.070983;17ZUL7?rtype=1&region=ind\"\"\"\n",
    "r2 = requests.get(url_2)\n",
    "result2= json.loads(r2.content)\n",
    "result2"
   ]
  },
  {
   "cell_type": "code",
   "execution_count": 58,
   "metadata": {},
   "outputs": [
    {
     "data": {
      "text/plain": [
       "347.55920000000003"
      ]
     },
     "execution_count": 58,
     "metadata": {},
     "output_type": "execute_result"
    }
   ],
   "source": [
    "347559.2/1000"
   ]
  },
  {
   "cell_type": "code",
   "execution_count": 59,
   "metadata": {},
   "outputs": [
    {
     "data": {
      "text/plain": [
       "313.2535"
      ]
     },
     "execution_count": 59,
     "metadata": {},
     "output_type": "execute_result"
    }
   ],
   "source": [
    "313253.5/1000"
   ]
  },
  {
   "cell_type": "code",
   "execution_count": 60,
   "metadata": {},
   "outputs": [],
   "source": [
    "## dataset 3\n"
   ]
  },
  {
   "cell_type": "code",
   "execution_count": 61,
   "metadata": {},
   "outputs": [],
   "source": [
    "# Origin\n",
    "lat3 = 13.029557\n",
    "long3 = 80.032257\n",
    "\n",
    "\n",
    "# destination\n",
    "lat3 = 15.818516\n",
    "long3 = 74.494901"
   ]
  },
  {
   "cell_type": "code",
   "execution_count": 62,
   "metadata": {},
   "outputs": [
    {
     "data": {
      "text/plain": [
       "{'Server': 'Adv-5200',\n",
       " 'version': '202109.19.5222',\n",
       " 'results': {'distances': [[0, 772717.2, 2005507.6]],\n",
       "  'code': 'Ok',\n",
       "  'durations': [[0, 85809.2, 214134.8]]},\n",
       " 'responseCode': 200}"
      ]
     },
     "execution_count": 62,
     "metadata": {},
     "output_type": "execute_result"
    }
   ],
   "source": [
    "url_3 = f\"\"\"https://apis.mapmyindia.com/advancedmaps/v1/95846a48eeef5b6c17863d2367c75349/distance_matrix/driving/80.032257,13.029557;74.494901,15.818516;17ZUL7?rtype=1&region=ind\"\"\"\n",
    "r3 = requests.get(url_3)\n",
    "result3= json.loads(r3.content)\n",
    "result3"
   ]
  },
  {
   "cell_type": "code",
   "execution_count": 65,
   "metadata": {},
   "outputs": [
    {
     "data": {
      "text/plain": [
       "835.135"
      ]
     },
     "execution_count": 65,
     "metadata": {},
     "output_type": "execute_result"
    }
   ],
   "source": [
    "835135/1000"
   ]
  },
  {
   "cell_type": "code",
   "execution_count": 74,
   "metadata": {},
   "outputs": [
    {
     "data": {
      "text/plain": [
       "100.00439999999999"
      ]
     },
     "execution_count": 74,
     "metadata": {},
     "output_type": "execute_result"
    }
   ],
   "source": [
    "100004.4/1000"
   ]
  },
  {
   "cell_type": "code",
   "execution_count": 66,
   "metadata": {},
   "outputs": [],
   "source": [
    "#lowest distance api calculation"
   ]
  },
  {
   "cell_type": "code",
   "execution_count": 220,
   "metadata": {},
   "outputs": [
    {
     "data": {
      "text/html": [
       "<div>\n",
       "<style scoped>\n",
       "    .dataframe tbody tr th:only-of-type {\n",
       "        vertical-align: middle;\n",
       "    }\n",
       "\n",
       "    .dataframe tbody tr th {\n",
       "        vertical-align: top;\n",
       "    }\n",
       "\n",
       "    .dataframe thead th {\n",
       "        text-align: right;\n",
       "    }\n",
       "</style>\n",
       "<table border=\"1\" class=\"dataframe\">\n",
       "  <thead>\n",
       "    <tr style=\"text-align: right;\">\n",
       "      <th></th>\n",
       "      <th>Unnamed: 0</th>\n",
       "      <th>LatLong</th>\n",
       "      <th>Lat</th>\n",
       "      <th>Long</th>\n",
       "      <th>Date</th>\n",
       "      <th>dealer_lat2</th>\n",
       "      <th>dealer_long2</th>\n",
       "      <th>Distance</th>\n",
       "    </tr>\n",
       "  </thead>\n",
       "  <tbody>\n",
       "    <tr>\n",
       "      <th>0</th>\n",
       "      <td>0</td>\n",
       "      <td>13.024994,80.028231</td>\n",
       "      <td>13.024994</td>\n",
       "      <td>80.028231</td>\n",
       "      <td>2021-10-04 00:03:00</td>\n",
       "      <td>13.070983</td>\n",
       "      <td>77.452922</td>\n",
       "      <td>279.01</td>\n",
       "    </tr>\n",
       "  </tbody>\n",
       "</table>\n",
       "</div>"
      ],
      "text/plain": [
       "   Unnamed: 0              LatLong        Lat       Long                Date  \\\n",
       "0           0  13.024994,80.028231  13.024994  80.028231 2021-10-04 00:03:00   \n",
       "\n",
       "   dealer_lat2  dealer_long2  Distance  \n",
       "0    13.070983     77.452922    279.01  "
      ]
     },
     "execution_count": 220,
     "metadata": {},
     "output_type": "execute_result"
    }
   ],
   "source": [
    "df2[0:1]"
   ]
  },
  {
   "cell_type": "code",
   "execution_count": 221,
   "metadata": {},
   "outputs": [
    {
     "data": {
      "text/html": [
       "<div>\n",
       "<style scoped>\n",
       "    .dataframe tbody tr th:only-of-type {\n",
       "        vertical-align: middle;\n",
       "    }\n",
       "\n",
       "    .dataframe tbody tr th {\n",
       "        vertical-align: top;\n",
       "    }\n",
       "\n",
       "    .dataframe thead th {\n",
       "        text-align: right;\n",
       "    }\n",
       "</style>\n",
       "<table border=\"1\" class=\"dataframe\">\n",
       "  <thead>\n",
       "    <tr style=\"text-align: right;\">\n",
       "      <th></th>\n",
       "      <th>Unnamed: 0</th>\n",
       "      <th>LatLong</th>\n",
       "      <th>Lat</th>\n",
       "      <th>Long</th>\n",
       "      <th>Date</th>\n",
       "      <th>dealer_lat2</th>\n",
       "      <th>dealer_long2</th>\n",
       "      <th>Distance</th>\n",
       "    </tr>\n",
       "  </thead>\n",
       "  <tbody>\n",
       "    <tr>\n",
       "      <th>512</th>\n",
       "      <td>512</td>\n",
       "      <td>13.066884,77.451716</td>\n",
       "      <td>13.066884</td>\n",
       "      <td>77.451716</td>\n",
       "      <td>2021-10-05 22:32:00</td>\n",
       "      <td>13.070983</td>\n",
       "      <td>77.452922</td>\n",
       "      <td>0.47</td>\n",
       "    </tr>\n",
       "  </tbody>\n",
       "</table>\n",
       "</div>"
      ],
      "text/plain": [
       "     Unnamed: 0              LatLong        Lat       Long  \\\n",
       "512         512  13.066884,77.451716  13.066884  77.451716   \n",
       "\n",
       "                   Date  dealer_lat2  dealer_long2  Distance  \n",
       "512 2021-10-05 22:32:00    13.070983     77.452922      0.47  "
      ]
     },
     "execution_count": 221,
     "metadata": {},
     "output_type": "execute_result"
    }
   ],
   "source": [
    "df2.iloc[np.where(df2['Distance']==df2['Distance'].min())]"
   ]
  },
  {
   "cell_type": "code",
   "execution_count": 222,
   "metadata": {},
   "outputs": [
    {
     "data": {
      "text/plain": [
       "{'Server': 'Adv-5800',\n",
       " 'version': '202109.19.5222',\n",
       " 'results': {'distances': [[0, 347559.2, 2172373.6]],\n",
       "  'code': 'Ok',\n",
       "  'durations': [[0, 24510.2, 150013.6]]},\n",
       " 'responseCode': 200}"
      ]
     },
     "execution_count": 222,
     "metadata": {},
     "output_type": "execute_result"
    }
   ],
   "source": [
    "url2 = f\"\"\"https://apis.mapmyindia.com/advancedmaps/v1/95846a48eeef5b6c17863d2367c75349/distance_matrix/trucking/80.028231,13.024994;77.452922,13.070983;17ZUL7?rtype=1&region=ind\"\"\"\n",
    "r3 = requests.get(url2)\n",
    "result3= json.loads(r3.content)\n",
    "result3"
   ]
  },
  {
   "cell_type": "code",
   "execution_count": 89,
   "metadata": {},
   "outputs": [
    {
     "data": {
      "text/plain": [
       "347.55920000000003"
      ]
     },
     "execution_count": 89,
     "metadata": {},
     "output_type": "execute_result"
    }
   ],
   "source": [
    "347559.2/1000"
   ]
  },
  {
   "cell_type": "code",
   "execution_count": null,
   "metadata": {},
   "outputs": [],
   "source": []
  },
  {
   "cell_type": "code",
   "execution_count": null,
   "metadata": {},
   "outputs": [],
   "source": []
  },
  {
   "cell_type": "code",
   "execution_count": null,
   "metadata": {},
   "outputs": [],
   "source": []
  },
  {
   "cell_type": "code",
   "execution_count": null,
   "metadata": {},
   "outputs": [],
   "source": []
  },
  {
   "cell_type": "code",
   "execution_count": 134,
   "metadata": {},
   "outputs": [],
   "source": [
    "from math import radians, cos, sin, asin, sqrt\n",
    "\n",
    "def haversine(lon1, lat1, lon2, lat2):\n",
    "    \"\"\"\n",
    "    Calculate the great circle distance in kilometers between two points \n",
    "    on the earth (specified in decimal degrees)\n",
    "    \"\"\"\n",
    "    # convert decimal degrees to radians \n",
    "    lon1, lat1, lon2, lat2 = map(radians, [lon1, lat1, lon2, lat2])\n",
    "\n",
    "    # haversine formula \n",
    "    dlon = lon2 - lon1 \n",
    "    dlat = lat2 - lat1 \n",
    "    a = sin(dlat/2)**2 + cos(lat1) * cos(lat2) * sin(dlon/2)**2\n",
    "    c = 2 * asin(sqrt(a)) \n",
    "    r = 6371 # Radius of earth in kilometers. Use 3956 for miles. Determines return value units.\n",
    "    return c * r"
   ]
  },
  {
   "cell_type": "code",
   "execution_count": 366,
   "metadata": {},
   "outputs": [
    {
     "data": {
      "text/plain": [
       "279.01386852266046"
      ]
     },
     "execution_count": 366,
     "metadata": {},
     "output_type": "execute_result"
    }
   ],
   "source": [
    "from haversine import haversine\n",
    "haversine((13.024994,80.028231),(13.070983,77.452922), unit='km')"
   ]
  },
  {
   "cell_type": "code",
   "execution_count": null,
   "metadata": {},
   "outputs": [],
   "source": [
    "13.024994,80.028231 , 13.070983,77.452922"
   ]
  },
  {
   "cell_type": "code",
   "execution_count": 116,
   "metadata": {},
   "outputs": [
    {
     "data": {
      "text/plain": [
       "{'Server': 'Adv-5800',\n",
       " 'version': '202109.19.5222',\n",
       " 'results': {'distances': [[0, 347559.2, 2172373.6]],\n",
       "  'code': 'Ok',\n",
       "  'durations': [[0, 24510.2, 150013.6]]},\n",
       " 'responseCode': 200}"
      ]
     },
     "execution_count": 116,
     "metadata": {},
     "output_type": "execute_result"
    }
   ],
   "source": [
    "url4 = f\"\"\"https://apis.mapmyindia.com/advancedmaps/v1/95846a48eeef5b6c17863d2367c75349/distance_matrix/trucking/80.028231,13.024994;77.452922,13.070983;17ZUL7?rtype=0&region=ind\"\"\"\n",
    "r3 = requests.get(url4)\n",
    "result3= json.loads(r3.content)\n",
    "result3"
   ]
  },
  {
   "cell_type": "code",
   "execution_count": 128,
   "metadata": {},
   "outputs": [
    {
     "data": {
      "text/html": [
       "<div>\n",
       "<style scoped>\n",
       "    .dataframe tbody tr th:only-of-type {\n",
       "        vertical-align: middle;\n",
       "    }\n",
       "\n",
       "    .dataframe tbody tr th {\n",
       "        vertical-align: top;\n",
       "    }\n",
       "\n",
       "    .dataframe thead th {\n",
       "        text-align: right;\n",
       "    }\n",
       "</style>\n",
       "<table border=\"1\" class=\"dataframe\">\n",
       "  <thead>\n",
       "    <tr style=\"text-align: right;\">\n",
       "      <th></th>\n",
       "      <th>Latitude</th>\n",
       "      <th>Longitude</th>\n",
       "      <th>Packet Time</th>\n",
       "      <th>Dealer_lat3</th>\n",
       "      <th>Dealer_long3</th>\n",
       "      <th>Distance</th>\n",
       "    </tr>\n",
       "  </thead>\n",
       "  <tbody>\n",
       "    <tr>\n",
       "      <th>0</th>\n",
       "      <td>13.029557</td>\n",
       "      <td>80.032257</td>\n",
       "      <td>02-Sep-2021 01:05</td>\n",
       "      <td>15.818516</td>\n",
       "      <td>74.494901</td>\n",
       "      <td>672.06</td>\n",
       "    </tr>\n",
       "  </tbody>\n",
       "</table>\n",
       "</div>"
      ],
      "text/plain": [
       "    Latitude  Longitude        Packet Time  Dealer_lat3  Dealer_long3  \\\n",
       "0  13.029557  80.032257  02-Sep-2021 01:05    15.818516     74.494901   \n",
       "\n",
       "   Distance  \n",
       "0    672.06  "
      ]
     },
     "execution_count": 128,
     "metadata": {},
     "output_type": "execute_result"
    }
   ],
   "source": [
    "df3[0:1]"
   ]
  },
  {
   "cell_type": "code",
   "execution_count": 99,
   "metadata": {},
   "outputs": [
    {
     "data": {
      "text/html": [
       "<div>\n",
       "<style scoped>\n",
       "    .dataframe tbody tr th:only-of-type {\n",
       "        vertical-align: middle;\n",
       "    }\n",
       "\n",
       "    .dataframe tbody tr th {\n",
       "        vertical-align: top;\n",
       "    }\n",
       "\n",
       "    .dataframe thead th {\n",
       "        text-align: right;\n",
       "    }\n",
       "</style>\n",
       "<table border=\"1\" class=\"dataframe\">\n",
       "  <thead>\n",
       "    <tr style=\"text-align: right;\">\n",
       "      <th></th>\n",
       "      <th>Latitude</th>\n",
       "      <th>Longitude</th>\n",
       "      <th>Packet Time</th>\n",
       "      <th>Dealer_lat3</th>\n",
       "      <th>Dealer_long3</th>\n",
       "      <th>Distance</th>\n",
       "    </tr>\n",
       "  </thead>\n",
       "  <tbody>\n",
       "    <tr>\n",
       "      <th>390</th>\n",
       "      <td>15.841252</td>\n",
       "      <td>74.541702</td>\n",
       "      <td>03-Sep-2021 10:30</td>\n",
       "      <td>15.818516</td>\n",
       "      <td>74.494901</td>\n",
       "      <td>5.61</td>\n",
       "    </tr>\n",
       "    <tr>\n",
       "      <th>391</th>\n",
       "      <td>15.841319</td>\n",
       "      <td>74.541664</td>\n",
       "      <td>03-Sep-2021 10:35</td>\n",
       "      <td>15.818516</td>\n",
       "      <td>74.494901</td>\n",
       "      <td>5.61</td>\n",
       "    </tr>\n",
       "    <tr>\n",
       "      <th>392</th>\n",
       "      <td>15.841319</td>\n",
       "      <td>74.541664</td>\n",
       "      <td>03-Sep-2021 10:40</td>\n",
       "      <td>15.818516</td>\n",
       "      <td>74.494901</td>\n",
       "      <td>5.61</td>\n",
       "    </tr>\n",
       "    <tr>\n",
       "      <th>393</th>\n",
       "      <td>15.841319</td>\n",
       "      <td>74.541664</td>\n",
       "      <td>03-Sep-2021 10:45</td>\n",
       "      <td>15.818516</td>\n",
       "      <td>74.494901</td>\n",
       "      <td>5.61</td>\n",
       "    </tr>\n",
       "    <tr>\n",
       "      <th>394</th>\n",
       "      <td>15.841319</td>\n",
       "      <td>74.541664</td>\n",
       "      <td>03-Sep-2021 10:51</td>\n",
       "      <td>15.818516</td>\n",
       "      <td>74.494901</td>\n",
       "      <td>5.61</td>\n",
       "    </tr>\n",
       "    <tr>\n",
       "      <th>...</th>\n",
       "      <td>...</td>\n",
       "      <td>...</td>\n",
       "      <td>...</td>\n",
       "      <td>...</td>\n",
       "      <td>...</td>\n",
       "      <td>...</td>\n",
       "    </tr>\n",
       "    <tr>\n",
       "      <th>450</th>\n",
       "      <td>15.841319</td>\n",
       "      <td>74.541664</td>\n",
       "      <td>03-Sep-2021 15:36</td>\n",
       "      <td>15.818516</td>\n",
       "      <td>74.494901</td>\n",
       "      <td>5.61</td>\n",
       "    </tr>\n",
       "    <tr>\n",
       "      <th>451</th>\n",
       "      <td>15.841319</td>\n",
       "      <td>74.541664</td>\n",
       "      <td>03-Sep-2021 15:41</td>\n",
       "      <td>15.818516</td>\n",
       "      <td>74.494901</td>\n",
       "      <td>5.61</td>\n",
       "    </tr>\n",
       "    <tr>\n",
       "      <th>452</th>\n",
       "      <td>15.841319</td>\n",
       "      <td>74.541664</td>\n",
       "      <td>03-Sep-2021 15:46</td>\n",
       "      <td>15.818516</td>\n",
       "      <td>74.494901</td>\n",
       "      <td>5.61</td>\n",
       "    </tr>\n",
       "    <tr>\n",
       "      <th>453</th>\n",
       "      <td>15.841319</td>\n",
       "      <td>74.541664</td>\n",
       "      <td>03-Sep-2021 15:51</td>\n",
       "      <td>15.818516</td>\n",
       "      <td>74.494901</td>\n",
       "      <td>5.61</td>\n",
       "    </tr>\n",
       "    <tr>\n",
       "      <th>454</th>\n",
       "      <td>15.841319</td>\n",
       "      <td>74.541664</td>\n",
       "      <td>03-Sep-2021 15:56</td>\n",
       "      <td>15.818516</td>\n",
       "      <td>74.494901</td>\n",
       "      <td>5.61</td>\n",
       "    </tr>\n",
       "  </tbody>\n",
       "</table>\n",
       "<p>65 rows × 6 columns</p>\n",
       "</div>"
      ],
      "text/plain": [
       "      Latitude  Longitude        Packet Time  Dealer_lat3  Dealer_long3  \\\n",
       "390  15.841252  74.541702  03-Sep-2021 10:30    15.818516     74.494901   \n",
       "391  15.841319  74.541664  03-Sep-2021 10:35    15.818516     74.494901   \n",
       "392  15.841319  74.541664  03-Sep-2021 10:40    15.818516     74.494901   \n",
       "393  15.841319  74.541664  03-Sep-2021 10:45    15.818516     74.494901   \n",
       "394  15.841319  74.541664  03-Sep-2021 10:51    15.818516     74.494901   \n",
       "..         ...        ...                ...          ...           ...   \n",
       "450  15.841319  74.541664  03-Sep-2021 15:36    15.818516     74.494901   \n",
       "451  15.841319  74.541664  03-Sep-2021 15:41    15.818516     74.494901   \n",
       "452  15.841319  74.541664  03-Sep-2021 15:46    15.818516     74.494901   \n",
       "453  15.841319  74.541664  03-Sep-2021 15:51    15.818516     74.494901   \n",
       "454  15.841319  74.541664  03-Sep-2021 15:56    15.818516     74.494901   \n",
       "\n",
       "     Distance  \n",
       "390      5.61  \n",
       "391      5.61  \n",
       "392      5.61  \n",
       "393      5.61  \n",
       "394      5.61  \n",
       "..        ...  \n",
       "450      5.61  \n",
       "451      5.61  \n",
       "452      5.61  \n",
       "453      5.61  \n",
       "454      5.61  \n",
       "\n",
       "[65 rows x 6 columns]"
      ]
     },
     "execution_count": 99,
     "metadata": {},
     "output_type": "execute_result"
    }
   ],
   "source": [
    "df3.iloc[np.where(df3['Distance']==df3['Distance'].min())]"
   ]
  },
  {
   "cell_type": "code",
   "execution_count": 101,
   "metadata": {},
   "outputs": [
    {
     "data": {
      "text/plain": [
       "{'Server': 'Adv-5800',\n",
       " 'version': '202109.19.5222',\n",
       " 'results': {'distances': [[0, 835135.1, 2171237]],\n",
       "  'code': 'Ok',\n",
       "  'durations': [[0, 59475.8, 149792.5]]},\n",
       " 'responseCode': 200}"
      ]
     },
     "execution_count": 101,
     "metadata": {},
     "output_type": "execute_result"
    }
   ],
   "source": [
    "url4 = f\"\"\"https://apis.mapmyindia.com/advancedmaps/v1/95846a48eeef5b6c17863d2367c75349/distance_matrix/trucking/80.032257,13.029557;74.494901,15.818516;17ZUL7?rtype=1&region=ind\"\"\"\n",
    "r3 = requests.get(url4)\n",
    "result3= json.loads(r3.content)\n",
    "result3"
   ]
  },
  {
   "cell_type": "code",
   "execution_count": 102,
   "metadata": {},
   "outputs": [
    {
     "data": {
      "text/plain": [
       "835.1351"
      ]
     },
     "execution_count": 102,
     "metadata": {},
     "output_type": "execute_result"
    }
   ],
   "source": [
    "835135.1/1000"
   ]
  },
  {
   "cell_type": "code",
   "execution_count": 113,
   "metadata": {},
   "outputs": [
    {
     "data": {
      "text/plain": [
       "{'Server': 'Adv-5800',\n",
       " 'version': '202109.19.5222',\n",
       " 'results': {'distances': [[0, 835135.1, 2171237]],\n",
       "  'code': 'Ok',\n",
       "  'durations': [[0, 59475.8, 149792.5]]},\n",
       " 'responseCode': 200}"
      ]
     },
     "execution_count": 113,
     "metadata": {},
     "output_type": "execute_result"
    }
   ],
   "source": [
    "url5 = f\"\"\"https://apis.mapmyindia.com/advancedmaps/v1/95846a48eeef5b6c17863d2367c75349/distance_matrix/trucking/80.032257,13.029557;74.494901,15.818516;17ZUL7?rtype=1&region=ind\"\"\"\n",
    "r3 = requests.get(url5)\n",
    "result3= json.loads(r3.content)\n",
    "result3"
   ]
  },
  {
   "cell_type": "code",
   "execution_count": 108,
   "metadata": {},
   "outputs": [
    {
     "data": {
      "text/plain": [
       "672.062209304293"
      ]
     },
     "execution_count": 108,
     "metadata": {},
     "output_type": "execute_result"
    }
   ],
   "source": [
    "from haversine import haversine\n",
    "haversine((13.029557,80.032257),(15.818516,74.494901), unit='km')\n",
    "\n"
   ]
  },
  {
   "cell_type": "code",
   "execution_count": 109,
   "metadata": {},
   "outputs": [
    {
     "data": {
      "text/plain": [
       "835.135"
      ]
     },
     "execution_count": 109,
     "metadata": {},
     "output_type": "execute_result"
    }
   ],
   "source": [
    "835135/1000"
   ]
  },
  {
   "cell_type": "markdown",
   "metadata": {},
   "source": [
    "# straight line "
   ]
  },
  {
   "cell_type": "code",
   "execution_count": 411,
   "metadata": {},
   "outputs": [
    {
     "name": "stdout",
     "output_type": "stream",
     "text": [
      "12.216011193065361\n",
      "0.4741380808283665\n",
      "5.608771108545808\n"
     ]
    }
   ],
   "source": [
    "# dt1\n",
    "print(haversine((28.039583,73.430438),(27.99536,73.31652), unit='km'))\n",
    "# dt2\n",
    "print(haversine((13.066884,77.451716),(13.070983,77.452922), unit='km'))\n",
    "# dt3\n",
    "print(haversine((15.841252,74.541702),(15.818516,74.494901), unit='km'))\n",
    "\n",
    "\n",
    "\n"
   ]
  },
  {
   "cell_type": "code",
   "execution_count": 412,
   "metadata": {},
   "outputs": [
    {
     "data": {
      "text/plain": [
       "12.22"
      ]
     },
     "execution_count": 412,
     "metadata": {},
     "output_type": "execute_result"
    }
   ],
   "source": [
    "df.Distance.min()"
   ]
  },
  {
   "cell_type": "code",
   "execution_count": 298,
   "metadata": {},
   "outputs": [],
   "source": [
    "#df.to_excel(\"GJ12BV2880.xlsx\")\n"
   ]
  },
  {
   "cell_type": "code",
   "execution_count": 299,
   "metadata": {},
   "outputs": [],
   "source": [
    "#df2.to_excel(\"NL01AA7753.xlsx\")"
   ]
  },
  {
   "cell_type": "code",
   "execution_count": 300,
   "metadata": {},
   "outputs": [],
   "source": [
    "#df3.to_excel(\"NL01AB9978.xlsx\")"
   ]
  },
  {
   "cell_type": "code",
   "execution_count": 288,
   "metadata": {},
   "outputs": [],
   "source": [
    "#df['Status'] = np.where(df['Distance']!= df['Distance'].min(), 'In-transit', 'Completed')\n",
    "\n"
   ]
  },
  {
   "cell_type": "code",
   "execution_count": 291,
   "metadata": {},
   "outputs": [],
   "source": [
    "#df3['Status'] = np.where(df3['Distance']!= df3['Distance'].min(), 'In-transit', 'Completed')"
   ]
  },
  {
   "cell_type": "code",
   "execution_count": 1048,
   "metadata": {},
   "outputs": [],
   "source": [
    "#df3.iloc[np.where(df3['Distance']==df3['Distance'].min())]"
   ]
  },
  {
   "cell_type": "code",
   "execution_count": 1050,
   "metadata": {},
   "outputs": [],
   "source": [
    "#df2[0:1]\n"
   ]
  },
  {
   "cell_type": "code",
   "execution_count": 1049,
   "metadata": {},
   "outputs": [],
   "source": [
    "#df2.iloc[np.where(df2['Distance']==df2['Distance'].min())]"
   ]
  },
  {
   "cell_type": "code",
   "execution_count": 1051,
   "metadata": {},
   "outputs": [],
   "source": [
    "#df3[0:1]\n"
   ]
  },
  {
   "cell_type": "code",
   "execution_count": 1052,
   "metadata": {},
   "outputs": [],
   "source": [
    "#df3.iloc[np.where(df3['Distance']==df3['Distance'].min())]"
   ]
  },
  {
   "cell_type": "markdown",
   "metadata": {},
   "source": [
    "# map my india api "
   ]
  },
  {
   "cell_type": "code",
   "execution_count": 301,
   "metadata": {},
   "outputs": [
    {
     "data": {
      "text/html": [
       "<div>\n",
       "<style scoped>\n",
       "    .dataframe tbody tr th:only-of-type {\n",
       "        vertical-align: middle;\n",
       "    }\n",
       "\n",
       "    .dataframe tbody tr th {\n",
       "        vertical-align: top;\n",
       "    }\n",
       "\n",
       "    .dataframe thead th {\n",
       "        text-align: right;\n",
       "    }\n",
       "</style>\n",
       "<table border=\"1\" class=\"dataframe\">\n",
       "  <thead>\n",
       "    <tr style=\"text-align: right;\">\n",
       "      <th></th>\n",
       "      <th>Lat,Lngt</th>\n",
       "      <th>Period</th>\n",
       "      <th>lat</th>\n",
       "      <th>long</th>\n",
       "      <th>dealer_lat</th>\n",
       "      <th>dealer_long</th>\n",
       "      <th>Distance</th>\n",
       "      <th>Status</th>\n",
       "    </tr>\n",
       "  </thead>\n",
       "  <tbody>\n",
       "    <tr>\n",
       "      <th>0</th>\n",
       "      <td>13.003621,79.990784</td>\n",
       "      <td>16/10 10:10 : 16/10 10:15</td>\n",
       "      <td>13.003621</td>\n",
       "      <td>79.990784</td>\n",
       "      <td>27.99536</td>\n",
       "      <td>73.31652</td>\n",
       "      <td>1805.03</td>\n",
       "      <td>In-transit</td>\n",
       "    </tr>\n",
       "  </tbody>\n",
       "</table>\n",
       "</div>"
      ],
      "text/plain": [
       "              Lat,Lngt                     Period        lat       long  \\\n",
       "0  13.003621,79.990784  16/10 10:10 : 16/10 10:15  13.003621  79.990784   \n",
       "\n",
       "   dealer_lat  dealer_long  Distance      Status  \n",
       "0    27.99536     73.31652   1805.03  In-transit  "
      ]
     },
     "execution_count": 301,
     "metadata": {},
     "output_type": "execute_result"
    }
   ],
   "source": [
    "df[0:1]\n",
    "# origin lat/long\n",
    "13.003621,79.990784\n",
    "#/origin long / lat\n",
    "79.990784,13.003621\n",
    "\n",
    "# dealer\n",
    "27.99536,73.31652\n",
    "73.31652,27.99536\n"
   ]
  },
  {
   "cell_type": "code",
   "execution_count": 302,
   "metadata": {
    "scrolled": true
   },
   "outputs": [
    {
     "data": {
      "text/html": [
       "<div>\n",
       "<style scoped>\n",
       "    .dataframe tbody tr th:only-of-type {\n",
       "        vertical-align: middle;\n",
       "    }\n",
       "\n",
       "    .dataframe tbody tr th {\n",
       "        vertical-align: top;\n",
       "    }\n",
       "\n",
       "    .dataframe thead th {\n",
       "        text-align: right;\n",
       "    }\n",
       "</style>\n",
       "<table border=\"1\" class=\"dataframe\">\n",
       "  <thead>\n",
       "    <tr style=\"text-align: right;\">\n",
       "      <th></th>\n",
       "      <th>Lat,Lngt</th>\n",
       "      <th>Period</th>\n",
       "      <th>lat</th>\n",
       "      <th>long</th>\n",
       "      <th>dealer_lat</th>\n",
       "      <th>dealer_long</th>\n",
       "      <th>Distance</th>\n",
       "      <th>Status</th>\n",
       "    </tr>\n",
       "  </thead>\n",
       "  <tbody>\n",
       "    <tr>\n",
       "      <th>1442</th>\n",
       "      <td>28.039583,73.430438</td>\n",
       "      <td>21/10 11:25 : 21/10 11:30</td>\n",
       "      <td>28.039583</td>\n",
       "      <td>73.430438</td>\n",
       "      <td>27.99536</td>\n",
       "      <td>73.31652</td>\n",
       "      <td>12.22</td>\n",
       "      <td>Completed</td>\n",
       "    </tr>\n",
       "    <tr>\n",
       "      <th>1443</th>\n",
       "      <td>28.039583,73.430438</td>\n",
       "      <td>21/10 11:30 : 21/10 11:35</td>\n",
       "      <td>28.039583</td>\n",
       "      <td>73.430438</td>\n",
       "      <td>27.99536</td>\n",
       "      <td>73.31652</td>\n",
       "      <td>12.22</td>\n",
       "      <td>Completed</td>\n",
       "    </tr>\n",
       "    <tr>\n",
       "      <th>1444</th>\n",
       "      <td>28.039583,73.430438</td>\n",
       "      <td>21/10 11:35 : 21/10 11:40</td>\n",
       "      <td>28.039583</td>\n",
       "      <td>73.430438</td>\n",
       "      <td>27.99536</td>\n",
       "      <td>73.31652</td>\n",
       "      <td>12.22</td>\n",
       "      <td>Completed</td>\n",
       "    </tr>\n",
       "    <tr>\n",
       "      <th>1445</th>\n",
       "      <td>28.039583,73.430438</td>\n",
       "      <td>21/10 11:40 : 21/10 11:45</td>\n",
       "      <td>28.039583</td>\n",
       "      <td>73.430438</td>\n",
       "      <td>27.99536</td>\n",
       "      <td>73.31652</td>\n",
       "      <td>12.22</td>\n",
       "      <td>Completed</td>\n",
       "    </tr>\n",
       "    <tr>\n",
       "      <th>1446</th>\n",
       "      <td>28.039583,73.430438</td>\n",
       "      <td>21/10 11:45 : 21/10 11:50</td>\n",
       "      <td>28.039583</td>\n",
       "      <td>73.430438</td>\n",
       "      <td>27.99536</td>\n",
       "      <td>73.31652</td>\n",
       "      <td>12.22</td>\n",
       "      <td>Completed</td>\n",
       "    </tr>\n",
       "    <tr>\n",
       "      <th>1447</th>\n",
       "      <td>28.039583,73.430438</td>\n",
       "      <td>21/10 11:50 : 21/10 11:55</td>\n",
       "      <td>28.039583</td>\n",
       "      <td>73.430438</td>\n",
       "      <td>27.99536</td>\n",
       "      <td>73.31652</td>\n",
       "      <td>12.22</td>\n",
       "      <td>Completed</td>\n",
       "    </tr>\n",
       "    <tr>\n",
       "      <th>1448</th>\n",
       "      <td>28.039583,73.430438</td>\n",
       "      <td>21/10 11:55 : 21/10 11:57</td>\n",
       "      <td>28.039583</td>\n",
       "      <td>73.430438</td>\n",
       "      <td>27.99536</td>\n",
       "      <td>73.31652</td>\n",
       "      <td>12.22</td>\n",
       "      <td>Completed</td>\n",
       "    </tr>\n",
       "  </tbody>\n",
       "</table>\n",
       "</div>"
      ],
      "text/plain": [
       "                 Lat,Lngt                     Period        lat       long  \\\n",
       "1442  28.039583,73.430438  21/10 11:25 : 21/10 11:30  28.039583  73.430438   \n",
       "1443  28.039583,73.430438  21/10 11:30 : 21/10 11:35  28.039583  73.430438   \n",
       "1444  28.039583,73.430438  21/10 11:35 : 21/10 11:40  28.039583  73.430438   \n",
       "1445  28.039583,73.430438  21/10 11:40 : 21/10 11:45  28.039583  73.430438   \n",
       "1446  28.039583,73.430438  21/10 11:45 : 21/10 11:50  28.039583  73.430438   \n",
       "1447  28.039583,73.430438  21/10 11:50 : 21/10 11:55  28.039583  73.430438   \n",
       "1448  28.039583,73.430438  21/10 11:55 : 21/10 11:57  28.039583  73.430438   \n",
       "\n",
       "      dealer_lat  dealer_long  Distance     Status  \n",
       "1442    27.99536     73.31652     12.22  Completed  \n",
       "1443    27.99536     73.31652     12.22  Completed  \n",
       "1444    27.99536     73.31652     12.22  Completed  \n",
       "1445    27.99536     73.31652     12.22  Completed  \n",
       "1446    27.99536     73.31652     12.22  Completed  \n",
       "1447    27.99536     73.31652     12.22  Completed  \n",
       "1448    27.99536     73.31652     12.22  Completed  "
      ]
     },
     "execution_count": 302,
     "metadata": {},
     "output_type": "execute_result"
    }
   ],
   "source": [
    "df.iloc[np.where(df['Distance']==df['Distance'].min())]"
   ]
  },
  {
   "cell_type": "code",
   "execution_count": 130,
   "metadata": {},
   "outputs": [
    {
     "data": {
      "text/plain": [
       "{'Server': 'Adv-5800',\n",
       " 'version': '202109.19.5222',\n",
       " 'results': {'distances': [[0, 2503300.4, 2176142.4]],\n",
       "  'code': 'Ok',\n",
       "  'durations': [[0, 176809.3, 150276.7]]},\n",
       " 'responseCode': 200}"
      ]
     },
     "execution_count": 130,
     "metadata": {},
     "output_type": "execute_result"
    }
   ],
   "source": [
    "#df1 \n",
    "\n",
    "url_one = f\"\"\"https://apis.mapmyindia.com/advancedmaps/v1/95846a48eeef5b6c17863d2367c75349/distance_matrix/trucking/79.990784,13.003621;73.31652,27.99536;17ZUL7?rtype=1&region=ind\"\"\"\n",
    "r3 = requests.get(url_one)\n",
    "result3= json.loads(r3.content)\n",
    "result3"
   ]
  },
  {
   "cell_type": "code",
   "execution_count": null,
   "metadata": {},
   "outputs": [],
   "source": []
  },
  {
   "cell_type": "code",
   "execution_count": 252,
   "metadata": {},
   "outputs": [
    {
     "data": {
      "text/plain": [
       "{'Server': 'Adv-5800',\n",
       " 'version': '202109.19.5222',\n",
       " 'results': {'distances': [[0, 347559.2, 2172373.6]],\n",
       "  'code': 'Ok',\n",
       "  'durations': [[0, 24510.2, 150013.6]]},\n",
       " 'responseCode': 200}"
      ]
     },
     "execution_count": 252,
     "metadata": {},
     "output_type": "execute_result"
    }
   ],
   "source": [
    "#df2\n",
    "url_two = f\"\"\"https://apis.mapmyindia.com/advancedmaps/v1/95846a48eeef5b6c17863d2367c75349/distance_matrix/trucking/80.028231,13.024994;77.452922,13.070983;17ZUL7?rtype=1&region=ind\"\"\"\n",
    "#url_two = f\"\"\"https://apis.mapmyindia.com/advancedmaps/v1/95846a48eeef5b6c17863d2367c75349/distance_matrix/trucking/77.451716,13.066884;77.452922,13.070983;17ZUL7?rtype=1&region=ind\"\"\"\n",
    "r3 = requests.get(url_two)\n",
    "result3= json.loads(r3.content)\n",
    "result3\n",
    "\n"
   ]
  },
  {
   "cell_type": "code",
   "execution_count": 132,
   "metadata": {},
   "outputs": [
    {
     "data": {
      "text/plain": [
       "{'Server': 'Adv-5800',\n",
       " 'version': '202109.19.5222',\n",
       " 'results': {'distances': [[0, 835135.1, 2171237]],\n",
       "  'code': 'Ok',\n",
       "  'durations': [[0, 59475.8, 149792.5]]},\n",
       " 'responseCode': 200}"
      ]
     },
     "execution_count": 132,
     "metadata": {},
     "output_type": "execute_result"
    }
   ],
   "source": [
    "#df3\n",
    "url_three = f\"\"\"https://apis.mapmyindia.com/advancedmaps/v1/95846a48eeef5b6c17863d2367c75349/distance_matrix/trucking/80.032257,13.029557;74.494901,15.818516;17ZUL7?rtype=1&region=ind\"\"\"\n",
    "r3 = requests.get(url_three)\n",
    "result3= json.loads(r3.content)\n",
    "result3"
   ]
  },
  {
   "cell_type": "code",
   "execution_count": 886,
   "metadata": {},
   "outputs": [],
   "source": [
    "#df_filtred"
   ]
  },
  {
   "cell_type": "code",
   "execution_count": 312,
   "metadata": {},
   "outputs": [],
   "source": [
    "#df_filtred.to_excel(\"df_filtered.xlsx\")"
   ]
  },
  {
   "cell_type": "code",
   "execution_count": 378,
   "metadata": {},
   "outputs": [
    {
     "data": {
      "text/plain": [
       "{'Server': 'Adv-5800',\n",
       " 'version': '202109.19.5222',\n",
       " 'results': {'distances': [[0, 0.5, 2172373.6]],\n",
       "  'code': 'Ok',\n",
       "  'durations': [[0, 0.3, 150013.6]]},\n",
       " 'responseCode': 200}"
      ]
     },
     "execution_count": 378,
     "metadata": {},
     "output_type": "execute_result"
    }
   ],
   "source": [
    "# 130 - 140\n",
    "url_three = f\"\"\"https://apis.mapmyindia.com/advancedmaps/v1/95846a48eeef5b6c17863d2367c75349/distance_matrix/trucking/80.028231,13.024994;80.028187,13.024907;17ZUL7?rtype=1&region=ind\"\"\"\n",
    "r3 = requests.get(url_three)\n",
    "result3= json.loads(r3.content)\n",
    "result3"
   ]
  },
  {
   "cell_type": "code",
   "execution_count": 379,
   "metadata": {},
   "outputs": [
    {
     "data": {
      "text/plain": [
       "{'Server': 'Adv-5800',\n",
       " 'version': '202109.19.5222',\n",
       " 'results': {'distances': [[0, 0.1, 2172373]],\n",
       "  'code': 'Ok',\n",
       "  'durations': [[0, 0.1, 150013.3]]},\n",
       " 'responseCode': 200}"
      ]
     },
     "execution_count": 379,
     "metadata": {},
     "output_type": "execute_result"
    }
   ],
   "source": [
    "#df3 #140\n",
    "url_three = f\"\"\"https://apis.mapmyindia.com/advancedmaps/v1/95846a48eeef5b6c17863d2367c75349/distance_matrix/trucking/80.028187,13.024907;80.028222,13.024988;17ZUL7?rtype=1&region=ind\"\"\"\n",
    "r3 = requests.get(url_three)\n",
    "result3= json.loads(r3.content)\n",
    "result3\n",
    "\n",
    "\n"
   ]
  },
  {
   "cell_type": "code",
   "execution_count": 318,
   "metadata": {},
   "outputs": [
    {
     "data": {
      "text/plain": [
       "0.5"
      ]
     },
     "execution_count": 318,
     "metadata": {},
     "output_type": "execute_result"
    }
   ],
   "source": [
    "347559.2 - 347558.7"
   ]
  },
  {
   "cell_type": "code",
   "execution_count": 380,
   "metadata": {},
   "outputs": [
    {
     "data": {
      "text/plain": [
       "{'Server': 'Adv-5800',\n",
       " 'version': '202109.19.5222',\n",
       " 'results': {'distances': [[0, 16.5, 2172372.8]],\n",
       "  'code': 'Ok',\n",
       "  'durations': [[0, 11.9, 150013.2]]},\n",
       " 'responseCode': 200}"
      ]
     },
     "execution_count": 380,
     "metadata": {},
     "output_type": "execute_result"
    }
   ],
   "source": [
    "# 160 -170\n",
    "\n",
    "13.024988,80.028222\n",
    "\n",
    "url_three = f\"\"\"https://apis.mapmyindia.com/advancedmaps/v1/95846a48eeef5b6c17863d2367c75349/distance_matrix/trucking/80.028222,13.024988;80.028267,13.024806;17ZUL7?rtype=1&region=ind\"\"\"\n",
    "r3 = requests.get(url_three)\n",
    "result3= json.loads(r3.content)\n",
    "result3"
   ]
  },
  {
   "cell_type": "code",
   "execution_count": 335,
   "metadata": {},
   "outputs": [
    {
     "data": {
      "text/plain": [
       "{'Server': 'Adv-5800',\n",
       " 'version': '202109.19.5222',\n",
       " 'results': {'distances': [[0, 347575.1, 2172389.2]],\n",
       "  'code': 'Ok',\n",
       "  'durations': [[0, 24521.7, 150025.1]]},\n",
       " 'responseCode': 200}"
      ]
     },
     "execution_count": 335,
     "metadata": {},
     "output_type": "execute_result"
    }
   ],
   "source": [
    "#170\n",
    "url_three = f\"\"\"https://apis.mapmyindia.com/advancedmaps/v1/95846a48eeef5b6c17863d2367c75349/distance_matrix/trucking/80.028267,13.024806;77.452922,13.070983;17ZUL7?rtype=1&region=ind\"\"\"\n",
    "r3 = requests.get(url_three)\n",
    "result3= json.loads(r3.content)\n",
    "result3\n",
    "\n",
    "\n",
    "#13.024806,80.028267\n",
    "#13.024806,80.028267"
   ]
  },
  {
   "cell_type": "code",
   "execution_count": 336,
   "metadata": {},
   "outputs": [
    {
     "data": {
      "text/plain": [
       "16.5"
      ]
     },
     "execution_count": 336,
     "metadata": {},
     "output_type": "execute_result"
    }
   ],
   "source": [
    "347575.1 - 347558.6"
   ]
  },
  {
   "cell_type": "code",
   "execution_count": 381,
   "metadata": {},
   "outputs": [
    {
     "data": {
      "text/plain": [
       "{'Server': 'Adv-5800',\n",
       " 'version': '202109.19.5222',\n",
       " 'results': {'distances': [[0, 8.8, 2172389.2]],\n",
       "  'code': 'Ok',\n",
       "  'durations': [[0, 6.3, 150025.1]]},\n",
       " 'responseCode': 200}"
      ]
     },
     "execution_count": 381,
     "metadata": {},
     "output_type": "execute_result"
    }
   ],
   "source": [
    "# 180 - 190\n",
    "\n",
    "\n",
    "url_three = f\"\"\"https://apis.mapmyindia.com/advancedmaps/v1/95846a48eeef5b6c17863d2367c75349/distance_matrix/trucking/80.028267,13.024806;80.028302,13.024992;17ZUL7?rtype=1&region=ind\"\"\"\n",
    "r3 = requests.get(url_three)\n",
    "result3= json.loads(r3.content)\n",
    "result3"
   ]
  },
  {
   "cell_type": "code",
   "execution_count": 383,
   "metadata": {},
   "outputs": [
    {
     "data": {
      "text/plain": [
       "{'Server': 'Adv-5800',\n",
       " 'version': '202109.19.5222',\n",
       " 'results': {'distances': [[0, 7948.1, 2172380.4]],\n",
       "  'code': 'Ok',\n",
       "  'durations': [[0, 1111.4, 150018.8]]},\n",
       " 'responseCode': 200}"
      ]
     },
     "execution_count": 383,
     "metadata": {},
     "output_type": "execute_result"
    }
   ],
   "source": [
    "# 210 - 220 \n",
    "url_three = f\"\"\"https://apis.mapmyindia.com/advancedmaps/v1/95846a48eeef5b6c17863d2367c75349/distance_matrix/trucking/80.028302,13.024992;80.013813,12.993982;17ZUL7?rtype=1&region=ind\"\"\"\n",
    "r3 = requests.get(url_three)\n",
    "result3= json.loads(r3.content)\n",
    "result3\n",
    "\n"
   ]
  },
  {
   "cell_type": "code",
   "execution_count": 385,
   "metadata": {},
   "outputs": [
    {
     "data": {
      "text/plain": [
       "{'Server': 'Adv-5800',\n",
       " 'version': '202109.19.5222',\n",
       " 'results': {'distances': [[0, 128.8, 2178912]],\n",
       "  'code': 'Ok',\n",
       "  'durations': [[0, 72.2, 150690.5]]},\n",
       " 'responseCode': 200}"
      ]
     },
     "execution_count": 385,
     "metadata": {},
     "output_type": "execute_result"
    }
   ],
   "source": [
    "# 220 -230 \n",
    "\n",
    "12.994271,80.012587\n",
    "\n",
    "\n",
    "url_three = f\"\"\"https://apis.mapmyindia.com/advancedmaps/v1/95846a48eeef5b6c17863d2367c75349/distance_matrix/trucking/80.013813,12.993982;80.012587,12.994271;17ZUL7?rtype=1&region=ind\"\"\"\n",
    "r3 = requests.get(url_three)\n",
    "result3= json.loads(r3.content)\n",
    "result3"
   ]
  },
  {
   "cell_type": "code",
   "execution_count": null,
   "metadata": {},
   "outputs": [],
   "source": []
  },
  {
   "cell_type": "code",
   "execution_count": 386,
   "metadata": {},
   "outputs": [
    {
     "data": {
      "text/plain": [
       "{'Server': 'Adv-5800',\n",
       " 'version': '202109.19.5222',\n",
       " 'results': {'distances': [[0, 2079.8, 2179040.8]],\n",
       "  'code': 'Ok',\n",
       "  'durations': [[0, 450, 150771.5]]},\n",
       " 'responseCode': 200}"
      ]
     },
     "execution_count": 386,
     "metadata": {},
     "output_type": "execute_result"
    }
   ],
   "source": [
    "# 240 - 250\n",
    "# 12.994271,80.012587\n",
    "url_three = f\"\"\"https://apis.mapmyindia.com/advancedmaps/v1/95846a48eeef5b6c17863d2367c75349/distance_matrix/trucking/80.012587,12.994271;80.004533,13.000769;17ZUL7?rtype=1&region=ind\"\"\"\n",
    "r3 = requests.get(url_three)\n",
    "result3= json.loads(r3.content)\n",
    "result3"
   ]
  },
  {
   "cell_type": "code",
   "execution_count": 387,
   "metadata": {},
   "outputs": [
    {
     "data": {
      "text/plain": [
       "{'Server': 'Adv-5800',\n",
       " 'version': '202109.19.5222',\n",
       " 'results': {'distances': [[0, 32055.8, 2176961]],\n",
       "  'code': 'Ok',\n",
       "  'durations': [[0, 2443.7, 150321.5]]},\n",
       " 'responseCode': 200}"
      ]
     },
     "execution_count": 387,
     "metadata": {},
     "output_type": "execute_result"
    }
   ],
   "source": [
    "# 250 \n",
    "#13.000769,80.004533\n",
    "\n",
    "url_three = f\"\"\"https://apis.mapmyindia.com/advancedmaps/v1/95846a48eeef5b6c17863d2367c75349/distance_matrix/trucking/80.004533,13.000769;79.757084,12.874628;17ZUL7?rtype=1&region=ind\"\"\"\n",
    "r3 = requests.get(url_three)\n",
    "result3= json.loads(r3.content)\n",
    "result3"
   ]
  },
  {
   "cell_type": "code",
   "execution_count": 389,
   "metadata": {},
   "outputs": [
    {
     "data": {
      "text/plain": [
       "{'Server': 'Adv-5800',\n",
       " 'version': '202109.19.5222',\n",
       " 'results': {'distances': [[0, 18111.2, 2213859]],\n",
       "  'code': 'Ok',\n",
       "  'durations': [[0, 1305.8, 152860]]},\n",
       " 'responseCode': 200}"
      ]
     },
     "execution_count": 389,
     "metadata": {},
     "output_type": "execute_result"
    }
   ],
   "source": [
    "# 260 - 270 \n",
    "12.874628,79.757084\n",
    "\n",
    "url_three = f\"\"\"https://apis.mapmyindia.com/advancedmaps/v1/95846a48eeef5b6c17863d2367c75349/distance_matrix/trucking/79.757084,12.874628;79.596062,12.886374;17ZUL7?rtype=1&region=ind\"\"\"\n",
    "r3 = requests.get(url_three)\n",
    "result3= json.loads(r3.content)\n",
    "result3"
   ]
  },
  {
   "cell_type": "code",
   "execution_count": 390,
   "metadata": {},
   "outputs": [
    {
     "data": {
      "text/plain": [
       "18.1112"
      ]
     },
     "execution_count": 390,
     "metadata": {},
     "output_type": "execute_result"
    }
   ],
   "source": [
    "18111.2/1000"
   ]
  },
  {
   "cell_type": "code",
   "execution_count": 346,
   "metadata": {},
   "outputs": [
    {
     "data": {
      "text/plain": [
       "{'Server': 'Adv-5800',\n",
       " 'version': '202109.19.5222',\n",
       " 'results': {'distances': [[0, 293941.2, 2226836.8]],\n",
       "  'code': 'Ok',\n",
       "  'durations': [[0, 20508, 153788.6]]},\n",
       " 'responseCode': 200}"
      ]
     },
     "execution_count": 346,
     "metadata": {},
     "output_type": "execute_result"
    }
   ],
   "source": [
    "# 270 \n",
    "#12.886374,79.596062\n",
    "url_three = f\"\"\"https://apis.mapmyindia.com/advancedmaps/v1/95846a48eeef5b6c17863d2367c75349/distance_matrix/trucking/79.596062,12.886374;77.452922,13.070983;17ZUL7?rtype=1&region=ind\"\"\"\n",
    "r3 = requests.get(url_three)\n",
    "result3= json.loads(r3.content)\n",
    "result3"
   ]
  },
  {
   "cell_type": "code",
   "execution_count": 391,
   "metadata": {},
   "outputs": [
    {
     "data": {
      "text/plain": [
       "{'Server': 'Adv-5800',\n",
       " 'version': '202109.19.5222',\n",
       " 'results': {'distances': [[0, 13.5, 2226836.8]],\n",
       "  'code': 'Ok',\n",
       "  'durations': [[0, 1, 153788.6]]},\n",
       " 'responseCode': 200}"
      ]
     },
     "execution_count": 391,
     "metadata": {},
     "output_type": "execute_result"
    }
   ],
   "source": [
    "# 360 - 370 \n",
    "\n",
    "#12.886389,79.59584\n",
    "\n",
    "url_three = f\"\"\"https://apis.mapmyindia.com/advancedmaps/v1/95846a48eeef5b6c17863d2367c75349/distance_matrix/trucking/79.596062,12.886374;79.59584,12.886389;17ZUL7?rtype=1&region=ind\"\"\"\n",
    "r3 = requests.get(url_three)\n",
    "result3= json.loads(r3.content)\n",
    "result3"
   ]
  },
  {
   "cell_type": "code",
   "execution_count": 392,
   "metadata": {},
   "outputs": [
    {
     "data": {
      "text/plain": [
       "{'Server': 'Adv-5800',\n",
       " 'version': '202109.19.5222',\n",
       " 'results': {'distances': [[0, 24912.8, 2226823.2]],\n",
       "  'code': 'Ok',\n",
       "  'durations': [[0, 1792.5, 153787.6]]},\n",
       " 'responseCode': 200}"
      ]
     },
     "execution_count": 392,
     "metadata": {},
     "output_type": "execute_result"
    }
   ],
   "source": [
    "# 370 - 380 \n",
    "# 12.912777,79.375644\n",
    "79.375644,12.912777\n",
    "\n",
    "url_three = f\"\"\"https://apis.mapmyindia.com/advancedmaps/v1/95846a48eeef5b6c17863d2367c75349/distance_matrix/trucking/79.59584,12.886389;79.375644,12.912777;17ZUL7?rtype=1&region=ind\"\"\"\n",
    "r3 = requests.get(url_three)\n",
    "result3= json.loads(r3.content)\n",
    "result3"
   ]
  },
  {
   "cell_type": "code",
   "execution_count": 270,
   "metadata": {},
   "outputs": [
    {
     "data": {
      "text/plain": [
       "{'Server': 'Adv-5800',\n",
       " 'version': '202110.19.5222',\n",
       " 'results': {'distances': [[0, 36312.3, 2208661]],\n",
       "  'code': 'Ok',\n",
       "  'durations': [[0, 2623.4, 149994]]},\n",
       " 'responseCode': 200}"
      ]
     },
     "execution_count": 270,
     "metadata": {},
     "output_type": "execute_result"
    }
   ],
   "source": [
    "# 380-390\n",
    "\n",
    "12.912777,79.375644\n",
    "12.914707,79.06848\n",
    "\n",
    "\n",
    "url_th = f\"\"\"https://apis.mapmyindia.com/advancedmaps/v1/95846a48eeef5b6c17863d2367c75349/distance_matrix/trucking/79.375644,12.912777;79.06848,12.914707;17ZUL7?rtype=1&region=ind\"\"\"\n",
    "r3 = requests.get(url_th)\n",
    "result3= json.loads(r3.content)\n",
    "result3"
   ]
  },
  {
   "cell_type": "code",
   "execution_count": null,
   "metadata": {},
   "outputs": [],
   "source": []
  },
  {
   "cell_type": "code",
   "execution_count": 394,
   "metadata": {},
   "outputs": [
    {
     "data": {
      "text/plain": [
       "{'Server': 'Adv-5800',\n",
       " 'version': '202109.19.5222',\n",
       " 'results': {'distances': [[0, 37530.5, 2177447]],\n",
       "  'code': 'Ok',\n",
       "  'durations': [[0, 2434.1, 153353.6]]},\n",
       " 'responseCode': 200}"
      ]
     },
     "execution_count": 394,
     "metadata": {},
     "output_type": "execute_result"
    }
   ],
   "source": [
    "# 390 -400\n",
    "\n",
    "#12.817623,78.750444\n",
    "\n",
    "\n",
    "url_three = f\"\"\"https://apis.mapmyindia.com/advancedmaps/v1/95846a48eeef5b6c17863d2367c75349/distance_matrix/trucking/79.06848,12.914707;78.750444,12.817623;17ZUL7?rtype=1&region=ind\"\"\"\n",
    "r3 = requests.get(url_three)\n",
    "result3= json.loads(r3.content)\n",
    "result3"
   ]
  },
  {
   "cell_type": "code",
   "execution_count": 273,
   "metadata": {},
   "outputs": [
    {
     "data": {
      "text/plain": [
       "{'Server': 'Adv-5800',\n",
       " 'version': '202110.19.5222',\n",
       " 'results': {'distances': [[0, None, 2256357.2]],\n",
       "  'code': 'Ok',\n",
       "  'durations': [[0, None, 150764.8]]},\n",
       " 'responseCode': 200}"
      ]
     },
     "execution_count": 273,
     "metadata": {},
     "output_type": "execute_result"
    }
   ],
   "source": [
    "import requests\n",
    "import json\n",
    "# 400 - 410 \n",
    "#12.610238,78.553413\n",
    "long1 =78.750444\n",
    "lat1 = 12.817623\n",
    "lat2 = 78.553413\n",
    "long2 = 12.610238\n",
    "U_str = \"https://apis.mapmyindia.com/advancedmaps/v1/95846a48eeef5b6c17863d2367c75349/distance_matrix/trucking/\" + str(long1) + \",\" + str(lat1) + \";\" + str(long2) + \",\" + str(lat2) +\";17ZUL7?rtype=1&region=ind\"\n",
    "#url_three = f\"https://apis.mapmyindia.com/advancedmaps/v1/95846a48eeef5b6c17863d2367c75349/distance_matrix/trucking/{long1},{lat1};{long2},{lat2};17ZUL7?rtype=1&region=ind\"\n",
    "#r3 = requests.get(url_three)\n",
    "r3 = requests.get(U_str)\n",
    "result3= json.loads(r3.content)\n",
    "result3"
   ]
  },
  {
   "cell_type": "code",
   "execution_count": 396,
   "metadata": {},
   "outputs": [
    {
     "data": {
      "text/plain": [
       "{'Server': 'Adv-5800',\n",
       " 'version': '202109.19.5222',\n",
       " 'results': {'distances': [[0, 15296.6, 2253167]],\n",
       "  'code': 'Ok',\n",
       "  'durations': [[0, 978.8, 152712.3]]},\n",
       " 'responseCode': 200}"
      ]
     },
     "execution_count": 396,
     "metadata": {},
     "output_type": "execute_result"
    }
   ],
   "source": [
    "# 410 - 420 \n",
    "\n",
    "12.548514,78.43192\n",
    "\n",
    "url_three = f\"\"\"https://apis.mapmyindia.com/advancedmaps/v1/95846a48eeef5b6c17863d2367c75349/distance_matrix/trucking/78.553413,12.610238;78.43192,12.548514;17ZUL7?rtype=1&region=ind\"\"\"\n",
    "r3 = requests.get(url_three)\n",
    "result3= json.loads(r3.content)\n",
    "result3"
   ]
  },
  {
   "cell_type": "code",
   "execution_count": 397,
   "metadata": {},
   "outputs": [
    {
     "data": {
      "text/plain": [
       "{'Server': 'Adv-5800',\n",
       " 'version': '202109.19.5222',\n",
       " 'results': {'distances': [[0, 31609, 2237870.4]],\n",
       "  'code': 'Ok',\n",
       "  'durations': [[0, 2156.1, 151733.5]]},\n",
       " 'responseCode': 200}"
      ]
     },
     "execution_count": 397,
     "metadata": {},
     "output_type": "execute_result"
    }
   ],
   "source": [
    "# 420 -  430 \n",
    "# 12.549217,78.196462\n",
    "\n",
    "url_three = f\"\"\"https://apis.mapmyindia.com/advancedmaps/v1/95846a48eeef5b6c17863d2367c75349/distance_matrix/trucking/78.43192,12.548514;78.196462,12.549217;17ZUL7?rtype=1&region=ind\"\"\"\n",
    "r3 = requests.get(url_three)\n",
    "result3= json.loads(r3.content)\n",
    "result3"
   ]
  },
  {
   "cell_type": "code",
   "execution_count": 398,
   "metadata": {},
   "outputs": [
    {
     "data": {
      "text/plain": [
       "{'Server': 'Adv-5800',\n",
       " 'version': '202109.19.5222',\n",
       " 'results': {'distances': [[0, 15746.2, 2206261.6]],\n",
       "  'code': 'Ok',\n",
       "  'durations': [[0, 1122.1, 149577.4]]},\n",
       " 'responseCode': 200}"
      ]
     },
     "execution_count": 398,
     "metadata": {},
     "output_type": "execute_result"
    }
   ],
   "source": [
    "# 430 - 440 \n",
    "12.623982,78.080702\n",
    "\n",
    "\n",
    "url_three = f\"\"\"https://apis.mapmyindia.com/advancedmaps/v1/95846a48eeef5b6c17863d2367c75349/distance_matrix/trucking/78.196462,12.549217;78.080702,12.623982;17ZUL7?rtype=1&region=ind\"\"\"\n",
    "r3 = requests.get(url_three)\n",
    "result3= json.loads(r3.content)\n",
    "result3"
   ]
  },
  {
   "cell_type": "code",
   "execution_count": 399,
   "metadata": {},
   "outputs": [
    {
     "data": {
      "text/plain": [
       "{'Server': 'Adv-5800',\n",
       " 'version': '202109.19.5222',\n",
       " 'results': {'distances': [[0, 4391.8, 2190515.2]],\n",
       "  'code': 'Ok',\n",
       "  'durations': [[0, 316.7, 148455.3]]},\n",
       " 'responseCode': 200}"
      ]
     },
     "execution_count": 399,
     "metadata": {},
     "output_type": "execute_result"
    }
   ],
   "source": [
    "# 450 -  460\n",
    "12.6453,78.048782\n",
    "url_three = f\"\"\"https://apis.mapmyindia.com/advancedmaps/v1/95846a48eeef5b6c17863d2367c75349/distance_matrix/trucking/78.080702,12.623982;78.048782,12.6453;17ZUL7?rtype=1&region=ind\"\"\"\n",
    "r3 = requests.get(url_three)\n",
    "result3= json.loads(r3.content)\n",
    "result3"
   ]
  },
  {
   "cell_type": "code",
   "execution_count": 400,
   "metadata": {},
   "outputs": [
    {
     "data": {
      "text/plain": [
       "{'Server': 'Adv-5800',\n",
       " 'version': '202109.19.5222',\n",
       " 'results': {'distances': [[0, 35798.5, 2190515.2]],\n",
       "  'code': 'Ok',\n",
       "  'durations': [[0, 2640.7, 148455.3]]},\n",
       " 'responseCode': 200}"
      ]
     },
     "execution_count": 400,
     "metadata": {},
     "output_type": "execute_result"
    }
   ],
   "source": [
    "#  460 - 470 \n",
    "12.76176,77.794898\n",
    "\n",
    "url_three = f\"\"\"https://apis.mapmyindia.com/advancedmaps/v1/95846a48eeef5b6c17863d2367c75349/distance_matrix/trucking/78.080702,12.623982;77.794898,12.76176;17ZUL7?rtype=1&region=ind\"\"\"\n",
    "r3 = requests.get(url_three)\n",
    "result3= json.loads(r3.content)\n",
    "result3"
   ]
  },
  {
   "cell_type": "code",
   "execution_count": 401,
   "metadata": {},
   "outputs": [
    {
     "data": {
      "text/plain": [
       "{'Server': 'Adv-5800',\n",
       " 'version': '202109.19.5222',\n",
       " 'results': {'distances': [[0, 4203.4, 2154716.8]],\n",
       "  'code': 'Ok',\n",
       "  'durations': [[0, 518.1, 145814.6]]},\n",
       " 'responseCode': 200}"
      ]
     },
     "execution_count": 401,
     "metadata": {},
     "output_type": "execute_result"
    }
   ],
   "source": [
    "# 470 - 480 \n",
    "12.779421,77.763307\n",
    "\n",
    "url_three = f\"\"\"https://apis.mapmyindia.com/advancedmaps/v1/95846a48eeef5b6c17863d2367c75349/distance_matrix/trucking/77.794898,12.76176;77.763307,12.779421;17ZUL7?rtype=1&region=ind\"\"\"\n",
    "r3 = requests.get(url_three)\n",
    "result3= json.loads(r3.content)\n",
    "result3"
   ]
  },
  {
   "cell_type": "code",
   "execution_count": 402,
   "metadata": {},
   "outputs": [
    {
     "data": {
      "text/plain": [
       "{'Server': 'Adv-5800',\n",
       " 'version': '202109.19.5222',\n",
       " 'results': {'distances': [[0, 16701.6, 2154583.8]],\n",
       "  'code': 'Ok',\n",
       "  'durations': [[0, 1399.4, 146006.3]]},\n",
       " 'responseCode': 200}"
      ]
     },
     "execution_count": 402,
     "metadata": {},
     "output_type": "execute_result"
    }
   ],
   "source": [
    "# 480 - 490 \n",
    "12.862788,77.647369\n",
    "\n",
    "url_three = f\"\"\"https://apis.mapmyindia.com/advancedmaps/v1/95846a48eeef5b6c17863d2367c75349/distance_matrix/trucking/77.763307,12.779421;77.647369,12.862788;17ZUL7?rtype=1&region=ind\"\"\"\n",
    "r3 = requests.get(url_three)\n",
    "result3= json.loads(r3.content)\n",
    "result3\n"
   ]
  },
  {
   "cell_type": "code",
   "execution_count": 403,
   "metadata": {},
   "outputs": [
    {
     "data": {
      "text/plain": [
       "{'Server': 'Adv-5800',\n",
       " 'version': '202109.19.5222',\n",
       " 'results': {'distances': [[0, 37502.7, 2146266.2]],\n",
       "  'code': 'Ok',\n",
       "  'durations': [[0, 2254.8, 145418.4]]},\n",
       " 'responseCode': 200}"
      ]
     },
     "execution_count": 403,
     "metadata": {},
     "output_type": "execute_result"
    }
   ],
   "source": [
    "#490 -500\n",
    "77.647369,12.862788\n",
    "77.475084,13.041768\n",
    "url_three = f\"\"\"https://apis.mapmyindia.com/advancedmaps/v1/95846a48eeef5b6c17863d2367c75349/distance_matrix/trucking/77.647369,12.862788;77.475084,13.041768;17ZUL7?rtype=1&region=ind\"\"\"\n",
    "r3 = requests.get(url_three)\n",
    "result3= json.loads(r3.content)\n",
    "result3\n"
   ]
  },
  {
   "cell_type": "code",
   "execution_count": 404,
   "metadata": {},
   "outputs": [
    {
     "data": {
      "text/plain": [
       "{'Server': 'Adv-5800',\n",
       " 'version': '202109.19.5222',\n",
       " 'results': {'distances': [[0, 1910.7, 2131702.8]],\n",
       "  'code': 'Ok',\n",
       "  'durations': [[0, 126.5, 143410.7]]},\n",
       " 'responseCode': 200}"
      ]
     },
     "execution_count": 404,
     "metadata": {},
     "output_type": "execute_result"
    }
   ],
   "source": [
    "# 500 - 510\n",
    "#13.056666,77.473271\n",
    "\n",
    "url_three = f\"\"\"https://apis.mapmyindia.com/advancedmaps/v1/95846a48eeef5b6c17863d2367c75349/distance_matrix/trucking/77.475084,13.041768;77.473271,13.056666;17ZUL7?rtype=1&region=ind\"\"\"\n",
    "r3 = requests.get(url_three)\n",
    "result3= json.loads(r3.content)\n",
    "result3"
   ]
  },
  {
   "cell_type": "code",
   "execution_count": 405,
   "metadata": {},
   "outputs": [
    {
     "data": {
      "text/plain": [
       "{'Server': 'Adv-5800',\n",
       " 'version': '202109.19.5222',\n",
       " 'results': {'distances': [[0, 5309.4, 2131777.6]],\n",
       "  'code': 'Ok',\n",
       "  'durations': [[0, 874.7, 143549.2]]},\n",
       " 'responseCode': 200}"
      ]
     },
     "execution_count": 405,
     "metadata": {},
     "output_type": "execute_result"
    }
   ],
   "source": [
    "# 520 \n",
    "#13.081451,77.450764\n",
    "\n",
    "\n",
    "url_three = f\"\"\"https://apis.mapmyindia.com/advancedmaps/v1/95846a48eeef5b6c17863d2367c75349/distance_matrix/trucking/77.473271,13.056666;77.450764,13.081451;17ZUL7?rtype=1&region=ind\"\"\"\n",
    "r3 = requests.get(url_three)\n",
    "result3= json.loads(r3.content)\n",
    "result3"
   ]
  },
  {
   "cell_type": "code",
   "execution_count": 406,
   "metadata": {},
   "outputs": [
    {
     "data": {
      "text/plain": [
       "0.47"
      ]
     },
     "execution_count": 406,
     "metadata": {},
     "output_type": "execute_result"
    }
   ],
   "source": [
    "df2.Distance.min()"
   ]
  },
  {
   "cell_type": "code",
   "execution_count": 412,
   "metadata": {},
   "outputs": [
    {
     "data": {
      "text/html": [
       "<div>\n",
       "<style scoped>\n",
       "    .dataframe tbody tr th:only-of-type {\n",
       "        vertical-align: middle;\n",
       "    }\n",
       "\n",
       "    .dataframe tbody tr th {\n",
       "        vertical-align: top;\n",
       "    }\n",
       "\n",
       "    .dataframe thead th {\n",
       "        text-align: right;\n",
       "    }\n",
       "</style>\n",
       "<table border=\"1\" class=\"dataframe\">\n",
       "  <thead>\n",
       "    <tr style=\"text-align: right;\">\n",
       "      <th></th>\n",
       "      <th>Unnamed: 0</th>\n",
       "      <th>LatLong</th>\n",
       "      <th>Lat</th>\n",
       "      <th>Long</th>\n",
       "      <th>Date</th>\n",
       "      <th>dealer_lat2</th>\n",
       "      <th>dealer_long2</th>\n",
       "      <th>Distance</th>\n",
       "      <th>Status</th>\n",
       "    </tr>\n",
       "  </thead>\n",
       "  <tbody>\n",
       "    <tr>\n",
       "      <th>512</th>\n",
       "      <td>512</td>\n",
       "      <td>13.066884,77.451716</td>\n",
       "      <td>13.066884</td>\n",
       "      <td>77.451716</td>\n",
       "      <td>2021-10-05 22:32:00</td>\n",
       "      <td>13.070983</td>\n",
       "      <td>77.452922</td>\n",
       "      <td>0.47</td>\n",
       "      <td>Completed</td>\n",
       "    </tr>\n",
       "  </tbody>\n",
       "</table>\n",
       "</div>"
      ],
      "text/plain": [
       "     Unnamed: 0              LatLong        Lat       Long  \\\n",
       "512         512  13.066884,77.451716  13.066884  77.451716   \n",
       "\n",
       "                   Date  dealer_lat2  dealer_long2  Distance     Status  \n",
       "512 2021-10-05 22:32:00    13.070983     77.452922      0.47  Completed  "
      ]
     },
     "execution_count": 412,
     "metadata": {},
     "output_type": "execute_result"
    }
   ],
   "source": [
    "df2.iloc[np.where(df2.Distance==df2.Distance.min())]"
   ]
  },
  {
   "cell_type": "code",
   "execution_count": 415,
   "metadata": {},
   "outputs": [
    {
     "data": {
      "text/html": [
       "<div>\n",
       "<style scoped>\n",
       "    .dataframe tbody tr th:only-of-type {\n",
       "        vertical-align: middle;\n",
       "    }\n",
       "\n",
       "    .dataframe tbody tr th {\n",
       "        vertical-align: top;\n",
       "    }\n",
       "\n",
       "    .dataframe thead th {\n",
       "        text-align: right;\n",
       "    }\n",
       "</style>\n",
       "<table border=\"1\" class=\"dataframe\">\n",
       "  <thead>\n",
       "    <tr style=\"text-align: right;\">\n",
       "      <th></th>\n",
       "      <th>Unnamed: 0</th>\n",
       "      <th>LatLong</th>\n",
       "      <th>Lat</th>\n",
       "      <th>Long</th>\n",
       "      <th>Date</th>\n",
       "      <th>dealer_lat2</th>\n",
       "      <th>dealer_long2</th>\n",
       "      <th>Distance</th>\n",
       "      <th>Status</th>\n",
       "    </tr>\n",
       "  </thead>\n",
       "  <tbody>\n",
       "    <tr>\n",
       "      <th>0</th>\n",
       "      <td>0</td>\n",
       "      <td>13.024994,80.028231</td>\n",
       "      <td>13.024994</td>\n",
       "      <td>80.028231</td>\n",
       "      <td>2021-10-04 00:03:00</td>\n",
       "      <td>13.070983</td>\n",
       "      <td>77.452922</td>\n",
       "      <td>279.01</td>\n",
       "      <td>In-transit</td>\n",
       "    </tr>\n",
       "  </tbody>\n",
       "</table>\n",
       "</div>"
      ],
      "text/plain": [
       "   Unnamed: 0              LatLong        Lat       Long                Date  \\\n",
       "0           0  13.024994,80.028231  13.024994  80.028231 2021-10-04 00:03:00   \n",
       "\n",
       "   dealer_lat2  dealer_long2  Distance      Status  \n",
       "0    13.070983     77.452922    279.01  In-transit  "
      ]
     },
     "execution_count": 415,
     "metadata": {},
     "output_type": "execute_result"
    }
   ],
   "source": [
    "df2[0:1]"
   ]
  },
  {
   "cell_type": "code",
   "execution_count": 416,
   "metadata": {},
   "outputs": [
    {
     "data": {
      "text/plain": [
       "{'Server': 'ETA-5111',\n",
       " 'version': '202109.19.5222',\n",
       " 'results': {'distances': [[0, 348225, 2175588.2]],\n",
       "  'code': 'Ok',\n",
       "  'durations': [[0, 30624.3, 177989.5]]},\n",
       " 'responseCode': 200}"
      ]
     },
     "execution_count": 416,
     "metadata": {},
     "output_type": "execute_result"
    }
   ],
   "source": [
    "url_three = f\"\"\"https://apis.mapmyindia.com/advancedmaps/v1/95846a48eeef5b6c17863d2367c75349/distance_matrix/trucking/80.028231,13.024994;77.451716,13.066884;17ZUL7?rtype=1&region=ind\"\"\"\n",
    "r3 = requests.get(url_three)\n",
    "result3= json.loads(r3.content)\n",
    "result3"
   ]
  },
  {
   "cell_type": "code",
   "execution_count": 525,
   "metadata": {},
   "outputs": [],
   "source": []
  },
  {
   "cell_type": "code",
   "execution_count": 50,
   "metadata": {},
   "outputs": [],
   "source": [
    "## 15-November-2021\n",
    "import numpy as np"
   ]
  },
  {
   "cell_type": "markdown",
   "metadata": {},
   "source": [
    "### check data consistency in time interval\n",
    "### identify the unloading point\n",
    "### calculate road distance using API for every 20th record\n",
    "#### Find the cumulative stoppage time and number of stoppage events in each trip\n",
    "#### Find the min/max/median/average stoppage time for each trip (stoppage is over hours in each stoppage event)\n",
    "#### Find the city name, road name and road type using the unloading point Lat/Long for each trip file\n"
   ]
  },
  {
   "cell_type": "code",
   "execution_count": 862,
   "metadata": {},
   "outputs": [],
   "source": [
    "\n",
    "df_HR38 = pd.read_excel(\"HR38X.xltm\")"
   ]
  },
  {
   "cell_type": "code",
   "execution_count": 863,
   "metadata": {},
   "outputs": [
    {
     "data": {
      "text/html": [
       "<div>\n",
       "<style scoped>\n",
       "    .dataframe tbody tr th:only-of-type {\n",
       "        vertical-align: middle;\n",
       "    }\n",
       "\n",
       "    .dataframe tbody tr th {\n",
       "        vertical-align: top;\n",
       "    }\n",
       "\n",
       "    .dataframe thead th {\n",
       "        text-align: right;\n",
       "    }\n",
       "</style>\n",
       "<table border=\"1\" class=\"dataframe\">\n",
       "  <thead>\n",
       "    <tr style=\"text-align: right;\">\n",
       "      <th></th>\n",
       "      <th>Latitude</th>\n",
       "      <th>Longitude</th>\n",
       "      <th>Packet Time</th>\n",
       "    </tr>\n",
       "  </thead>\n",
       "  <tbody>\n",
       "    <tr>\n",
       "      <th>0</th>\n",
       "      <td>13.007143</td>\n",
       "      <td>80.006966</td>\n",
       "      <td>29-Sep-2021 01:06</td>\n",
       "    </tr>\n",
       "    <tr>\n",
       "      <th>1</th>\n",
       "      <td>13.007143</td>\n",
       "      <td>80.006966</td>\n",
       "      <td>29-Sep-2021 01:11</td>\n",
       "    </tr>\n",
       "    <tr>\n",
       "      <th>2</th>\n",
       "      <td>13.007143</td>\n",
       "      <td>80.006966</td>\n",
       "      <td>29-Sep-2021 01:16</td>\n",
       "    </tr>\n",
       "    <tr>\n",
       "      <th>3</th>\n",
       "      <td>13.007143</td>\n",
       "      <td>80.006966</td>\n",
       "      <td>29-Sep-2021 01:21</td>\n",
       "    </tr>\n",
       "  </tbody>\n",
       "</table>\n",
       "</div>"
      ],
      "text/plain": [
       "    Latitude  Longitude        Packet Time\n",
       "0  13.007143  80.006966  29-Sep-2021 01:06\n",
       "1  13.007143  80.006966  29-Sep-2021 01:11\n",
       "2  13.007143  80.006966  29-Sep-2021 01:16\n",
       "3  13.007143  80.006966  29-Sep-2021 01:21"
      ]
     },
     "execution_count": 863,
     "metadata": {},
     "output_type": "execute_result"
    }
   ],
   "source": [
    "df_HR38.head(4)"
   ]
  },
  {
   "cell_type": "code",
   "execution_count": 864,
   "metadata": {},
   "outputs": [
    {
     "data": {
      "text/plain": [
       "(1666, 3)"
      ]
     },
     "execution_count": 864,
     "metadata": {},
     "output_type": "execute_result"
    }
   ],
   "source": [
    "df_HR38.shape"
   ]
  },
  {
   "cell_type": "code",
   "execution_count": 55,
   "metadata": {},
   "outputs": [
    {
     "name": "stdout",
     "output_type": "stream",
     "text": [
      "      Latitude  Longitude Packet Time\n",
      "1665       NaN        NaN         NaN\n"
     ]
    }
   ],
   "source": [
    "print(df_HR38[df_HR38[\"Packet Time\"].isnull()][null_columns])"
   ]
  },
  {
   "cell_type": "code",
   "execution_count": 865,
   "metadata": {},
   "outputs": [],
   "source": [
    "df_HR38 = df_HR38[df_HR38['Packet Time'].notna()]"
   ]
  },
  {
   "cell_type": "code",
   "execution_count": 866,
   "metadata": {},
   "outputs": [
    {
     "data": {
      "text/plain": [
       "(1665, 3)"
      ]
     },
     "execution_count": 866,
     "metadata": {},
     "output_type": "execute_result"
    }
   ],
   "source": [
    "df_HR38.shape"
   ]
  },
  {
   "cell_type": "code",
   "execution_count": 867,
   "metadata": {},
   "outputs": [
    {
     "name": "stdout",
     "output_type": "stream",
     "text": [
      "<class 'pandas.core.frame.DataFrame'>\n",
      "Int64Index: 1665 entries, 0 to 1664\n",
      "Data columns (total 3 columns):\n",
      " #   Column       Non-Null Count  Dtype  \n",
      "---  ------       --------------  -----  \n",
      " 0   Latitude     1665 non-null   float64\n",
      " 1   Longitude    1665 non-null   float64\n",
      " 2   Packet Time  1665 non-null   object \n",
      "dtypes: float64(2), object(1)\n",
      "memory usage: 52.0+ KB\n"
     ]
    }
   ],
   "source": [
    "df_HR38.info()"
   ]
  },
  {
   "cell_type": "code",
   "execution_count": 869,
   "metadata": {},
   "outputs": [],
   "source": [
    "df_HR38['Packet Time'] = pd.to_datetime(df_HR38['Packet Time'])"
   ]
  },
  {
   "cell_type": "code",
   "execution_count": 39,
   "metadata": {},
   "outputs": [],
   "source": [
    "#df_HR38['Packet Time_New'] = df_HR38['Packet Time'].apply(lambda x: pd.Timestamp(x).strftime('%I:%M'))"
   ]
  },
  {
   "cell_type": "code",
   "execution_count": 870,
   "metadata": {},
   "outputs": [],
   "source": [
    "df_HR38['Time_diff'] = [x.iloc[-1] - x.iloc[0] for x in df_HR38['Packet Time'].rolling(2) if len(x)>0]"
   ]
  },
  {
   "cell_type": "code",
   "execution_count": 872,
   "metadata": {},
   "outputs": [
    {
     "data": {
      "text/plain": [
       "0 days 00:05:00    1445\n",
       "0 days 00:06:00     214\n",
       "0 days 00:07:00       3\n",
       "0 days 00:39:00       1\n",
       "0 days 00:04:00       1\n",
       "0 days 00:00:00       1\n",
       "Name: Time_diff, dtype: int64"
      ]
     },
     "execution_count": 872,
     "metadata": {},
     "output_type": "execute_result"
    }
   ],
   "source": [
    "df_HR38.Time_diff.value_counts()"
   ]
  },
  {
   "cell_type": "code",
   "execution_count": 358,
   "metadata": {},
   "outputs": [],
   "source": [
    "df_HR38['dealer_lat_hr38'] = 30.3255646\n",
    "df_HR38['dealer_lon3_hr38'] = 78.0436813"
   ]
  },
  {
   "cell_type": "code",
   "execution_count": 359,
   "metadata": {},
   "outputs": [
    {
     "data": {
      "text/html": [
       "<div>\n",
       "<style scoped>\n",
       "    .dataframe tbody tr th:only-of-type {\n",
       "        vertical-align: middle;\n",
       "    }\n",
       "\n",
       "    .dataframe tbody tr th {\n",
       "        vertical-align: top;\n",
       "    }\n",
       "\n",
       "    .dataframe thead th {\n",
       "        text-align: right;\n",
       "    }\n",
       "</style>\n",
       "<table border=\"1\" class=\"dataframe\">\n",
       "  <thead>\n",
       "    <tr style=\"text-align: right;\">\n",
       "      <th></th>\n",
       "      <th>Latitude</th>\n",
       "      <th>Longitude</th>\n",
       "      <th>Packet Time</th>\n",
       "      <th>time_diff</th>\n",
       "      <th>dealer_lat_hr38</th>\n",
       "      <th>dealer_lon3_hr38</th>\n",
       "      <th>Distance</th>\n",
       "    </tr>\n",
       "  </thead>\n",
       "  <tbody>\n",
       "    <tr>\n",
       "      <th>0</th>\n",
       "      <td>13.007143</td>\n",
       "      <td>80.006966</td>\n",
       "      <td>2021-09-29 01:06:00</td>\n",
       "      <td>0 days 00:00:00</td>\n",
       "      <td>30.325565</td>\n",
       "      <td>78.043681</td>\n",
       "      <td>1936.26</td>\n",
       "    </tr>\n",
       "    <tr>\n",
       "      <th>1</th>\n",
       "      <td>13.007143</td>\n",
       "      <td>80.006966</td>\n",
       "      <td>2021-09-29 01:11:00</td>\n",
       "      <td>0 days 00:05:00</td>\n",
       "      <td>30.325565</td>\n",
       "      <td>78.043681</td>\n",
       "      <td>1936.26</td>\n",
       "    </tr>\n",
       "    <tr>\n",
       "      <th>2</th>\n",
       "      <td>13.007143</td>\n",
       "      <td>80.006966</td>\n",
       "      <td>2021-09-29 01:16:00</td>\n",
       "      <td>0 days 00:05:00</td>\n",
       "      <td>30.325565</td>\n",
       "      <td>78.043681</td>\n",
       "      <td>1936.26</td>\n",
       "    </tr>\n",
       "    <tr>\n",
       "      <th>3</th>\n",
       "      <td>13.007143</td>\n",
       "      <td>80.006966</td>\n",
       "      <td>2021-09-29 01:21:00</td>\n",
       "      <td>0 days 00:05:00</td>\n",
       "      <td>30.325565</td>\n",
       "      <td>78.043681</td>\n",
       "      <td>1936.26</td>\n",
       "    </tr>\n",
       "    <tr>\n",
       "      <th>4</th>\n",
       "      <td>13.007143</td>\n",
       "      <td>80.006966</td>\n",
       "      <td>2021-09-29 01:26:00</td>\n",
       "      <td>0 days 00:05:00</td>\n",
       "      <td>30.325565</td>\n",
       "      <td>78.043681</td>\n",
       "      <td>1936.26</td>\n",
       "    </tr>\n",
       "    <tr>\n",
       "      <th>...</th>\n",
       "      <td>...</td>\n",
       "      <td>...</td>\n",
       "      <td>...</td>\n",
       "      <td>...</td>\n",
       "      <td>...</td>\n",
       "      <td>...</td>\n",
       "      <td>...</td>\n",
       "    </tr>\n",
       "    <tr>\n",
       "      <th>1660</th>\n",
       "      <td>24.524893</td>\n",
       "      <td>73.680405</td>\n",
       "      <td>2021-10-04 23:39:00</td>\n",
       "      <td>0 days 00:05:00</td>\n",
       "      <td>30.325565</td>\n",
       "      <td>78.043681</td>\n",
       "      <td>775.36</td>\n",
       "    </tr>\n",
       "    <tr>\n",
       "      <th>1661</th>\n",
       "      <td>24.524893</td>\n",
       "      <td>73.680405</td>\n",
       "      <td>2021-10-04 23:45:00</td>\n",
       "      <td>0 days 00:06:00</td>\n",
       "      <td>30.325565</td>\n",
       "      <td>78.043681</td>\n",
       "      <td>775.36</td>\n",
       "    </tr>\n",
       "    <tr>\n",
       "      <th>1662</th>\n",
       "      <td>24.524893</td>\n",
       "      <td>73.680405</td>\n",
       "      <td>2021-10-04 23:50:00</td>\n",
       "      <td>0 days 00:05:00</td>\n",
       "      <td>30.325565</td>\n",
       "      <td>78.043681</td>\n",
       "      <td>775.36</td>\n",
       "    </tr>\n",
       "    <tr>\n",
       "      <th>1663</th>\n",
       "      <td>24.524893</td>\n",
       "      <td>73.680405</td>\n",
       "      <td>2021-10-04 23:55:00</td>\n",
       "      <td>0 days 00:05:00</td>\n",
       "      <td>30.325565</td>\n",
       "      <td>78.043681</td>\n",
       "      <td>775.36</td>\n",
       "    </tr>\n",
       "    <tr>\n",
       "      <th>1664</th>\n",
       "      <td>24.524893</td>\n",
       "      <td>73.680405</td>\n",
       "      <td>2021-10-04 23:59:00</td>\n",
       "      <td>0 days 00:04:00</td>\n",
       "      <td>30.325565</td>\n",
       "      <td>78.043681</td>\n",
       "      <td>775.36</td>\n",
       "    </tr>\n",
       "  </tbody>\n",
       "</table>\n",
       "<p>1665 rows × 7 columns</p>\n",
       "</div>"
      ],
      "text/plain": [
       "       Latitude  Longitude         Packet Time       time_diff  \\\n",
       "0     13.007143  80.006966 2021-09-29 01:06:00 0 days 00:00:00   \n",
       "1     13.007143  80.006966 2021-09-29 01:11:00 0 days 00:05:00   \n",
       "2     13.007143  80.006966 2021-09-29 01:16:00 0 days 00:05:00   \n",
       "3     13.007143  80.006966 2021-09-29 01:21:00 0 days 00:05:00   \n",
       "4     13.007143  80.006966 2021-09-29 01:26:00 0 days 00:05:00   \n",
       "...         ...        ...                 ...             ...   \n",
       "1660  24.524893  73.680405 2021-10-04 23:39:00 0 days 00:05:00   \n",
       "1661  24.524893  73.680405 2021-10-04 23:45:00 0 days 00:06:00   \n",
       "1662  24.524893  73.680405 2021-10-04 23:50:00 0 days 00:05:00   \n",
       "1663  24.524893  73.680405 2021-10-04 23:55:00 0 days 00:05:00   \n",
       "1664  24.524893  73.680405 2021-10-04 23:59:00 0 days 00:04:00   \n",
       "\n",
       "      dealer_lat_hr38  dealer_lon3_hr38  Distance  \n",
       "0           30.325565         78.043681   1936.26  \n",
       "1           30.325565         78.043681   1936.26  \n",
       "2           30.325565         78.043681   1936.26  \n",
       "3           30.325565         78.043681   1936.26  \n",
       "4           30.325565         78.043681   1936.26  \n",
       "...               ...               ...       ...  \n",
       "1660        30.325565         78.043681    775.36  \n",
       "1661        30.325565         78.043681    775.36  \n",
       "1662        30.325565         78.043681    775.36  \n",
       "1663        30.325565         78.043681    775.36  \n",
       "1664        30.325565         78.043681    775.36  \n",
       "\n",
       "[1665 rows x 7 columns]"
      ]
     },
     "execution_count": 359,
     "metadata": {},
     "output_type": "execute_result"
    }
   ],
   "source": [
    "df_HR38"
   ]
  },
  {
   "cell_type": "code",
   "execution_count": 136,
   "metadata": {},
   "outputs": [],
   "source": [
    "# Unloading point"
   ]
  },
  {
   "cell_type": "code",
   "execution_count": 360,
   "metadata": {},
   "outputs": [],
   "source": [
    "dealer_lat_hr38 = 30.3255646\n",
    "dealer_lon3_hr38 = 78.0436813\n",
    "distances_km = []\n",
    "for row in df_HR38.itertuples(index=False):\n",
    "   distances_km.append(\n",
    "       haversine_distance(dealer_lat_hr38, dealer_lon3_hr38, row.Latitude, row.Longitude)\n",
    "   )"
   ]
  },
  {
   "cell_type": "code",
   "execution_count": 361,
   "metadata": {},
   "outputs": [],
   "source": [
    "df_HR38['Distance'] = distances_km"
   ]
  },
  {
   "cell_type": "code",
   "execution_count": 362,
   "metadata": {},
   "outputs": [
    {
     "data": {
      "text/plain": [
       "648.3"
      ]
     },
     "execution_count": 362,
     "metadata": {},
     "output_type": "execute_result"
    }
   ],
   "source": [
    "df_HR38.Distance.min()"
   ]
  },
  {
   "cell_type": "code",
   "execution_count": 364,
   "metadata": {},
   "outputs": [
    {
     "data": {
      "text/html": [
       "<div>\n",
       "<style scoped>\n",
       "    .dataframe tbody tr th:only-of-type {\n",
       "        vertical-align: middle;\n",
       "    }\n",
       "\n",
       "    .dataframe tbody tr th {\n",
       "        vertical-align: top;\n",
       "    }\n",
       "\n",
       "    .dataframe thead th {\n",
       "        text-align: right;\n",
       "    }\n",
       "</style>\n",
       "<table border=\"1\" class=\"dataframe\">\n",
       "  <thead>\n",
       "    <tr style=\"text-align: right;\">\n",
       "      <th></th>\n",
       "      <th>Latitude</th>\n",
       "      <th>Longitude</th>\n",
       "      <th>Packet Time</th>\n",
       "      <th>time_diff</th>\n",
       "      <th>dealer_lat_hr38</th>\n",
       "      <th>dealer_lon3_hr38</th>\n",
       "      <th>Distance</th>\n",
       "    </tr>\n",
       "  </thead>\n",
       "  <tbody>\n",
       "    <tr>\n",
       "      <th>0</th>\n",
       "      <td>13.007143</td>\n",
       "      <td>80.006966</td>\n",
       "      <td>2021-09-29 01:06:00</td>\n",
       "      <td>0 days</td>\n",
       "      <td>30.325565</td>\n",
       "      <td>78.043681</td>\n",
       "      <td>1936.26</td>\n",
       "    </tr>\n",
       "  </tbody>\n",
       "</table>\n",
       "</div>"
      ],
      "text/plain": [
       "    Latitude  Longitude         Packet Time time_diff  dealer_lat_hr38  \\\n",
       "0  13.007143  80.006966 2021-09-29 01:06:00    0 days        30.325565   \n",
       "\n",
       "   dealer_lon3_hr38  Distance  \n",
       "0         78.043681   1936.26  "
      ]
     },
     "execution_count": 364,
     "metadata": {},
     "output_type": "execute_result"
    }
   ],
   "source": [
    "df_HR38[0:1]"
   ]
  },
  {
   "cell_type": "code",
   "execution_count": 363,
   "metadata": {},
   "outputs": [
    {
     "data": {
      "text/html": [
       "<div>\n",
       "<style scoped>\n",
       "    .dataframe tbody tr th:only-of-type {\n",
       "        vertical-align: middle;\n",
       "    }\n",
       "\n",
       "    .dataframe tbody tr th {\n",
       "        vertical-align: top;\n",
       "    }\n",
       "\n",
       "    .dataframe thead th {\n",
       "        text-align: right;\n",
       "    }\n",
       "</style>\n",
       "<table border=\"1\" class=\"dataframe\">\n",
       "  <thead>\n",
       "    <tr style=\"text-align: right;\">\n",
       "      <th></th>\n",
       "      <th>Latitude</th>\n",
       "      <th>Longitude</th>\n",
       "      <th>Packet Time</th>\n",
       "      <th>time_diff</th>\n",
       "      <th>dealer_lat_hr38</th>\n",
       "      <th>dealer_lon3_hr38</th>\n",
       "      <th>Distance</th>\n",
       "    </tr>\n",
       "  </thead>\n",
       "  <tbody>\n",
       "    <tr>\n",
       "      <th>1478</th>\n",
       "      <td>25.342077</td>\n",
       "      <td>74.619530</td>\n",
       "      <td>2021-10-04 08:09:00</td>\n",
       "      <td>0 days 00:05:00</td>\n",
       "      <td>30.325565</td>\n",
       "      <td>78.043681</td>\n",
       "      <td>648.3</td>\n",
       "    </tr>\n",
       "    <tr>\n",
       "      <th>1479</th>\n",
       "      <td>25.342077</td>\n",
       "      <td>74.619568</td>\n",
       "      <td>2021-10-04 08:14:00</td>\n",
       "      <td>0 days 00:05:00</td>\n",
       "      <td>30.325565</td>\n",
       "      <td>78.043681</td>\n",
       "      <td>648.3</td>\n",
       "    </tr>\n",
       "    <tr>\n",
       "      <th>1480</th>\n",
       "      <td>25.342077</td>\n",
       "      <td>74.619568</td>\n",
       "      <td>2021-10-04 08:20:00</td>\n",
       "      <td>0 days 00:06:00</td>\n",
       "      <td>30.325565</td>\n",
       "      <td>78.043681</td>\n",
       "      <td>648.3</td>\n",
       "    </tr>\n",
       "    <tr>\n",
       "      <th>1481</th>\n",
       "      <td>25.342077</td>\n",
       "      <td>74.619568</td>\n",
       "      <td>2021-10-04 08:25:00</td>\n",
       "      <td>0 days 00:05:00</td>\n",
       "      <td>30.325565</td>\n",
       "      <td>78.043681</td>\n",
       "      <td>648.3</td>\n",
       "    </tr>\n",
       "    <tr>\n",
       "      <th>1482</th>\n",
       "      <td>25.342064</td>\n",
       "      <td>74.619560</td>\n",
       "      <td>2021-10-04 08:30:00</td>\n",
       "      <td>0 days 00:05:00</td>\n",
       "      <td>30.325565</td>\n",
       "      <td>78.043681</td>\n",
       "      <td>648.3</td>\n",
       "    </tr>\n",
       "    <tr>\n",
       "      <th>1483</th>\n",
       "      <td>25.342064</td>\n",
       "      <td>74.619560</td>\n",
       "      <td>2021-10-04 08:35:00</td>\n",
       "      <td>0 days 00:05:00</td>\n",
       "      <td>30.325565</td>\n",
       "      <td>78.043681</td>\n",
       "      <td>648.3</td>\n",
       "    </tr>\n",
       "    <tr>\n",
       "      <th>1484</th>\n",
       "      <td>25.342064</td>\n",
       "      <td>74.619560</td>\n",
       "      <td>2021-10-04 08:40:00</td>\n",
       "      <td>0 days 00:05:00</td>\n",
       "      <td>30.325565</td>\n",
       "      <td>78.043681</td>\n",
       "      <td>648.3</td>\n",
       "    </tr>\n",
       "    <tr>\n",
       "      <th>1485</th>\n",
       "      <td>25.342064</td>\n",
       "      <td>74.619560</td>\n",
       "      <td>2021-10-04 08:45:00</td>\n",
       "      <td>0 days 00:05:00</td>\n",
       "      <td>30.325565</td>\n",
       "      <td>78.043681</td>\n",
       "      <td>648.3</td>\n",
       "    </tr>\n",
       "    <tr>\n",
       "      <th>1486</th>\n",
       "      <td>25.342064</td>\n",
       "      <td>74.619560</td>\n",
       "      <td>2021-10-04 08:50:00</td>\n",
       "      <td>0 days 00:05:00</td>\n",
       "      <td>30.325565</td>\n",
       "      <td>78.043681</td>\n",
       "      <td>648.3</td>\n",
       "    </tr>\n",
       "    <tr>\n",
       "      <th>1487</th>\n",
       "      <td>25.342064</td>\n",
       "      <td>74.619560</td>\n",
       "      <td>2021-10-04 08:56:00</td>\n",
       "      <td>0 days 00:06:00</td>\n",
       "      <td>30.325565</td>\n",
       "      <td>78.043681</td>\n",
       "      <td>648.3</td>\n",
       "    </tr>\n",
       "    <tr>\n",
       "      <th>1488</th>\n",
       "      <td>25.342064</td>\n",
       "      <td>74.619560</td>\n",
       "      <td>2021-10-04 09:01:00</td>\n",
       "      <td>0 days 00:05:00</td>\n",
       "      <td>30.325565</td>\n",
       "      <td>78.043681</td>\n",
       "      <td>648.3</td>\n",
       "    </tr>\n",
       "    <tr>\n",
       "      <th>1489</th>\n",
       "      <td>25.342064</td>\n",
       "      <td>74.619560</td>\n",
       "      <td>2021-10-04 09:06:00</td>\n",
       "      <td>0 days 00:05:00</td>\n",
       "      <td>30.325565</td>\n",
       "      <td>78.043681</td>\n",
       "      <td>648.3</td>\n",
       "    </tr>\n",
       "    <tr>\n",
       "      <th>1490</th>\n",
       "      <td>25.342064</td>\n",
       "      <td>74.619560</td>\n",
       "      <td>2021-10-04 09:11:00</td>\n",
       "      <td>0 days 00:05:00</td>\n",
       "      <td>30.325565</td>\n",
       "      <td>78.043681</td>\n",
       "      <td>648.3</td>\n",
       "    </tr>\n",
       "    <tr>\n",
       "      <th>1491</th>\n",
       "      <td>25.342064</td>\n",
       "      <td>74.619560</td>\n",
       "      <td>2021-10-04 09:16:00</td>\n",
       "      <td>0 days 00:05:00</td>\n",
       "      <td>30.325565</td>\n",
       "      <td>78.043681</td>\n",
       "      <td>648.3</td>\n",
       "    </tr>\n",
       "    <tr>\n",
       "      <th>1492</th>\n",
       "      <td>25.342064</td>\n",
       "      <td>74.619560</td>\n",
       "      <td>2021-10-04 09:21:00</td>\n",
       "      <td>0 days 00:05:00</td>\n",
       "      <td>30.325565</td>\n",
       "      <td>78.043681</td>\n",
       "      <td>648.3</td>\n",
       "    </tr>\n",
       "    <tr>\n",
       "      <th>1493</th>\n",
       "      <td>25.342064</td>\n",
       "      <td>74.619560</td>\n",
       "      <td>2021-10-04 09:26:00</td>\n",
       "      <td>0 days 00:05:00</td>\n",
       "      <td>30.325565</td>\n",
       "      <td>78.043681</td>\n",
       "      <td>648.3</td>\n",
       "    </tr>\n",
       "    <tr>\n",
       "      <th>1494</th>\n",
       "      <td>25.342064</td>\n",
       "      <td>74.619560</td>\n",
       "      <td>2021-10-04 09:31:00</td>\n",
       "      <td>0 days 00:05:00</td>\n",
       "      <td>30.325565</td>\n",
       "      <td>78.043681</td>\n",
       "      <td>648.3</td>\n",
       "    </tr>\n",
       "    <tr>\n",
       "      <th>1495</th>\n",
       "      <td>25.342064</td>\n",
       "      <td>74.619560</td>\n",
       "      <td>2021-10-04 09:36:00</td>\n",
       "      <td>0 days 00:05:00</td>\n",
       "      <td>30.325565</td>\n",
       "      <td>78.043681</td>\n",
       "      <td>648.3</td>\n",
       "    </tr>\n",
       "    <tr>\n",
       "      <th>1496</th>\n",
       "      <td>25.342064</td>\n",
       "      <td>74.619560</td>\n",
       "      <td>2021-10-04 09:41:00</td>\n",
       "      <td>0 days 00:05:00</td>\n",
       "      <td>30.325565</td>\n",
       "      <td>78.043681</td>\n",
       "      <td>648.3</td>\n",
       "    </tr>\n",
       "    <tr>\n",
       "      <th>1497</th>\n",
       "      <td>25.342045</td>\n",
       "      <td>74.619568</td>\n",
       "      <td>2021-10-04 09:47:00</td>\n",
       "      <td>0 days 00:06:00</td>\n",
       "      <td>30.325565</td>\n",
       "      <td>78.043681</td>\n",
       "      <td>648.3</td>\n",
       "    </tr>\n",
       "    <tr>\n",
       "      <th>1498</th>\n",
       "      <td>25.342045</td>\n",
       "      <td>74.619568</td>\n",
       "      <td>2021-10-04 09:52:00</td>\n",
       "      <td>0 days 00:05:00</td>\n",
       "      <td>30.325565</td>\n",
       "      <td>78.043681</td>\n",
       "      <td>648.3</td>\n",
       "    </tr>\n",
       "    <tr>\n",
       "      <th>1499</th>\n",
       "      <td>25.342045</td>\n",
       "      <td>74.619568</td>\n",
       "      <td>2021-10-04 09:57:00</td>\n",
       "      <td>0 days 00:05:00</td>\n",
       "      <td>30.325565</td>\n",
       "      <td>78.043681</td>\n",
       "      <td>648.3</td>\n",
       "    </tr>\n",
       "    <tr>\n",
       "      <th>1500</th>\n",
       "      <td>25.342045</td>\n",
       "      <td>74.619568</td>\n",
       "      <td>2021-10-04 10:02:00</td>\n",
       "      <td>0 days 00:05:00</td>\n",
       "      <td>30.325565</td>\n",
       "      <td>78.043681</td>\n",
       "      <td>648.3</td>\n",
       "    </tr>\n",
       "    <tr>\n",
       "      <th>1501</th>\n",
       "      <td>25.342045</td>\n",
       "      <td>74.619568</td>\n",
       "      <td>2021-10-04 10:07:00</td>\n",
       "      <td>0 days 00:05:00</td>\n",
       "      <td>30.325565</td>\n",
       "      <td>78.043681</td>\n",
       "      <td>648.3</td>\n",
       "    </tr>\n",
       "    <tr>\n",
       "      <th>1502</th>\n",
       "      <td>25.342045</td>\n",
       "      <td>74.619568</td>\n",
       "      <td>2021-10-04 10:12:00</td>\n",
       "      <td>0 days 00:05:00</td>\n",
       "      <td>30.325565</td>\n",
       "      <td>78.043681</td>\n",
       "      <td>648.3</td>\n",
       "    </tr>\n",
       "    <tr>\n",
       "      <th>1503</th>\n",
       "      <td>25.342045</td>\n",
       "      <td>74.619568</td>\n",
       "      <td>2021-10-04 10:17:00</td>\n",
       "      <td>0 days 00:05:00</td>\n",
       "      <td>30.325565</td>\n",
       "      <td>78.043681</td>\n",
       "      <td>648.3</td>\n",
       "    </tr>\n",
       "    <tr>\n",
       "      <th>1504</th>\n",
       "      <td>25.342045</td>\n",
       "      <td>74.619568</td>\n",
       "      <td>2021-10-04 10:22:00</td>\n",
       "      <td>0 days 00:05:00</td>\n",
       "      <td>30.325565</td>\n",
       "      <td>78.043681</td>\n",
       "      <td>648.3</td>\n",
       "    </tr>\n",
       "    <tr>\n",
       "      <th>1505</th>\n",
       "      <td>25.342045</td>\n",
       "      <td>74.619568</td>\n",
       "      <td>2021-10-04 10:27:00</td>\n",
       "      <td>0 days 00:05:00</td>\n",
       "      <td>30.325565</td>\n",
       "      <td>78.043681</td>\n",
       "      <td>648.3</td>\n",
       "    </tr>\n",
       "    <tr>\n",
       "      <th>1506</th>\n",
       "      <td>25.342045</td>\n",
       "      <td>74.619568</td>\n",
       "      <td>2021-10-04 10:33:00</td>\n",
       "      <td>0 days 00:06:00</td>\n",
       "      <td>30.325565</td>\n",
       "      <td>78.043681</td>\n",
       "      <td>648.3</td>\n",
       "    </tr>\n",
       "    <tr>\n",
       "      <th>1507</th>\n",
       "      <td>25.342045</td>\n",
       "      <td>74.619568</td>\n",
       "      <td>2021-10-04 10:38:00</td>\n",
       "      <td>0 days 00:05:00</td>\n",
       "      <td>30.325565</td>\n",
       "      <td>78.043681</td>\n",
       "      <td>648.3</td>\n",
       "    </tr>\n",
       "  </tbody>\n",
       "</table>\n",
       "</div>"
      ],
      "text/plain": [
       "       Latitude  Longitude         Packet Time       time_diff  \\\n",
       "1478  25.342077  74.619530 2021-10-04 08:09:00 0 days 00:05:00   \n",
       "1479  25.342077  74.619568 2021-10-04 08:14:00 0 days 00:05:00   \n",
       "1480  25.342077  74.619568 2021-10-04 08:20:00 0 days 00:06:00   \n",
       "1481  25.342077  74.619568 2021-10-04 08:25:00 0 days 00:05:00   \n",
       "1482  25.342064  74.619560 2021-10-04 08:30:00 0 days 00:05:00   \n",
       "1483  25.342064  74.619560 2021-10-04 08:35:00 0 days 00:05:00   \n",
       "1484  25.342064  74.619560 2021-10-04 08:40:00 0 days 00:05:00   \n",
       "1485  25.342064  74.619560 2021-10-04 08:45:00 0 days 00:05:00   \n",
       "1486  25.342064  74.619560 2021-10-04 08:50:00 0 days 00:05:00   \n",
       "1487  25.342064  74.619560 2021-10-04 08:56:00 0 days 00:06:00   \n",
       "1488  25.342064  74.619560 2021-10-04 09:01:00 0 days 00:05:00   \n",
       "1489  25.342064  74.619560 2021-10-04 09:06:00 0 days 00:05:00   \n",
       "1490  25.342064  74.619560 2021-10-04 09:11:00 0 days 00:05:00   \n",
       "1491  25.342064  74.619560 2021-10-04 09:16:00 0 days 00:05:00   \n",
       "1492  25.342064  74.619560 2021-10-04 09:21:00 0 days 00:05:00   \n",
       "1493  25.342064  74.619560 2021-10-04 09:26:00 0 days 00:05:00   \n",
       "1494  25.342064  74.619560 2021-10-04 09:31:00 0 days 00:05:00   \n",
       "1495  25.342064  74.619560 2021-10-04 09:36:00 0 days 00:05:00   \n",
       "1496  25.342064  74.619560 2021-10-04 09:41:00 0 days 00:05:00   \n",
       "1497  25.342045  74.619568 2021-10-04 09:47:00 0 days 00:06:00   \n",
       "1498  25.342045  74.619568 2021-10-04 09:52:00 0 days 00:05:00   \n",
       "1499  25.342045  74.619568 2021-10-04 09:57:00 0 days 00:05:00   \n",
       "1500  25.342045  74.619568 2021-10-04 10:02:00 0 days 00:05:00   \n",
       "1501  25.342045  74.619568 2021-10-04 10:07:00 0 days 00:05:00   \n",
       "1502  25.342045  74.619568 2021-10-04 10:12:00 0 days 00:05:00   \n",
       "1503  25.342045  74.619568 2021-10-04 10:17:00 0 days 00:05:00   \n",
       "1504  25.342045  74.619568 2021-10-04 10:22:00 0 days 00:05:00   \n",
       "1505  25.342045  74.619568 2021-10-04 10:27:00 0 days 00:05:00   \n",
       "1506  25.342045  74.619568 2021-10-04 10:33:00 0 days 00:06:00   \n",
       "1507  25.342045  74.619568 2021-10-04 10:38:00 0 days 00:05:00   \n",
       "\n",
       "      dealer_lat_hr38  dealer_lon3_hr38  Distance  \n",
       "1478        30.325565         78.043681     648.3  \n",
       "1479        30.325565         78.043681     648.3  \n",
       "1480        30.325565         78.043681     648.3  \n",
       "1481        30.325565         78.043681     648.3  \n",
       "1482        30.325565         78.043681     648.3  \n",
       "1483        30.325565         78.043681     648.3  \n",
       "1484        30.325565         78.043681     648.3  \n",
       "1485        30.325565         78.043681     648.3  \n",
       "1486        30.325565         78.043681     648.3  \n",
       "1487        30.325565         78.043681     648.3  \n",
       "1488        30.325565         78.043681     648.3  \n",
       "1489        30.325565         78.043681     648.3  \n",
       "1490        30.325565         78.043681     648.3  \n",
       "1491        30.325565         78.043681     648.3  \n",
       "1492        30.325565         78.043681     648.3  \n",
       "1493        30.325565         78.043681     648.3  \n",
       "1494        30.325565         78.043681     648.3  \n",
       "1495        30.325565         78.043681     648.3  \n",
       "1496        30.325565         78.043681     648.3  \n",
       "1497        30.325565         78.043681     648.3  \n",
       "1498        30.325565         78.043681     648.3  \n",
       "1499        30.325565         78.043681     648.3  \n",
       "1500        30.325565         78.043681     648.3  \n",
       "1501        30.325565         78.043681     648.3  \n",
       "1502        30.325565         78.043681     648.3  \n",
       "1503        30.325565         78.043681     648.3  \n",
       "1504        30.325565         78.043681     648.3  \n",
       "1505        30.325565         78.043681     648.3  \n",
       "1506        30.325565         78.043681     648.3  \n",
       "1507        30.325565         78.043681     648.3  "
      ]
     },
     "execution_count": 363,
     "metadata": {},
     "output_type": "execute_result"
    }
   ],
   "source": [
    "df_HR38.iloc[np.where(df_HR38['Distance']==df_HR38['Distance'].min())]"
   ]
  },
  {
   "cell_type": "code",
   "execution_count": 367,
   "metadata": {},
   "outputs": [
    {
     "name": "stdout",
     "output_type": "stream",
     "text": [
      "648.3035174328513\n"
     ]
    }
   ],
   "source": [
    "print(haversine((25.342077,74.619530),(30.325565,78.043681), unit='km'))"
   ]
  },
  {
   "cell_type": "code",
   "execution_count": 887,
   "metadata": {},
   "outputs": [],
   "source": [
    "# stoppage point"
   ]
  },
  {
   "cell_type": "code",
   "execution_count": null,
   "metadata": {},
   "outputs": [],
   "source": []
  },
  {
   "cell_type": "code",
   "execution_count": null,
   "metadata": {},
   "outputs": [],
   "source": []
  },
  {
   "cell_type": "code",
   "execution_count": null,
   "metadata": {},
   "outputs": [],
   "source": []
  },
  {
   "cell_type": "code",
   "execution_count": null,
   "metadata": {},
   "outputs": [],
   "source": []
  },
  {
   "cell_type": "code",
   "execution_count": null,
   "metadata": {},
   "outputs": [],
   "source": []
  },
  {
   "cell_type": "code",
   "execution_count": 124,
   "metadata": {},
   "outputs": [
    {
     "data": {
      "text/plain": [
       "0 days 00:05:00    1446\n",
       "0 days 00:00:00       2\n",
       "0 days 01:10:00       1\n",
       "0 days 00:02:00       1\n",
       "Name: time_diff, dtype: int64"
      ]
     },
     "execution_count": 124,
     "metadata": {},
     "output_type": "execute_result"
    }
   ],
   "source": [
    "df_gj1['time_diff'].value_countsnts()"
   ]
  },
  {
   "cell_type": "code",
   "execution_count": 337,
   "metadata": {},
   "outputs": [],
   "source": [
    "##########\n",
    "df_g93 = pd.read_excel(\"D:\\\\Sales Logistic Project\\\\GJ12BV6093.xltm\")"
   ]
  },
  {
   "cell_type": "code",
   "execution_count": 338,
   "metadata": {},
   "outputs": [
    {
     "data": {
      "text/html": [
       "<div>\n",
       "<style scoped>\n",
       "    .dataframe tbody tr th:only-of-type {\n",
       "        vertical-align: middle;\n",
       "    }\n",
       "\n",
       "    .dataframe tbody tr th {\n",
       "        vertical-align: top;\n",
       "    }\n",
       "\n",
       "    .dataframe thead th {\n",
       "        text-align: right;\n",
       "    }\n",
       "</style>\n",
       "<table border=\"1\" class=\"dataframe\">\n",
       "  <thead>\n",
       "    <tr style=\"text-align: right;\">\n",
       "      <th></th>\n",
       "      <th>Lat,Lngt</th>\n",
       "      <th>Period</th>\n",
       "    </tr>\n",
       "  </thead>\n",
       "  <tbody>\n",
       "    <tr>\n",
       "      <th>0</th>\n",
       "      <td>13.004329,79.990362</td>\n",
       "      <td>01/10 10:10 : 01/10 10:15</td>\n",
       "    </tr>\n",
       "    <tr>\n",
       "      <th>1</th>\n",
       "      <td>13.004329,79.990362</td>\n",
       "      <td>01/10 10:15 : 01/10 10:20</td>\n",
       "    </tr>\n",
       "    <tr>\n",
       "      <th>2</th>\n",
       "      <td>13.004329,79.990362</td>\n",
       "      <td>01/10 10:20 : 01/10 10:25</td>\n",
       "    </tr>\n",
       "    <tr>\n",
       "      <th>3</th>\n",
       "      <td>13.004329,79.990362</td>\n",
       "      <td>01/10 10:25 : 01/10 10:30</td>\n",
       "    </tr>\n",
       "    <tr>\n",
       "      <th>4</th>\n",
       "      <td>13.004329,79.990362</td>\n",
       "      <td>01/10 10:30 : 01/10 10:35</td>\n",
       "    </tr>\n",
       "    <tr>\n",
       "      <th>...</th>\n",
       "      <td>...</td>\n",
       "      <td>...</td>\n",
       "    </tr>\n",
       "    <tr>\n",
       "      <th>2014</th>\n",
       "      <td>30.381981,76.790381</td>\n",
       "      <td>08/10 10:40 : 08/10 10:45</td>\n",
       "    </tr>\n",
       "    <tr>\n",
       "      <th>2015</th>\n",
       "      <td>30.381981,76.790381</td>\n",
       "      <td>08/10 10:45 : 08/10 10:50</td>\n",
       "    </tr>\n",
       "    <tr>\n",
       "      <th>2016</th>\n",
       "      <td>30.381981,76.790381</td>\n",
       "      <td>08/10 10:50 : 08/10 10:55</td>\n",
       "    </tr>\n",
       "    <tr>\n",
       "      <th>2017</th>\n",
       "      <td>30.381981,76.790381</td>\n",
       "      <td>08/10 10:55 : 08/10 10:56</td>\n",
       "    </tr>\n",
       "    <tr>\n",
       "      <th>2018</th>\n",
       "      <td>NaN</td>\n",
       "      <td>01/10 10:10 : 08/10 10:56</td>\n",
       "    </tr>\n",
       "  </tbody>\n",
       "</table>\n",
       "<p>2019 rows × 2 columns</p>\n",
       "</div>"
      ],
      "text/plain": [
       "                 Lat,Lngt                     Period\n",
       "0     13.004329,79.990362  01/10 10:10 : 01/10 10:15\n",
       "1     13.004329,79.990362  01/10 10:15 : 01/10 10:20\n",
       "2     13.004329,79.990362  01/10 10:20 : 01/10 10:25\n",
       "3     13.004329,79.990362  01/10 10:25 : 01/10 10:30\n",
       "4     13.004329,79.990362  01/10 10:30 : 01/10 10:35\n",
       "...                   ...                        ...\n",
       "2014  30.381981,76.790381  08/10 10:40 : 08/10 10:45\n",
       "2015  30.381981,76.790381  08/10 10:45 : 08/10 10:50\n",
       "2016  30.381981,76.790381  08/10 10:50 : 08/10 10:55\n",
       "2017  30.381981,76.790381  08/10 10:55 : 08/10 10:56\n",
       "2018                  NaN  01/10 10:10 : 08/10 10:56\n",
       "\n",
       "[2019 rows x 2 columns]"
      ]
     },
     "execution_count": 338,
     "metadata": {},
     "output_type": "execute_result"
    }
   ],
   "source": [
    "df_g93"
   ]
  },
  {
   "cell_type": "code",
   "execution_count": 339,
   "metadata": {},
   "outputs": [],
   "source": [
    "df_g93 = df_g93[df_g93['Lat,Lngt'].notna()]"
   ]
  },
  {
   "cell_type": "code",
   "execution_count": 340,
   "metadata": {},
   "outputs": [
    {
     "name": "stdout",
     "output_type": "stream",
     "text": [
      "<class 'pandas.core.frame.DataFrame'>\n",
      "Int64Index: 2018 entries, 0 to 2017\n",
      "Data columns (total 2 columns):\n",
      " #   Column    Non-Null Count  Dtype \n",
      "---  ------    --------------  ----- \n",
      " 0   Lat,Lngt  2018 non-null   object\n",
      " 1   Period    2018 non-null   object\n",
      "dtypes: object(2)\n",
      "memory usage: 47.3+ KB\n"
     ]
    }
   ],
   "source": [
    "df_g93.info()"
   ]
  },
  {
   "cell_type": "code",
   "execution_count": 341,
   "metadata": {},
   "outputs": [],
   "source": [
    "#splitting date col \n",
    "df_g93[['Lat', 'Lngt']] = df_g93['Lat,Lngt'].str.split(',', n=1, expand=True)"
   ]
  },
  {
   "cell_type": "code",
   "execution_count": 342,
   "metadata": {},
   "outputs": [
    {
     "data": {
      "text/html": [
       "<div>\n",
       "<style scoped>\n",
       "    .dataframe tbody tr th:only-of-type {\n",
       "        vertical-align: middle;\n",
       "    }\n",
       "\n",
       "    .dataframe tbody tr th {\n",
       "        vertical-align: top;\n",
       "    }\n",
       "\n",
       "    .dataframe thead th {\n",
       "        text-align: right;\n",
       "    }\n",
       "</style>\n",
       "<table border=\"1\" class=\"dataframe\">\n",
       "  <thead>\n",
       "    <tr style=\"text-align: right;\">\n",
       "      <th></th>\n",
       "      <th>Lat,Lngt</th>\n",
       "      <th>Period</th>\n",
       "      <th>Lat</th>\n",
       "      <th>Lngt</th>\n",
       "    </tr>\n",
       "  </thead>\n",
       "  <tbody>\n",
       "    <tr>\n",
       "      <th>0</th>\n",
       "      <td>13.004329,79.990362</td>\n",
       "      <td>01/10 10:10 : 01/10 10:15</td>\n",
       "      <td>13.004329</td>\n",
       "      <td>79.990362</td>\n",
       "    </tr>\n",
       "    <tr>\n",
       "      <th>4</th>\n",
       "      <td>13.004329,79.990362</td>\n",
       "      <td>01/10 10:30 : 01/10 10:35</td>\n",
       "      <td>13.004329</td>\n",
       "      <td>79.990362</td>\n",
       "    </tr>\n",
       "    <tr>\n",
       "      <th>8</th>\n",
       "      <td>13.004329,79.990362</td>\n",
       "      <td>01/10 10:50 : 01/10 10:55</td>\n",
       "      <td>13.004329</td>\n",
       "      <td>79.990362</td>\n",
       "    </tr>\n",
       "    <tr>\n",
       "      <th>12</th>\n",
       "      <td>13.004329,79.990362</td>\n",
       "      <td>01/10 11:10 : 01/10 11:15</td>\n",
       "      <td>13.004329</td>\n",
       "      <td>79.990362</td>\n",
       "    </tr>\n",
       "    <tr>\n",
       "      <th>16</th>\n",
       "      <td>13.004329,79.990362</td>\n",
       "      <td>01/10 11:30 : 01/10 11:35</td>\n",
       "      <td>13.004329</td>\n",
       "      <td>79.990362</td>\n",
       "    </tr>\n",
       "    <tr>\n",
       "      <th>...</th>\n",
       "      <td>...</td>\n",
       "      <td>...</td>\n",
       "      <td>...</td>\n",
       "      <td>...</td>\n",
       "    </tr>\n",
       "    <tr>\n",
       "      <th>2000</th>\n",
       "      <td>30.381981,76.790381</td>\n",
       "      <td>08/10 09:30 : 08/10 09:35</td>\n",
       "      <td>30.381981</td>\n",
       "      <td>76.790381</td>\n",
       "    </tr>\n",
       "    <tr>\n",
       "      <th>2004</th>\n",
       "      <td>30.381981,76.790381</td>\n",
       "      <td>08/10 09:50 : 08/10 09:55</td>\n",
       "      <td>30.381981</td>\n",
       "      <td>76.790381</td>\n",
       "    </tr>\n",
       "    <tr>\n",
       "      <th>2008</th>\n",
       "      <td>30.381981,76.790381</td>\n",
       "      <td>08/10 10:10 : 08/10 10:15</td>\n",
       "      <td>30.381981</td>\n",
       "      <td>76.790381</td>\n",
       "    </tr>\n",
       "    <tr>\n",
       "      <th>2012</th>\n",
       "      <td>30.381981,76.790381</td>\n",
       "      <td>08/10 10:30 : 08/10 10:35</td>\n",
       "      <td>30.381981</td>\n",
       "      <td>76.790381</td>\n",
       "    </tr>\n",
       "    <tr>\n",
       "      <th>2016</th>\n",
       "      <td>30.381981,76.790381</td>\n",
       "      <td>08/10 10:50 : 08/10 10:55</td>\n",
       "      <td>30.381981</td>\n",
       "      <td>76.790381</td>\n",
       "    </tr>\n",
       "  </tbody>\n",
       "</table>\n",
       "<p>505 rows × 4 columns</p>\n",
       "</div>"
      ],
      "text/plain": [
       "                 Lat,Lngt                     Period        Lat       Lngt\n",
       "0     13.004329,79.990362  01/10 10:10 : 01/10 10:15  13.004329  79.990362\n",
       "4     13.004329,79.990362  01/10 10:30 : 01/10 10:35  13.004329  79.990362\n",
       "8     13.004329,79.990362  01/10 10:50 : 01/10 10:55  13.004329  79.990362\n",
       "12    13.004329,79.990362  01/10 11:10 : 01/10 11:15  13.004329  79.990362\n",
       "16    13.004329,79.990362  01/10 11:30 : 01/10 11:35  13.004329  79.990362\n",
       "...                   ...                        ...        ...        ...\n",
       "2000  30.381981,76.790381  08/10 09:30 : 08/10 09:35  30.381981  76.790381\n",
       "2004  30.381981,76.790381  08/10 09:50 : 08/10 09:55  30.381981  76.790381\n",
       "2008  30.381981,76.790381  08/10 10:10 : 08/10 10:15  30.381981  76.790381\n",
       "2012  30.381981,76.790381  08/10 10:30 : 08/10 10:35  30.381981  76.790381\n",
       "2016  30.381981,76.790381  08/10 10:50 : 08/10 10:55  30.381981  76.790381\n",
       "\n",
       "[505 rows x 4 columns]"
      ]
     },
     "execution_count": 342,
     "metadata": {},
     "output_type": "execute_result"
    }
   ],
   "source": [
    "df_g93[0::4]"
   ]
  },
  {
   "cell_type": "code",
   "execution_count": 230,
   "metadata": {},
   "outputs": [],
   "source": [
    "#df_g93['time_var'] = df_g93['Period'].apply(lambda x: pd.to_datetime(\"2021\" + str(x[3:5]) + str(x[0:2]) + \"-\" + str(x[6:11])).strftime('%I:%M'))"
   ]
  },
  {
   "cell_type": "code",
   "execution_count": 343,
   "metadata": {},
   "outputs": [
    {
     "data": {
      "text/plain": [
       "0    10:10-10:15\n",
       "1    10:15-10:20\n",
       "Name: Time_duration, dtype: object"
      ]
     },
     "execution_count": 343,
     "metadata": {},
     "output_type": "execute_result"
    }
   ],
   "source": [
    "df_g93['Time_duration'] = df_g93['Period'].map(lambda x:str(x)[6:11]) + \"-\" +df_g93['Period'].map(lambda x: str(x)[20:25])\n",
    "df_g93['Time_duration'].head(2)"
   ]
  },
  {
   "cell_type": "code",
   "execution_count": 344,
   "metadata": {},
   "outputs": [],
   "source": [
    "#splitting date col \n",
    "df_g93[['St_time', 'ed_time']] = df_g93['Time_duration'].str.split('-', n=1, expand=True)"
   ]
  },
  {
   "cell_type": "code",
   "execution_count": 219,
   "metadata": {},
   "outputs": [],
   "source": [
    "#df_g93['time_diff'] = [x.iloc[-1] - x.iloc[0] for x in df_g93['time_var'].rolling(2) if len(x)>0]"
   ]
  },
  {
   "cell_type": "code",
   "execution_count": 320,
   "metadata": {},
   "outputs": [],
   "source": [
    "#df_g93.time_diff.value_counts()"
   ]
  },
  {
   "cell_type": "code",
   "execution_count": 321,
   "metadata": {},
   "outputs": [],
   "source": [
    "#df_g93.iloc[np.where(df_g93['time_diff']==df_g93['time_diff'].min())]"
   ]
  },
  {
   "cell_type": "code",
   "execution_count": 240,
   "metadata": {},
   "outputs": [
    {
     "data": {
      "text/plain": [
       "0    10:10-10:15\n",
       "1    10:15-10:20\n",
       "Name: Time_duration, dtype: object"
      ]
     },
     "execution_count": 240,
     "metadata": {},
     "output_type": "execute_result"
    }
   ],
   "source": [
    "df_g93['Time_duration'] = df_g93['Period'].map(lambda x: str(x)[6:11]) + \"-\" +df_g93['Period'].map(lambda x: str(x)[20:25])\n",
    "df_g93['Time_duration'].head(2)"
   ]
  },
  {
   "cell_type": "code",
   "execution_count": 336,
   "metadata": {
    "scrolled": true
   },
   "outputs": [
    {
     "data": {
      "text/html": [
       "<div>\n",
       "<style scoped>\n",
       "    .dataframe tbody tr th:only-of-type {\n",
       "        vertical-align: middle;\n",
       "    }\n",
       "\n",
       "    .dataframe tbody tr th {\n",
       "        vertical-align: top;\n",
       "    }\n",
       "\n",
       "    .dataframe thead th {\n",
       "        text-align: right;\n",
       "    }\n",
       "</style>\n",
       "<table border=\"1\" class=\"dataframe\">\n",
       "  <thead>\n",
       "    <tr style=\"text-align: right;\">\n",
       "      <th></th>\n",
       "      <th>Lat,Lngt</th>\n",
       "      <th>Period</th>\n",
       "      <th>Lat</th>\n",
       "      <th>Lngt</th>\n",
       "      <th>Time_duration</th>\n",
       "      <th>St_time</th>\n",
       "      <th>ed_time</th>\n",
       "      <th>diff</th>\n",
       "    </tr>\n",
       "  </thead>\n",
       "  <tbody>\n",
       "    <tr>\n",
       "      <th>0</th>\n",
       "      <td>13.004329,79.990362</td>\n",
       "      <td>01/10 10:10 : 01/10 10:15</td>\n",
       "      <td>13.004329</td>\n",
       "      <td>79.990362</td>\n",
       "      <td>10:10-10:15</td>\n",
       "      <td>1900-01-01 10:10:00</td>\n",
       "      <td>1900-01-01 10:15:00</td>\n",
       "      <td>0 days 00:05:00</td>\n",
       "    </tr>\n",
       "    <tr>\n",
       "      <th>1</th>\n",
       "      <td>13.004329,79.990362</td>\n",
       "      <td>01/10 10:15 : 01/10 10:20</td>\n",
       "      <td>13.004329</td>\n",
       "      <td>79.990362</td>\n",
       "      <td>10:15-10:20</td>\n",
       "      <td>1900-01-01 10:15:00</td>\n",
       "      <td>1900-01-01 10:20:00</td>\n",
       "      <td>0 days 00:05:00</td>\n",
       "    </tr>\n",
       "    <tr>\n",
       "      <th>2</th>\n",
       "      <td>13.004329,79.990362</td>\n",
       "      <td>01/10 10:20 : 01/10 10:25</td>\n",
       "      <td>13.004329</td>\n",
       "      <td>79.990362</td>\n",
       "      <td>10:20-10:25</td>\n",
       "      <td>1900-01-01 10:20:00</td>\n",
       "      <td>1900-01-01 10:25:00</td>\n",
       "      <td>0 days 00:05:00</td>\n",
       "    </tr>\n",
       "    <tr>\n",
       "      <th>3</th>\n",
       "      <td>13.004329,79.990362</td>\n",
       "      <td>01/10 10:25 : 01/10 10:30</td>\n",
       "      <td>13.004329</td>\n",
       "      <td>79.990362</td>\n",
       "      <td>10:25-10:30</td>\n",
       "      <td>1900-01-01 10:25:00</td>\n",
       "      <td>1900-01-01 10:30:00</td>\n",
       "      <td>0 days 00:05:00</td>\n",
       "    </tr>\n",
       "    <tr>\n",
       "      <th>4</th>\n",
       "      <td>13.004329,79.990362</td>\n",
       "      <td>01/10 10:30 : 01/10 10:35</td>\n",
       "      <td>13.004329</td>\n",
       "      <td>79.990362</td>\n",
       "      <td>10:30-10:35</td>\n",
       "      <td>1900-01-01 10:30:00</td>\n",
       "      <td>1900-01-01 10:35:00</td>\n",
       "      <td>0 days 00:05:00</td>\n",
       "    </tr>\n",
       "    <tr>\n",
       "      <th>...</th>\n",
       "      <td>...</td>\n",
       "      <td>...</td>\n",
       "      <td>...</td>\n",
       "      <td>...</td>\n",
       "      <td>...</td>\n",
       "      <td>...</td>\n",
       "      <td>...</td>\n",
       "      <td>...</td>\n",
       "    </tr>\n",
       "    <tr>\n",
       "      <th>2013</th>\n",
       "      <td>30.381981,76.790381</td>\n",
       "      <td>08/10 10:35 : 08/10 10:40</td>\n",
       "      <td>30.381981</td>\n",
       "      <td>76.790381</td>\n",
       "      <td>10:35-10:40</td>\n",
       "      <td>1900-01-01 10:35:00</td>\n",
       "      <td>1900-01-01 10:40:00</td>\n",
       "      <td>0 days 00:05:00</td>\n",
       "    </tr>\n",
       "    <tr>\n",
       "      <th>2014</th>\n",
       "      <td>30.381981,76.790381</td>\n",
       "      <td>08/10 10:40 : 08/10 10:45</td>\n",
       "      <td>30.381981</td>\n",
       "      <td>76.790381</td>\n",
       "      <td>10:40-10:45</td>\n",
       "      <td>1900-01-01 10:40:00</td>\n",
       "      <td>1900-01-01 10:45:00</td>\n",
       "      <td>0 days 00:05:00</td>\n",
       "    </tr>\n",
       "    <tr>\n",
       "      <th>2015</th>\n",
       "      <td>30.381981,76.790381</td>\n",
       "      <td>08/10 10:45 : 08/10 10:50</td>\n",
       "      <td>30.381981</td>\n",
       "      <td>76.790381</td>\n",
       "      <td>10:45-10:50</td>\n",
       "      <td>1900-01-01 10:45:00</td>\n",
       "      <td>1900-01-01 10:50:00</td>\n",
       "      <td>0 days 00:05:00</td>\n",
       "    </tr>\n",
       "    <tr>\n",
       "      <th>2016</th>\n",
       "      <td>30.381981,76.790381</td>\n",
       "      <td>08/10 10:50 : 08/10 10:55</td>\n",
       "      <td>30.381981</td>\n",
       "      <td>76.790381</td>\n",
       "      <td>10:50-10:55</td>\n",
       "      <td>1900-01-01 10:50:00</td>\n",
       "      <td>1900-01-01 10:55:00</td>\n",
       "      <td>0 days 00:05:00</td>\n",
       "    </tr>\n",
       "    <tr>\n",
       "      <th>2017</th>\n",
       "      <td>30.381981,76.790381</td>\n",
       "      <td>08/10 10:55 : 08/10 10:56</td>\n",
       "      <td>30.381981</td>\n",
       "      <td>76.790381</td>\n",
       "      <td>10:55-10:56</td>\n",
       "      <td>1900-01-01 10:55:00</td>\n",
       "      <td>1900-01-01 10:56:00</td>\n",
       "      <td>0 days 00:01:00</td>\n",
       "    </tr>\n",
       "  </tbody>\n",
       "</table>\n",
       "<p>2018 rows × 8 columns</p>\n",
       "</div>"
      ],
      "text/plain": [
       "                 Lat,Lngt                     Period        Lat       Lngt  \\\n",
       "0     13.004329,79.990362  01/10 10:10 : 01/10 10:15  13.004329  79.990362   \n",
       "1     13.004329,79.990362  01/10 10:15 : 01/10 10:20  13.004329  79.990362   \n",
       "2     13.004329,79.990362  01/10 10:20 : 01/10 10:25  13.004329  79.990362   \n",
       "3     13.004329,79.990362  01/10 10:25 : 01/10 10:30  13.004329  79.990362   \n",
       "4     13.004329,79.990362  01/10 10:30 : 01/10 10:35  13.004329  79.990362   \n",
       "...                   ...                        ...        ...        ...   \n",
       "2013  30.381981,76.790381  08/10 10:35 : 08/10 10:40  30.381981  76.790381   \n",
       "2014  30.381981,76.790381  08/10 10:40 : 08/10 10:45  30.381981  76.790381   \n",
       "2015  30.381981,76.790381  08/10 10:45 : 08/10 10:50  30.381981  76.790381   \n",
       "2016  30.381981,76.790381  08/10 10:50 : 08/10 10:55  30.381981  76.790381   \n",
       "2017  30.381981,76.790381  08/10 10:55 : 08/10 10:56  30.381981  76.790381   \n",
       "\n",
       "     Time_duration             St_time             ed_time            diff  \n",
       "0      10:10-10:15 1900-01-01 10:10:00 1900-01-01 10:15:00 0 days 00:05:00  \n",
       "1      10:15-10:20 1900-01-01 10:15:00 1900-01-01 10:20:00 0 days 00:05:00  \n",
       "2      10:20-10:25 1900-01-01 10:20:00 1900-01-01 10:25:00 0 days 00:05:00  \n",
       "3      10:25-10:30 1900-01-01 10:25:00 1900-01-01 10:30:00 0 days 00:05:00  \n",
       "4      10:30-10:35 1900-01-01 10:30:00 1900-01-01 10:35:00 0 days 00:05:00  \n",
       "...            ...                 ...                 ...             ...  \n",
       "2013   10:35-10:40 1900-01-01 10:35:00 1900-01-01 10:40:00 0 days 00:05:00  \n",
       "2014   10:40-10:45 1900-01-01 10:40:00 1900-01-01 10:45:00 0 days 00:05:00  \n",
       "2015   10:45-10:50 1900-01-01 10:45:00 1900-01-01 10:50:00 0 days 00:05:00  \n",
       "2016   10:50-10:55 1900-01-01 10:50:00 1900-01-01 10:55:00 0 days 00:05:00  \n",
       "2017   10:55-10:56 1900-01-01 10:55:00 1900-01-01 10:56:00 0 days 00:01:00  \n",
       "\n",
       "[2018 rows x 8 columns]"
      ]
     },
     "execution_count": 336,
     "metadata": {},
     "output_type": "execute_result"
    }
   ],
   "source": [
    "df_g93"
   ]
  },
  {
   "cell_type": "code",
   "execution_count": 328,
   "metadata": {},
   "outputs": [],
   "source": [
    "#splitting date col \n",
    "df_g93[['St_time', 'ed_time']] = df_g93['Time_duration'].str.split('-', n=1, expand=True)"
   ]
  },
  {
   "cell_type": "code",
   "execution_count": 322,
   "metadata": {},
   "outputs": [],
   "source": [
    "#df['Status'] = np.where(df['Distance']!= df['Distance'].min(), 'In-transit', 'Completed')\n",
    "#df_g93.iloc[np.where(df_g93['Time_duration']==df_g93['Time_duration']='00:00','24:00']\n",
    "\n",
    "#df_g93['Time_duration'].map({'00:00': '24:00'})"
   ]
  },
  {
   "cell_type": "code",
   "execution_count": 331,
   "metadata": {},
   "outputs": [],
   "source": [
    "df_g93['St_time'] = pd.to_datetime(df_g93['St_time'],format='%H:%M')"
   ]
  },
  {
   "cell_type": "code",
   "execution_count": 332,
   "metadata": {},
   "outputs": [],
   "source": [
    "\n",
    "df_g93['ed_time'] = pd.to_datetime(df_g93['ed_time'],format='%H:%M')"
   ]
  },
  {
   "cell_type": "code",
   "execution_count": 333,
   "metadata": {},
   "outputs": [],
   "source": [
    "df_g93['diff'] = df_g93['ed_time'] - df_g93['St_time']"
   ]
  },
  {
   "cell_type": "code",
   "execution_count": 334,
   "metadata": {},
   "outputs": [
    {
     "data": {
      "text/plain": [
       "0 days 00:05:00      2010\n",
       "-1 days +00:05:00       7\n",
       "0 days 00:01:00         1\n",
       "Name: diff, dtype: int64"
      ]
     },
     "execution_count": 334,
     "metadata": {},
     "output_type": "execute_result"
    }
   ],
   "source": [
    "df_g93['diff'].value_counts()"
   ]
  },
  {
   "cell_type": "code",
   "execution_count": null,
   "metadata": {},
   "outputs": [],
   "source": []
  }
 ],
 "metadata": {
  "kernelspec": {
   "display_name": "Python 3",
   "language": "python",
   "name": "python3"
  },
  "language_info": {
   "codemirror_mode": {
    "name": "ipython",
    "version": 3
   },
   "file_extension": ".py",
   "mimetype": "text/x-python",
   "name": "python",
   "nbconvert_exporter": "python",
   "pygments_lexer": "ipython3",
   "version": "3.8.5"
  }
 },
 "nbformat": 4,
 "nbformat_minor": 4
}
